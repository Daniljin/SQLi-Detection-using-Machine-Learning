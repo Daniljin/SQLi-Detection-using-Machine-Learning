{
 "cells": [
  {
   "cell_type": "code",
   "execution_count": 11,
   "metadata": {},
   "outputs": [],
   "source": [
    "import pandas as pd"
   ]
  },
  {
   "cell_type": "code",
   "execution_count": 13,
   "metadata": {},
   "outputs": [],
   "source": [
    "df=pd.read_csv('csic_database.csv')"
   ]
  },
  {
   "cell_type": "code",
   "execution_count": 14,
   "metadata": {},
   "outputs": [
    {
     "data": {
      "text/plain": [
       "Index(['Unnamed: 0', 'Method', 'User-Agent', 'Pragma', 'Cache-Control',\n",
       "       'Accept', 'Accept-encoding', 'Accept-charset', 'language', 'host',\n",
       "       'cookie', 'content-type', 'connection', 'lenght', 'content',\n",
       "       'classification', 'URL'],\n",
       "      dtype='object')"
      ]
     },
     "execution_count": 14,
     "metadata": {},
     "output_type": "execute_result"
    }
   ],
   "source": [
    "df.columns"
   ]
  },
  {
   "cell_type": "code",
   "execution_count": 16,
   "metadata": {},
   "outputs": [],
   "source": [
    "df.columns=df.columns"
   ]
  },
  {
   "cell_type": "code",
   "execution_count": 22,
   "metadata": {},
   "outputs": [],
   "source": [
    "columns_names=df.columns[1:]"
   ]
  },
  {
   "cell_type": "code",
   "execution_count": 23,
   "metadata": {},
   "outputs": [
    {
     "data": {
      "text/plain": [
       "Index(['Method', 'User-Agent', 'Pragma', 'Cache-Control', 'Accept',\n",
       "       'Accept-encoding', 'Accept-charset', 'language', 'host', 'cookie',\n",
       "       'content-type', 'connection', 'lenght', 'content', 'classification',\n",
       "       'URL'],\n",
       "      dtype='object')"
      ]
     },
     "execution_count": 23,
     "metadata": {},
     "output_type": "execute_result"
    }
   ],
   "source": [
    "columns_names"
   ]
  },
  {
   "cell_type": "code",
   "execution_count": 25,
   "metadata": {},
   "outputs": [],
   "source": [
    "df = df.rename(columns={'Unnamed: 0':'label'})"
   ]
  },
  {
   "cell_type": "code",
   "execution_count": 26,
   "metadata": {},
   "outputs": [
    {
     "data": {
      "text/plain": [
       "Index(['label', 'Method', 'User-Agent', 'Pragma', 'Cache-Control', 'Accept',\n",
       "       'Accept-encoding', 'Accept-charset', 'language', 'host', 'cookie',\n",
       "       'content-type', 'connection', 'lenght', 'content', 'classification',\n",
       "       'URL'],\n",
       "      dtype='object')"
      ]
     },
     "execution_count": 26,
     "metadata": {},
     "output_type": "execute_result"
    }
   ],
   "source": [
    "df.columns"
   ]
  },
  {
   "cell_type": "code",
   "execution_count": 27,
   "metadata": {},
   "outputs": [
    {
     "data": {
      "text/html": [
       "<div>\n",
       "<style scoped>\n",
       "    .dataframe tbody tr th:only-of-type {\n",
       "        vertical-align: middle;\n",
       "    }\n",
       "\n",
       "    .dataframe tbody tr th {\n",
       "        vertical-align: top;\n",
       "    }\n",
       "\n",
       "    .dataframe thead th {\n",
       "        text-align: right;\n",
       "    }\n",
       "</style>\n",
       "<table border=\"1\" class=\"dataframe\">\n",
       "  <thead>\n",
       "    <tr style=\"text-align: right;\">\n",
       "      <th></th>\n",
       "      <th>label</th>\n",
       "      <th>Method</th>\n",
       "      <th>User-Agent</th>\n",
       "      <th>Pragma</th>\n",
       "      <th>Cache-Control</th>\n",
       "      <th>Accept</th>\n",
       "      <th>Accept-encoding</th>\n",
       "      <th>Accept-charset</th>\n",
       "      <th>language</th>\n",
       "      <th>host</th>\n",
       "      <th>cookie</th>\n",
       "      <th>content-type</th>\n",
       "      <th>connection</th>\n",
       "      <th>lenght</th>\n",
       "      <th>content</th>\n",
       "      <th>classification</th>\n",
       "      <th>URL</th>\n",
       "    </tr>\n",
       "  </thead>\n",
       "  <tbody>\n",
       "    <tr>\n",
       "      <th>0</th>\n",
       "      <td>Normal</td>\n",
       "      <td>GET</td>\n",
       "      <td>Mozilla/5.0 (compatible; Konqueror/3.5; Linux)...</td>\n",
       "      <td>no-cache</td>\n",
       "      <td>no-cache</td>\n",
       "      <td>text/xml,application/xml,application/xhtml+xml...</td>\n",
       "      <td>x-gzip, x-deflate, gzip, deflate</td>\n",
       "      <td>utf-8, utf-8;q=0.5, *;q=0.5</td>\n",
       "      <td>en</td>\n",
       "      <td>localhost:8080</td>\n",
       "      <td>JSESSIONID=1F767F17239C9B670A39E9B10C3825F4</td>\n",
       "      <td>NaN</td>\n",
       "      <td>close</td>\n",
       "      <td>NaN</td>\n",
       "      <td>NaN</td>\n",
       "      <td>0</td>\n",
       "      <td>http://localhost:8080/tienda1/index.jsp HTTP/1.1</td>\n",
       "    </tr>\n",
       "    <tr>\n",
       "      <th>1</th>\n",
       "      <td>Normal</td>\n",
       "      <td>GET</td>\n",
       "      <td>Mozilla/5.0 (compatible; Konqueror/3.5; Linux)...</td>\n",
       "      <td>no-cache</td>\n",
       "      <td>no-cache</td>\n",
       "      <td>text/xml,application/xml,application/xhtml+xml...</td>\n",
       "      <td>x-gzip, x-deflate, gzip, deflate</td>\n",
       "      <td>utf-8, utf-8;q=0.5, *;q=0.5</td>\n",
       "      <td>en</td>\n",
       "      <td>localhost:8080</td>\n",
       "      <td>JSESSIONID=81761ACA043B0E6014CA42A4BCD06AB5</td>\n",
       "      <td>NaN</td>\n",
       "      <td>close</td>\n",
       "      <td>NaN</td>\n",
       "      <td>NaN</td>\n",
       "      <td>0</td>\n",
       "      <td>http://localhost:8080/tienda1/publico/anadir.j...</td>\n",
       "    </tr>\n",
       "    <tr>\n",
       "      <th>2</th>\n",
       "      <td>Normal</td>\n",
       "      <td>POST</td>\n",
       "      <td>Mozilla/5.0 (compatible; Konqueror/3.5; Linux)...</td>\n",
       "      <td>no-cache</td>\n",
       "      <td>no-cache</td>\n",
       "      <td>text/xml,application/xml,application/xhtml+xml...</td>\n",
       "      <td>x-gzip, x-deflate, gzip, deflate</td>\n",
       "      <td>utf-8, utf-8;q=0.5, *;q=0.5</td>\n",
       "      <td>en</td>\n",
       "      <td>localhost:8080</td>\n",
       "      <td>JSESSIONID=933185092E0B668B90676E0A2B0767AF</td>\n",
       "      <td>application/x-www-form-urlencoded</td>\n",
       "      <td>Connection: close</td>\n",
       "      <td>Content-Length: 68</td>\n",
       "      <td>id=3&amp;nombre=Vino+Rioja&amp;precio=100&amp;cantidad=55&amp;...</td>\n",
       "      <td>0</td>\n",
       "      <td>http://localhost:8080/tienda1/publico/anadir.j...</td>\n",
       "    </tr>\n",
       "    <tr>\n",
       "      <th>3</th>\n",
       "      <td>Normal</td>\n",
       "      <td>GET</td>\n",
       "      <td>Mozilla/5.0 (compatible; Konqueror/3.5; Linux)...</td>\n",
       "      <td>no-cache</td>\n",
       "      <td>no-cache</td>\n",
       "      <td>text/xml,application/xml,application/xhtml+xml...</td>\n",
       "      <td>x-gzip, x-deflate, gzip, deflate</td>\n",
       "      <td>utf-8, utf-8;q=0.5, *;q=0.5</td>\n",
       "      <td>en</td>\n",
       "      <td>localhost:8080</td>\n",
       "      <td>JSESSIONID=8FA18BA82C5336D03D3A8AFA3E68CBB0</td>\n",
       "      <td>NaN</td>\n",
       "      <td>close</td>\n",
       "      <td>NaN</td>\n",
       "      <td>NaN</td>\n",
       "      <td>0</td>\n",
       "      <td>http://localhost:8080/tienda1/publico/autentic...</td>\n",
       "    </tr>\n",
       "    <tr>\n",
       "      <th>4</th>\n",
       "      <td>Normal</td>\n",
       "      <td>POST</td>\n",
       "      <td>Mozilla/5.0 (compatible; Konqueror/3.5; Linux)...</td>\n",
       "      <td>no-cache</td>\n",
       "      <td>no-cache</td>\n",
       "      <td>text/xml,application/xml,application/xhtml+xml...</td>\n",
       "      <td>x-gzip, x-deflate, gzip, deflate</td>\n",
       "      <td>utf-8, utf-8;q=0.5, *;q=0.5</td>\n",
       "      <td>en</td>\n",
       "      <td>localhost:8080</td>\n",
       "      <td>JSESSIONID=7104E6C68A6BCF1423DAE990CE49FEE2</td>\n",
       "      <td>application/x-www-form-urlencoded</td>\n",
       "      <td>Connection: close</td>\n",
       "      <td>Content-Length: 63</td>\n",
       "      <td>modo=entrar&amp;login=choong&amp;pwd=d1se3ci%F3n&amp;remem...</td>\n",
       "      <td>0</td>\n",
       "      <td>http://localhost:8080/tienda1/publico/autentic...</td>\n",
       "    </tr>\n",
       "  </tbody>\n",
       "</table>\n",
       "</div>"
      ],
      "text/plain": [
       "    label Method                                         User-Agent    Pragma  \\\n",
       "0  Normal    GET  Mozilla/5.0 (compatible; Konqueror/3.5; Linux)...  no-cache   \n",
       "1  Normal    GET  Mozilla/5.0 (compatible; Konqueror/3.5; Linux)...  no-cache   \n",
       "2  Normal   POST  Mozilla/5.0 (compatible; Konqueror/3.5; Linux)...  no-cache   \n",
       "3  Normal    GET  Mozilla/5.0 (compatible; Konqueror/3.5; Linux)...  no-cache   \n",
       "4  Normal   POST  Mozilla/5.0 (compatible; Konqueror/3.5; Linux)...  no-cache   \n",
       "\n",
       "  Cache-Control                                             Accept  \\\n",
       "0      no-cache  text/xml,application/xml,application/xhtml+xml...   \n",
       "1      no-cache  text/xml,application/xml,application/xhtml+xml...   \n",
       "2      no-cache  text/xml,application/xml,application/xhtml+xml...   \n",
       "3      no-cache  text/xml,application/xml,application/xhtml+xml...   \n",
       "4      no-cache  text/xml,application/xml,application/xhtml+xml...   \n",
       "\n",
       "                    Accept-encoding               Accept-charset language  \\\n",
       "0  x-gzip, x-deflate, gzip, deflate  utf-8, utf-8;q=0.5, *;q=0.5       en   \n",
       "1  x-gzip, x-deflate, gzip, deflate  utf-8, utf-8;q=0.5, *;q=0.5       en   \n",
       "2  x-gzip, x-deflate, gzip, deflate  utf-8, utf-8;q=0.5, *;q=0.5       en   \n",
       "3  x-gzip, x-deflate, gzip, deflate  utf-8, utf-8;q=0.5, *;q=0.5       en   \n",
       "4  x-gzip, x-deflate, gzip, deflate  utf-8, utf-8;q=0.5, *;q=0.5       en   \n",
       "\n",
       "             host                                       cookie  \\\n",
       "0  localhost:8080  JSESSIONID=1F767F17239C9B670A39E9B10C3825F4   \n",
       "1  localhost:8080  JSESSIONID=81761ACA043B0E6014CA42A4BCD06AB5   \n",
       "2  localhost:8080  JSESSIONID=933185092E0B668B90676E0A2B0767AF   \n",
       "3  localhost:8080  JSESSIONID=8FA18BA82C5336D03D3A8AFA3E68CBB0   \n",
       "4  localhost:8080  JSESSIONID=7104E6C68A6BCF1423DAE990CE49FEE2   \n",
       "\n",
       "                        content-type         connection              lenght  \\\n",
       "0                                NaN              close                 NaN   \n",
       "1                                NaN              close                 NaN   \n",
       "2  application/x-www-form-urlencoded  Connection: close  Content-Length: 68   \n",
       "3                                NaN              close                 NaN   \n",
       "4  application/x-www-form-urlencoded  Connection: close  Content-Length: 63   \n",
       "\n",
       "                                             content  classification  \\\n",
       "0                                                NaN               0   \n",
       "1                                                NaN               0   \n",
       "2  id=3&nombre=Vino+Rioja&precio=100&cantidad=55&...               0   \n",
       "3                                                NaN               0   \n",
       "4  modo=entrar&login=choong&pwd=d1se3ci%F3n&remem...               0   \n",
       "\n",
       "                                                 URL  \n",
       "0   http://localhost:8080/tienda1/index.jsp HTTP/1.1  \n",
       "1  http://localhost:8080/tienda1/publico/anadir.j...  \n",
       "2  http://localhost:8080/tienda1/publico/anadir.j...  \n",
       "3  http://localhost:8080/tienda1/publico/autentic...  \n",
       "4  http://localhost:8080/tienda1/publico/autentic...  "
      ]
     },
     "execution_count": 27,
     "metadata": {},
     "output_type": "execute_result"
    }
   ],
   "source": [
    "df.head()"
   ]
  },
  {
   "cell_type": "code",
   "execution_count": 29,
   "metadata": {},
   "outputs": [],
   "source": [
    "df2=df[['label','URL']]"
   ]
  },
  {
   "cell_type": "code",
   "execution_count": 30,
   "metadata": {},
   "outputs": [
    {
     "data": {
      "text/html": [
       "<div>\n",
       "<style scoped>\n",
       "    .dataframe tbody tr th:only-of-type {\n",
       "        vertical-align: middle;\n",
       "    }\n",
       "\n",
       "    .dataframe tbody tr th {\n",
       "        vertical-align: top;\n",
       "    }\n",
       "\n",
       "    .dataframe thead th {\n",
       "        text-align: right;\n",
       "    }\n",
       "</style>\n",
       "<table border=\"1\" class=\"dataframe\">\n",
       "  <thead>\n",
       "    <tr style=\"text-align: right;\">\n",
       "      <th></th>\n",
       "      <th>label</th>\n",
       "      <th>URL</th>\n",
       "    </tr>\n",
       "  </thead>\n",
       "  <tbody>\n",
       "    <tr>\n",
       "      <th>0</th>\n",
       "      <td>Normal</td>\n",
       "      <td>http://localhost:8080/tienda1/index.jsp HTTP/1.1</td>\n",
       "    </tr>\n",
       "    <tr>\n",
       "      <th>1</th>\n",
       "      <td>Normal</td>\n",
       "      <td>http://localhost:8080/tienda1/publico/anadir.j...</td>\n",
       "    </tr>\n",
       "    <tr>\n",
       "      <th>2</th>\n",
       "      <td>Normal</td>\n",
       "      <td>http://localhost:8080/tienda1/publico/anadir.j...</td>\n",
       "    </tr>\n",
       "    <tr>\n",
       "      <th>3</th>\n",
       "      <td>Normal</td>\n",
       "      <td>http://localhost:8080/tienda1/publico/autentic...</td>\n",
       "    </tr>\n",
       "    <tr>\n",
       "      <th>4</th>\n",
       "      <td>Normal</td>\n",
       "      <td>http://localhost:8080/tienda1/publico/autentic...</td>\n",
       "    </tr>\n",
       "  </tbody>\n",
       "</table>\n",
       "</div>"
      ],
      "text/plain": [
       "    label                                                URL\n",
       "0  Normal   http://localhost:8080/tienda1/index.jsp HTTP/1.1\n",
       "1  Normal  http://localhost:8080/tienda1/publico/anadir.j...\n",
       "2  Normal  http://localhost:8080/tienda1/publico/anadir.j...\n",
       "3  Normal  http://localhost:8080/tienda1/publico/autentic...\n",
       "4  Normal  http://localhost:8080/tienda1/publico/autentic..."
      ]
     },
     "execution_count": 30,
     "metadata": {},
     "output_type": "execute_result"
    }
   ],
   "source": [
    "df2.head()"
   ]
  },
  {
   "cell_type": "code",
   "execution_count": 36,
   "metadata": {},
   "outputs": [
    {
     "data": {
      "text/html": [
       "<div>\n",
       "<style scoped>\n",
       "    .dataframe tbody tr th:only-of-type {\n",
       "        vertical-align: middle;\n",
       "    }\n",
       "\n",
       "    .dataframe tbody tr th {\n",
       "        vertical-align: top;\n",
       "    }\n",
       "\n",
       "    .dataframe thead th {\n",
       "        text-align: right;\n",
       "    }\n",
       "</style>\n",
       "<table border=\"1\" class=\"dataframe\">\n",
       "  <thead>\n",
       "    <tr style=\"text-align: right;\">\n",
       "      <th></th>\n",
       "      <th>URL</th>\n",
       "    </tr>\n",
       "    <tr>\n",
       "      <th>label</th>\n",
       "      <th></th>\n",
       "    </tr>\n",
       "  </thead>\n",
       "  <tbody>\n",
       "    <tr>\n",
       "      <th>Anomalous</th>\n",
       "      <td>http://localhost:8080/tienda1/publico/anadir.j...</td>\n",
       "    </tr>\n",
       "    <tr>\n",
       "      <th>Normal</th>\n",
       "      <td>http://localhost:8080/tienda1/index.jsp HTTP/1.1</td>\n",
       "    </tr>\n",
       "  </tbody>\n",
       "</table>\n",
       "</div>"
      ],
      "text/plain": [
       "                                                         URL\n",
       "label                                                       \n",
       "Anomalous  http://localhost:8080/tienda1/publico/anadir.j...\n",
       "Normal      http://localhost:8080/tienda1/index.jsp HTTP/1.1"
      ]
     },
     "execution_count": 36,
     "metadata": {},
     "output_type": "execute_result"
    }
   ],
   "source": [
    "df2.groupby('label').first()"
   ]
  },
  {
   "cell_type": "code",
   "execution_count": 47,
   "metadata": {},
   "outputs": [
    {
     "data": {
      "text/plain": [
       "'http://localhost:8080/tienda1/miembros/editar.jsp?modo=registro&login=winny&passwordA=centillero&nombre=Zoa&apellidos=Antonioli+Blanc&email=gonard.guercio%40cincocolores.va&dni=25815583S&direccion=Fincas+Adjuntas+15+&ciudad=Canal+de+Berd%FAn&cp=39574&provincia=La+Rioja&ntc=6959722794885758&B1=Registrar HTTP/1.1'"
      ]
     },
     "execution_count": 47,
     "metadata": {},
     "output_type": "execute_result"
    }
   ],
   "source": [
    "df2['URL'][60000]"
   ]
  },
  {
   "cell_type": "code",
   "execution_count": 53,
   "metadata": {},
   "outputs": [],
   "source": [
    "urls=df2['URL']"
   ]
  },
  {
   "cell_type": "code",
   "execution_count": 55,
   "metadata": {},
   "outputs": [],
   "source": [
    "from urllib.parse import urlparse"
   ]
  },
  {
   "cell_type": "code",
   "execution_count": 56,
   "metadata": {},
   "outputs": [
    {
     "data": {
      "text/plain": [
       "ParseResult(scheme='http', netloc='localhost:8080', path='/tienda1/miembros/editar.jsp', params='', query='modo=registro&login=winny&passwordA=centillero&nombre=Zoa&apellidos=Antonioli+Blanc&email=gonard.guercio%40cincocolores.va&dni=25815583S&direccion=Fincas+Adjuntas+15+&ciudad=Canal+de+Berd%FAn&cp=39574&provincia=La+Rioja&ntc=6959722794885758&B1=Registrar HTTP/1.1', fragment='')"
      ]
     },
     "execution_count": 56,
     "metadata": {},
     "output_type": "execute_result"
    }
   ],
   "source": [
    "urlparse(df2['URL'][60000])"
   ]
  },
  {
   "cell_type": "code",
   "execution_count": 57,
   "metadata": {},
   "outputs": [
    {
     "data": {
      "text/plain": [
       "ParseResult(scheme='http', netloc='localhost:8080', path='/tienda1/miembros/imagenes/zarauz.jpg HTTP/1.1', params='', query='', fragment='')"
      ]
     },
     "execution_count": 57,
     "metadata": {},
     "output_type": "execute_result"
    }
   ],
   "source": [
    "urlparse(df2['URL'][600])"
   ]
  },
  {
   "cell_type": "code",
   "execution_count": 58,
   "metadata": {},
   "outputs": [
    {
     "data": {
      "text/plain": [
       "ParseResult(scheme='http', netloc='localhost:8080', path='/tienda1/miembros/imagenes/zarauz.jpg HTTP/1.1', params='', query='', fragment='')"
      ]
     },
     "execution_count": 58,
     "metadata": {},
     "output_type": "execute_result"
    }
   ],
   "source": [
    "urlparse(df2['URL'][6000])"
   ]
  },
  {
   "cell_type": "code",
   "execution_count": 101,
   "metadata": {},
   "outputs": [],
   "source": [
    "str1=urlparse(df2['URL'][44000]).query"
   ]
  },
  {
   "cell_type": "code",
   "execution_count": 70,
   "metadata": {},
   "outputs": [],
   "source": [
    "str2=urlparse('GET /DVWA-master/vulnerabilities/csrf/?password_new=1&password_conf=&Change=Change HTTP/1.1').query"
   ]
  },
  {
   "cell_type": "code",
   "execution_count": 75,
   "metadata": {},
   "outputs": [
    {
     "data": {
      "text/plain": [
       "str"
      ]
     },
     "execution_count": 75,
     "metadata": {},
     "output_type": "execute_result"
    }
   ],
   "source": [
    "type(str2)"
   ]
  },
  {
   "cell_type": "code",
   "execution_count": 76,
   "metadata": {},
   "outputs": [
    {
     "data": {
      "text/plain": [
       "'password_new=1&password_conf=&Change=Change HTTP/1.1'"
      ]
     },
     "execution_count": 76,
     "metadata": {},
     "output_type": "execute_result"
    }
   ],
   "source": [
    "str2"
   ]
  },
  {
   "cell_type": "code",
   "execution_count": 77,
   "metadata": {},
   "outputs": [
    {
     "data": {
      "text/plain": [
       "'password_new=1&password_conf=&Change=Change HTTP/1.1'"
      ]
     },
     "execution_count": 77,
     "metadata": {},
     "output_type": "execute_result"
    }
   ],
   "source": [
    "str2.strip('a')"
   ]
  },
  {
   "cell_type": "code",
   "execution_count": 102,
   "metadata": {},
   "outputs": [],
   "source": [
    "values=[]\n",
    "j=0\n",
    "value=''\n",
    "for i in range(len(str1)):\n",
    "    if str1[i]=='&' or str1[i]=='=' or str1[i]==' ' or str1[i]=='+':\n",
    "        values.append(value)\n",
    "        value=''\n",
    "    else: \n",
    "        value+=str1[i]"
   ]
  },
  {
   "cell_type": "code",
   "execution_count": 103,
   "metadata": {},
   "outputs": [
    {
     "data": {
      "text/plain": [
       "['modo',\n",
       " 'registro',\n",
       " 'login',\n",
       " 'hiroyuki',\n",
       " 'password',\n",
       " 'desbullar',\n",
       " 'nombre',\n",
       " 'Yoconda',\n",
       " 'apellidos',\n",
       " 'Rosas',\n",
       " 'Fabila',\n",
       " 'email',\n",
       " 'saiko%40enlanzarote.com.cx',\n",
       " 'dni',\n",
       " '29372836L',\n",
       " 'direccion',\n",
       " 'Barriada',\n",
       " 'Juan',\n",
       " 'Xxiii%2C',\n",
       " '100%2C',\n",
       " '',\n",
       " 'ciudad',\n",
       " 'Almargen',\n",
       " 'cp',\n",
       " '03812',\n",
       " 'provincia',\n",
       " 'Toledo',\n",
       " 'ntc',\n",
       " '250979195364815',\n",
       " 'B1',\n",
       " 'Registrar']"
      ]
     },
     "execution_count": 103,
     "metadata": {},
     "output_type": "execute_result"
    }
   ],
   "source": [
    "values"
   ]
  },
  {
   "cell_type": "code",
   "execution_count": null,
   "metadata": {},
   "outputs": [],
   "source": []
  }
 ],
 "metadata": {
  "kernelspec": {
   "display_name": "Python 3",
   "language": "python",
   "name": "python3"
  },
  "language_info": {
   "codemirror_mode": {
    "name": "ipython",
    "version": 3
   },
   "file_extension": ".py",
   "mimetype": "text/x-python",
   "name": "python",
   "nbconvert_exporter": "python",
   "pygments_lexer": "ipython3",
   "version": "3.7.6"
  }
 },
 "nbformat": 4,
 "nbformat_minor": 4
}
